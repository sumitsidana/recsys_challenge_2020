{
 "cells": [
  {
   "cell_type": "code",
   "execution_count": 1,
   "metadata": {},
   "outputs": [],
   "source": [
    "import pandas as pd\n",
    "import s3fs\n",
    "from smart_open import open\n",
    "import boto3\n",
    "from io import StringIO # python3; python2: BytesIO \n",
    "from boto3.s3.transfer import TransferConfig\n",
    "import metrics\n",
    "import torch\n",
    "from transformers import *"
   ]
  },
  {
   "cell_type": "code",
   "execution_count": null,
   "metadata": {},
   "outputs": [],
   "source": [
    "all_features = [\"text_ tokens\", \"tweet_id\" , \"tweet_timestamp\",\\\n",
    "               \"engaging_user_id\", \"reply_timestamp\"]\n",
    "train = pd.read_csv(open(\"s3://recsys-challenge-2020/training.tsv\"), encoding=\"utf-8\",\n",
    "                    names = all_features, usecols= [0, 2, 8, 14, 20], sep=\"\\x01\"\n",
    "                   )\n",
    "train_sorted = train.sort_values(by=['tweet_timestamp']).reset_index()\n",
    "n_head = 90\n",
    "n_tail = 10\n",
    "train_set = train_sorted.head(int(len(train_sorted)*(n_head/100)))\n",
    "val_set = train_sorted.tail(int(len(train_sorted)*(n_tail/100)))\n",
    "val_set['reply_bool'] = val_set.reply_timestamp.fillna(0)\n",
    "val_set[val_set.reply_bool != 0.0] = 1.0\n",
    "gt = list(val_set.reply_bool)\n",
    "# pr = [0.5] * len(gt)\n",
    "# prauc = metrics.compute_prauc(pr,gt)\n",
    "# rce = metrics.compute_rce(pr,gt)"
   ]
  },
  {
   "cell_type": "code",
   "execution_count": null,
   "metadata": {},
   "outputs": [],
   "source": [
    "train_set.to_csv('s3://recsys-challenge-2020/train_set.csv', index = False)"
   ]
  },
  {
   "cell_type": "code",
   "execution_count": null,
   "metadata": {},
   "outputs": [],
   "source": [
    "val_set.to_csv('s3://recsys-challenge-2020/val_set.csv', index = False)"
   ]
  },
  {
   "cell_type": "code",
   "execution_count": 2,
   "metadata": {},
   "outputs": [],
   "source": [
    "column_of_interest = [\"text_ tokens\"]\n",
    "train_set = pd.read_csv('s3://recsys-challenge-2020/train_set.csv', encoding=\"utf-8\",\n",
    "                     usecols= [1])"
   ]
  },
  {
   "cell_type": "code",
   "execution_count": 3,
   "metadata": {},
   "outputs": [
    {
     "data": {
      "text/html": [
       "<div>\n",
       "<style scoped>\n",
       "    .dataframe tbody tr th:only-of-type {\n",
       "        vertical-align: middle;\n",
       "    }\n",
       "\n",
       "    .dataframe tbody tr th {\n",
       "        vertical-align: top;\n",
       "    }\n",
       "\n",
       "    .dataframe thead th {\n",
       "        text-align: right;\n",
       "    }\n",
       "</style>\n",
       "<table border=\"1\" class=\"dataframe\">\n",
       "  <thead>\n",
       "    <tr style=\"text-align: right;\">\n",
       "      <th></th>\n",
       "      <th>text_ tokens</th>\n",
       "    </tr>\n",
       "  </thead>\n",
       "  <tbody>\n",
       "    <tr>\n",
       "      <td>0</td>\n",
       "      <td>101\\t108\\t31278\\t90939\\t70325\\t196\\t199\\t71436...</td>\n",
       "    </tr>\n",
       "    <tr>\n",
       "      <td>1</td>\n",
       "      <td>101\\t95026\\t90141\\t54922\\t10287\\t13567\\t10169\\...</td>\n",
       "    </tr>\n",
       "    <tr>\n",
       "      <td>2</td>\n",
       "      <td>101\\t10117\\t12518\\t45415\\t10472\\t10114\\t19072\\...</td>\n",
       "    </tr>\n",
       "    <tr>\n",
       "      <td>3</td>\n",
       "      <td>101\\t36084\\t11372\\t26095\\t117\\t12900\\t39122\\t1...</td>\n",
       "    </tr>\n",
       "    <tr>\n",
       "      <td>4</td>\n",
       "      <td>101\\t34764\\t26905\\t117\\t10479\\t92486\\t10559\\t9...</td>\n",
       "    </tr>\n",
       "  </tbody>\n",
       "</table>\n",
       "</div>"
      ],
      "text/plain": [
       "                                        text_ tokens\n",
       "0  101\\t108\\t31278\\t90939\\t70325\\t196\\t199\\t71436...\n",
       "1  101\\t95026\\t90141\\t54922\\t10287\\t13567\\t10169\\...\n",
       "2  101\\t10117\\t12518\\t45415\\t10472\\t10114\\t19072\\...\n",
       "3  101\\t36084\\t11372\\t26095\\t117\\t12900\\t39122\\t1...\n",
       "4  101\\t34764\\t26905\\t117\\t10479\\t92486\\t10559\\t9..."
      ]
     },
     "execution_count": 3,
     "metadata": {},
     "output_type": "execute_result"
    }
   ],
   "source": [
    "train_set.head()"
   ]
  },
  {
   "cell_type": "code",
   "execution_count": null,
   "metadata": {},
   "outputs": [],
   "source": [
    "tokenizer = BertTokenizer.from_pretrained('bert-base-multilingual-cased', do_lower_case=False)\n",
    "model = BertModel.from_pretrained('/dev/bert/')\n",
    "train_set['text_embeddings'] = train_set['text_ tokens'].\\\n",
    "apply(lambda x : model(torch.tensor(list(map(int, x.split('\\t')))).unsqueeze(0))[0])"
   ]
  },
  {
   "cell_type": "code",
   "execution_count": null,
   "metadata": {},
   "outputs": [],
   "source": [
    "tokenizer = BertTokenizer.from_pretrained('bert-base-multilingual-cased', do_lower_case=False)\n",
    "model = BertModel.from_pretrained('/dev/bert/')li"
   ]
  },
  {
   "cell_type": "code",
   "execution_count": null,
   "metadata": {},
   "outputs": [],
   "source": [
    "train_set['text_embeddings'] = train_set.apply(lambda x: model(torch.tensor(list(x['text_tokens'])))[0].mean(dim=1))"
   ]
  },
  {
   "cell_type": "code",
   "execution_count": 23,
   "metadata": {},
   "outputs": [],
   "source": [
    "lst = torch.tensor(list(map(int,train_set['text_ tokens'].loc[0].split('\\t'))))"
   ]
  },
  {
   "cell_type": "code",
   "execution_count": 24,
   "metadata": {},
   "outputs": [
    {
     "name": "stdout",
     "output_type": "stream",
     "text": [
      "tensor([   101,    108,  31278,  90939,  70325,    196,    199,  71436,  10107,\n",
      "         29190,  10107,    106,  16680,  68314,  10153,  17015,  15934,  10104,\n",
      "           108,  10233,  12396,  14945,  10107,  10858,  11405,  13600,  13597,\n",
      "           169,  57343,  64482,    119,    119,    119,    100,  11741,  16381,\n",
      "         10109,  68830,  10110,  20886,    108,  10233,  11127,  21768,    100,\n",
      "         14120,    131,    120,    120,    188,    119,  11170,    120,  12132,\n",
      "         10884,  10157,  11490,  12022,  10113,  10731,  10729,  11565,  14120,\n",
      "           131,    120,    120,    188,    119,  11170,    120,    162,  11211,\n",
      "         11703,  12022,  11211,  10240,  44466, 100886,    102])\n"
     ]
    }
   ],
   "source": [
    "print(lst)"
   ]
  }
 ],
 "metadata": {
  "kernelspec": {
   "display_name": "Python 3",
   "language": "python",
   "name": "python3"
  },
  "language_info": {
   "codemirror_mode": {
    "name": "ipython",
    "version": 3
   },
   "file_extension": ".py",
   "mimetype": "text/x-python",
   "name": "python",
   "nbconvert_exporter": "python",
   "pygments_lexer": "ipython3",
   "version": "3.7.4"
  }
 },
 "nbformat": 4,
 "nbformat_minor": 2
}
