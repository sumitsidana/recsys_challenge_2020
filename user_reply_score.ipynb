{
 "cells": [
  {
   "cell_type": "code",
   "execution_count": 1,
   "metadata": {},
   "outputs": [],
   "source": [
    "import pandas as pd\n",
    "import s3fs\n",
    "from smart_open import open\n",
    "import boto3\n",
    "from io import StringIO # python3; python2: BytesIO \n",
    "from boto3.s3.transfer import TransferConfig\n",
    "import metrics\n",
    "import torch\n",
    "from transformers import *\n",
    "import numpy as np\n",
    "import ast\n",
    "import time"
   ]
  },
  {
   "cell_type": "code",
   "execution_count": null,
   "metadata": {},
   "outputs": [],
   "source": [
    "tokenizer = BertTokenizer.from_pretrained('bert-base-multilingual-cased', do_lower_case=False)\n",
    "model = BertModel.from_pretrained('/dev/bert/')"
   ]
  },
  {
   "cell_type": "code",
   "execution_count": 4,
   "metadata": {},
   "outputs": [],
   "source": [
    "user_tokens = pd.read_csv('s3://recsys-challenge-2020/user_tokens.csv')"
   ]
  },
  {
   "cell_type": "code",
   "execution_count": 9,
   "metadata": {},
   "outputs": [],
   "source": [
    "column_of_interest = [\"engaging_user_id\", \"text_ tokens\"]\n",
    "val_set = pd.read_csv('s3://recsys-challenge-2020/val_set_reply.csv', encoding=\"utf-8\",\n",
    "                     usecols= [1, 4])"
   ]
  },
  {
   "cell_type": "code",
   "execution_count": 11,
   "metadata": {},
   "outputs": [],
   "source": [
    "user_tokens_val_set = \\\n",
    "pd.merge(val_set, user_tokens, how = 'left', left_on = 'engaging_user_id', right_on = 'engaging_user_id', sort=False)\n",
    "user_tokens_val_set.columns = [c.replace(' ', '_') for c in user_tokens_val_set.columns]"
   ]
  },
  {
   "cell_type": "code",
   "execution_count": 59,
   "metadata": {},
   "outputs": [],
   "source": [
    "def calculate_average(row1, row2):\n",
    "    if pd.isna(row1):\n",
    "        return 0.5\n",
    "    sum_tensors = torch.zeros([768], dtype=torch.float32)\n",
    "    # row1 can be nan, as, there are cold users in validation set.\n",
    "    tweet_token_list = ast.literal_eval(row1)\n",
    "    for token_list in tweet_token_list:\n",
    "        token_list_embeddings = model(torch.tensor(list(map(int, token_list.split('\\t')))).unsqueeze(0))[0][0][0]\n",
    "        sum_tensors = sum_tensors + token_list_embeddings\n",
    "    avg = sum_tensors/len(row1)\n",
    "    tweet_average_embedding = model(torch.tensor(list(map(int, row2.split('\\t')))).unsqueeze(0))[0][0][0]\n",
    "    score = torch.dot(avg, tweet_average_embedding)\n",
    "    return score.detach().numpy().item(0)"
   ]
  },
  {
   "cell_type": "code",
   "execution_count": null,
   "metadata": {},
   "outputs": [],
   "source": [
    "def calculate_average(row1, row2):\n",
    "    if pd.isna(row1):\n",
    "        return 0.5\n",
    "    sum_tensors = torch.zeros([768], dtype=torch.float32)\n",
    "    tweet_token_list = ast.literal_eval(row1)\n",
    "    for token_list in tweet_token_list:\n",
    "        list_of_tokens = list(map(int, token_list.split('\\t')))\n",
    "        if len(list_of_tokens) > 512:\n",
    "            pre_list = list_of_tokens[:511]\n",
    "            post_list = list_of_tokens[511-len(list_of_tokens):]\n",
    "            post_list.insert(0, 101)\n",
    "            pre_token_list_embeddings = model(torch.tensor(pre_list).unsqueeze(0))[0][0][0]\n",
    "            post_token_list_embeddings = model(torch.tensor(post_list).unsqueeze(0))[0][0][0]\n",
    "            token_list_embeddings = pre_token_list_embeddings + post_token_list_embeddings)/2.0\n",
    "        else:\n",
    "            token_list_embeddings = model(torch.tensor(list_of_tokens).unsqueeze(0))[0][0][0]\n",
    "        sum_tensors = sum_tensors + token_list_embeddings\n",
    "    avg = sum_tensors/len(row1)\n",
    "    tweet_average_embedding = model(torch.tensor(list(map(int, row2.split('\\t')))).unsqueeze(0))[0][0][0]\n",
    "    score = torch.dot(avg, tweet_average_embedding)\n",
    "    return score.detach().numpy().item(0)"
   ]
  },
  {
   "cell_type": "code",
   "execution_count": 21,
   "metadata": {},
   "outputs": [],
   "source": [
    "user_val_set_reply_score = pd.DataFrame()"
   ]
  },
  {
   "cell_type": "code",
   "execution_count": null,
   "metadata": {},
   "outputs": [],
   "source": [
    "user_val_set_reply_score['reply_score'] = user_tokens_val_set.apply \\\n",
    "(lambda z: calculate_average(z.text__tokens_y, z.text__tokens_x), axis = 1)"
   ]
  },
  {
   "cell_type": "code",
   "execution_count": 62,
   "metadata": {},
   "outputs": [
    {
     "data": {
      "text/html": [
       "<div>\n",
       "<style scoped>\n",
       "    .dataframe tbody tr th:only-of-type {\n",
       "        vertical-align: middle;\n",
       "    }\n",
       "\n",
       "    .dataframe tbody tr th {\n",
       "        vertical-align: top;\n",
       "    }\n",
       "\n",
       "    .dataframe thead th {\n",
       "        text-align: right;\n",
       "    }\n",
       "</style>\n",
       "<table border=\"1\" class=\"dataframe\">\n",
       "  <thead>\n",
       "    <tr style=\"text-align: right;\">\n",
       "      <th></th>\n",
       "    </tr>\n",
       "  </thead>\n",
       "  <tbody>\n",
       "  </tbody>\n",
       "</table>\n",
       "</div>"
      ],
      "text/plain": [
       "Empty DataFrame\n",
       "Columns: []\n",
       "Index: []"
      ]
     },
     "execution_count": 62,
     "metadata": {},
     "output_type": "execute_result"
    }
   ],
   "source": [
    "user_val_set_reply_score.to_csv('s3://recsyschallenge2020/user_val_set_reply_score', index = False)"
   ]
  }
 ],
 "metadata": {
  "kernelspec": {
   "display_name": "Python 3",
   "language": "python",
   "name": "python3"
  },
  "language_info": {
   "codemirror_mode": {
    "name": "ipython",
    "version": 3
   },
   "file_extension": ".py",
   "mimetype": "text/x-python",
   "name": "python",
   "nbconvert_exporter": "python",
   "pygments_lexer": "ipython3",
   "version": "3.7.4"
  }
 },
 "nbformat": 4,
 "nbformat_minor": 2
}
