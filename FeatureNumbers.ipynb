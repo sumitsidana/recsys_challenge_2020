{
 "cells": [
  {
   "cell_type": "markdown",
   "metadata": {},
   "source": [
    "# Feature Indexes\n",
    "\"text_ tokens\" = 0\n",
    "\"hashtags\" = 1\n",
    "\"tweet_id\" = 2\n",
    "\"present_media\" = 3\n",
    "\"present_links\" = 4\n",
    "\"present_domains\" = 5\n",
    "\"tweet_type\" = 6\n",
    "\"language\" = 7\n",
    "\"tweet_timestamp\" = 8\n",
    "\"enaged_with_user_id\" = 9\n",
    "\"engaged_with_user_follower_count\" = 10\n",
    "\"engaged_with_user_following_count\" = 11\n",
    "\"engaged_with_user_is_verified\" = 12\n",
    "\"engaged_with_user_account_creation\" = 13\n",
    "\"enaging_user_id\" = 14\n",
    "\"enaging_user_follower_count\" = 15\n",
    "\"enaging_user_following_count\" = 16\n",
    "\"enaging_user_is_verified\" = 17\n",
    "\"enaging_user_account_creation\" = 18\n",
    "\"engagee_follows_engager\" = 19\n",
    "\"reply_timestamp\" = 20\n",
    "\"retweet_timestamp\" = 21\n",
    "\"retweet_with_comment_timestamp\" = 22\n",
    "\"like_timestamp\" = 23"
   ]
  }
 ],
 "metadata": {
  "kernelspec": {
   "display_name": "Python 3",
   "language": "python",
   "name": "python3"
  },
  "language_info": {
   "codemirror_mode": {
    "name": "ipython",
    "version": 3
   },
   "file_extension": ".py",
   "mimetype": "text/x-python",
   "name": "python",
   "nbconvert_exporter": "python",
   "pygments_lexer": "ipython3",
   "version": "3.7.6"
  }
 },
 "nbformat": 4,
 "nbformat_minor": 2
}
