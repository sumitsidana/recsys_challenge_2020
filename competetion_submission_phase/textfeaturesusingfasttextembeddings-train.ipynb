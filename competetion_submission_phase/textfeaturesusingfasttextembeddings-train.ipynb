{
 "cells": [
  {
   "cell_type": "code",
   "execution_count": 1,
   "metadata": {},
   "outputs": [],
   "source": [
    "import pandas as pd\n",
    "import s3fs\n",
    "import numpy as np\n",
    "import swifter"
   ]
  },
  {
   "cell_type": "code",
   "execution_count": 2,
   "metadata": {},
   "outputs": [],
   "source": [
    "def f(lang, embeddings, index):\n",
    "    if index % 1000000  == 0:\n",
    "        print(index)\n",
    "    return [f'{lookup[lang]+i}:{e}' for i, e in enumerate(embeddings)]"
   ]
  },
  {
   "cell_type": "code",
   "execution_count": 3,
   "metadata": {},
   "outputs": [],
   "source": [
    "new_names = list(range(1,21))\n",
    "new_names = list(map(str, new_names))"
   ]
  },
  {
   "cell_type": "code",
   "execution_count": null,
   "metadata": {},
   "outputs": [],
   "source": [
    "all_features = [\"language\"]\n",
    "train = pd.read_csv(\"s3://recsys-challenge-2020/training.tsv\", encoding=\"utf-8\",\n",
    "                    names = all_features, usecols= [7], sep=\"\\x01\"\n",
    "                   )\n",
    "print('train language loaded')"
   ]
  },
  {
   "cell_type": "code",
   "execution_count": null,
   "metadata": {},
   "outputs": [],
   "source": [
    "language_code_name_pairs = pd.read_csv('s3://recsys-challenge-2020/language_code_name_pairs.csv')"
   ]
  },
  {
   "cell_type": "code",
   "execution_count": null,
   "metadata": {},
   "outputs": [],
   "source": [
    "train_input = pd.merge(train, language_code_name_pairs, how = 'inner',\\\n",
    "left_on = 'language', right_on = 'code')[['name']]"
   ]
  },
  {
   "cell_type": "code",
   "execution_count": null,
   "metadata": {},
   "outputs": [],
   "source": [
    "all_lang_output_train = pd.read_csv('s3://recsys-challenge-2020/all_lang_output_train.csv')\n",
    "lang_embedding_train = pd.concat([all_lang_output_train[['sentence_embedding']], train_input[['name']]], axis = 1)\n",
    "lang_embedding_train.sentence_embedding = lang_embedding_train.sentence_embedding.apply(lambda x: np.fromstring(x[1:-1], sep=' '))\n",
    "lang_embedding_train = lang_embedding_train.rename(columns={\"name\": \"language\"})"
   ]
  },
  {
   "cell_type": "code",
   "execution_count": null,
   "metadata": {},
   "outputs": [],
   "source": [
    "start_feature_number = 42963998"
   ]
  },
  {
   "cell_type": "code",
   "execution_count": null,
   "metadata": {},
   "outputs": [],
   "source": [
    "lookup = {l:start_feature_number+i*20 for i, l in enumerate(lang_embedding_train.language.drop_duplicates().to_list())}"
   ]
  },
  {
   "cell_type": "code",
   "execution_count": null,
   "metadata": {},
   "outputs": [],
   "source": [
    "lookup"
   ]
  },
  {
   "cell_type": "code",
   "execution_count": null,
   "metadata": {},
   "outputs": [],
   "source": [
    "for chunk in np.array_split(lang_embedding_train,20):\n",
    "    chunk_embeddings_list = pd.DataFrame()\n",
    "    chunk_embeddings_list = chunk.swifter.apply(lambda x: f(x.language, x.sentence_embedding, x.name), axis=1, result_type='expand')\n",
    "    chunk_embeddings_list.to_csv('data/lang_embedd_train.csv', header = False, index = False, mode = 'a', sep = ' ')"
   ]
  }
 ],
 "metadata": {
  "kernelspec": {
   "display_name": "Python 3",
   "language": "python",
   "name": "python3"
  },
  "language_info": {
   "codemirror_mode": {
    "name": "ipython",
    "version": 3
   },
   "file_extension": ".py",
   "mimetype": "text/x-python",
   "name": "python",
   "nbconvert_exporter": "python",
   "pygments_lexer": "ipython3",
   "version": "3.7.6"
  }
 },
 "nbformat": 4,
 "nbformat_minor": 4
}
