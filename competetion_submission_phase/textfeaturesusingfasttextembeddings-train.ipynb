{
 "cells": [
  {
   "cell_type": "code",
   "execution_count": 2,
   "metadata": {},
   "outputs": [],
   "source": [
    "import pandas as pd\n",
    "import s3fs\n",
    "import numpy as np\n",
    "import swifter"
   ]
  },
  {
   "cell_type": "code",
   "execution_count": 3,
   "metadata": {},
   "outputs": [],
   "source": [
    "def f(lang, embeddings, index):\n",
    "    if index % 1000000  == 0:\n",
    "        print(index)\n",
    "    return [f'{lookup[lang]+i}:{e}' for i, e in enumerate(embeddings)]"
   ]
  },
  {
   "cell_type": "code",
   "execution_count": 4,
   "metadata": {},
   "outputs": [],
   "source": [
    "new_names = list(range(1,21))\n",
    "new_names = list(map(str, new_names))"
   ]
  },
  {
   "cell_type": "code",
   "execution_count": 5,
   "metadata": {},
   "outputs": [
    {
     "name": "stdout",
     "output_type": "stream",
     "text": [
      "train language loaded\n"
     ]
    }
   ],
   "source": [
    "all_features = [\"language\"]\n",
    "train = pd.read_csv(\"s3://recsys-challenge-2020/training.tsv\", encoding=\"utf-8\",\n",
    "                    names = all_features, usecols= [7], sep=\"\\x01\"\n",
    "                   )\n",
    "print('train language loaded')"
   ]
  },
  {
   "cell_type": "code",
   "execution_count": 6,
   "metadata": {},
   "outputs": [],
   "source": [
    "language_code_name_pairs = pd.read_csv('s3://recsys-challenge-2020/language_code_name_pairs.csv')"
   ]
  },
  {
   "cell_type": "code",
   "execution_count": 7,
   "metadata": {},
   "outputs": [],
   "source": [
    "train_input = pd.merge(train, language_code_name_pairs, how = 'inner',\\\n",
    "left_on = 'language', right_on = 'code')[['name']]"
   ]
  },
  {
   "cell_type": "code",
   "execution_count": 8,
   "metadata": {},
   "outputs": [],
   "source": [
    "all_lang_output_train = pd.read_csv('s3://recsys-challenge-2020/all_lang_output_train.csv')\n",
    "lang_embedding_train = pd.concat([all_lang_output_train[['sentence_embedding']], train_input[['name']]], axis = 1)\n",
    "lang_embedding_train.sentence_embedding = lang_embedding_train.sentence_embedding.apply(lambda x: np.fromstring(x[1:-1], sep=' '))\n",
    "lang_embedding_train = lang_embedding_train.rename(columns={\"name\": \"language\"})"
   ]
  },
  {
   "cell_type": "code",
   "execution_count": 9,
   "metadata": {},
   "outputs": [],
   "source": [
    "start_feature_number = 42963998"
   ]
  },
  {
   "cell_type": "code",
   "execution_count": 10,
   "metadata": {},
   "outputs": [],
   "source": [
    "lookup = {l:start_feature_number+i*20 for i, l in enumerate(lang_embedding_train.language.drop_duplicates().to_list())}"
   ]
  },
  {
   "cell_type": "code",
   "execution_count": 11,
   "metadata": {},
   "outputs": [
    {
     "data": {
      "text/plain": [
       "{'ja': 42963998,\n",
       " 'en': 42964018,\n",
       " 'pt': 42964038,\n",
       " 'ko': 42964058,\n",
       " 'id': 42964078,\n",
       " 'ar': 42964098,\n",
       " 'tr': 42964118,\n",
       " 'it': 42964138,\n",
       " 'fr': 42964158,\n",
       " 'ru': 42964178,\n",
       " 'af': 42964198,\n",
       " 'hr': 42964218,\n",
       " 'de': 42964238,\n",
       " 'et': 42964258,\n",
       " 'vi': 42964278,\n",
       " 'tl': 42964298,\n",
       " 'he': 42964318,\n",
       " 'fa': 42964338,\n",
       " 'el': 42964358,\n",
       " 'ur': 42964378,\n",
       " 'ta': 42964398,\n",
       " 'lv': 42964418,\n",
       " 'fi': 42964438,\n",
       " 'mk': 42964458,\n",
       " 'hu': 42964478,\n",
       " 'ca': 42964498,\n",
       " 'kn': 42964518,\n",
       " 'ml': 42964538,\n",
       " 'pa': 42964558,\n",
       " 'bn': 42964578,\n",
       " 'mr': 42964598,\n",
       " 'te': 42964618,\n",
       " 'gu': 42964638,\n",
       " 'bg': 42964658,\n",
       " 'sw': 42964678}"
      ]
     },
     "execution_count": 11,
     "metadata": {},
     "output_type": "execute_result"
    }
   ],
   "source": [
    "lookup"
   ]
  },
  {
   "cell_type": "code",
   "execution_count": null,
   "metadata": {},
   "outputs": [
    {
     "data": {
      "application/vnd.jupyter.widget-view+json": {
       "model_id": "ed240151f34244ddb3529c474f57e11c",
       "version_major": 2,
       "version_minor": 0
      },
      "text/plain": [
       "HBox(children=(FloatProgress(value=0.0, description='Pandas Apply', max=7403762.0, style=ProgressStyle(descrip…"
      ]
     },
     "metadata": {},
     "output_type": "display_data"
    },
    {
     "name": "stdout",
     "output_type": "stream",
     "text": [
      "0\n",
      "1000000\n",
      "2000000\n",
      "3000000\n",
      "4000000\n",
      "5000000\n",
      "6000000\n",
      "7000000\n",
      "\n"
     ]
    },
    {
     "data": {
      "application/vnd.jupyter.widget-view+json": {
       "model_id": "a7e548e8ff7142e69149193f6d02d22b",
       "version_major": 2,
       "version_minor": 0
      },
      "text/plain": [
       "HBox(children=(FloatProgress(value=0.0, description='Pandas Apply', max=7403762.0, style=ProgressStyle(descrip…"
      ]
     },
     "metadata": {},
     "output_type": "display_data"
    },
    {
     "name": "stdout",
     "output_type": "stream",
     "text": [
      "8000000\n",
      "9000000\n",
      "10000000\n",
      "11000000\n",
      "12000000\n",
      "13000000\n",
      "14000000\n",
      "\n"
     ]
    },
    {
     "data": {
      "application/vnd.jupyter.widget-view+json": {
       "model_id": "62d117790553461d92d73fb5d55e861e",
       "version_major": 2,
       "version_minor": 0
      },
      "text/plain": [
       "HBox(children=(FloatProgress(value=0.0, description='Pandas Apply', max=7403762.0, style=ProgressStyle(descrip…"
      ]
     },
     "metadata": {},
     "output_type": "display_data"
    },
    {
     "name": "stdout",
     "output_type": "stream",
     "text": [
      "15000000\n",
      "16000000\n",
      "17000000\n",
      "18000000\n",
      "19000000\n",
      "20000000\n",
      "21000000\n",
      "22000000\n",
      "\n"
     ]
    },
    {
     "data": {
      "application/vnd.jupyter.widget-view+json": {
       "model_id": "07bdba2f0cc848e790b6e34f2f6fcbf3",
       "version_major": 2,
       "version_minor": 0
      },
      "text/plain": [
       "HBox(children=(FloatProgress(value=0.0, description='Pandas Apply', max=7403762.0, style=ProgressStyle(descrip…"
      ]
     },
     "metadata": {},
     "output_type": "display_data"
    },
    {
     "name": "stdout",
     "output_type": "stream",
     "text": [
      "23000000\n",
      "24000000\n",
      "25000000\n",
      "26000000\n",
      "27000000\n",
      "28000000\n",
      "29000000\n",
      "\n"
     ]
    },
    {
     "data": {
      "application/vnd.jupyter.widget-view+json": {
       "model_id": "c5e45fa41fb34581921069b710a1d05f",
       "version_major": 2,
       "version_minor": 0
      },
      "text/plain": [
       "HBox(children=(FloatProgress(value=0.0, description='Pandas Apply', max=7403762.0, style=ProgressStyle(descrip…"
      ]
     },
     "metadata": {},
     "output_type": "display_data"
    },
    {
     "name": "stdout",
     "output_type": "stream",
     "text": [
      "30000000\n",
      "31000000\n",
      "32000000\n",
      "33000000\n",
      "34000000\n",
      "35000000\n",
      "36000000\n",
      "37000000\n",
      "\n"
     ]
    },
    {
     "data": {
      "application/vnd.jupyter.widget-view+json": {
       "model_id": "683c6cc52e7342a18298e291a83d7026",
       "version_major": 2,
       "version_minor": 0
      },
      "text/plain": [
       "HBox(children=(FloatProgress(value=0.0, description='Pandas Apply', max=7403762.0, style=ProgressStyle(descrip…"
      ]
     },
     "metadata": {},
     "output_type": "display_data"
    },
    {
     "name": "stdout",
     "output_type": "stream",
     "text": [
      "38000000\n",
      "39000000\n",
      "40000000\n",
      "41000000\n",
      "42000000\n",
      "43000000\n",
      "44000000\n",
      "\n"
     ]
    },
    {
     "data": {
      "application/vnd.jupyter.widget-view+json": {
       "model_id": "da8842d0af554763bc4943564fb009fd",
       "version_major": 2,
       "version_minor": 0
      },
      "text/plain": [
       "HBox(children=(FloatProgress(value=0.0, description='Pandas Apply', max=7403762.0, style=ProgressStyle(descrip…"
      ]
     },
     "metadata": {},
     "output_type": "display_data"
    },
    {
     "name": "stdout",
     "output_type": "stream",
     "text": [
      "45000000\n",
      "46000000\n",
      "47000000\n",
      "48000000\n",
      "49000000\n",
      "50000000\n",
      "51000000\n",
      "\n"
     ]
    },
    {
     "data": {
      "application/vnd.jupyter.widget-view+json": {
       "model_id": "5135b9f5fb654346b8020af12e8d2aa4",
       "version_major": 2,
       "version_minor": 0
      },
      "text/plain": [
       "HBox(children=(FloatProgress(value=0.0, description='Pandas Apply', max=7403762.0, style=ProgressStyle(descrip…"
      ]
     },
     "metadata": {},
     "output_type": "display_data"
    },
    {
     "name": "stdout",
     "output_type": "stream",
     "text": [
      "52000000\n",
      "53000000\n",
      "54000000\n",
      "55000000\n",
      "56000000\n",
      "57000000\n",
      "58000000\n",
      "59000000\n",
      "\n"
     ]
    },
    {
     "data": {
      "application/vnd.jupyter.widget-view+json": {
       "model_id": "44806035eac44029821e3b8f5e42dff4",
       "version_major": 2,
       "version_minor": 0
      },
      "text/plain": [
       "HBox(children=(FloatProgress(value=0.0, description='Pandas Apply', max=7403762.0, style=ProgressStyle(descrip…"
      ]
     },
     "metadata": {},
     "output_type": "display_data"
    },
    {
     "name": "stdout",
     "output_type": "stream",
     "text": [
      "60000000\n",
      "61000000\n",
      "62000000\n",
      "63000000\n",
      "64000000\n",
      "65000000\n",
      "66000000\n",
      "\n"
     ]
    },
    {
     "data": {
      "application/vnd.jupyter.widget-view+json": {
       "model_id": "c7f2c325af4d44188a129672eae46bbf",
       "version_major": 2,
       "version_minor": 0
      },
      "text/plain": [
       "HBox(children=(FloatProgress(value=0.0, description='Pandas Apply', max=7403762.0, style=ProgressStyle(descrip…"
      ]
     },
     "metadata": {},
     "output_type": "display_data"
    },
    {
     "name": "stdout",
     "output_type": "stream",
     "text": [
      "67000000\n",
      "68000000\n",
      "69000000\n",
      "70000000\n",
      "71000000\n",
      "72000000\n",
      "73000000\n",
      "74000000\n",
      "\n"
     ]
    },
    {
     "data": {
      "application/vnd.jupyter.widget-view+json": {
       "model_id": "5b2b123b51be456b86f77e48c2d0929c",
       "version_major": 2,
       "version_minor": 0
      },
      "text/plain": [
       "HBox(children=(FloatProgress(value=0.0, description='Pandas Apply', max=7403762.0, style=ProgressStyle(descrip…"
      ]
     },
     "metadata": {},
     "output_type": "display_data"
    },
    {
     "name": "stdout",
     "output_type": "stream",
     "text": [
      "75000000\n",
      "76000000\n",
      "77000000\n",
      "78000000\n",
      "79000000\n",
      "80000000\n",
      "81000000\n",
      "\n"
     ]
    },
    {
     "data": {
      "application/vnd.jupyter.widget-view+json": {
       "model_id": "84b1a1c276ff4fb1b141a60e134b7d26",
       "version_major": 2,
       "version_minor": 0
      },
      "text/plain": [
       "HBox(children=(FloatProgress(value=0.0, description='Pandas Apply', max=7403762.0, style=ProgressStyle(descrip…"
      ]
     },
     "metadata": {},
     "output_type": "display_data"
    },
    {
     "name": "stdout",
     "output_type": "stream",
     "text": [
      "82000000\n",
      "83000000\n",
      "84000000\n",
      "85000000\n",
      "86000000\n",
      "87000000\n",
      "88000000\n",
      "\n"
     ]
    },
    {
     "data": {
      "application/vnd.jupyter.widget-view+json": {
       "model_id": "97baa6dde56d4a108ce559b2aaf17800",
       "version_major": 2,
       "version_minor": 0
      },
      "text/plain": [
       "HBox(children=(FloatProgress(value=0.0, description='Pandas Apply', max=7403762.0, style=ProgressStyle(descrip…"
      ]
     },
     "metadata": {},
     "output_type": "display_data"
    },
    {
     "name": "stdout",
     "output_type": "stream",
     "text": [
      "89000000\n",
      "90000000\n",
      "91000000\n",
      "92000000\n",
      "93000000\n",
      "94000000\n",
      "95000000\n",
      "96000000\n",
      "\n"
     ]
    },
    {
     "data": {
      "application/vnd.jupyter.widget-view+json": {
       "model_id": "f5e56d4c8f5048718152ce427f4f5e00",
       "version_major": 2,
       "version_minor": 0
      },
      "text/plain": [
       "HBox(children=(FloatProgress(value=0.0, description='Pandas Apply', max=7403762.0, style=ProgressStyle(descrip…"
      ]
     },
     "metadata": {},
     "output_type": "display_data"
    },
    {
     "name": "stdout",
     "output_type": "stream",
     "text": [
      "97000000\n",
      "98000000\n",
      "99000000\n",
      "100000000\n",
      "101000000\n",
      "102000000\n",
      "103000000\n",
      "\n"
     ]
    },
    {
     "data": {
      "application/vnd.jupyter.widget-view+json": {
       "model_id": "8f40960c56e34694b2d3f0c661524640",
       "version_major": 2,
       "version_minor": 0
      },
      "text/plain": [
       "HBox(children=(FloatProgress(value=0.0, description='Pandas Apply', max=7403762.0, style=ProgressStyle(descrip…"
      ]
     },
     "metadata": {},
     "output_type": "display_data"
    },
    {
     "name": "stdout",
     "output_type": "stream",
     "text": [
      "104000000\n",
      "105000000\n",
      "106000000\n",
      "107000000\n",
      "108000000\n",
      "109000000\n",
      "110000000\n",
      "111000000\n",
      "\n"
     ]
    },
    {
     "data": {
      "application/vnd.jupyter.widget-view+json": {
       "model_id": "e52020d456b14ec492a78a3689bd2fb2",
       "version_major": 2,
       "version_minor": 0
      },
      "text/plain": [
       "HBox(children=(FloatProgress(value=0.0, description='Pandas Apply', max=7403762.0, style=ProgressStyle(descrip…"
      ]
     },
     "metadata": {},
     "output_type": "display_data"
    },
    {
     "name": "stdout",
     "output_type": "stream",
     "text": [
      "112000000\n"
     ]
    }
   ],
   "source": [
    "for chunk in np.array_split(lang_embedding_train,20):\n",
    "    chunk_embeddings_list = pd.DataFrame()\n",
    "    chunk_embeddings_list = chunk.swifter.apply(lambda x: f(x.language, x.sentence_embedding, x.name), axis=1, result_type='expand')\n",
    "    chunk_embeddings_list.to_csv('data/lang_embedd_train.csv', header = False, index = False, mode = 'a', sep = ' ')"
   ]
  },
  {
   "cell_type": "code",
   "execution_count": 13,
   "metadata": {},
   "outputs": [
    {
     "data": {
      "text/html": [
       "<div>\n",
       "<style scoped>\n",
       "    .dataframe tbody tr th:only-of-type {\n",
       "        vertical-align: middle;\n",
       "    }\n",
       "\n",
       "    .dataframe tbody tr th {\n",
       "        vertical-align: top;\n",
       "    }\n",
       "\n",
       "    .dataframe thead th {\n",
       "        text-align: right;\n",
       "    }\n",
       "</style>\n",
       "<table border=\"1\" class=\"dataframe\">\n",
       "  <thead>\n",
       "    <tr style=\"text-align: right;\">\n",
       "      <th></th>\n",
       "      <th>0</th>\n",
       "      <th>1</th>\n",
       "      <th>2</th>\n",
       "      <th>3</th>\n",
       "      <th>4</th>\n",
       "      <th>5</th>\n",
       "      <th>6</th>\n",
       "      <th>7</th>\n",
       "      <th>8</th>\n",
       "      <th>9</th>\n",
       "      <th>10</th>\n",
       "      <th>11</th>\n",
       "      <th>12</th>\n",
       "      <th>13</th>\n",
       "      <th>14</th>\n",
       "      <th>15</th>\n",
       "      <th>16</th>\n",
       "      <th>17</th>\n",
       "      <th>18</th>\n",
       "      <th>19</th>\n",
       "    </tr>\n",
       "  </thead>\n",
       "  <tbody>\n",
       "    <tr>\n",
       "      <th>140671477</th>\n",
       "      <td>42964018:-0.09918726</td>\n",
       "      <td>42964019:-0.30313772</td>\n",
       "      <td>42964020:0.05875723</td>\n",
       "      <td>42964021:-0.07829884</td>\n",
       "      <td>42964022:0.36943847</td>\n",
       "      <td>42964023:0.12924708</td>\n",
       "      <td>42964024:-0.0651028</td>\n",
       "      <td>42964025:0.0154629</td>\n",
       "      <td>42964026:-0.21215808</td>\n",
       "      <td>42964027:0.10909309</td>\n",
       "      <td>42964028:-0.04294173</td>\n",
       "      <td>42964029:0.24310797</td>\n",
       "      <td>42964030:0.05658108</td>\n",
       "      <td>42964031:-0.14980063</td>\n",
       "      <td>42964032:-0.01114482</td>\n",
       "      <td>42964033:0.03144937</td>\n",
       "      <td>42964034:0.05885317</td>\n",
       "      <td>42964035:0.02839495</td>\n",
       "      <td>42964036:-0.02643102</td>\n",
       "      <td>42964037:-0.04961298</td>\n",
       "    </tr>\n",
       "    <tr>\n",
       "      <th>140671478</th>\n",
       "      <td>42964018:0.04733957</td>\n",
       "      <td>42964019:0.12685578</td>\n",
       "      <td>42964020:-0.06294597</td>\n",
       "      <td>42964021:-0.03093201</td>\n",
       "      <td>42964022:0.1361287</td>\n",
       "      <td>42964023:0.07763737</td>\n",
       "      <td>42964024:0.0375307</td>\n",
       "      <td>42964025:-0.19355477</td>\n",
       "      <td>42964026:-0.15447263</td>\n",
       "      <td>42964027:-0.15652643</td>\n",
       "      <td>42964028:-0.02099314</td>\n",
       "      <td>42964029:0.0537285</td>\n",
       "      <td>42964030:-0.07029901</td>\n",
       "      <td>42964031:-0.04030884</td>\n",
       "      <td>42964032:0.11514007</td>\n",
       "      <td>42964033:0.23356609</td>\n",
       "      <td>42964034:-0.10651386</td>\n",
       "      <td>42964035:-0.01840315</td>\n",
       "      <td>42964036:-0.00064036</td>\n",
       "      <td>42964037:-0.1609333</td>\n",
       "    </tr>\n",
       "    <tr>\n",
       "      <th>140671479</th>\n",
       "      <td>42964018:0.12562667</td>\n",
       "      <td>42964019:-0.33446828</td>\n",
       "      <td>42964020:-0.03795384</td>\n",
       "      <td>42964021:-0.05700648</td>\n",
       "      <td>42964022:0.2810505</td>\n",
       "      <td>42964023:0.05639027</td>\n",
       "      <td>42964024:-0.06923798</td>\n",
       "      <td>42964025:-0.17052189</td>\n",
       "      <td>42964026:-0.0610873</td>\n",
       "      <td>42964027:0.02880112</td>\n",
       "      <td>42964028:0.00498862</td>\n",
       "      <td>42964029:0.14994454</td>\n",
       "      <td>42964030:0.08505716</td>\n",
       "      <td>42964031:-0.05828571</td>\n",
       "      <td>42964032:-0.01276526</td>\n",
       "      <td>42964033:0.0970436</td>\n",
       "      <td>42964034:0.04482203</td>\n",
       "      <td>42964035:0.0764403</td>\n",
       "      <td>42964036:-0.09396146</td>\n",
       "      <td>42964037:-0.05558398</td>\n",
       "    </tr>\n",
       "    <tr>\n",
       "      <th>140671480</th>\n",
       "      <td>42964018:-0.28053078</td>\n",
       "      <td>42964019:-0.2656077</td>\n",
       "      <td>42964020:-0.01925383</td>\n",
       "      <td>42964021:0.03523011</td>\n",
       "      <td>42964022:0.42947668</td>\n",
       "      <td>42964023:0.175929</td>\n",
       "      <td>42964024:-0.01722255</td>\n",
       "      <td>42964025:-0.04802215</td>\n",
       "      <td>42964026:-0.13492344</td>\n",
       "      <td>42964027:0.23741826</td>\n",
       "      <td>42964028:-0.14222279</td>\n",
       "      <td>42964029:0.23929356</td>\n",
       "      <td>42964030:0.08112293</td>\n",
       "      <td>42964031:-0.0568068</td>\n",
       "      <td>42964032:0.15597701</td>\n",
       "      <td>42964033:-0.09585299</td>\n",
       "      <td>42964034:0.06450633</td>\n",
       "      <td>42964035:-0.060261</td>\n",
       "      <td>42964036:-0.05867892</td>\n",
       "      <td>42964037:-0.12952025</td>\n",
       "    </tr>\n",
       "    <tr>\n",
       "      <th>140671481</th>\n",
       "      <td>42964018:-0.03245322</td>\n",
       "      <td>42964019:-0.3452631</td>\n",
       "      <td>42964020:0.08434257</td>\n",
       "      <td>42964021:0.00471149</td>\n",
       "      <td>42964022:0.26292473</td>\n",
       "      <td>42964023:0.06120696</td>\n",
       "      <td>42964024:-0.02997166</td>\n",
       "      <td>42964025:-0.06313984</td>\n",
       "      <td>42964026:-0.10863221</td>\n",
       "      <td>42964027:0.05513112</td>\n",
       "      <td>42964028:0.09420017</td>\n",
       "      <td>42964029:0.16782534</td>\n",
       "      <td>42964030:0.16854912</td>\n",
       "      <td>42964031:-0.07093444</td>\n",
       "      <td>42964032:0.06018341</td>\n",
       "      <td>42964033:0.03879538</td>\n",
       "      <td>42964034:0.05439255</td>\n",
       "      <td>42964035:0.06127403</td>\n",
       "      <td>42964036:0.01768569</td>\n",
       "      <td>42964037:-0.06735468</td>\n",
       "    </tr>\n",
       "  </tbody>\n",
       "</table>\n",
       "</div>"
      ],
      "text/plain": [
       "                              0                     1                     2  \\\n",
       "140671477  42964018:-0.09918726  42964019:-0.30313772   42964020:0.05875723   \n",
       "140671478   42964018:0.04733957   42964019:0.12685578  42964020:-0.06294597   \n",
       "140671479   42964018:0.12562667  42964019:-0.33446828  42964020:-0.03795384   \n",
       "140671480  42964018:-0.28053078   42964019:-0.2656077  42964020:-0.01925383   \n",
       "140671481  42964018:-0.03245322   42964019:-0.3452631   42964020:0.08434257   \n",
       "\n",
       "                              3                    4                    5  \\\n",
       "140671477  42964021:-0.07829884  42964022:0.36943847  42964023:0.12924708   \n",
       "140671478  42964021:-0.03093201   42964022:0.1361287  42964023:0.07763737   \n",
       "140671479  42964021:-0.05700648   42964022:0.2810505  42964023:0.05639027   \n",
       "140671480   42964021:0.03523011  42964022:0.42947668    42964023:0.175929   \n",
       "140671481   42964021:0.00471149  42964022:0.26292473  42964023:0.06120696   \n",
       "\n",
       "                              6                     7                     8  \\\n",
       "140671477   42964024:-0.0651028    42964025:0.0154629  42964026:-0.21215808   \n",
       "140671478    42964024:0.0375307  42964025:-0.19355477  42964026:-0.15447263   \n",
       "140671479  42964024:-0.06923798  42964025:-0.17052189   42964026:-0.0610873   \n",
       "140671480  42964024:-0.01722255  42964025:-0.04802215  42964026:-0.13492344   \n",
       "140671481  42964024:-0.02997166  42964025:-0.06313984  42964026:-0.10863221   \n",
       "\n",
       "                              9                    10                   11  \\\n",
       "140671477   42964027:0.10909309  42964028:-0.04294173  42964029:0.24310797   \n",
       "140671478  42964027:-0.15652643  42964028:-0.02099314   42964029:0.0537285   \n",
       "140671479   42964027:0.02880112   42964028:0.00498862  42964029:0.14994454   \n",
       "140671480   42964027:0.23741826  42964028:-0.14222279  42964029:0.23929356   \n",
       "140671481   42964027:0.05513112   42964028:0.09420017  42964029:0.16782534   \n",
       "\n",
       "                             12                    13                    14  \\\n",
       "140671477   42964030:0.05658108  42964031:-0.14980063  42964032:-0.01114482   \n",
       "140671478  42964030:-0.07029901  42964031:-0.04030884   42964032:0.11514007   \n",
       "140671479   42964030:0.08505716  42964031:-0.05828571  42964032:-0.01276526   \n",
       "140671480   42964030:0.08112293   42964031:-0.0568068   42964032:0.15597701   \n",
       "140671481   42964030:0.16854912  42964031:-0.07093444   42964032:0.06018341   \n",
       "\n",
       "                             15                    16                    17  \\\n",
       "140671477   42964033:0.03144937   42964034:0.05885317   42964035:0.02839495   \n",
       "140671478   42964033:0.23356609  42964034:-0.10651386  42964035:-0.01840315   \n",
       "140671479    42964033:0.0970436   42964034:0.04482203    42964035:0.0764403   \n",
       "140671480  42964033:-0.09585299   42964034:0.06450633    42964035:-0.060261   \n",
       "140671481   42964033:0.03879538   42964034:0.05439255   42964035:0.06127403   \n",
       "\n",
       "                             18                    19  \n",
       "140671477  42964036:-0.02643102  42964037:-0.04961298  \n",
       "140671478  42964036:-0.00064036   42964037:-0.1609333  \n",
       "140671479  42964036:-0.09396146  42964037:-0.05558398  \n",
       "140671480  42964036:-0.05867892  42964037:-0.12952025  \n",
       "140671481   42964036:0.01768569  42964037:-0.06735468  "
      ]
     },
     "execution_count": 13,
     "metadata": {},
     "output_type": "execute_result"
    }
   ],
   "source": [
    "chunk_embeddings_list.head()"
   ]
  }
 ],
 "metadata": {
  "kernelspec": {
   "display_name": "Python 3",
   "language": "python",
   "name": "python3"
  },
  "language_info": {
   "codemirror_mode": {
    "name": "ipython",
    "version": 3
   },
   "file_extension": ".py",
   "mimetype": "text/x-python",
   "name": "python",
   "nbconvert_exporter": "python",
   "pygments_lexer": "ipython3",
   "version": "3.7.6"
  }
 },
 "nbformat": 4,
 "nbformat_minor": 4
}
