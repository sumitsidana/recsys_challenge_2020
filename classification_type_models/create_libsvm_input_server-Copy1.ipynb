{
 "cells": [
  {
   "cell_type": "code",
   "execution_count": null,
   "metadata": {},
   "outputs": [],
   "source": [
    "import pandas as pd\n",
    "import time"
   ]
  },
  {
   "cell_type": "code",
   "execution_count": null,
   "metadata": {},
   "outputs": [],
   "source": [
    "all_features = [\"tweet_type\", \"Language\", \"tweet_timestamp\", \"enaged_with_user_id\",\\\n",
    "                \"engaged_with_user_follower_count\", \"engaged_with_user_following_count\", \\\n",
    "                \"engaged_with_user_is_verified\", \"engaging_user_id\", \"enaging_user_follower_count\",\n",
    "                \"enaging_user_following_count\", \"enaging_user_is_verified\", \"engagee_follows_engager\", \"like_timestamp\"]\n",
    "\n",
    "train = pd.read_csv(\"s3://recsys-challenge-2020/training.tsv\", encoding=\"utf-8\",\n",
    "                    names = all_features, usecols= [6, 7, 8, 9, 10, 11, 12, 14, 15, 16, 17, 19, 23], sep=\"\\x01\")\n",
    "train['like_bool'] = train.like_timestamp.fillna(0)\n",
    "train.loc[train.like_bool != 0.0, 'like_bool'] = 1.0\n",
    "train = train[[\"tweet_type\", \"Language\", \"enaged_with_user_id\",\\\n",
    "                \"engaged_with_user_follower_count\", \"engaged_with_user_following_count\", \\\n",
    "                \"engaged_with_user_is_verified\", \"engaging_user_id\", \"enaging_user_follower_count\",\n",
    "                \"enaging_user_following_count\", \"enaging_user_is_verified\", \"engagee_follows_engager\", \"like_bool\"]]"
   ]
  },
  {
   "cell_type": "code",
   "execution_count": null,
   "metadata": {},
   "outputs": [],
   "source": [
    "def bool_to_str(value):\n",
    "    \"value should be a bool\"\n",
    "    return 'Yes' if value else 'No'"
   ]
  },
  {
   "cell_type": "code",
   "execution_count": null,
   "metadata": {},
   "outputs": [],
   "source": [
    "def construct_line(row, columns, dtypes, string_dict, file_obj, index, time1):\n",
    "    \n",
    "    if index % 100000 == 0:\n",
    "        print(str(time.time() - time1) +\": \"+ str(index))\n",
    "        \n",
    "    global categorical_index\n",
    "    numerical_index = 0\n",
    "    new_line = str(row[-1])+ \" \"\n",
    "    for i in range(len(columns) - 1):\n",
    "        value_at_i = row[i]\n",
    "        dtype_at_i = dtypes[i]\n",
    "        column_name_at_i = columns[i]\n",
    "        \n",
    "        if ((dtype_at_i == object) or (dtype_at_i == bool)): # Categorical Features\n",
    "            if (dtype_at_i == bool):\n",
    "                value_at_i =  bool_to_str(value_at_i)\n",
    "            \n",
    "            value_to_be_found = column_name_at_i +\"_\"+ value_at_i\n",
    "            \n",
    "            if value_to_be_found in string_dict:\n",
    "                indexed_value = string_dict[value_to_be_found]\n",
    "                new_line = new_line + str(indexed_value)+\":1 \"\n",
    "            \n",
    "            else:\n",
    "                indexed_value = categorical_index\n",
    "                categorical_index = categorical_index + 1\n",
    "                new_line = new_line + str(indexed_value)+\":1 \"\n",
    "                string_dict[value_to_be_found] = indexed_value\n",
    "                \n",
    "        else: # Numerical Features\n",
    "            new_line = new_line + str(numerical_index) + \":\" +str(value_at_i)+\" \"\n",
    "            numerical_index = numerical_index + 1\n",
    "    file_obj.write(new_line+\"\\n\")"
   ]
  },
  {
   "cell_type": "markdown",
   "metadata": {},
   "source": [
    "### Read Test Set"
   ]
  },
  {
   "cell_type": "code",
   "execution_count": null,
   "metadata": {},
   "outputs": [],
   "source": [
    "all_features = [\"tweet_type\", \"Language\", \"enaged_with_user_id\",\\\n",
    "                \"engaged_with_user_follower_count\", \"engaged_with_user_following_count\", \\\n",
    "                \"engaged_with_user_is_verified\", \"engaging_user_id\", \"enaging_user_follower_count\",\n",
    "                \"enaging_user_following_count\", \"enaging_user_is_verified\", \"engagee_follows_engager\", \"like_timestamp\"]\n",
    "\n",
    "test = pd.read_csv(\"s3://recsys-challenge-2020/val_26_04_2020.tsv\", encoding=\"utf-8\",\n",
    "                    names = all_features, usecols= [6, 7, 9, 10, 11, 12, 14, 15, 16, 17, 19, 23], sep=\"\\x01\")\n",
    "test['like_bool'] = test.like_timestamp.fillna(0)\n",
    "test.loc[test.like_bool != 0.0, 'like_bool'] = 1.0\n",
    "test = test[[\"tweet_type\", \"Language\", \"enaged_with_user_id\",\\\n",
    "                \"engaged_with_user_follower_count\", \"engaged_with_user_following_count\", \\\n",
    "                \"engaged_with_user_is_verified\", \"engaging_user_id\", \"enaging_user_follower_count\",\n",
    "                \"enaging_user_following_count\", \"enaging_user_is_verified\", \"engagee_follows_engager\", \"like_bool\"]]"
   ]
  },
  {
   "cell_type": "markdown",
   "metadata": {},
   "source": [
    "### Write Train and Test Simultaneously"
   ]
  },
  {
   "cell_type": "code",
   "execution_count": null,
   "metadata": {},
   "outputs": [],
   "source": [
    "cnames_numerical = list(train.select_dtypes(exclude=['object', 'bool']).columns)\n",
    "categorical_index = len(cnames_numerical) - 1 # Categorical indices start from here.\n",
    "string_dict = {}\n",
    "f_train = open(\"f1/like/train.csv.libfm\", 'a')\n",
    "print(len(train))\n",
    "time1 = time.time()\n",
    "train.apply(lambda x : construct_line(x, train.columns, train.dtypes, string_dict, f_train, x.name,\\\n",
    "                                         time1), axis = 1)\n",
    "f_train.close()\n",
    "print(len(test))\n",
    "f_test = open(\"f1/like/test.csv.libfm\", 'a')\n",
    "test.apply(lambda x : construct_line(x, test.columns, test.dtypes, string_dict, f_test, x.name,\\\n",
    "                                       time1), axis = 1)\n",
    "f_test.close()"
   ]
  },
  {
   "cell_type": "code",
   "execution_count": null,
   "metadata": {},
   "outputs": [],
   "source": [
    "string_dict"
   ]
  },
  {
   "cell_type": "markdown",
   "metadata": {},
   "source": [
    "### Print Statements"
   ]
  },
  {
   "cell_type": "code",
   "execution_count": null,
   "metadata": {},
   "outputs": [],
   "source": [
    "train_set.dtypes"
   ]
  },
  {
   "cell_type": "code",
   "execution_count": null,
   "metadata": {},
   "outputs": [],
   "source": [
    "val_set.dtypes"
   ]
  },
  {
   "cell_type": "code",
   "execution_count": null,
   "metadata": {},
   "outputs": [],
   "source": [
    "train_set.head()"
   ]
  },
  {
   "cell_type": "code",
   "execution_count": null,
   "metadata": {},
   "outputs": [],
   "source": [
    "val_set.head()"
   ]
  },
  {
   "cell_type": "code",
   "execution_count": null,
   "metadata": {},
   "outputs": [],
   "source": [
    "def construct_line_beta(row, columns, dtypes, string_dict, categorical_index):\n",
    "    numerical_index = 0\n",
    "    new_line = str(row[-1])+ \" \"\n",
    "    for i in range(len(columns) - 1):\n",
    "        if ((dtypes[i] == object) or (dtypes[i] == bool)):\n",
    "            if (dtypes[i] == bool):\n",
    "                row[i] =  bool_to_str(row[i])\n",
    "            values = string_dict[columns[i]]\n",
    "            if row[i] in [x[0] for x in values]:\n",
    "                index = [x[0] for x in values].index(row[i])\n",
    "                value_index = values[index][1]\n",
    "                new_line = new_line + str(value_index)+\":1 \"\n",
    "            else:\n",
    "                value_index = sum(len(v) for v in string_dict.values()) + categorical_index\n",
    "                new_line = new_line + str(value_index)+\":1 \"\n",
    "                values.append((row[i], value_index))\n",
    "                string_dict[columns[i]] = values\n",
    "        else:\n",
    "            new_line = new_line + str(numerical_index) + \":\" +str(row[i])+\" \"\n",
    "            numerical_index = numerical_index + 1\n",
    "    print(new_line)"
   ]
  },
  {
   "cell_type": "markdown",
   "metadata": {},
   "source": [
    "### For Stackoverflow"
   ]
  },
  {
   "cell_type": "code",
   "execution_count": null,
   "metadata": {},
   "outputs": [],
   "source": []
  }
 ],
 "metadata": {
  "kernelspec": {
   "display_name": "Python 3",
   "language": "python",
   "name": "python3"
  },
  "language_info": {
   "codemirror_mode": {
    "name": "ipython",
    "version": 3
   },
   "file_extension": ".py",
   "mimetype": "text/x-python",
   "name": "python",
   "nbconvert_exporter": "python",
   "pygments_lexer": "ipython3",
   "version": "3.7.6"
  }
 },
 "nbformat": 4,
 "nbformat_minor": 2
}
