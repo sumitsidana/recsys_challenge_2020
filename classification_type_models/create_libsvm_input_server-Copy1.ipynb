{
 "cells": [
  {
   "cell_type": "code",
   "execution_count": 1,
   "metadata": {},
   "outputs": [],
   "source": [
    "import pandas as pd\n",
    "import time"
   ]
  },
  {
   "cell_type": "markdown",
   "metadata": {},
   "source": [
    "### Scale Numerical Features"
   ]
  },
  {
   "cell_type": "code",
   "execution_count": 2,
   "metadata": {},
   "outputs": [],
   "source": [
    "all_features = [\"engaged_with_user_follower_count\", \"engaged_with_user_following_count\", \\\n",
    "                \"enaging_user_follower_count\", \"enaging_user_following_count\"]\n",
    "train = pd.read_csv(\"s3://recsys-challenge-2020/training.tsv\", encoding=\"utf-8\",\n",
    "                    names = all_features, usecols= [10, 11, 15, 16], sep=\"\\x01\")\n",
    "\n",
    "test = pd.read_csv(\"s3://recsys-challenge-2020/val_26_04_2020.tsv\", encoding=\"utf-8\",\n",
    "                    names = all_features, usecols= [10, 11, 15, 16], sep=\"\\x01\")\n",
    "\n",
    "train_test_combined = pd.concat([train,test],keys=[0,1])\n",
    "\n",
    "from sklearn import preprocessing\n",
    "\n",
    "x = train_test_combined.values #returns a numpy array\n",
    "min_max_scaler = preprocessing.MinMaxScaler()\n",
    "x_scaled = min_max_scaler.fit_transform(x)\n",
    "df = pd.DataFrame(x_scaled)\n",
    "df.index = train_test_combined.index\n",
    "train_test_combined_scaled = pd.concat([train_test_combined, df], axis = 1)\n",
    "train_scaled, test_scaled = train_test_combined_scaled.xs(0),train_test_combined_scaled.xs(1)\n",
    "train_scaled_only = train_scaled[[0, 1, 2, 3]]\n",
    "test_scaled_only = test_scaled[[0, 1, 2, 3]]\n",
    "train_scaled_only.columns = ['a', 'b', 'c', 'd']\n",
    "test_scaled_only.columns = ['a', 'b', 'c', 'd']"
   ]
  },
  {
   "cell_type": "markdown",
   "metadata": {},
   "source": [
    "### Read Train"
   ]
  },
  {
   "cell_type": "code",
   "execution_count": 5,
   "metadata": {},
   "outputs": [],
   "source": [
    "all_features = [\"tweet_type\", \"Language\", \"enaged_with_user_id\",\\\n",
    "                \"engaged_with_user_is_verified\", \"engaging_user_id\", \"enaging_user_is_verified\",\\\n",
    "                \"engagee_follows_engager\", \"reply_timestamp\"]\n",
    "\n",
    "train = pd.read_csv(\"s3://recsys-challenge-2020/training.tsv\", encoding=\"utf-8\",\n",
    "                    names = all_features, usecols= [6, 7, 9, 12, 14, 17, 19, 20], sep=\"\\x01\")\n",
    "train['reply_bool'] = train.reply_timestamp.fillna(0)\n",
    "train.loc[train.reply_bool != 0.0, 'reply_bool'] = 1.0\n",
    "train = train[[\"tweet_type\", \"Language\", \"enaged_with_user_id\",\\\n",
    "                \"engaged_with_user_is_verified\", \"engaging_user_id\", \"enaging_user_is_verified\",\n",
    "               \"engagee_follows_engager\", \"reply_bool\"]]"
   ]
  },
  {
   "cell_type": "markdown",
   "metadata": {},
   "source": [
    "### Read Test"
   ]
  },
  {
   "cell_type": "code",
   "execution_count": 7,
   "metadata": {},
   "outputs": [],
   "source": [
    "all_features = [\"tweet_type\", \"Language\", \"enaged_with_user_id\",\\\n",
    "                \"engaged_with_user_is_verified\", \"engaging_user_id\", \"enaging_user_is_verified\",\\\n",
    "                \"engagee_follows_engager\", \"reply_timestamp\"]\n",
    "\n",
    "test = pd.read_csv(\"s3://recsys-challenge-2020/val_26_04_2020.tsv\", encoding=\"utf-8\",\n",
    "                    names = all_features, usecols= [6, 7, 9, 12, 14, 17, 19, 20], sep=\"\\x01\")\n",
    "test['reply_bool'] = test.reply_timestamp.fillna(0)\n",
    "test.loc[test.reply_bool != 0.0, 'reply_bool'] = 1.0\n",
    "test = test[[\"tweet_type\", \"Language\", \"enaged_with_user_id\",\n",
    "                \"engaged_with_user_is_verified\", \"engaging_user_id\", \"enaging_user_is_verified\", \n",
    "             \"engagee_follows_engager\", \"reply_bool\"]]"
   ]
  },
  {
   "cell_type": "code",
   "execution_count": 58,
   "metadata": {},
   "outputs": [],
   "source": [
    "train_df = pd.concat([train_scaled_only, train], axis = 1)\n",
    "test_df = pd.concat([test_scaled_only, test], axis = 1)"
   ]
  },
  {
   "cell_type": "code",
   "execution_count": 10,
   "metadata": {},
   "outputs": [],
   "source": [
    "def bool_to_str(value):\n",
    "    \"value should be a bool\"\n",
    "    return 'Yes' if value else 'No'"
   ]
  },
  {
   "cell_type": "code",
   "execution_count": 59,
   "metadata": {},
   "outputs": [],
   "source": [
    "def construct_line(row, columns, dtypes, string_dict, file_obj, index, time1):\n",
    "    \n",
    "    if index % 1000000 == 0:\n",
    "        print(str(time.time() - time1) +\": \"+ str(index))\n",
    "        \n",
    "    global categorical_index\n",
    "    numerical_index = 0\n",
    "    new_line = str(row[-1])+ \" \"\n",
    "    for i in range(len(columns) - 1):\n",
    "        value_at_i = row[i]\n",
    "        dtype_at_i = dtypes[i]\n",
    "        column_name_at_i = columns[i]\n",
    "        \n",
    "        if ((dtype_at_i == object) or (dtype_at_i == bool)): # Categorical Features\n",
    "            if (dtype_at_i == bool):\n",
    "                value_at_i =  bool_to_str(value_at_i)\n",
    "            \n",
    "            value_to_be_found = column_name_at_i +\"_\"+ value_at_i\n",
    "            \n",
    "            if value_to_be_found in string_dict:\n",
    "                indexed_value = string_dict[value_to_be_found]\n",
    "                new_line = new_line + str(indexed_value)+\":1 \"\n",
    "            \n",
    "            else:\n",
    "                indexed_value = categorical_index\n",
    "                categorical_index = categorical_index + 1\n",
    "                new_line = new_line + str(indexed_value)+\":1 \"\n",
    "                string_dict[value_to_be_found] = indexed_value\n",
    "                \n",
    "        else: # Numerical Features\n",
    "            new_line = new_line + str(numerical_index) + \":\" +str(value_at_i)+\" \"\n",
    "            numerical_index = numerical_index + 1\n",
    "    file_obj.write(new_line+\"\\n\")"
   ]
  },
  {
   "cell_type": "markdown",
   "metadata": {},
   "source": [
    "### Write Train and Test Simultaneously"
   ]
  },
  {
   "cell_type": "code",
   "execution_count": null,
   "metadata": {},
   "outputs": [
    {
     "name": "stdout",
     "output_type": "stream",
     "text": [
      "148075238\n",
      "98.24931406974792: 0\n",
      "475.55212593078613: 1000000\n"
     ]
    }
   ],
   "source": [
    "cnames_numerical = list(train_df.select_dtypes(exclude=['object', 'bool']).columns)\n",
    "categorical_index = len(cnames_numerical) - 1 # Categorical indices start from here.\n",
    "string_dict = {}\n",
    "f_train_df = open(\"f1/like/train_df.csv\", 'a')\n",
    "print(len(train_df))\n",
    "time1 = time.time()\n",
    "train_df.apply(lambda x : construct_line(x, train_df.columns, train_df.dtypes, string_dict, f_train_df, x.name,\\\n",
    "                                         time1), axis = 1)\n",
    "f_train_df.close()\n",
    "print(len(test_df))\n",
    "f_test_df = open(\"f1/like/test_df.csv\", 'a')\n",
    "test_df.apply(lambda x : construct_line(x, test_df.columns, test_df.dtypes, string_dict, f_test_df, x.name,\\\n",
    "                                       time1), axis = 1)\n",
    "f_test_df.close()"
   ]
  }
 ],
 "metadata": {
  "kernelspec": {
   "display_name": "Python 3",
   "language": "python",
   "name": "python3"
  },
  "language_info": {
   "codemirror_mode": {
    "name": "ipython",
    "version": 3
   },
   "file_extension": ".py",
   "mimetype": "text/x-python",
   "name": "python",
   "nbconvert_exporter": "python",
   "pygments_lexer": "ipython3",
   "version": "3.7.6"
  }
 },
 "nbformat": 4,
 "nbformat_minor": 2
}
