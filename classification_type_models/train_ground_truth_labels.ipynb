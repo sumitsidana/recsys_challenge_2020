{
 "cells": [
  {
   "cell_type": "code",
   "execution_count": 2,
   "metadata": {},
   "outputs": [],
   "source": [
    "import pandas as pd\n",
    "import s3fs"
   ]
  },
  {
   "cell_type": "code",
   "execution_count": 3,
   "metadata": {},
   "outputs": [],
   "source": [
    "all_features = [\"reply_timestamp\"]\n",
    "train = pd.read_csv(\"s3://recsys-challenge-2020/training.tsv\", encoding=\"utf-8\",\n",
    "                    names = all_features, usecols= [20], sep=\"\\x01\")"
   ]
  },
  {
   "cell_type": "code",
   "execution_count": 4,
   "metadata": {},
   "outputs": [],
   "source": [
    "train['reply_bool'] = train.reply_timestamp.fillna(0)\n",
    "train.loc[train.reply_bool != 0.0, 'reply_bool'] = 1.0\n",
    "train[['reply_bool']].to_csv\\\n",
    "('/home/ubuntu/recsys_challenge_2020/competetion_submission_phase/data/reply/reply_gt.csv',\\\n",
    "                             index = False, header = False )"
   ]
  },
  {
   "cell_type": "code",
   "execution_count": 7,
   "metadata": {
    "scrolled": true
   },
   "outputs": [
    {
     "name": "stderr",
     "output_type": "stream",
     "text": [
      "/home/ubuntu/anaconda3/lib/python3.7/site-packages/ipykernel_launcher.py:12: SettingWithCopyWarning: \n",
      "A value is trying to be set on a copy of a slice from a DataFrame.\n",
      "Try using .loc[row_indexer,col_indexer] = value instead\n",
      "\n",
      "See the caveats in the documentation: https://pandas.pydata.org/pandas-docs/stable/user_guide/indexing.html#returning-a-view-versus-a-copy\n",
      "  if sys.path[0] == '':\n",
      "/home/ubuntu/anaconda3/lib/python3.7/site-packages/pandas/core/indexing.py:965: SettingWithCopyWarning: \n",
      "A value is trying to be set on a copy of a slice from a DataFrame.\n",
      "Try using .loc[row_indexer,col_indexer] = value instead\n",
      "\n",
      "See the caveats in the documentation: https://pandas.pydata.org/pandas-docs/stable/user_guide/indexing.html#returning-a-view-versus-a-copy\n",
      "  self.obj[item] = s\n",
      "/home/ubuntu/anaconda3/lib/python3.7/site-packages/ipykernel_launcher.py:15: SettingWithCopyWarning: \n",
      "A value is trying to be set on a copy of a slice from a DataFrame.\n",
      "Try using .loc[row_indexer,col_indexer] = value instead\n",
      "\n",
      "See the caveats in the documentation: https://pandas.pydata.org/pandas-docs/stable/user_guide/indexing.html#returning-a-view-versus-a-copy\n",
      "  from ipykernel import kernelapp as app\n"
     ]
    }
   ],
   "source": [
    "all_features = [\"tweet_timestamp\", \"retweet_with_comment_timestamp\"]\n",
    "train = pd.read_csv(\"s3://recsys-challenge-2020/training.tsv\", encoding=\"utf-8\",\n",
    "                    names = all_features, usecols= [ 8, 22], sep=\"\\x01\"\n",
    "                   )\n",
    "train_sorted = train.sort_values(by=['tweet_timestamp']).reset_index()\n",
    "n_head = 90\n",
    "n_tail = 10\n",
    "train_set = train_sorted.head(int(len(train_sorted)*(n_head/100)))\n",
    "val_set = train_sorted.tail(int(len(train_sorted)*(n_tail/100)))\n",
    "\n",
    "\n",
    "train_set['retweet_with_comment_bool'] = train_set.retweet_with_comment_timestamp.fillna(0)\n",
    "train_set.loc[train_set.retweet_with_comment_bool != 0.0, 'retweet_with_comment_bool'] = 1.0\n",
    "\n",
    "val_set['retweet_with_comment_bool'] = val_set.retweet_with_comment_timestamp.fillna(0)\n",
    "val_set.loc[val_set.retweet_with_comment_bool != 0.0, 'retweet_with_comment_bool'] = 1.0\n",
    "\n",
    "# val_set['retweet_with_comment_bool'] = val_set.retweet_with_comment_timestamp.fillna(0)\n",
    "\n",
    "train_set[['retweet_with_comment_bool']].to_csv('/home/ubuntu/recsys_challenge_2020/classification_type_models/f1/retweet_with_comment/train_set_gt.csv',\\\n",
    "                             index = False, header = False )\n",
    "\n",
    "val_set[['retweet_with_comment_bool']].to_csv('/home/ubuntu/recsys_challenge_2020/classification_type_models/f1/retweet_with_comment/val_set_gt.csv',\\\n",
    "                             index = False, header = False )"
   ]
  },
  {
   "cell_type": "code",
   "execution_count": 2,
   "metadata": {},
   "outputs": [],
   "source": [
    "all_features = [\"retweet_with_comment_timestamp\"]\n",
    "train = pd.read_csv(\"s3://recsys-challenge-2020/training.tsv\", encoding=\"utf-8\",\n",
    "                    names = all_features, usecols= [ 22], sep=\"\\x01\"\n",
    "                   )\n",
    "\n",
    "train['retweet_with_comment_bool'] = train.retweet_with_comment_timestamp.fillna(0)\n",
    "train.loc[train.retweet_with_comment_bool != 0.0, 'retweet_with_comment_bool'] = 1.0\n",
    "\n",
    "train[['retweet_with_comment_bool']].to_csv('/home/ubuntu/recsys_challenge_2020/classification_type_models/f1/retweet_with_comment/train_gt.csv',\\\n",
    "                             index = False, header = False )"
   ]
  },
  {
   "cell_type": "markdown",
   "metadata": {},
   "source": [
    "### Retweet"
   ]
  },
  {
   "cell_type": "code",
   "execution_count": 2,
   "metadata": {},
   "outputs": [],
   "source": [
    "all_features = [ \"retweet_timestamp\"]\n",
    "train = pd.read_csv(\"s3://recsys-challenge-2020/training.tsv\", encoding=\"utf-8\",\n",
    "                    names = all_features, usecols= [21], sep=\"\\x01\")\n",
    "train['retweet_bool'] = train.retweet_timestamp.fillna(0)\n",
    "train.loc[train.retweet_bool != 0.0, 'retweet_bool'] = 1.0\n",
    "train[['retweet_bool']].to_csv('/home/ubuntu/recsys_challenge_2020/train_ground_truth/retweet_gt.csv',\\\n",
    "                             index = False, header = False )"
   ]
  }
 ],
 "metadata": {
  "kernelspec": {
   "display_name": "Python 3",
   "language": "python",
   "name": "python3"
  },
  "language_info": {
   "codemirror_mode": {
    "name": "ipython",
    "version": 3
   },
   "file_extension": ".py",
   "mimetype": "text/x-python",
   "name": "python",
   "nbconvert_exporter": "python",
   "pygments_lexer": "ipython3",
   "version": "3.7.6"
  }
 },
 "nbformat": 4,
 "nbformat_minor": 4
}
