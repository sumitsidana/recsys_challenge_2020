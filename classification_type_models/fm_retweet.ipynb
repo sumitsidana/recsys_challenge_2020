{
 "cells": [
  {
   "cell_type": "code",
   "execution_count": null,
   "metadata": {},
   "outputs": [],
   "source": [
    "import pandas as pd\n",
    "import s3fs\n",
    "import boto3\n",
    "from io import StringIO # python3; python2: BytesIO \n",
    "import numpy as np\n",
    "import re\n",
    "from nltk.tokenize import wordpunct_tokenize\n",
    "from nltk.tokenize import RegexpTokenizer"
   ]
  },
  {
   "cell_type": "code",
   "execution_count": null,
   "metadata": {},
   "outputs": [],
   "source": [
    "all_features = [\"Language\", \"tweet_timestamp\", \"enaged_with_user_id\", \"engaging_user_id\", \"engagee_follows_engager\",\\\n",
    "                \"retweet_timestamp\"]\n",
    "\n",
    "train = pd.read_csv(\"s3://recsys-challenge-2020/training.tsv\", encoding=\"utf-8\",\n",
    "                    names = all_features, usecols= [7, 8, 9, 14, 19, 21], sep=\"\\x01\")\n",
    "\n",
    "train_sorted = train.sort_values(by=['tweet_timestamp']).reset_index()\n",
    "n_head = 90\n",
    "n_tail = 10\n",
    "train_set = train_sorted.head(int(len(train_sorted)*(n_head/100)))\n",
    "val_set = train_sorted.tail(int(len(train_sorted)*(n_tail/100))).reset_index()"
   ]
  },
  {
   "cell_type": "code",
   "execution_count": null,
   "metadata": {},
   "outputs": [],
   "source": [
    "train['retweet_bool'] = train.retweet_timestamp.fillna(0)\n",
    "train.loc[train.retweet_bool != 0.0, 'retweet_bool'] = 1.0"
   ]
  },
  {
   "cell_type": "code",
   "execution_count": null,
   "metadata": {},
   "outputs": [],
   "source": [
    "train[['Language', 'enaged_with_user_id', 'engaging_user_id', 'engagee_follows_engager', 'like_bool']]\n",
    ".to_csv('data/retweet/train.csv', index = False, sep = '\\t', header = False)"
   ]
  },
  {
   "cell_type": "code",
   "execution_count": null,
   "metadata": {},
   "outputs": [],
   "source": [
    "train_set['retweet_bool'] = train_set.retweet_timestamp.fillna(0)\n",
    "train_set.loc[train_set.retweet_bool != 0.0, 'retweet_bool'] = 1.0"
   ]
  },
  {
   "cell_type": "code",
   "execution_count": null,
   "metadata": {},
   "outputs": [],
   "source": [
    "train_set[['Language', 'enaged_with_user_id', 'engaging_user_id', 'engagee_follows_engager', 'retweet_bool']]\n",
    ".to_csv('data/retweet/train_set.csv', index = False, sep = '\\t', header = False)"
   ]
  },
  {
   "cell_type": "code",
   "execution_count": null,
   "metadata": {},
   "outputs": [],
   "source": [
    "val_set['retweet_bool'] = val_set.retweet_timestamp.fillna(0)\n",
    "val_set.loc[val_set.retweet_bool != 0.0, 'retweet_bool'] = 1.0"
   ]
  },
  {
   "cell_type": "code",
   "execution_count": null,
   "metadata": {},
   "outputs": [],
   "source": [
    "val_set[['Language', 'enaged_with_user_id', 'engaging_user_id', 'engagee_follows_engager', 'retweet_bool']]\n",
    ".to_csv('data/retweet/val_set.csv', index = False, sep = '\\t', header = False)"
   ]
  },
  {
   "cell_type": "code",
   "execution_count": null,
   "metadata": {},
   "outputs": [],
   "source": [
    "all_features = [\"Language\", \"tweet_timestamp\", \"enaged_with_user_id\", \"engaging_user_id\", \"engagee_follows_engager\",\\\n",
    "                \"retweet_timestamp\"]\n",
    "\n",
    "test = pd.read_csv(\"s3://recsys-challenge-2020/val.tsv\", encoding=\"utf-8\",\n",
    "                    names = all_features, usecols= [7, 8, 9, 14, 19, 21], sep=\"\\x01\")\n",
    "test['retweet_bool'] = test.retweet_timestamp.fillna(0)\n",
    "test.loc[test.retweet_bool != 0.0, 'retweet_bool'] = 1.0\n",
    "test[['Language', 'enaged_with_user_id', 'engaging_user_id', 'engagee_follows_engager', 'retweet_bool']]\n",
    ".to_csv('data/retweet/test.csv', index = False, sep = '\\t', header = False)"
   ]
  }
 ],
 "metadata": {
  "kernelspec": {
   "display_name": "Python 3",
   "language": "python",
   "name": "python3"
  },
  "language_info": {
   "codemirror_mode": {
    "name": "ipython",
    "version": 3
   },
   "file_extension": ".py",
   "mimetype": "text/x-python",
   "name": "python",
   "nbconvert_exporter": "python",
   "pygments_lexer": "ipython3",
   "version": "3.6.9"
  }
 },
 "nbformat": 4,
 "nbformat_minor": 4
}
