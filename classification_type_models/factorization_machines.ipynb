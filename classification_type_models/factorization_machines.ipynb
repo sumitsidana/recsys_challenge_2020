{
 "cells": [
  {
   "cell_type": "code",
   "execution_count": 1,
   "metadata": {},
   "outputs": [],
   "source": [
    "import pandas as pd\n",
    "import s3fs\n",
    "import boto3\n",
    "from io import StringIO # python3; python2: BytesIO \n",
    "import numpy as np\n",
    "import re\n",
    "from nltk.tokenize import wordpunct_tokenize\n",
    "from nltk.tokenize import RegexpTokenizer"
   ]
  },
  {
   "cell_type": "code",
   "execution_count": 3,
   "metadata": {},
   "outputs": [],
   "source": [
    "all_features = [\"Language\", \"tweet_timestamp\", \"enaged_with_user_id\", \"engaging_user_id\", \"engagee_follows_engager\",\\\n",
    "                \"reply_timestamp\"]\n",
    "\n",
    "train = pd.read_csv(\"s3://recsys-challenge-2020/training.tsv\", encoding=\"utf-8\",\n",
    "                    names = all_features, usecols= [7, 8, 9, 14, 19, 20], sep=\"\\x01\")\n",
    "\n",
    "train_sorted = train.sort_values(by=['tweet_timestamp']).reset_index()\n",
    "n_head = 90\n",
    "n_tail = 10\n",
    "train_set = train_sorted.head(int(len(train_sorted)*(n_head/100)))\n",
    "val_set = train_sorted.tail(int(len(train_sorted)*(n_tail/100))).reset_index()"
   ]
  },
  {
   "cell_type": "code",
   "execution_count": 7,
   "metadata": {},
   "outputs": [],
   "source": [
    "train['reply_bool'] = train.reply_timestamp.fillna(0)\n",
    "train.loc[train.reply_bool != 0.0, 'reply_bool'] = 1.0"
   ]
  },
  {
   "cell_type": "code",
   "execution_count": 5,
   "metadata": {},
   "outputs": [
    {
     "name": "stderr",
     "output_type": "stream",
     "text": [
      "/home/ubuntu/anaconda3/lib/python3.7/site-packages/ipykernel_launcher.py:1: SettingWithCopyWarning: \n",
      "A value is trying to be set on a copy of a slice from a DataFrame.\n",
      "Try using .loc[row_indexer,col_indexer] = value instead\n",
      "\n",
      "See the caveats in the documentation: https://pandas.pydata.org/pandas-docs/stable/user_guide/indexing.html#returning-a-view-versus-a-copy\n",
      "  \"\"\"Entry point for launching an IPython kernel.\n",
      "/home/ubuntu/anaconda3/lib/python3.7/site-packages/pandas/core/indexing.py:965: SettingWithCopyWarning: \n",
      "A value is trying to be set on a copy of a slice from a DataFrame.\n",
      "Try using .loc[row_indexer,col_indexer] = value instead\n",
      "\n",
      "See the caveats in the documentation: https://pandas.pydata.org/pandas-docs/stable/user_guide/indexing.html#returning-a-view-versus-a-copy\n",
      "  self.obj[item] = s\n"
     ]
    }
   ],
   "source": [
    "train_set['reply_bool'] = train_set.reply_timestamp.fillna(0)\n",
    "train_set.loc[train_set.reply_bool != 0.0, 'reply_bool'] = 1.0"
   ]
  },
  {
   "cell_type": "code",
   "execution_count": 6,
   "metadata": {},
   "outputs": [],
   "source": [
    "val_set['reply_bool'] = val_set.reply_timestamp.fillna(0)\n",
    "val_set.loc[val_set.reply_bool != 0.0, 'reply_bool'] = 1.0"
   ]
  },
  {
   "cell_type": "code",
   "execution_count": 11,
   "metadata": {},
   "outputs": [
    {
     "data": {
      "text/html": [
       "<div>\n",
       "<style scoped>\n",
       "    .dataframe tbody tr th:only-of-type {\n",
       "        vertical-align: middle;\n",
       "    }\n",
       "\n",
       "    .dataframe tbody tr th {\n",
       "        vertical-align: top;\n",
       "    }\n",
       "\n",
       "    .dataframe thead th {\n",
       "        text-align: right;\n",
       "    }\n",
       "</style>\n",
       "<table border=\"1\" class=\"dataframe\">\n",
       "  <thead>\n",
       "    <tr style=\"text-align: right;\">\n",
       "      <th></th>\n",
       "      <th>level_0</th>\n",
       "      <th>index</th>\n",
       "      <th>Language</th>\n",
       "      <th>tweet_timestamp</th>\n",
       "      <th>enaged_with_user_id</th>\n",
       "      <th>engaging_user_id</th>\n",
       "      <th>engagee_follows_engager</th>\n",
       "      <th>reply_timestamp</th>\n",
       "      <th>reply_bool</th>\n",
       "    </tr>\n",
       "  </thead>\n",
       "  <tbody>\n",
       "    <tr>\n",
       "      <th>0</th>\n",
       "      <td>133267715</td>\n",
       "      <td>11908278</td>\n",
       "      <td>125C57F4FA6D4E110983FB11B52EFD4E</td>\n",
       "      <td>1581486678</td>\n",
       "      <td>D75AAE3CCFA44BD84C35942CA4D03E56</td>\n",
       "      <td>A4B1828B571271073C68DA93D1465484</td>\n",
       "      <td>False</td>\n",
       "      <td>NaN</td>\n",
       "      <td>0.0</td>\n",
       "    </tr>\n",
       "    <tr>\n",
       "      <th>1</th>\n",
       "      <td>133267716</td>\n",
       "      <td>54640167</td>\n",
       "      <td>125C57F4FA6D4E110983FB11B52EFD4E</td>\n",
       "      <td>1581486678</td>\n",
       "      <td>C7677DF4D001A22F3B969B2ABAB1C179</td>\n",
       "      <td>F3A4C8EB81ADF3685E8F693037808A2C</td>\n",
       "      <td>False</td>\n",
       "      <td>NaN</td>\n",
       "      <td>0.0</td>\n",
       "    </tr>\n",
       "    <tr>\n",
       "      <th>2</th>\n",
       "      <td>133267717</td>\n",
       "      <td>102671906</td>\n",
       "      <td>D3164C7FBCF2565DDF915B1B3AEFB1DC</td>\n",
       "      <td>1581486678</td>\n",
       "      <td>46AA727F36DE4EC3CAD7AC2C312421C3</td>\n",
       "      <td>8BD011AB59AC04491687749245009C60</td>\n",
       "      <td>True</td>\n",
       "      <td>NaN</td>\n",
       "      <td>0.0</td>\n",
       "    </tr>\n",
       "    <tr>\n",
       "      <th>3</th>\n",
       "      <td>133267718</td>\n",
       "      <td>54937609</td>\n",
       "      <td>975B38F44D65EE42A547283787FF5A21</td>\n",
       "      <td>1581486678</td>\n",
       "      <td>258600B339EB2CBB1006073A145B9CFC</td>\n",
       "      <td>F7BFBA56274FCBBBB76BDD36D0D6495B</td>\n",
       "      <td>True</td>\n",
       "      <td>NaN</td>\n",
       "      <td>0.0</td>\n",
       "    </tr>\n",
       "    <tr>\n",
       "      <th>4</th>\n",
       "      <td>133267719</td>\n",
       "      <td>38246969</td>\n",
       "      <td>125C57F4FA6D4E110983FB11B52EFD4E</td>\n",
       "      <td>1581486678</td>\n",
       "      <td>3CE0AF4B64BC1FA67EFA4E98B38CDF08</td>\n",
       "      <td>10F6E035959B9AC156CED11E0FAED566</td>\n",
       "      <td>False</td>\n",
       "      <td>NaN</td>\n",
       "      <td>0.0</td>\n",
       "    </tr>\n",
       "    <tr>\n",
       "      <th>...</th>\n",
       "      <td>...</td>\n",
       "      <td>...</td>\n",
       "      <td>...</td>\n",
       "      <td>...</td>\n",
       "      <td>...</td>\n",
       "      <td>...</td>\n",
       "      <td>...</td>\n",
       "      <td>...</td>\n",
       "      <td>...</td>\n",
       "    </tr>\n",
       "    <tr>\n",
       "      <th>14807518</th>\n",
       "      <td>148075233</td>\n",
       "      <td>11678309</td>\n",
       "      <td>22C448FF81263D4BAF2A176145EE9EAD</td>\n",
       "      <td>1581551999</td>\n",
       "      <td>63A88B9A7264F35CBFE2C9DFFB428F36</td>\n",
       "      <td>A18266F8C443499B212E666BD19536B7</td>\n",
       "      <td>False</td>\n",
       "      <td>NaN</td>\n",
       "      <td>0.0</td>\n",
       "    </tr>\n",
       "    <tr>\n",
       "      <th>14807519</th>\n",
       "      <td>148075234</td>\n",
       "      <td>38584247</td>\n",
       "      <td>ECED8A16BE2A5E8871FD55F4842F16B1</td>\n",
       "      <td>1581551999</td>\n",
       "      <td>BCDC7E16708AC5B155BA52460DFF687F</td>\n",
       "      <td>159C36A1D94F654C5BC48F40D0D76AF9</td>\n",
       "      <td>False</td>\n",
       "      <td>NaN</td>\n",
       "      <td>0.0</td>\n",
       "    </tr>\n",
       "    <tr>\n",
       "      <th>14807520</th>\n",
       "      <td>148075235</td>\n",
       "      <td>55912866</td>\n",
       "      <td>22C448FF81263D4BAF2A176145EE9EAD</td>\n",
       "      <td>1581551999</td>\n",
       "      <td>63A88B9A7264F35CBFE2C9DFFB428F36</td>\n",
       "      <td>053D77B11E4B8D6A514715BDA396295D</td>\n",
       "      <td>False</td>\n",
       "      <td>NaN</td>\n",
       "      <td>0.0</td>\n",
       "    </tr>\n",
       "    <tr>\n",
       "      <th>14807521</th>\n",
       "      <td>148075236</td>\n",
       "      <td>124669351</td>\n",
       "      <td>22C448FF81263D4BAF2A176145EE9EAD</td>\n",
       "      <td>1581551999</td>\n",
       "      <td>63A88B9A7264F35CBFE2C9DFFB428F36</td>\n",
       "      <td>BC210F06D8397A7C4CD396152136F10C</td>\n",
       "      <td>False</td>\n",
       "      <td>NaN</td>\n",
       "      <td>0.0</td>\n",
       "    </tr>\n",
       "    <tr>\n",
       "      <th>14807522</th>\n",
       "      <td>148075237</td>\n",
       "      <td>97189266</td>\n",
       "      <td>ECED8A16BE2A5E8871FD55F4842F16B1</td>\n",
       "      <td>1581551999</td>\n",
       "      <td>BCDC7E16708AC5B155BA52460DFF687F</td>\n",
       "      <td>3FFE79977CB6DF95E310B5FDCAA96B53</td>\n",
       "      <td>False</td>\n",
       "      <td>NaN</td>\n",
       "      <td>0.0</td>\n",
       "    </tr>\n",
       "  </tbody>\n",
       "</table>\n",
       "<p>14807523 rows × 9 columns</p>\n",
       "</div>"
      ],
      "text/plain": [
       "            level_0      index                          Language  \\\n",
       "0         133267715   11908278  125C57F4FA6D4E110983FB11B52EFD4E   \n",
       "1         133267716   54640167  125C57F4FA6D4E110983FB11B52EFD4E   \n",
       "2         133267717  102671906  D3164C7FBCF2565DDF915B1B3AEFB1DC   \n",
       "3         133267718   54937609  975B38F44D65EE42A547283787FF5A21   \n",
       "4         133267719   38246969  125C57F4FA6D4E110983FB11B52EFD4E   \n",
       "...             ...        ...                               ...   \n",
       "14807518  148075233   11678309  22C448FF81263D4BAF2A176145EE9EAD   \n",
       "14807519  148075234   38584247  ECED8A16BE2A5E8871FD55F4842F16B1   \n",
       "14807520  148075235   55912866  22C448FF81263D4BAF2A176145EE9EAD   \n",
       "14807521  148075236  124669351  22C448FF81263D4BAF2A176145EE9EAD   \n",
       "14807522  148075237   97189266  ECED8A16BE2A5E8871FD55F4842F16B1   \n",
       "\n",
       "          tweet_timestamp               enaged_with_user_id  \\\n",
       "0              1581486678  D75AAE3CCFA44BD84C35942CA4D03E56   \n",
       "1              1581486678  C7677DF4D001A22F3B969B2ABAB1C179   \n",
       "2              1581486678  46AA727F36DE4EC3CAD7AC2C312421C3   \n",
       "3              1581486678  258600B339EB2CBB1006073A145B9CFC   \n",
       "4              1581486678  3CE0AF4B64BC1FA67EFA4E98B38CDF08   \n",
       "...                   ...                               ...   \n",
       "14807518       1581551999  63A88B9A7264F35CBFE2C9DFFB428F36   \n",
       "14807519       1581551999  BCDC7E16708AC5B155BA52460DFF687F   \n",
       "14807520       1581551999  63A88B9A7264F35CBFE2C9DFFB428F36   \n",
       "14807521       1581551999  63A88B9A7264F35CBFE2C9DFFB428F36   \n",
       "14807522       1581551999  BCDC7E16708AC5B155BA52460DFF687F   \n",
       "\n",
       "                          engaging_user_id  engagee_follows_engager  \\\n",
       "0         A4B1828B571271073C68DA93D1465484                    False   \n",
       "1         F3A4C8EB81ADF3685E8F693037808A2C                    False   \n",
       "2         8BD011AB59AC04491687749245009C60                     True   \n",
       "3         F7BFBA56274FCBBBB76BDD36D0D6495B                     True   \n",
       "4         10F6E035959B9AC156CED11E0FAED566                    False   \n",
       "...                                    ...                      ...   \n",
       "14807518  A18266F8C443499B212E666BD19536B7                    False   \n",
       "14807519  159C36A1D94F654C5BC48F40D0D76AF9                    False   \n",
       "14807520  053D77B11E4B8D6A514715BDA396295D                    False   \n",
       "14807521  BC210F06D8397A7C4CD396152136F10C                    False   \n",
       "14807522  3FFE79977CB6DF95E310B5FDCAA96B53                    False   \n",
       "\n",
       "          reply_timestamp  reply_bool  \n",
       "0                     NaN         0.0  \n",
       "1                     NaN         0.0  \n",
       "2                     NaN         0.0  \n",
       "3                     NaN         0.0  \n",
       "4                     NaN         0.0  \n",
       "...                   ...         ...  \n",
       "14807518              NaN         0.0  \n",
       "14807519              NaN         0.0  \n",
       "14807520              NaN         0.0  \n",
       "14807521              NaN         0.0  \n",
       "14807522              NaN         0.0  \n",
       "\n",
       "[14807523 rows x 9 columns]"
      ]
     },
     "execution_count": 11,
     "metadata": {},
     "output_type": "execute_result"
    }
   ],
   "source": [
    "val_set"
   ]
  },
  {
   "cell_type": "code",
   "execution_count": 12,
   "metadata": {},
   "outputs": [],
   "source": [
    "train[['Language', 'enaged_with_user_id', 'engaging_user_id', 'engagee_follows_engager', 'reply_bool']].to_csv('data/train.csv', index = False, sep = '\\t')"
   ]
  },
  {
   "cell_type": "code",
   "execution_count": 13,
   "metadata": {},
   "outputs": [],
   "source": [
    "train_set[['Language', 'enaged_with_user_id', 'engaging_user_id', 'engagee_follows_engager', 'reply_bool']].to_csv('data/train_set.csv', index = False, sep = '\\t')"
   ]
  },
  {
   "cell_type": "code",
   "execution_count": 14,
   "metadata": {},
   "outputs": [],
   "source": [
    "val_set[['Language', 'enaged_with_user_id', 'engaging_user_id', 'engagee_follows_engager', 'reply_bool']].to_csv('data/val_set.csv', index = False, sep = '\\t')"
   ]
  },
  {
   "cell_type": "code",
   "execution_count": 3,
   "metadata": {},
   "outputs": [],
   "source": [
    "all_features = [\"Language\", \"tweet_timestamp\", \"enaged_with_user_id\", \"engaging_user_id\", \"engagee_follows_engager\",\\\n",
    "                \"reply_timestamp\"]\n",
    "\n",
    "test = pd.read_csv(\"s3://recsys-challenge-2020/val.tsv\", encoding=\"utf-8\",\n",
    "                    names = all_features, usecols= [7, 8, 9, 14, 19, 20], sep=\"\\x01\")\n",
    "test['reply_bool'] = test.reply_timestamp.fillna(0)\n",
    "test.loc[test.reply_bool != 0.0, 'reply_bool'] = 1.0\n",
    "test[['Language', 'enaged_with_user_id', 'engaging_user_id', 'engagee_follows_engager', 'reply_bool']].to_csv('data/test.csv', index = False, sep = '\\t')"
   ]
  },
  {
   "cell_type": "code",
   "execution_count": 10,
   "metadata": {},
   "outputs": [],
   "source": [
    "mask = (test.reply_bool == 0.0)"
   ]
  },
  {
   "cell_type": "code",
   "execution_count": 11,
   "metadata": {},
   "outputs": [
    {
     "data": {
      "text/plain": [
       "15127684"
      ]
     },
     "execution_count": 11,
     "metadata": {},
     "output_type": "execute_result"
    }
   ],
   "source": [
    "len(test[mask])"
   ]
  },
  {
   "cell_type": "code",
   "execution_count": 12,
   "metadata": {},
   "outputs": [
    {
     "data": {
      "text/plain": [
       "15127684"
      ]
     },
     "execution_count": 12,
     "metadata": {},
     "output_type": "execute_result"
    }
   ],
   "source": [
    "len(test)"
   ]
  },
  {
   "cell_type": "markdown",
   "metadata": {},
   "source": [
    "### Just write the Target for reply"
   ]
  },
  {
   "cell_type": "code",
   "execution_count": 2,
   "metadata": {},
   "outputs": [],
   "source": [
    "import pandas as pd\n",
    "import s3fs\n",
    "import boto3\n",
    "from io import StringIO # python3; python2: BytesIO \n",
    "import numpy as np\n",
    "import re\n",
    "from nltk.tokenize import wordpunct_tokenize\n",
    "from nltk.tokenize import RegexpTokenizer"
   ]
  },
  {
   "cell_type": "code",
   "execution_count": 5,
   "metadata": {},
   "outputs": [
    {
     "name": "stderr",
     "output_type": "stream",
     "text": [
      "/home/ubuntu/anaconda3/lib/python3.7/site-packages/ipykernel_launcher.py:12: SettingWithCopyWarning: \n",
      "A value is trying to be set on a copy of a slice from a DataFrame.\n",
      "Try using .loc[row_indexer,col_indexer] = value instead\n",
      "\n",
      "See the caveats in the documentation: https://pandas.pydata.org/pandas-docs/stable/user_guide/indexing.html#returning-a-view-versus-a-copy\n",
      "  if sys.path[0] == '':\n",
      "/home/ubuntu/anaconda3/lib/python3.7/site-packages/pandas/core/indexing.py:965: SettingWithCopyWarning: \n",
      "A value is trying to be set on a copy of a slice from a DataFrame.\n",
      "Try using .loc[row_indexer,col_indexer] = value instead\n",
      "\n",
      "See the caveats in the documentation: https://pandas.pydata.org/pandas-docs/stable/user_guide/indexing.html#returning-a-view-versus-a-copy\n",
      "  self.obj[item] = s\n"
     ]
    }
   ],
   "source": [
    "all_features = [\"tweet_timestamp\", \"reply_timestamp\"]\n",
    "\n",
    "train = pd.read_csv(\"s3://recsys-challenge-2020/training.tsv\", encoding=\"utf-8\",\n",
    "                    names = all_features, usecols= [8, 20], sep=\"\\x01\")\n",
    "\n",
    "train_sorted = train.sort_values(by=['tweet_timestamp']).reset_index()\n",
    "n_head = 90\n",
    "n_tail = 10\n",
    "train_set = train_sorted.head(int(len(train_sorted)*(n_head/100)))\n",
    "val_set = train_sorted.tail(int(len(train_sorted)*(n_tail/100))).reset_index()\n",
    "\n",
    "train_set['reply_bool'] = train_set.reply_timestamp.fillna(0)\n",
    "train_set.loc[train_set.reply_bool != 0.0, 'reply_bool'] = 1.0\n",
    "val_set['reply_bool'] = val_set.reply_timestamp.fillna(0)\n",
    "val_set.loc[val_set.reply_bool != 0.0, 'reply_bool'] = 1.0"
   ]
  },
  {
   "cell_type": "code",
   "execution_count": 6,
   "metadata": {},
   "outputs": [],
   "source": [
    "train_set[['reply_bool']].\\\n",
    "to_csv('/home/ubuntu/recsys_challenge_2020/classification_type_models/f1/reply/train_set_target.csv',\\\n",
    "       index = False, header = False)"
   ]
  },
  {
   "cell_type": "code",
   "execution_count": 7,
   "metadata": {},
   "outputs": [],
   "source": [
    "val_set[['reply_bool']].\\\n",
    "to_csv('/home/ubuntu/recsys_challenge_2020/classification_type_models/f1/reply/val_set_target.csv',\\\n",
    "       index = False, header = False)"
   ]
  }
 ],
 "metadata": {
  "kernelspec": {
   "display_name": "Python 3",
   "language": "python",
   "name": "python3"
  },
  "language_info": {
   "codemirror_mode": {
    "name": "ipython",
    "version": 3
   },
   "file_extension": ".py",
   "mimetype": "text/x-python",
   "name": "python",
   "nbconvert_exporter": "python",
   "pygments_lexer": "ipython3",
   "version": "3.7.6"
  }
 },
 "nbformat": 4,
 "nbformat_minor": 4
}
