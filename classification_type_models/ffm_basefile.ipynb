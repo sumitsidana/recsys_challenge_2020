{
 "cells": [
  {
   "cell_type": "code",
   "execution_count": 2,
   "metadata": {},
   "outputs": [],
   "source": [
    "import pandas as pd"
   ]
  },
  {
   "cell_type": "code",
   "execution_count": 2,
   "metadata": {},
   "outputs": [],
   "source": [
    "test = pd.read_csv('/home/ubuntu/recsys_challenge_2020/classification_type_models/ft_embedding_based_features/fm/base_test_extended.csv'\\\n",
    "                  , sep = ' ', header = None)\n",
    "# train = pd.read_csv(\"s3://recsys-challenge-2020/training.tsv\", encoding=\"utf-8\",\n",
    "#                     names = all_features, usecols= [1, 6, 7, 8, 9, 10, 11, 12, 14, 15, 16, 17, 19, 23], sep=\"\\x01\")"
   ]
  },
  {
   "cell_type": "code",
   "execution_count": 7,
   "metadata": {},
   "outputs": [],
   "source": [
    "val = pd.read_csv('/home/ubuntu/recsys_challenge_2020/classification_type_models/f2/f3/val_set.libfm'\\\n",
    "                  , sep = ' ', header = None, usecols= [1,2,3])"
   ]
  },
  {
   "cell_type": "code",
   "execution_count": 3,
   "metadata": {},
   "outputs": [],
   "source": [
    "train = pd.read_csv('/home/ubuntu/recsys_challenge_2020/classification_type_models/f2/f3/train_set.libfm'\\\n",
    "                  , sep = ' ', header = None, usecols= [1,2,3])"
   ]
  },
  {
   "cell_type": "code",
   "execution_count": 4,
   "metadata": {},
   "outputs": [
    {
     "data": {
      "text/html": [
       "<div>\n",
       "<style scoped>\n",
       "    .dataframe tbody tr th:only-of-type {\n",
       "        vertical-align: middle;\n",
       "    }\n",
       "\n",
       "    .dataframe tbody tr th {\n",
       "        vertical-align: top;\n",
       "    }\n",
       "\n",
       "    .dataframe thead th {\n",
       "        text-align: right;\n",
       "    }\n",
       "</style>\n",
       "<table border=\"1\" class=\"dataframe\">\n",
       "  <thead>\n",
       "    <tr style=\"text-align: right;\">\n",
       "      <th></th>\n",
       "      <th>0</th>\n",
       "      <th>1</th>\n",
       "    </tr>\n",
       "  </thead>\n",
       "  <tbody>\n",
       "    <tr>\n",
       "      <th>0</th>\n",
       "      <td>671752:1</td>\n",
       "      <td>3:1</td>\n",
       "    </tr>\n",
       "    <tr>\n",
       "      <th>1</th>\n",
       "      <td>17572286:1</td>\n",
       "      <td>3:1</td>\n",
       "    </tr>\n",
       "    <tr>\n",
       "      <th>2</th>\n",
       "      <td>9296036:1</td>\n",
       "      <td>3:1</td>\n",
       "    </tr>\n",
       "    <tr>\n",
       "      <th>3</th>\n",
       "      <td>2747005:1</td>\n",
       "      <td>3:1</td>\n",
       "    </tr>\n",
       "    <tr>\n",
       "      <th>4</th>\n",
       "      <td>3469245:1</td>\n",
       "      <td>3:1</td>\n",
       "    </tr>\n",
       "  </tbody>\n",
       "</table>\n",
       "</div>"
      ],
      "text/plain": [
       "            0    1\n",
       "0    671752:1  3:1\n",
       "1  17572286:1  3:1\n",
       "2   9296036:1  3:1\n",
       "3   2747005:1  3:1\n",
       "4   3469245:1  3:1"
      ]
     },
     "execution_count": 4,
     "metadata": {},
     "output_type": "execute_result"
    }
   ],
   "source": [
    "val.head()"
   ]
  },
  {
   "cell_type": "code",
   "execution_count": 13,
   "metadata": {},
   "outputs": [
    {
     "data": {
      "text/plain": [
       "133267714"
      ]
     },
     "execution_count": 13,
     "metadata": {},
     "output_type": "execute_result"
    }
   ],
   "source": [
    "len(train)"
   ]
  },
  {
   "cell_type": "code",
   "execution_count": 10,
   "metadata": {},
   "outputs": [],
   "source": [
    "base_val = pd.DataFrame({col:str(int(col) - 1)+':' for col in val}, index=val.index) + val.astype(str) "
   ]
  },
  {
   "cell_type": "code",
   "execution_count": 4,
   "metadata": {},
   "outputs": [],
   "source": [
    "base_train = pd.DataFrame({col:str(int(col) - 1)+':' for col in train}, index=train.index) + train.astype(str) "
   ]
  },
  {
   "cell_type": "code",
   "execution_count": 5,
   "metadata": {},
   "outputs": [
    {
     "data": {
      "text/html": [
       "<div>\n",
       "<style scoped>\n",
       "    .dataframe tbody tr th:only-of-type {\n",
       "        vertical-align: middle;\n",
       "    }\n",
       "\n",
       "    .dataframe tbody tr th {\n",
       "        vertical-align: top;\n",
       "    }\n",
       "\n",
       "    .dataframe thead th {\n",
       "        text-align: right;\n",
       "    }\n",
       "</style>\n",
       "<table border=\"1\" class=\"dataframe\">\n",
       "  <thead>\n",
       "    <tr style=\"text-align: right;\">\n",
       "      <th></th>\n",
       "      <th>1</th>\n",
       "      <th>2</th>\n",
       "      <th>3</th>\n",
       "    </tr>\n",
       "  </thead>\n",
       "  <tbody>\n",
       "    <tr>\n",
       "      <th>0</th>\n",
       "      <td>0:0:1</td>\n",
       "      <td>1:1:1</td>\n",
       "      <td>2:40578649:0.0</td>\n",
       "    </tr>\n",
       "    <tr>\n",
       "      <th>1</th>\n",
       "      <td>0:2:1</td>\n",
       "      <td>1:3:1</td>\n",
       "      <td>2:40578649:0.0</td>\n",
       "    </tr>\n",
       "    <tr>\n",
       "      <th>2</th>\n",
       "      <td>0:4:1</td>\n",
       "      <td>1:5:1</td>\n",
       "      <td>2:40578649:0.0</td>\n",
       "    </tr>\n",
       "    <tr>\n",
       "      <th>3</th>\n",
       "      <td>0:6:1</td>\n",
       "      <td>1:7:1</td>\n",
       "      <td>2:40578649:0.0</td>\n",
       "    </tr>\n",
       "    <tr>\n",
       "      <th>4</th>\n",
       "      <td>0:8:1</td>\n",
       "      <td>1:9:1</td>\n",
       "      <td>2:40578649:0.0</td>\n",
       "    </tr>\n",
       "  </tbody>\n",
       "</table>\n",
       "</div>"
      ],
      "text/plain": [
       "       1      2               3\n",
       "0  0:0:1  1:1:1  2:40578649:0.0\n",
       "1  0:2:1  1:3:1  2:40578649:0.0\n",
       "2  0:4:1  1:5:1  2:40578649:0.0\n",
       "3  0:6:1  1:7:1  2:40578649:0.0\n",
       "4  0:8:1  1:9:1  2:40578649:0.0"
      ]
     },
     "execution_count": 5,
     "metadata": {},
     "output_type": "execute_result"
    }
   ],
   "source": [
    "base_train.head(\n",
    ")"
   ]
  },
  {
   "cell_type": "code",
   "execution_count": 12,
   "metadata": {},
   "outputs": [],
   "source": [
    "base_val.to_csv('/home/ubuntu/recsys_challenge_2020/classification_type_models/f2/f3/val_set.ffm',\\\n",
    "                index = False, header = False, sep = ' ')"
   ]
  },
  {
   "cell_type": "code",
   "execution_count": 6,
   "metadata": {},
   "outputs": [],
   "source": [
    "base_train.to_csv('/home/ubuntu/recsys_challenge_2020/classification_type_models/f2/f3/train_set.ffm',\\\n",
    "                index = False, header = False, sep = ' ')"
   ]
  },
  {
   "cell_type": "code",
   "execution_count": 2,
   "metadata": {},
   "outputs": [],
   "source": [
    "\n",
    "base_val.to_csv('/home/ubuntu/recsys_challenge_2020/classification_type_models/ft_embedding_based_features/ffm/base_val_set.csv',\\\n",
    "                index = False, header = False, sep = ' ')chunksize = 10 ** 7\n",
    "for chunk in pd.read_csv('/home/ubuntu/recsys_challenge_2020/classification_type_models/ft_embedding_based_features/fm/base_train_extended.csv'\\\n",
    "                  , sep = ' ', header = None\\\n",
    "                 , chunksize=chunksize):\n",
    "    base_chunk = pd.DataFrame({col:str(int(col))+':' for col in chunk}, index=chunk.index) + chunk.astype(str) \n",
    "    base_chunk.to_csv('/home/ubuntu/recsys_challenge_2020/classification_type_models/ft_embedding_based_features/ffm/base_train.csv',\\\n",
    "                index = False, header = False, sep = ' ',  mode='a')"
   ]
  },
  {
   "cell_type": "markdown",
   "metadata": {},
   "source": [
    "### Train and Test FM -> FFM"
   ]
  },
  {
   "cell_type": "code",
   "execution_count": 2,
   "metadata": {},
   "outputs": [],
   "source": [
    "test = pd.read_csv('/home/ubuntu/recsys_challenge_2020/classification_type_models/f1/reply/test_df.csv'\\\n",
    "                  , sep = ' ', header = None\\\n",
    "                 , usecols = [1,2,3,4,5,6,7,8,9,10,11])\n",
    "base_test = pd.DataFrame({col:str(int(col) - 1)+':' for col in test}, index=test.index) + test.astype(str)\n",
    "base_test.to_csv('/home/ubuntu/recsys_challenge_2020/classification_type_models/ffm/f1/base_test.csv',\\\n",
    "                index = False, header = False, sep = ' ')"
   ]
  },
  {
   "cell_type": "code",
   "execution_count": 3,
   "metadata": {},
   "outputs": [],
   "source": [
    "chunksize = 10 ** 7\n",
    "for chunk in pd.read_csv('/home/ubuntu/recsys_challenge_2020/classification_type_models/f1/reply/train_df.csv'\\\n",
    "                  , sep = ' ', header = None\\\n",
    "                 , usecols = [1,2,3,4,5,6,7,8,9,10,11], chunksize=chunksize):\n",
    "    base_chunk = pd.DataFrame({col:str(int(col) - 1)+':' for col in chunk}, index=chunk.index) + chunk.astype(str) \n",
    "    base_chunk.to_csv('/home/ubuntu/recsys_challenge_2020/classification_type_models/ffm/f1/base_train.csv',\\\n",
    "                index = False, header = False, sep = ' ',  mode='a')"
   ]
  }
 ],
 "metadata": {
  "kernelspec": {
   "display_name": "Python 3",
   "language": "python",
   "name": "python3"
  },
  "language_info": {
   "codemirror_mode": {
    "name": "ipython",
    "version": 3
   },
   "file_extension": ".py",
   "mimetype": "text/x-python",
   "name": "python",
   "nbconvert_exporter": "python",
   "pygments_lexer": "ipython3",
   "version": "3.7.6"
  }
 },
 "nbformat": 4,
 "nbformat_minor": 4
}
