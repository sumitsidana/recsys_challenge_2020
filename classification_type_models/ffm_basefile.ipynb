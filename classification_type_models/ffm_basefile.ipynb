{
 "cells": [
  {
   "cell_type": "code",
   "execution_count": null,
   "metadata": {},
   "outputs": [],
   "source": [
    "import pandas as pd"
   ]
  },
  {
   "cell_type": "code",
   "execution_count": null,
   "metadata": {},
   "outputs": [],
   "source": [
    "val = pd.read_csv('/home/ubuntu/recsys_challenge_2020/classification_type_models/f1/reply/val_set.csv.libfm'\\\n",
    "                  , sep = ' ', header = None\\\n",
    "                 , usecols = [1,2,3,4,5,6,7,8,9,10,11])"
   ]
  },
  {
   "cell_type": "code",
   "execution_count": null,
   "metadata": {},
   "outputs": [],
   "source": [
    "val.head()"
   ]
  },
  {
   "cell_type": "code",
   "execution_count": null,
   "metadata": {},
   "outputs": [],
   "source": [
    "base_val = pd.DataFrame({col:str(int(col) - 1)+':' for col in val}, index=val.index) + val.astype(str) "
   ]
  },
  {
   "cell_type": "code",
   "execution_count": null,
   "metadata": {},
   "outputs": [],
   "source": [
    "base_val.to_csv('/home/ubuntu/recsys_challenge_2020/classification_type_models/ffm/f1/base_val.csv',\\\n",
    "                index = False, header = False, sep = ' ')"
   ]
  },
  {
   "cell_type": "code",
   "execution_count": null,
   "metadata": {},
   "outputs": [],
   "source": [
    "train = pd.read_csv('/home/ubuntu/recsys_challenge_2020/classification_type_models/f1/reply/train_set.csv.libfm'\\\n",
    "                  , sep = ' ', header = None\\\n",
    "                 , usecols = [1,2,3,4,5,6,7,8,9,10,11])"
   ]
  },
  {
   "cell_type": "code",
   "execution_count": null,
   "metadata": {},
   "outputs": [],
   "source": [
    "base_train = pd.DataFrame({col:str(int(col) - 1)+':' for col in train}, index=train.index) + train.astype(str) "
   ]
  },
  {
   "cell_type": "code",
   "execution_count": null,
   "metadata": {},
   "outputs": [],
   "source": [
    "base_train.to_csv('/home/ubuntu/recsys_challenge_2020/classification_type_models/ffm/f1/base_train.csv',\\\n",
    "                index = False, header = False, sep = ' ', , mode='a')"
   ]
  },
  {
   "cell_type": "code",
   "execution_count": null,
   "metadata": {},
   "outputs": [],
   "source": [
    "chunksize = 10 ** 7\n",
    "for chunk in pd.read_csv('/home/ubuntu/recsys_challenge_2020/classification_type_models/f1/reply/train_set.csv.libfm'\\\n",
    "                  , sep = ' ', header = None\\\n",
    "                 , usecols = [1,2,3,4,5,6,7,8,9,10,11], chunksize=chunksize):\n",
    "    base_chunk = pd.DataFrame({col:str(int(col) - 1)+':' for col in chunk}, index=chunk.index) + chunk.astype(str) \n",
    "    base_chunk.to_csv('/home/ubuntu/recsys_challenge_2020/classification_type_models/ffm/f1/base_train.csv',\\\n",
    "                index = False, header = False, sep = ' ',  mode='a')"
   ]
  }
 ],
 "metadata": {
  "kernelspec": {
   "display_name": "Python 3",
   "language": "python",
   "name": "python3"
  },
  "language_info": {
   "codemirror_mode": {
    "name": "ipython",
    "version": 3
   },
   "file_extension": ".py",
   "mimetype": "text/x-python",
   "name": "python",
   "nbconvert_exporter": "python",
   "pygments_lexer": "ipython3",
   "version": "3.7.6"
  }
 },
 "nbformat": 4,
 "nbformat_minor": 4
}
