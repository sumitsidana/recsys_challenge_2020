{
 "cells": [
  {
   "cell_type": "code",
   "execution_count": 1,
   "metadata": {},
   "outputs": [],
   "source": [
    "import pandas as pd"
   ]
  },
  {
   "cell_type": "code",
   "execution_count": null,
   "metadata": {},
   "outputs": [],
   "source": [
    "test = pd.read_csv('/home/ubuntu/recsys_challenge_2020/competetion_submission_phase/data/lang_embedd_test.csv'\\\n",
    "                  , sep = ' ', header = None)\n",
    "# train = pd.read_csv(\"s3://recsys-challenge-2020/training.tsv\", encoding=\"utf-8\",\n",
    "#                     names = all_features, usecols= [1, 6, 7, 8, 9, 10, 11, 12, 14, 15, 16, 17, 19, 23], sep=\"\\x01\")"
   ]
  },
  {
   "cell_type": "code",
   "execution_count": null,
   "metadata": {},
   "outputs": [],
   "source": [
    "val = pd.read_csv('/home/ubuntu/recsys_challenge_2020/classification_type_models/f2/ft/val_scratch.csv.libfm'\\\n",
    "                  , sep = ' ', header = None, usecols= [1,2,3])"
   ]
  },
  {
   "cell_type": "code",
   "execution_count": null,
   "metadata": {},
   "outputs": [],
   "source": [
    "train = pd.read_csv('/home/ubuntu/recsys_challenge_2020/competetion_submission_phase/data/lang_embedd_train.csv'\\\n",
    "                  , sep = ' ', header = None)"
   ]
  },
  {
   "cell_type": "code",
   "execution_count": null,
   "metadata": {},
   "outputs": [],
   "source": [
    "test.head()"
   ]
  },
  {
   "cell_type": "code",
   "execution_count": null,
   "metadata": {},
   "outputs": [],
   "source": [
    "len(train)"
   ]
  },
  {
   "cell_type": "code",
   "execution_count": null,
   "metadata": {},
   "outputs": [],
   "source": [
    "base_test = pd.DataFrame({col:str(int(col) + 12)+':' for col in test}, index=test.index) + test.astype(str) "
   ]
  },
  {
   "cell_type": "code",
   "execution_count": null,
   "metadata": {},
   "outputs": [],
   "source": [
    "base_test.head()"
   ]
  },
  {
   "cell_type": "code",
   "execution_count": null,
   "metadata": {},
   "outputs": [],
   "source": [
    "base_train = pd.DataFrame({col:str(int(col) + 12)+':' for col in train}, index=train.index) + train.astype(str) "
   ]
  },
  {
   "cell_type": "code",
   "execution_count": null,
   "metadata": {},
   "outputs": [],
   "source": [
    "base_train.head(\n",
    ")"
   ]
  },
  {
   "cell_type": "code",
   "execution_count": null,
   "metadata": {},
   "outputs": [],
   "source": [
    "base_test.to_csv('/home/ubuntu/recsys_challenge_2020/competetion_submission_phase/data/base_test.ffm',\\\n",
    "                index = False, header = False, sep = ' ')"
   ]
  },
  {
   "cell_type": "code",
   "execution_count": null,
   "metadata": {},
   "outputs": [],
   "source": [
    "base_train.to_csv('/home/ubuntu/recsys_challenge_2020/classification_type_models/f2/ft/train_set.ffm',\\\n",
    "                index = False, header = False, sep = ' ')"
   ]
  },
  {
   "cell_type": "code",
   "execution_count": null,
   "metadata": {},
   "outputs": [],
   "source": [
    "\n",
    "base_val.to_csv('/home/ubuntu/recsys_challenge_2020/classification_type_models/ft_embedding_based_features/ffm/base_val_set.csv',\\\n",
    "                index = False, header = False, sep = ' ')chunksize = 10 ** 7\n",
    "for chunk in pd.read_csv('/home/ubuntu/recsys_challenge_2020/classification_type_models/ft_embedding_based_features/fm/base_train_extended.csv'\\\n",
    "                  , sep = ' ', header = None\\\n",
    "                 , chunksize=chunksize):\n",
    "    base_chunk = pd.DataFrame({col:str(int(col))+':' for col in chunk}, index=chunk.index) + chunk.astype(str) \n",
    "    base_chunk.to_csv('/home/ubuntu/recsys_challenge_2020/classification_type_models/ft_embedding_based_features/ffm/base_train.csv',\\\n",
    "                index = False, header = False, sep = ' ',  mode='a')"
   ]
  },
  {
   "cell_type": "markdown",
   "metadata": {},
   "source": [
    "### Train and Test FM -> FFM"
   ]
  },
  {
   "cell_type": "code",
   "execution_count": null,
   "metadata": {},
   "outputs": [],
   "source": [
    "test = pd.read_csv('/home/ubuntu/recsys_challenge_2020/classification_type_models/f1/reply/test_df.csv'\\\n",
    "                  , sep = ' ', header = None\\\n",
    "                 , usecols = [1,2,3,4,5,6,7,8,9,10,11])\n",
    "base_test = pd.DataFrame({col:str(int(col) - 1)+':' for col in test}, index=test.index) + test.astype(str)\n",
    "base_test.to_csv('/home/ubuntu/recsys_challenge_2020/classification_type_models/ffm/f1/base_test.csv',\\\n",
    "                index = False, header = False, sep = ' ')"
   ]
  },
  {
   "cell_type": "code",
   "execution_count": 2,
   "metadata": {},
   "outputs": [],
   "source": [
    "chunksize = 10 ** 7\n",
    "for chunk in pd.read_csv('/home/ubuntu/recsys_challenge_2020/competetion_submission_phase/data/lang_embedd_train.csv'\\\n",
    "                  , sep = ' ', header = None, chunksize=chunksize):\n",
    "    base_chunk = pd.DataFrame({col:str(int(col) + 12)+':' for col in chunk}, index=chunk.index) + chunk.astype(str) \n",
    "    base_chunk.to_csv('/home/ubuntu/recsys_challenge_2020/competetion_submission_phase/data/base_train.ffm',\\\n",
    "                index = False, header = False, sep = ' ',  mode='a')"
   ]
  }
 ],
 "metadata": {
  "kernelspec": {
   "display_name": "Python 3",
   "language": "python",
   "name": "python3"
  },
  "language_info": {
   "codemirror_mode": {
    "name": "ipython",
    "version": 3
   },
   "file_extension": ".py",
   "mimetype": "text/x-python",
   "name": "python",
   "nbconvert_exporter": "python",
   "pygments_lexer": "ipython3",
   "version": "3.7.6"
  }
 },
 "nbformat": 4,
 "nbformat_minor": 4
}
