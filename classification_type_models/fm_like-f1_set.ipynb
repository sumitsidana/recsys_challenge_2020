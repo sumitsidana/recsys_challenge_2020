{
 "cells": [
  {
   "cell_type": "code",
   "execution_count": 1,
   "metadata": {},
   "outputs": [],
   "source": [
    "import pandas as pd\n",
    "import s3fs\n",
    "import boto3\n",
    "from io import StringIO # python3; python2: BytesIO \n",
    "import numpy as np\n",
    "import re\n",
    "from nltk.tokenize import wordpunct_tokenize\n",
    "from nltk.tokenize import RegexpTokenizer"
   ]
  },
  {
   "cell_type": "code",
   "execution_count": 2,
   "metadata": {},
   "outputs": [],
   "source": [
    "all_features = [\"hashtags\", \"tweet_type\", \"Language\", \"tweet_timestamp\", \"enaged_with_user_id\",\\\n",
    "                \"engaged_with_user_follower_count\", \"engaged_with_user_following_count\", \\\n",
    "                \"engaged_with_user_is_verified\", \"engaging_user_id\", \"enaging_user_follower_count\",\n",
    "                \"enaging_user_following_count\", \"enaging_user_is_verified\", \"engagee_follows_engager\",\\\n",
    "                \"like_timestamp\"]\n",
    "\n",
    "train = pd.read_csv(\"s3://recsys-challenge-2020/training.tsv\", encoding=\"utf-8\",\n",
    "                    names = all_features, usecols= [1, 6, 7, 8, 9, 10, 11, 12, 14, 15, 16, 17, 19, 23], sep=\"\\x01\")\n",
    "\n",
    "# train_sorted = train.sort_values(by=['tweet_timestamp']).reset_index()\n",
    "# n_head = 90\n",
    "# n_tail = 10\n",
    "# train_set = train_sorted.head(int(len(train_sorted)*(n_head/100)))\n",
    "# val_set = train_sorted.tail(int(len(train_sorted)*(n_tail/100))).reset_index()"
   ]
  },
  {
   "cell_type": "code",
   "execution_count": 9,
   "metadata": {},
   "outputs": [],
   "source": [
    "train_1 = train.loc[:, train.columns != 'hashtags']"
   ]
  },
  {
   "cell_type": "code",
   "execution_count": 19,
   "metadata": {},
   "outputs": [],
   "source": [
    "train_subset = train_1.head(10)"
   ]
  },
  {
   "cell_type": "code",
   "execution_count": 25,
   "metadata": {},
   "outputs": [
    {
     "data": {
      "text/plain": [
       "[{'tweet_type': 'TopLevel',\n",
       "  'Language': '22C448FF81263D4BAF2A176145EE9EAD',\n",
       "  'tweet_timestamp': 1581258144,\n",
       "  'enaged_with_user_id': 'D7EFC6D19CFB09B9A1CE4C4B0E0091F6',\n",
       "  'engaged_with_user_follower_count': 3517,\n",
       "  'engaged_with_user_following_count': 590,\n",
       "  'engaged_with_user_is_verified': False,\n",
       "  'engaging_user_id': '0000006C3074607050F1339DDCB890BB',\n",
       "  'enaging_user_follower_count': 27428,\n",
       "  'enaging_user_following_count': 600,\n",
       "  'enaging_user_is_verified': False,\n",
       "  'engagee_follows_engager': False,\n",
       "  'like_timestamp': nan},\n",
       " {'tweet_type': 'TopLevel',\n",
       "  'Language': 'B9175601E87101A984A50F8A62A1C374',\n",
       "  'tweet_timestamp': 1581018910,\n",
       "  'enaged_with_user_id': '1F30A85E612A24B426013978ADB7AE46',\n",
       "  'engaged_with_user_follower_count': 39786,\n",
       "  'engaged_with_user_following_count': 32978,\n",
       "  'engaged_with_user_is_verified': False,\n",
       "  'engaging_user_id': '000005C520010F8917EEAB6F5B6EC1C4',\n",
       "  'enaging_user_follower_count': 17,\n",
       "  'enaging_user_following_count': 77,\n",
       "  'enaging_user_is_verified': False,\n",
       "  'engagee_follows_engager': True,\n",
       "  'like_timestamp': nan},\n",
       " {'tweet_type': 'TopLevel',\n",
       "  'Language': '22C448FF81263D4BAF2A176145EE9EAD',\n",
       "  'tweet_timestamp': 1581244866,\n",
       "  'enaged_with_user_id': '9E1FD934C376903895DEEBCC0F6AB920',\n",
       "  'engaged_with_user_follower_count': 141726,\n",
       "  'engaged_with_user_following_count': 3232,\n",
       "  'engaged_with_user_is_verified': False,\n",
       "  'engaging_user_id': '000006829BEADA9EEA695CF0C334B426',\n",
       "  'enaging_user_follower_count': 2,\n",
       "  'enaging_user_following_count': 29,\n",
       "  'enaging_user_is_verified': False,\n",
       "  'engagee_follows_engager': False,\n",
       "  'like_timestamp': 1581247087.0},\n",
       " {'tweet_type': 'TopLevel',\n",
       "  'Language': '22C448FF81263D4BAF2A176145EE9EAD',\n",
       "  'tweet_timestamp': 1581250124,\n",
       "  'enaged_with_user_id': 'BEB3C337B266E2C4769065AD64724329',\n",
       "  'engaged_with_user_follower_count': 3044,\n",
       "  'engaged_with_user_following_count': 99,\n",
       "  'engaged_with_user_is_verified': False,\n",
       "  'engaging_user_id': '000006829BEADA9EEA695CF0C334B426',\n",
       "  'enaging_user_follower_count': 3,\n",
       "  'enaging_user_following_count': 30,\n",
       "  'enaging_user_is_verified': False,\n",
       "  'engagee_follows_engager': False,\n",
       "  'like_timestamp': nan},\n",
       " {'tweet_type': 'TopLevel',\n",
       "  'Language': '22C448FF81263D4BAF2A176145EE9EAD',\n",
       "  'tweet_timestamp': 1580958805,\n",
       "  'enaged_with_user_id': '9E1FD934C376903895DEEBCC0F6AB920',\n",
       "  'engaged_with_user_follower_count': 141370,\n",
       "  'engaged_with_user_following_count': 3235,\n",
       "  'engaged_with_user_is_verified': False,\n",
       "  'engaging_user_id': '000006829BEADA9EEA695CF0C334B426',\n",
       "  'enaging_user_follower_count': 3,\n",
       "  'enaging_user_following_count': 30,\n",
       "  'enaging_user_is_verified': False,\n",
       "  'engagee_follows_engager': False,\n",
       "  'like_timestamp': nan},\n",
       " {'tweet_type': 'Retweet',\n",
       "  'Language': '22C448FF81263D4BAF2A176145EE9EAD',\n",
       "  'tweet_timestamp': 1581335128,\n",
       "  'enaged_with_user_id': 'E4CF13FFB0C7B8AC747476D57543C413',\n",
       "  'engaged_with_user_follower_count': 3264,\n",
       "  'engaged_with_user_following_count': 39,\n",
       "  'engaged_with_user_is_verified': False,\n",
       "  'engaging_user_id': '000006829BEADA9EEA695CF0C334B426',\n",
       "  'enaging_user_follower_count': 3,\n",
       "  'enaging_user_following_count': 29,\n",
       "  'enaging_user_is_verified': False,\n",
       "  'engagee_follows_engager': False,\n",
       "  'like_timestamp': nan},\n",
       " {'tweet_type': 'TopLevel',\n",
       "  'Language': '22C448FF81263D4BAF2A176145EE9EAD',\n",
       "  'tweet_timestamp': 1581089493,\n",
       "  'enaged_with_user_id': 'D2D3B14476E8A5A33EC6435805B4B675',\n",
       "  'engaged_with_user_follower_count': 18133,\n",
       "  'engaged_with_user_following_count': 177,\n",
       "  'engaged_with_user_is_verified': False,\n",
       "  'engaging_user_id': '00000776B07587ECA9717BFC301F2D6E',\n",
       "  'enaging_user_follower_count': 94,\n",
       "  'enaging_user_following_count': 650,\n",
       "  'enaging_user_is_verified': False,\n",
       "  'engagee_follows_engager': False,\n",
       "  'like_timestamp': nan},\n",
       " {'tweet_type': 'TopLevel',\n",
       "  'Language': 'ECED8A16BE2A5E8871FD55F4842F16B1',\n",
       "  'tweet_timestamp': 1581295589,\n",
       "  'enaged_with_user_id': '6DCC8D7CDE39AF4BA022CFE8F1436656',\n",
       "  'engaged_with_user_follower_count': 320,\n",
       "  'engaged_with_user_following_count': 319,\n",
       "  'engaged_with_user_is_verified': False,\n",
       "  'engaging_user_id': '00000860E80C67D8C46CE57C64DE9444',\n",
       "  'enaging_user_follower_count': 225,\n",
       "  'enaging_user_following_count': 185,\n",
       "  'enaging_user_is_verified': False,\n",
       "  'engagee_follows_engager': True,\n",
       "  'like_timestamp': 1581295680.0},\n",
       " {'tweet_type': 'TopLevel',\n",
       "  'Language': 'ECED8A16BE2A5E8871FD55F4842F16B1',\n",
       "  'tweet_timestamp': 1581293851,\n",
       "  'enaged_with_user_id': 'FE036351A95ABC3827A499067C340755',\n",
       "  'engaged_with_user_follower_count': 6099673,\n",
       "  'engaged_with_user_following_count': 755,\n",
       "  'engaged_with_user_is_verified': True,\n",
       "  'engaging_user_id': '00000860E80C67D8C46CE57C64DE9444',\n",
       "  'enaging_user_follower_count': 222,\n",
       "  'enaging_user_following_count': 184,\n",
       "  'enaging_user_is_verified': False,\n",
       "  'engagee_follows_engager': False,\n",
       "  'like_timestamp': nan},\n",
       " {'tweet_type': 'Retweet',\n",
       "  'Language': 'ECED8A16BE2A5E8871FD55F4842F16B1',\n",
       "  'tweet_timestamp': 1581002124,\n",
       "  'enaged_with_user_id': '46E6134373F19D742F24D6E72FC74360',\n",
       "  'engaged_with_user_follower_count': 440,\n",
       "  'engaged_with_user_following_count': 412,\n",
       "  'engaged_with_user_is_verified': False,\n",
       "  'engaging_user_id': '00000860E80C67D8C46CE57C64DE9444',\n",
       "  'enaging_user_follower_count': 225,\n",
       "  'enaging_user_following_count': 185,\n",
       "  'enaging_user_is_verified': False,\n",
       "  'engagee_follows_engager': True,\n",
       "  'like_timestamp': 1581008919.0}]"
      ]
     },
     "execution_count": 25,
     "metadata": {},
     "output_type": "execute_result"
    }
   ],
   "source": [
    "train_subset.to_dict(orient='records')"
   ]
  },
  {
   "cell_type": "code",
   "execution_count": 18,
   "metadata": {},
   "outputs": [
    {
     "data": {
      "text/plain": [
       "dict"
      ]
     },
     "execution_count": 18,
     "metadata": {},
     "output_type": "execute_result"
    }
   ],
   "source": [
    ">>> from sklearn.feature_extraction import FeatureHasher\n",
    ">>> h = FeatureHasher(n_features=10)\n",
    ">>> D = [{'dog': 1, 'cat':2, 'elephant':4},{'dog': 2, 'run': 5}]\n",
    ">>> f = h.transform(D)\n",
    ">>> f.toarray()D[0]"
   ]
  },
  {
   "cell_type": "code",
   "execution_count": 28,
   "metadata": {},
   "outputs": [
    {
     "data": {
      "text/plain": [
       "tweet_type                            object\n",
       "Language                              object\n",
       "tweet_timestamp                        int64\n",
       "enaged_with_user_id                   object\n",
       "engaged_with_user_follower_count       int64\n",
       "engaged_with_user_following_count      int64\n",
       "engaged_with_user_is_verified           bool\n",
       "engaging_user_id                      object\n",
       "enaging_user_follower_count            int64\n",
       "enaging_user_following_count           int64\n",
       "enaging_user_is_verified                bool\n",
       "engagee_follows_engager                 bool\n",
       "like_timestamp                       float64\n",
       "dtype: object"
      ]
     },
     "execution_count": 28,
     "metadata": {},
     "output_type": "execute_result"
    }
   ],
   "source": [
    "train_1.dtypes"
   ]
  },
  {
   "cell_type": "code",
   "execution_count": 32,
   "metadata": {},
   "outputs": [],
   "source": [
    "h = FeatureHasher(input_type = 'string')"
   ]
  },
  {
   "cell_type": "code",
   "execution_count": 21,
   "metadata": {},
   "outputs": [
    {
     "data": {
      "text/html": [
       "<div>\n",
       "<style scoped>\n",
       "    .dataframe tbody tr th:only-of-type {\n",
       "        vertical-align: middle;\n",
       "    }\n",
       "\n",
       "    .dataframe tbody tr th {\n",
       "        vertical-align: top;\n",
       "    }\n",
       "\n",
       "    .dataframe thead th {\n",
       "        text-align: right;\n",
       "    }\n",
       "</style>\n",
       "<table border=\"1\" class=\"dataframe\">\n",
       "  <thead>\n",
       "    <tr style=\"text-align: right;\">\n",
       "      <th></th>\n",
       "      <th>tweet_type</th>\n",
       "      <th>Language</th>\n",
       "      <th>tweet_timestamp</th>\n",
       "      <th>enaged_with_user_id</th>\n",
       "      <th>engaged_with_user_follower_count</th>\n",
       "      <th>engaged_with_user_following_count</th>\n",
       "      <th>engaged_with_user_is_verified</th>\n",
       "      <th>engaging_user_id</th>\n",
       "      <th>enaging_user_follower_count</th>\n",
       "      <th>enaging_user_following_count</th>\n",
       "      <th>enaging_user_is_verified</th>\n",
       "      <th>engagee_follows_engager</th>\n",
       "      <th>like_timestamp</th>\n",
       "    </tr>\n",
       "  </thead>\n",
       "  <tbody>\n",
       "    <tr>\n",
       "      <th>0</th>\n",
       "      <td>TopLevel</td>\n",
       "      <td>22C448FF81263D4BAF2A176145EE9EAD</td>\n",
       "      <td>1581258144</td>\n",
       "      <td>D7EFC6D19CFB09B9A1CE4C4B0E0091F6</td>\n",
       "      <td>3517</td>\n",
       "      <td>590</td>\n",
       "      <td>False</td>\n",
       "      <td>0000006C3074607050F1339DDCB890BB</td>\n",
       "      <td>27428</td>\n",
       "      <td>600</td>\n",
       "      <td>False</td>\n",
       "      <td>False</td>\n",
       "      <td>NaN</td>\n",
       "    </tr>\n",
       "    <tr>\n",
       "      <th>1</th>\n",
       "      <td>TopLevel</td>\n",
       "      <td>B9175601E87101A984A50F8A62A1C374</td>\n",
       "      <td>1581018910</td>\n",
       "      <td>1F30A85E612A24B426013978ADB7AE46</td>\n",
       "      <td>39786</td>\n",
       "      <td>32978</td>\n",
       "      <td>False</td>\n",
       "      <td>000005C520010F8917EEAB6F5B6EC1C4</td>\n",
       "      <td>17</td>\n",
       "      <td>77</td>\n",
       "      <td>False</td>\n",
       "      <td>True</td>\n",
       "      <td>NaN</td>\n",
       "    </tr>\n",
       "    <tr>\n",
       "      <th>2</th>\n",
       "      <td>TopLevel</td>\n",
       "      <td>22C448FF81263D4BAF2A176145EE9EAD</td>\n",
       "      <td>1581244866</td>\n",
       "      <td>9E1FD934C376903895DEEBCC0F6AB920</td>\n",
       "      <td>141726</td>\n",
       "      <td>3232</td>\n",
       "      <td>False</td>\n",
       "      <td>000006829BEADA9EEA695CF0C334B426</td>\n",
       "      <td>2</td>\n",
       "      <td>29</td>\n",
       "      <td>False</td>\n",
       "      <td>False</td>\n",
       "      <td>1.581247e+09</td>\n",
       "    </tr>\n",
       "    <tr>\n",
       "      <th>3</th>\n",
       "      <td>TopLevel</td>\n",
       "      <td>22C448FF81263D4BAF2A176145EE9EAD</td>\n",
       "      <td>1581250124</td>\n",
       "      <td>BEB3C337B266E2C4769065AD64724329</td>\n",
       "      <td>3044</td>\n",
       "      <td>99</td>\n",
       "      <td>False</td>\n",
       "      <td>000006829BEADA9EEA695CF0C334B426</td>\n",
       "      <td>3</td>\n",
       "      <td>30</td>\n",
       "      <td>False</td>\n",
       "      <td>False</td>\n",
       "      <td>NaN</td>\n",
       "    </tr>\n",
       "    <tr>\n",
       "      <th>4</th>\n",
       "      <td>TopLevel</td>\n",
       "      <td>22C448FF81263D4BAF2A176145EE9EAD</td>\n",
       "      <td>1580958805</td>\n",
       "      <td>9E1FD934C376903895DEEBCC0F6AB920</td>\n",
       "      <td>141370</td>\n",
       "      <td>3235</td>\n",
       "      <td>False</td>\n",
       "      <td>000006829BEADA9EEA695CF0C334B426</td>\n",
       "      <td>3</td>\n",
       "      <td>30</td>\n",
       "      <td>False</td>\n",
       "      <td>False</td>\n",
       "      <td>NaN</td>\n",
       "    </tr>\n",
       "  </tbody>\n",
       "</table>\n",
       "</div>"
      ],
      "text/plain": [
       "  tweet_type                          Language  tweet_timestamp  \\\n",
       "0   TopLevel  22C448FF81263D4BAF2A176145EE9EAD       1581258144   \n",
       "1   TopLevel  B9175601E87101A984A50F8A62A1C374       1581018910   \n",
       "2   TopLevel  22C448FF81263D4BAF2A176145EE9EAD       1581244866   \n",
       "3   TopLevel  22C448FF81263D4BAF2A176145EE9EAD       1581250124   \n",
       "4   TopLevel  22C448FF81263D4BAF2A176145EE9EAD       1580958805   \n",
       "\n",
       "                enaged_with_user_id  engaged_with_user_follower_count  \\\n",
       "0  D7EFC6D19CFB09B9A1CE4C4B0E0091F6                              3517   \n",
       "1  1F30A85E612A24B426013978ADB7AE46                             39786   \n",
       "2  9E1FD934C376903895DEEBCC0F6AB920                            141726   \n",
       "3  BEB3C337B266E2C4769065AD64724329                              3044   \n",
       "4  9E1FD934C376903895DEEBCC0F6AB920                            141370   \n",
       "\n",
       "   engaged_with_user_following_count  engaged_with_user_is_verified  \\\n",
       "0                                590                          False   \n",
       "1                              32978                          False   \n",
       "2                               3232                          False   \n",
       "3                                 99                          False   \n",
       "4                               3235                          False   \n",
       "\n",
       "                   engaging_user_id  enaging_user_follower_count  \\\n",
       "0  0000006C3074607050F1339DDCB890BB                        27428   \n",
       "1  000005C520010F8917EEAB6F5B6EC1C4                           17   \n",
       "2  000006829BEADA9EEA695CF0C334B426                            2   \n",
       "3  000006829BEADA9EEA695CF0C334B426                            3   \n",
       "4  000006829BEADA9EEA695CF0C334B426                            3   \n",
       "\n",
       "   enaging_user_following_count  enaging_user_is_verified  \\\n",
       "0                           600                     False   \n",
       "1                            77                     False   \n",
       "2                            29                     False   \n",
       "3                            30                     False   \n",
       "4                            30                     False   \n",
       "\n",
       "   engagee_follows_engager  like_timestamp  \n",
       "0                    False             NaN  \n",
       "1                     True             NaN  \n",
       "2                    False    1.581247e+09  \n",
       "3                    False             NaN  \n",
       "4                    False             NaN  "
      ]
     },
     "execution_count": 21,
     "metadata": {},
     "output_type": "execute_result"
    }
   ],
   "source": [
    "train_subset.head()"
   ]
  },
  {
   "cell_type": "code",
   "execution_count": 33,
   "metadata": {},
   "outputs": [],
   "source": [
    "f = h.transform(train_subset['engaging_user_id'])"
   ]
  },
  {
   "cell_type": "code",
   "execution_count": 37,
   "metadata": {},
   "outputs": [
    {
     "data": {
      "text/plain": [
       "<10x1048576 sparse matrix of type '<class 'numpy.float64'>'\n",
       "\twith 128 stored elements in Compressed Sparse Row format>"
      ]
     },
     "execution_count": 37,
     "metadata": {},
     "output_type": "execute_result"
    }
   ],
   "source": [
    "f"
   ]
  },
  {
   "cell_type": "code",
   "execution_count": 45,
   "metadata": {},
   "outputs": [
    {
     "data": {
      "text/plain": [
       "array([ 22790, 196981, 323322, 500148, 611181, 628086, 669156, 687296,\n",
       "       689704, 779937, 917481, 930680, 933761, 196981, 323322, 537095,\n",
       "       611181, 628086, 647703, 669156, 687296, 689704, 779937, 849870,\n",
       "       917481, 930680, 933761,  22790, 196981, 323322, 500148, 537095,\n",
       "       628086, 647703, 669156, 687296, 779937, 849870, 917481, 930680,\n",
       "       933761,  22790, 196981, 323322, 500148, 537095, 628086, 647703,\n",
       "       669156, 687296, 779937, 849870, 917481, 930680, 933761,  22790,\n",
       "       196981, 323322, 500148, 537095, 628086, 647703, 669156, 687296,\n",
       "       779937, 849870, 917481, 930680, 933761,  22790, 196981, 323322,\n",
       "       500148, 537095, 628086, 647703, 669156, 687296, 779937, 849870,\n",
       "       917481, 930680, 933761,  22790, 196981, 323322, 500148, 537095,\n",
       "       611181, 628086, 647703, 669156, 687296, 689704, 779937, 849870,\n",
       "       917481, 933761,  22790, 196981, 537095, 669156, 687296, 689704,\n",
       "       779937, 917481, 930680, 933761,  22790, 196981, 537095, 669156,\n",
       "       687296, 689704, 779937, 917481, 930680, 933761,  22790, 196981,\n",
       "       537095, 669156, 687296, 689704, 779937, 917481, 930680, 933761],\n",
       "      dtype=int32)"
      ]
     },
     "execution_count": 45,
     "metadata": {},
     "output_type": "execute_result"
    }
   ],
   "source": [
    "f.tocoo().col"
   ]
  },
  {
   "cell_type": "code",
   "execution_count": 7,
   "metadata": {},
   "outputs": [
    {
     "data": {
      "text/plain": [
       "148075238"
      ]
     },
     "execution_count": 7,
     "metadata": {},
     "output_type": "execute_result"
    }
   ],
   "source": [
    "len(train)"
   ]
  },
  {
   "cell_type": "code",
   "execution_count": 5,
   "metadata": {},
   "outputs": [
    {
     "data": {
      "text/plain": [
       "hashtags                              object\n",
       "tweet_type                            object\n",
       "Language                              object\n",
       "tweet_timestamp                        int64\n",
       "enaged_with_user_id                   object\n",
       "engaged_with_user_follower_count       int64\n",
       "engaged_with_user_following_count      int64\n",
       "engaged_with_user_is_verified           bool\n",
       "engaging_user_id                      object\n",
       "enaging_user_follower_count            int64\n",
       "enaging_user_following_count           int64\n",
       "enaging_user_is_verified                bool\n",
       "engagee_follows_engager                 bool\n",
       "like_timestamp                       float64\n",
       "dtype: object"
      ]
     },
     "execution_count": 5,
     "metadata": {},
     "output_type": "execute_result"
    }
   ],
   "source": [
    "train.dtypes"
   ]
  },
  {
   "cell_type": "code",
   "execution_count": 3,
   "metadata": {},
   "outputs": [],
   "source": [
    "train['like_bool'] = train.like_timestamp.fillna(0)\n",
    "train.loc[train.like_bool != 0.0, 'like_bool'] = 1.0"
   ]
  },
  {
   "cell_type": "code",
   "execution_count": 4,
   "metadata": {},
   "outputs": [],
   "source": [
    "train[['Language', 'enaged_with_user_id', 'engaging_user_id', 'engagee_follows_engager', 'like_bool']].to_csv('data/like/train.csv', index = False, sep = '\\t')"
   ]
  },
  {
   "cell_type": "code",
   "execution_count": 5,
   "metadata": {},
   "outputs": [
    {
     "name": "stderr",
     "output_type": "stream",
     "text": [
      "/home/ubuntu/anaconda3/lib/python3.7/site-packages/ipykernel_launcher.py:1: SettingWithCopyWarning: \n",
      "A value is trying to be set on a copy of a slice from a DataFrame.\n",
      "Try using .loc[row_indexer,col_indexer] = value instead\n",
      "\n",
      "See the caveats in the documentation: https://pandas.pydata.org/pandas-docs/stable/user_guide/indexing.html#returning-a-view-versus-a-copy\n",
      "  \"\"\"Entry point for launching an IPython kernel.\n",
      "/home/ubuntu/anaconda3/lib/python3.7/site-packages/pandas/core/indexing.py:965: SettingWithCopyWarning: \n",
      "A value is trying to be set on a copy of a slice from a DataFrame.\n",
      "Try using .loc[row_indexer,col_indexer] = value instead\n",
      "\n",
      "See the caveats in the documentation: https://pandas.pydata.org/pandas-docs/stable/user_guide/indexing.html#returning-a-view-versus-a-copy\n",
      "  self.obj[item] = s\n"
     ]
    }
   ],
   "source": [
    "train_set['like_bool'] = train_set.like_timestamp.fillna(0)\n",
    "train_set.loc[train_set.like_bool != 0.0, 'like_bool'] = 1.0"
   ]
  },
  {
   "cell_type": "code",
   "execution_count": 6,
   "metadata": {},
   "outputs": [],
   "source": [
    "train_set[['Language', 'enaged_with_user_id', 'engaging_user_id', 'engagee_follows_engager', 'like_bool']].to_csv('data/like/train_set.csv', index = False, sep = '\\t')"
   ]
  },
  {
   "cell_type": "code",
   "execution_count": 7,
   "metadata": {},
   "outputs": [],
   "source": [
    "val_set['like_bool'] = val_set.like_timestamp.fillna(0)\n",
    "val_set.loc[val_set.like_bool != 0.0, 'like_bool'] = 1.0"
   ]
  },
  {
   "cell_type": "code",
   "execution_count": 8,
   "metadata": {},
   "outputs": [],
   "source": [
    "val_set[['Language', 'enaged_with_user_id', 'engaging_user_id', 'engagee_follows_engager', 'like_bool']].to_csv('data/like/val_set.csv', index = False, sep = '\\t')"
   ]
  },
  {
   "cell_type": "code",
   "execution_count": 9,
   "metadata": {},
   "outputs": [],
   "source": [
    "all_features = [\"Language\", \"tweet_timestamp\", \"enaged_with_user_id\", \"engaging_user_id\", \"engagee_follows_engager\",\\\n",
    "                \"like_timestamp\"]\n",
    "\n",
    "test = pd.read_csv(\"s3://recsys-challenge-2020/val.tsv\", encoding=\"utf-8\",\n",
    "                    names = all_features, usecols= [7, 8, 9, 14, 19, 23], sep=\"\\x01\")\n",
    "test['like_bool'] = test.like_timestamp.fillna(0)\n",
    "test.loc[test.like_bool != 0.0, 'like_bool'] = 1.0\n",
    "test[['Language', 'enaged_with_user_id', 'engaging_user_id', 'engagee_follows_engager', 'like_bool']].to_csv('data/like/test.csv', index = False, sep = '\\t')"
   ]
  }
 ],
 "metadata": {
  "kernelspec": {
   "display_name": "Python 3",
   "language": "python",
   "name": "python3"
  },
  "language_info": {
   "codemirror_mode": {
    "name": "ipython",
    "version": 3
   },
   "file_extension": ".py",
   "mimetype": "text/x-python",
   "name": "python",
   "nbconvert_exporter": "python",
   "pygments_lexer": "ipython3",
   "version": "3.7.6"
  }
 },
 "nbformat": 4,
 "nbformat_minor": 4
}
