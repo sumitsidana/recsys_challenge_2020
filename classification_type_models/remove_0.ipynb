{
 "cells": [
  {
   "cell_type": "code",
   "execution_count": 8,
   "metadata": {},
   "outputs": [],
   "source": [
    "import pandas as pd\n",
    "import time\n",
    "import re"
   ]
  },
  {
   "cell_type": "code",
   "execution_count": 4,
   "metadata": {},
   "outputs": [],
   "source": [
    "val_set_libfm = pd.read_csv('/home/ubuntu/recsys_challenge_2020/classification_type_models/f1/like/val_set.csv.libfm', header = None, names = ['line'])"
   ]
  },
  {
   "cell_type": "code",
   "execution_count": 6,
   "metadata": {},
   "outputs": [
    {
     "name": "stderr",
     "output_type": "stream",
     "text": [
      "/home/ubuntu/anaconda3/lib/python3.7/site-packages/ipykernel_launcher.py:1: FutureWarning: Passing a negative integer is deprecated in version 1.0 and will not be supported in future version. Instead, use None to not limit the column width.\n",
      "  \"\"\"Entry point for launching an IPython kernel.\n"
     ]
    }
   ],
   "source": [
    "pd.set_option('display.max_colwidth', -1)"
   ]
  },
  {
   "cell_type": "code",
   "execution_count": 9,
   "metadata": {},
   "outputs": [],
   "source": [
    "re_express = re.compile(' [0123]:0')"
   ]
  },
  {
   "cell_type": "code",
   "execution_count": 11,
   "metadata": {},
   "outputs": [],
   "source": [
    "val_set_libfm_replaced = val_set_libfm.line.replace(re_express,\"\")"
   ]
  },
  {
   "cell_type": "code",
   "execution_count": 12,
   "metadata": {},
   "outputs": [
    {
     "data": {
      "text/plain": [
       "0    1.0 4:1 98:1 32654830:1 0:12459 1:4 15:1 918310:1 2:599 3:528 9:1 10:1      \n",
       "1    1.0 4:1 98:1 267065:1 0:431 1:140 15:1 23143401:1 3:90 9:1 10:1             \n",
       "2    1.0 200:1 11:1 14377663:1 0:321 1:564 15:1 12305912:1 2:205 3:330 9:1 20:1  \n",
       "3    1.0 4:1 91:1 38028896:1 0:740 1:227 15:1 3679496:1 2:216 3:762 9:1 20:1     \n",
       "4    1.0 200:1 98:1 3804299:1 0:27886 1:100 15:1 4647308:1 2:146 3:1668 9:1 10:1 \n",
       "Name: line, dtype: object"
      ]
     },
     "execution_count": 12,
     "metadata": {},
     "output_type": "execute_result"
    }
   ],
   "source": [
    "val_set_libfm_replaced.head()"
   ]
  },
  {
   "cell_type": "code",
   "execution_count": 14,
   "metadata": {},
   "outputs": [],
   "source": [
    "val_set_libfm_replaced.to_csv\\\n",
    "('/home/ubuntu/recsys_challenge_2020/classification_type_models/f1/like/val_set_replaced.csv.libfm'\\\n",
    ", index = False, header = False)"
   ]
  },
  {
   "cell_type": "code",
   "execution_count": 13,
   "metadata": {},
   "outputs": [
    {
     "data": {
      "text/html": [
       "<div>\n",
       "<style scoped>\n",
       "    .dataframe tbody tr th:only-of-type {\n",
       "        vertical-align: middle;\n",
       "    }\n",
       "\n",
       "    .dataframe tbody tr th {\n",
       "        vertical-align: top;\n",
       "    }\n",
       "\n",
       "    .dataframe thead th {\n",
       "        text-align: right;\n",
       "    }\n",
       "</style>\n",
       "<table border=\"1\" class=\"dataframe\">\n",
       "  <thead>\n",
       "    <tr style=\"text-align: right;\">\n",
       "      <th></th>\n",
       "      <th>line</th>\n",
       "    </tr>\n",
       "  </thead>\n",
       "  <tbody>\n",
       "    <tr>\n",
       "      <th>0</th>\n",
       "      <td>1.0 4:1 98:1 32654830:1 0:12459 1:4 15:1 918310:1 2:599 3:528 9:1 10:1</td>\n",
       "    </tr>\n",
       "    <tr>\n",
       "      <th>1</th>\n",
       "      <td>1.0 4:1 98:1 267065:1 0:431 1:140 15:1 23143401:1 2:0 3:90 9:1 10:1</td>\n",
       "    </tr>\n",
       "    <tr>\n",
       "      <th>2</th>\n",
       "      <td>1.0 200:1 11:1 14377663:1 0:321 1:564 15:1 12305912:1 2:205 3:330 9:1 20:1</td>\n",
       "    </tr>\n",
       "    <tr>\n",
       "      <th>3</th>\n",
       "      <td>1.0 4:1 91:1 38028896:1 0:740 1:227 15:1 3679496:1 2:216 3:762 9:1 20:1</td>\n",
       "    </tr>\n",
       "    <tr>\n",
       "      <th>4</th>\n",
       "      <td>1.0 200:1 98:1 3804299:1 0:27886 1:100 15:1 4647308:1 2:146 3:1668 9:1 10:1</td>\n",
       "    </tr>\n",
       "  </tbody>\n",
       "</table>\n",
       "</div>"
      ],
      "text/plain": [
       "                                                                           line\n",
       "0  1.0 4:1 98:1 32654830:1 0:12459 1:4 15:1 918310:1 2:599 3:528 9:1 10:1      \n",
       "1  1.0 4:1 98:1 267065:1 0:431 1:140 15:1 23143401:1 2:0 3:90 9:1 10:1         \n",
       "2  1.0 200:1 11:1 14377663:1 0:321 1:564 15:1 12305912:1 2:205 3:330 9:1 20:1  \n",
       "3  1.0 4:1 91:1 38028896:1 0:740 1:227 15:1 3679496:1 2:216 3:762 9:1 20:1     \n",
       "4  1.0 200:1 98:1 3804299:1 0:27886 1:100 15:1 4647308:1 2:146 3:1668 9:1 10:1 "
      ]
     },
     "execution_count": 13,
     "metadata": {},
     "output_type": "execute_result"
    }
   ],
   "source": [
    "val_set_libfm.head()"
   ]
  },
  {
   "cell_type": "code",
   "execution_count": 15,
   "metadata": {},
   "outputs": [],
   "source": [
    "train_set_libfm = pd.read_csv('/home/ubuntu/recsys_challenge_2020/classification_type_models/f1/like/train_set.csv.libfm', header = None, names = ['line'])\n",
    "train_set_libfm_replaced = train_set_libfm.line.replace(re_express,\"\")\n",
    "train_set_libfm_replaced.to_csv\\\n",
    "('/home/ubuntu/recsys_challenge_2020/classification_type_models/f1/like/train_set_replaced.csv.libfm'\\\n",
    ", index = False, header = False)"
   ]
  }
 ],
 "metadata": {
  "kernelspec": {
   "display_name": "Python 3",
   "language": "python",
   "name": "python3"
  },
  "language_info": {
   "codemirror_mode": {
    "name": "ipython",
    "version": 3
   },
   "file_extension": ".py",
   "mimetype": "text/x-python",
   "name": "python",
   "nbconvert_exporter": "python",
   "pygments_lexer": "ipython3",
   "version": "3.7.6"
  }
 },
 "nbformat": 4,
 "nbformat_minor": 4
}
