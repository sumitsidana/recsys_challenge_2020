{
 "cells": [
  {
   "cell_type": "code",
   "execution_count": 2,
   "metadata": {},
   "outputs": [
    {
     "name": "stderr",
     "output_type": "stream",
     "text": [
      "unable to import 'smart_open.gcs', disabling that module\n"
     ]
    }
   ],
   "source": [
    "import pandas as pd\n",
    "import s3fs\n",
    "from smart_open import open\n",
    "import boto3\n",
    "from io import StringIO # python3; python2: BytesIO \n",
    "from boto3.s3.transfer import TransferConfig\n",
    "import metrics"
   ]
  },
  {
   "cell_type": "markdown",
   "metadata": {},
   "source": [
    "# Divide train into 90 % training and 10 % testing"
   ]
  },
  {
   "cell_type": "code",
   "execution_count": 2,
   "metadata": {},
   "outputs": [],
   "source": [
    "all_features = [\"text_ tokens\", \"tweet_id\" ,\"language\", \"tweet_timestamp\", \"engaged_with_user_id\",\\\n",
    "               \"engaging_user_id\", \"engagee_follows_engager\", \"like_timestamp\"]\n",
    "train = pd.read_csv(open(\"s3://recsys-challenge-2020/training.tsv\"), encoding=\"utf-8\",\n",
    "                    names = all_features, usecols= [0, 2, 7, 8, 9, 14, 19, 20], sep=\"\\x01\"\n",
    "                   )\n",
    "train_sorted = train.sort_values(by=['tweet_timestamp']).reset_index()\n",
    "n_head = 90\n",
    "n_tail = 10\n",
    "train_set = train_sorted.head(int(len(train_sorted)*(n_head/100)))\n",
    "val_set = train_sorted.tail(int(len(train_sorted)*(n_tail/100)))\n",
    "val_set['like_bool'] = val_set.like_timestamp.fillna(0)\n",
    "val_set[val_set.like_bool != 0.0] = 1.0\n",
    "gt = list(val_set.like_bool)\n",
    "pr = [0.5] * len(gt)\n",
    "prauc = metrics.compute_prauc(pr,gt)\n",
    "rce = metrics.compute_rce(pr,gt)"
   ]
  },
  {
   "cell_type": "code",
   "execution_count": null,
   "metadata": {},
   "outputs": [],
   "source": [
    "print(prauc)\n",
    "print(rce)"
   ]
  },
  {
   "cell_type": "markdown",
   "metadata": {},
   "source": [
    "### Metrics of FM"
   ]
  },
  {
   "cell_type": "code",
   "execution_count": 3,
   "metadata": {},
   "outputs": [],
   "source": [
    "all_features = [\"tweet_timestamp\", \"like_timestamp\"]\n",
    "train = pd.read_csv(open(\"s3://recsys-challenge-2020/training.tsv\"), encoding=\"utf-8\",\n",
    "                    names = all_features, usecols= [8, 23], sep=\"\\x01\"\n",
    "                   )\n",
    "train_sorted = train.sort_values(by=['tweet_timestamp']).reset_index()\n",
    "n_head = 90\n",
    "n_tail = 10\n",
    "train_set = train_sorted.head(int(len(train_sorted)*(n_head/100)))\n",
    "val_set = train_sorted.tail(int(len(train_sorted)*(n_tail/100))).reset_index()\n",
    "val_set['like_bool'] = val_set.like_timestamp.fillna(0)\n",
    "val_set.loc[val_set.like_bool != 0.0, 'like_bool'] = 1.0\n",
    "gt = list(val_set.like_bool)\n",
    "pr_df = pd.read_csv('/home/ubuntu/recsys_challenge_2020/classification_type_models/data/like/val_set_result.csv',\\\n",
    "                      names = ['probability_like'])\n",
    "pr = list(pr_df.probability_like)\n",
    "prauc = metrics.compute_prauc(pr,gt)\n",
    "rce = metrics.compute_rce(pr,gt)"
   ]
  },
  {
   "cell_type": "code",
   "execution_count": 4,
   "metadata": {},
   "outputs": [
    {
     "data": {
      "text/plain": [
       "0.686989916766946"
      ]
     },
     "execution_count": 4,
     "metadata": {},
     "output_type": "execute_result"
    }
   ],
   "source": [
    "prauc"
   ]
  },
  {
   "cell_type": "code",
   "execution_count": 5,
   "metadata": {},
   "outputs": [
    {
     "data": {
      "text/plain": [
       "14.528922541639599"
      ]
     },
     "execution_count": 5,
     "metadata": {},
     "output_type": "execute_result"
    }
   ],
   "source": [
    "rce"
   ]
  },
  {
   "cell_type": "code",
   "execution_count": 3,
   "metadata": {},
   "outputs": [],
   "source": [
    "all_features = [\"tweet_timestamp\", \"like_timestamp\"]\n",
    "train = pd.read_csv(open(\"s3://recsys-challenge-2020/training.tsv\"), encoding=\"utf-8\",\n",
    "                    names = all_features, usecols= [8, 23], sep=\"\\x01\"\n",
    "                   )\n",
    "train_sorted = train.sort_values(by=['tweet_timestamp']).reset_index()\n",
    "n_head = 90\n",
    "n_tail = 10\n",
    "train_set = train_sorted.head(int(len(train_sorted)*(n_head/100)))\n",
    "val_set = train_sorted.tail(int(len(train_sorted)*(n_tail/100))).reset_index()\n",
    "val_set['like_bool'] = val_set.like_timestamp.fillna(0)\n",
    "val_set.loc[val_set.like_bool != 0.0, 'like_bool'] = 1.0\n",
    "gt = list(val_set.like_bool)\n",
    "pr_df = pd.read_csv('/home/ubuntu/recsys_challenge_2020/classification_type_models/f1/like/val_set_result.csv',\\\n",
    "                      names = ['probability_like'])\n",
    "pr = list(pr_df.probability_like)\n",
    "prauc = metrics.compute_prauc(pr,gt)\n",
    "rce = metrics.compute_rce(pr,gt)"
   ]
  },
  {
   "cell_type": "code",
   "execution_count": 4,
   "metadata": {},
   "outputs": [
    {
     "data": {
      "text/plain": [
       "0.5690230413959748"
      ]
     },
     "execution_count": 4,
     "metadata": {},
     "output_type": "execute_result"
    }
   ],
   "source": [
    "prauc"
   ]
  },
  {
   "cell_type": "code",
   "execution_count": 5,
   "metadata": {},
   "outputs": [
    {
     "data": {
      "text/plain": [
       "-2404.8856492284804"
      ]
     },
     "execution_count": 5,
     "metadata": {},
     "output_type": "execute_result"
    }
   ],
   "source": [
    "rce"
   ]
  },
  {
   "cell_type": "code",
   "execution_count": 3,
   "metadata": {},
   "outputs": [],
   "source": [
    "all_features = [\"tweet_timestamp\", \"like_timestamp\"]\n",
    "train = pd.read_csv(open(\"s3://recsys-challenge-2020/training.tsv\"), encoding=\"utf-8\",\n",
    "                    names = all_features, usecols= [8, 23], sep=\"\\x01\"\n",
    "                   )\n",
    "train_sorted = train.sort_values(by=['tweet_timestamp']).reset_index()\n",
    "n_head = 90\n",
    "n_tail = 10\n",
    "train_set = train_sorted.head(int(len(train_sorted)*(n_head/100)))\n",
    "val_set = train_sorted.tail(int(len(train_sorted)*(n_tail/100))).reset_index()\n",
    "val_set['like_bool'] = val_set.like_timestamp.fillna(0)\n",
    "val_set.loc[val_set.like_bool != 0.0, 'like_bool'] = 1.0\n",
    "gt = list(val_set.like_bool)\n",
    "pr_df = pd.read_csv('/home/ubuntu/recsys_challenge_2020/classification_type_models/f1/like/val_set_result_mcmc.csv',\\\n",
    "                      names = ['probability_like'])\n",
    "pr = list(pr_df.probability_like)\n",
    "prauc = metrics.compute_prauc(pr,gt)\n",
    "rce = metrics.compute_rce(pr,gt)"
   ]
  },
  {
   "cell_type": "code",
   "execution_count": 4,
   "metadata": {},
   "outputs": [
    {
     "data": {
      "text/plain": [
       "0.4109061128785592"
      ]
     },
     "execution_count": 4,
     "metadata": {},
     "output_type": "execute_result"
    }
   ],
   "source": [
    "prauc"
   ]
  },
  {
   "cell_type": "code",
   "execution_count": 5,
   "metadata": {},
   "outputs": [
    {
     "data": {
      "text/plain": [
       "-995.1687489146188"
      ]
     },
     "execution_count": 5,
     "metadata": {},
     "output_type": "execute_result"
    }
   ],
   "source": [
    "rce"
   ]
  },
  {
   "cell_type": "code",
   "execution_count": 6,
   "metadata": {},
   "outputs": [],
   "source": [
    "# all_features = [\"tweet_timestamp\", \"like_timestamp\"]\n",
    "# train = pd.read_csv(open(\"s3://recsys-challenge-2020/training.tsv\"), encoding=\"utf-8\",\n",
    "#                     names = all_features, usecols= [8, 23], sep=\"\\x01\"\n",
    "#                    )\n",
    "# train_sorted = train.sort_values(by=['tweet_timestamp']).reset_index()\n",
    "# n_head = 90\n",
    "# n_tail = 10\n",
    "# train_set = train_sorted.head(int(len(train_sorted)*(n_head/100)))\n",
    "# val_set = train_sorted.tail(int(len(train_sorted)*(n_tail/100))).reset_index()\n",
    "# val_set['like_bool'] = val_set.like_timestamp.fillna(0)\n",
    "# val_set.loc[val_set.like_bool != 0.0, 'like_bool'] = 1.0\n",
    "# gt = list(val_set.like_bool)\n",
    "pr_df = pd.read_csv('/home/ubuntu/recsys_challenge_2020/classification_type_models/f1/like/val_set_result_als.csv',\\\n",
    "                      names = ['probability_like'])\n",
    "pr = list(pr_df.probability_like)\n",
    "prauc = metrics.compute_prauc(pr,gt)\n",
    "rce = metrics.compute_rce(pr,gt)"
   ]
  },
  {
   "cell_type": "code",
   "execution_count": 7,
   "metadata": {},
   "outputs": [
    {
     "data": {
      "text/plain": [
       "0.5627288859283393"
      ]
     },
     "execution_count": 7,
     "metadata": {},
     "output_type": "execute_result"
    }
   ],
   "source": [
    "prauc"
   ]
  },
  {
   "cell_type": "code",
   "execution_count": 8,
   "metadata": {},
   "outputs": [
    {
     "data": {
      "text/plain": [
       "-2416.392895347355"
      ]
     },
     "execution_count": 8,
     "metadata": {},
     "output_type": "execute_result"
    }
   ],
   "source": [
    "rce"
   ]
  }
 ],
 "metadata": {
  "kernelspec": {
   "display_name": "Python 3",
   "language": "python",
   "name": "python3"
  },
  "language_info": {
   "codemirror_mode": {
    "name": "ipython",
    "version": 3
   },
   "file_extension": ".py",
   "mimetype": "text/x-python",
   "name": "python",
   "nbconvert_exporter": "python",
   "pygments_lexer": "ipython3",
   "version": "3.7.6"
  }
 },
 "nbformat": 4,
 "nbformat_minor": 2
}
