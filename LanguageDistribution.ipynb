{
 "cells": [
  {
   "cell_type": "code",
   "execution_count": 2,
   "metadata": {},
   "outputs": [],
   "source": [
    "import pandas as pd\n",
    "import s3fs\n",
    "from smart_open import open\n",
    "import boto3\n",
    "from io import StringIO # python3; python2: BytesIO \n",
    "from boto3.s3.transfer import TransferConfig\n",
    "import metrics\n",
    "import torch\n",
    "from transformers import *\n",
    "import numpy as np"
   ]
  },
  {
   "cell_type": "code",
   "execution_count": 3,
   "metadata": {},
   "outputs": [],
   "source": [
    "all_features = [\"Language\", \"tweet_timestamp\"]\n",
    "train_language = pd.read_csv(open(\"s3://recsys-challenge-2020/training.tsv\"), encoding=\"utf-8\",\n",
    "                    names = all_features, usecols= [7, 8], sep=\"\\x01\"\n",
    "                   )\n",
    "# train_sorted = train.sort_values(by=['tweet_timestamp']).reset_index()\n",
    "# n_head = 90\n",
    "# n_tail = 10\n",
    "\n",
    "# gt = list(val_set.reply_bool)\n",
    "# pr = [0.5] * len(gt)\n",
    "# prauc = metrics.compute_prauc(pr,gt)\n",
    "# rce = metrics.compute_rce(pr,gt)"
   ]
  },
  {
   "cell_type": "code",
   "execution_count": 4,
   "metadata": {},
   "outputs": [
    {
     "data": {
      "text/plain": [
       "D3164C7FBCF2565DDF915B1B3AEFB1DC    60722973\n",
       "22C448FF81263D4BAF2A176145EE9EAD    23652265\n",
       "06D61DCBBE938971E1EA0C38BD9B5446    13273364\n",
       "ECED8A16BE2A5E8871FD55F4842F16B1    10280788\n",
       "B9175601E87101A984A50F8A62A1C374     7884887\n",
       "                                      ...   \n",
       "D18801336202297E6484F634CAC6592E         614\n",
       "4690215948DBF6872B8ED1C2BC87B17E         590\n",
       "B2235C8B73239FDC5780DD132419833A         363\n",
       "2E18F6F53E3CF073911AF0A93BBE5373         138\n",
       "515E873C86EE1577E75FA2387B7FA59E          14\n",
       "Name: Language, Length: 66, dtype: int64"
      ]
     },
     "execution_count": 4,
     "metadata": {},
     "output_type": "execute_result"
    }
   ],
   "source": [
    "train_language.Language.value_counts()"
   ]
  },
  {
   "cell_type": "code",
   "execution_count": 6,
   "metadata": {},
   "outputs": [
    {
     "data": {
      "text/plain": [
       "66"
      ]
     },
     "execution_count": 6,
     "metadata": {},
     "output_type": "execute_result"
    }
   ],
   "source": [
    "train_language.Language.nunique()"
   ]
  },
  {
   "cell_type": "code",
   "execution_count": 5,
   "metadata": {},
   "outputs": [
    {
     "data": {
      "text/html": [
       "<div>\n",
       "<style scoped>\n",
       "    .dataframe tbody tr th:only-of-type {\n",
       "        vertical-align: middle;\n",
       "    }\n",
       "\n",
       "    .dataframe tbody tr th {\n",
       "        vertical-align: top;\n",
       "    }\n",
       "\n",
       "    .dataframe thead th {\n",
       "        text-align: right;\n",
       "    }\n",
       "</style>\n",
       "<table border=\"1\" class=\"dataframe\">\n",
       "  <thead>\n",
       "    <tr style=\"text-align: right;\">\n",
       "      <th></th>\n",
       "      <th>Language</th>\n",
       "      <th>tweet_timestamp</th>\n",
       "    </tr>\n",
       "  </thead>\n",
       "  <tbody>\n",
       "    <tr>\n",
       "      <td>0</td>\n",
       "      <td>22C448FF81263D4BAF2A176145EE9EAD</td>\n",
       "      <td>1581258144</td>\n",
       "    </tr>\n",
       "    <tr>\n",
       "      <td>1</td>\n",
       "      <td>B9175601E87101A984A50F8A62A1C374</td>\n",
       "      <td>1581018910</td>\n",
       "    </tr>\n",
       "    <tr>\n",
       "      <td>2</td>\n",
       "      <td>22C448FF81263D4BAF2A176145EE9EAD</td>\n",
       "      <td>1581244866</td>\n",
       "    </tr>\n",
       "    <tr>\n",
       "      <td>3</td>\n",
       "      <td>22C448FF81263D4BAF2A176145EE9EAD</td>\n",
       "      <td>1581250124</td>\n",
       "    </tr>\n",
       "    <tr>\n",
       "      <td>4</td>\n",
       "      <td>22C448FF81263D4BAF2A176145EE9EAD</td>\n",
       "      <td>1580958805</td>\n",
       "    </tr>\n",
       "  </tbody>\n",
       "</table>\n",
       "</div>"
      ],
      "text/plain": [
       "                           Language  tweet_timestamp\n",
       "0  22C448FF81263D4BAF2A176145EE9EAD       1581258144\n",
       "1  B9175601E87101A984A50F8A62A1C374       1581018910\n",
       "2  22C448FF81263D4BAF2A176145EE9EAD       1581244866\n",
       "3  22C448FF81263D4BAF2A176145EE9EAD       1581250124\n",
       "4  22C448FF81263D4BAF2A176145EE9EAD       1580958805"
      ]
     },
     "execution_count": 5,
     "metadata": {},
     "output_type": "execute_result"
    }
   ],
   "source": [
    "train_language.head()"
   ]
  },
  {
   "cell_type": "code",
   "execution_count": null,
   "metadata": {},
   "outputs": [],
   "source": [
    "train_set = train_sorted.head(int(len(train_sorted)*(n_head/100)))\n",
    "train_set['reply_bool'] = train_set.reply_timestamp.fillna(0)\n",
    "train_set.loc[train_set.reply_bool != 0.0, 'reply_bool'] = 1.0"
   ]
  },
  {
   "cell_type": "code",
   "execution_count": null,
   "metadata": {},
   "outputs": [],
   "source": [
    "train_set.to_csv('s3://recsys-challenge-2020/train_set_reply.csv', index = False)"
   ]
  },
  {
   "cell_type": "code",
   "execution_count": null,
   "metadata": {},
   "outputs": [],
   "source": [
    "val_set = train_sorted.tail(int(len(train_sorted)*(n_tail/100)))\n",
    "val_set['reply_bool'] = val_set.reply_timestamp.fillna(0)\n",
    "val_set.loc[val_set.reply_bool != 0.0, 'reply_bool'] = 1.0"
   ]
  },
  {
   "cell_type": "code",
   "execution_count": null,
   "metadata": {},
   "outputs": [],
   "source": [
    "val_set.to_csv('s3://recsys-challenge-2020/val_set_reply.csv', index = False)"
   ]
  },
  {
   "cell_type": "code",
   "execution_count": 7,
   "metadata": {},
   "outputs": [
    {
     "data": {
      "text/html": [
       "<div>\n",
       "<style scoped>\n",
       "    .dataframe tbody tr th:only-of-type {\n",
       "        vertical-align: middle;\n",
       "    }\n",
       "\n",
       "    .dataframe tbody tr th {\n",
       "        vertical-align: top;\n",
       "    }\n",
       "\n",
       "    .dataframe thead th {\n",
       "        text-align: right;\n",
       "    }\n",
       "</style>\n",
       "<table border=\"1\" class=\"dataframe\">\n",
       "  <thead>\n",
       "    <tr style=\"text-align: right;\">\n",
       "      <th></th>\n",
       "      <th>index</th>\n",
       "      <th>text_ tokens</th>\n",
       "      <th>tweet_id</th>\n",
       "      <th>tweet_timestamp</th>\n",
       "      <th>engaging_user_id</th>\n",
       "      <th>reply_timestamp</th>\n",
       "      <th>reply_bool</th>\n",
       "    </tr>\n",
       "  </thead>\n",
       "  <tbody>\n",
       "    <tr>\n",
       "      <td>133267715</td>\n",
       "      <td>11908278</td>\n",
       "      <td>101\\t17713\\t9405\\t119152\\t119002\\t118823\\t9531...</td>\n",
       "      <td>F1529D503347DA75EFFD67CC1D9DA0F9</td>\n",
       "      <td>1581486678</td>\n",
       "      <td>A4B1828B571271073C68DA93D1465484</td>\n",
       "      <td>NaN</td>\n",
       "      <td>0.0</td>\n",
       "    </tr>\n",
       "    <tr>\n",
       "      <td>133267716</td>\n",
       "      <td>54640167</td>\n",
       "      <td>101\\t64002\\t9247\\t23665\\t9251\\t17342\\t23990\\t9...</td>\n",
       "      <td>41D145799B12B26F5C580B46D7A0B88E</td>\n",
       "      <td>1581486678</td>\n",
       "      <td>F3A4C8EB81ADF3685E8F693037808A2C</td>\n",
       "      <td>NaN</td>\n",
       "      <td>0.0</td>\n",
       "    </tr>\n",
       "    <tr>\n",
       "      <td>133267717</td>\n",
       "      <td>102671906</td>\n",
       "      <td>101\\t56898\\t137\\t44592\\t11090\\t13503\\t10157\\t1...</td>\n",
       "      <td>94062C22EE1C754B558A39E206B116E4</td>\n",
       "      <td>1581486678</td>\n",
       "      <td>8BD011AB59AC04491687749245009C60</td>\n",
       "      <td>NaN</td>\n",
       "      <td>0.0</td>\n",
       "    </tr>\n",
       "    <tr>\n",
       "      <td>133267718</td>\n",
       "      <td>54937609</td>\n",
       "      <td>101\\t137\\t15595\\t21840\\t14590\\t75268\\t57493\\t1...</td>\n",
       "      <td>D434D803B122A2C7206E0495A955CDC4</td>\n",
       "      <td>1581486678</td>\n",
       "      <td>F7BFBA56274FCBBBB76BDD36D0D6495B</td>\n",
       "      <td>NaN</td>\n",
       "      <td>0.0</td>\n",
       "    </tr>\n",
       "    <tr>\n",
       "      <td>133267719</td>\n",
       "      <td>38246969</td>\n",
       "      <td>101\\t56898\\t137\\t13069\\t93870\\t10284\\t11274\\t1...</td>\n",
       "      <td>952589011D88FED05B4444CBBD90A172</td>\n",
       "      <td>1581486678</td>\n",
       "      <td>10F6E035959B9AC156CED11E0FAED566</td>\n",
       "      <td>NaN</td>\n",
       "      <td>0.0</td>\n",
       "    </tr>\n",
       "  </tbody>\n",
       "</table>\n",
       "</div>"
      ],
      "text/plain": [
       "               index                                       text_ tokens  \\\n",
       "133267715   11908278  101\\t17713\\t9405\\t119152\\t119002\\t118823\\t9531...   \n",
       "133267716   54640167  101\\t64002\\t9247\\t23665\\t9251\\t17342\\t23990\\t9...   \n",
       "133267717  102671906  101\\t56898\\t137\\t44592\\t11090\\t13503\\t10157\\t1...   \n",
       "133267718   54937609  101\\t137\\t15595\\t21840\\t14590\\t75268\\t57493\\t1...   \n",
       "133267719   38246969  101\\t56898\\t137\\t13069\\t93870\\t10284\\t11274\\t1...   \n",
       "\n",
       "                                   tweet_id  tweet_timestamp  \\\n",
       "133267715  F1529D503347DA75EFFD67CC1D9DA0F9       1581486678   \n",
       "133267716  41D145799B12B26F5C580B46D7A0B88E       1581486678   \n",
       "133267717  94062C22EE1C754B558A39E206B116E4       1581486678   \n",
       "133267718  D434D803B122A2C7206E0495A955CDC4       1581486678   \n",
       "133267719  952589011D88FED05B4444CBBD90A172       1581486678   \n",
       "\n",
       "                           engaging_user_id  reply_timestamp  reply_bool  \n",
       "133267715  A4B1828B571271073C68DA93D1465484              NaN         0.0  \n",
       "133267716  F3A4C8EB81ADF3685E8F693037808A2C              NaN         0.0  \n",
       "133267717  8BD011AB59AC04491687749245009C60              NaN         0.0  \n",
       "133267718  F7BFBA56274FCBBBB76BDD36D0D6495B              NaN         0.0  \n",
       "133267719  10F6E035959B9AC156CED11E0FAED566              NaN         0.0  "
      ]
     },
     "execution_count": 7,
     "metadata": {},
     "output_type": "execute_result"
    }
   ],
   "source": [
    "val_set.head()"
   ]
  },
  {
   "cell_type": "code",
   "execution_count": 8,
   "metadata": {},
   "outputs": [
    {
     "data": {
      "text/plain": [
       "14807523"
      ]
     },
     "execution_count": 8,
     "metadata": {},
     "output_type": "execute_result"
    }
   ],
   "source": [
    "len(val_set)"
   ]
  },
  {
   "cell_type": "code",
   "execution_count": 10,
   "metadata": {},
   "outputs": [
    {
     "data": {
      "text/plain": [
       "133267714"
      ]
     },
     "execution_count": 10,
     "metadata": {},
     "output_type": "execute_result"
    }
   ],
   "source": [
    "len(train_set)"
   ]
  },
  {
   "cell_type": "code",
   "execution_count": 9,
   "metadata": {},
   "outputs": [
    {
     "data": {
      "text/html": [
       "<div>\n",
       "<style scoped>\n",
       "    .dataframe tbody tr th:only-of-type {\n",
       "        vertical-align: middle;\n",
       "    }\n",
       "\n",
       "    .dataframe tbody tr th {\n",
       "        vertical-align: top;\n",
       "    }\n",
       "\n",
       "    .dataframe thead th {\n",
       "        text-align: right;\n",
       "    }\n",
       "</style>\n",
       "<table border=\"1\" class=\"dataframe\">\n",
       "  <thead>\n",
       "    <tr style=\"text-align: right;\">\n",
       "      <th></th>\n",
       "      <th>index</th>\n",
       "      <th>text_ tokens</th>\n",
       "      <th>tweet_id</th>\n",
       "      <th>tweet_timestamp</th>\n",
       "      <th>engaging_user_id</th>\n",
       "      <th>reply_timestamp</th>\n",
       "      <th>reply_bool</th>\n",
       "    </tr>\n",
       "  </thead>\n",
       "  <tbody>\n",
       "  </tbody>\n",
       "</table>\n",
       "</div>"
      ],
      "text/plain": [
       "Empty DataFrame\n",
       "Columns: [index, text_ tokens, tweet_id, tweet_timestamp, engaging_user_id, reply_timestamp, reply_bool]\n",
       "Index: []"
      ]
     },
     "execution_count": 9,
     "metadata": {},
     "output_type": "execute_result"
    }
   ],
   "source": [
    "val_set[val_set[\"text_ tokens\"].str.contains(\"1\\.0\")]"
   ]
  }
 ],
 "metadata": {
  "kernelspec": {
   "display_name": "Python 3",
   "language": "python",
   "name": "python3"
  },
  "language_info": {
   "codemirror_mode": {
    "name": "ipython",
    "version": 3
   },
   "file_extension": ".py",
   "mimetype": "text/x-python",
   "name": "python",
   "nbconvert_exporter": "python",
   "pygments_lexer": "ipython3",
   "version": "3.7.4"
  }
 },
 "nbformat": 4,
 "nbformat_minor": 2
}
