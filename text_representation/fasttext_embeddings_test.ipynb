{
 "cells": [
  {
   "cell_type": "code",
   "execution_count": 1,
   "metadata": {},
   "outputs": [],
   "source": [
    "import pandas as pd"
   ]
  },
  {
   "cell_type": "code",
   "execution_count": 2,
   "metadata": {},
   "outputs": [
    {
     "name": "stdout",
     "output_type": "stream",
     "text": [
      "test loaded\n"
     ]
    }
   ],
   "source": [
    "all_features = [\"tweet_id\", \"engaging_user_id\"]\n",
    "test = pd.read_csv(\"s3://recsys-challenge-2020/val.tsv\", encoding=\"utf-8\",\n",
    "                    names = all_features, usecols= [2, 14], sep=\"\\x01\"\n",
    "                   )\n",
    "print('test loaded')"
   ]
  },
  {
   "cell_type": "code",
   "execution_count": 3,
   "metadata": {},
   "outputs": [],
   "source": [
    "test_embeddings = pd.read_csv('s3://recsys-challenge-2020/all_lang_output_test.csv')"
   ]
  },
  {
   "cell_type": "code",
   "execution_count": null,
   "metadata": {},
   "outputs": [],
   "source": [
    "test_embeddings"
   ]
  },
  {
   "cell_type": "code",
   "execution_count": 4,
   "metadata": {},
   "outputs": [],
   "source": [
    "test_id_embeddings = pd.concat([test, test_embeddings], axis = 1)"
   ]
  },
  {
   "cell_type": "code",
   "execution_count": 5,
   "metadata": {},
   "outputs": [],
   "source": [
    "test_id_embeddings.drop(['Unnamed: 0'], axis = 1, inplace = True)"
   ]
  },
  {
   "cell_type": "code",
   "execution_count": 6,
   "metadata": {},
   "outputs": [
    {
     "data": {
      "text/html": [
       "<div>\n",
       "<style scoped>\n",
       "    .dataframe tbody tr th:only-of-type {\n",
       "        vertical-align: middle;\n",
       "    }\n",
       "\n",
       "    .dataframe tbody tr th {\n",
       "        vertical-align: top;\n",
       "    }\n",
       "\n",
       "    .dataframe thead th {\n",
       "        text-align: right;\n",
       "    }\n",
       "</style>\n",
       "<table border=\"1\" class=\"dataframe\">\n",
       "  <thead>\n",
       "    <tr style=\"text-align: right;\">\n",
       "      <th></th>\n",
       "      <th>tweet_id</th>\n",
       "      <th>engaging_user_id</th>\n",
       "      <th>sentence_embedding</th>\n",
       "    </tr>\n",
       "  </thead>\n",
       "  <tbody>\n",
       "    <tr>\n",
       "      <th>0</th>\n",
       "      <td>7647B4E9DAF4C1D8973397DC2A04F3E3</td>\n",
       "      <td>0000006C3074607050F1339DDCB890BB</td>\n",
       "      <td>[-0.16600178 -0.22357826 -0.08349431 -0.150008...</td>\n",
       "    </tr>\n",
       "    <tr>\n",
       "      <th>1</th>\n",
       "      <td>CCBFBA5AFE7EFC03102EA8D0F86C4208</td>\n",
       "      <td>00000776B07587ECA9717BFC301F2D6E</td>\n",
       "      <td>[ 1.11614332e-01 -2.96647400e-01 -3.85199785e-...</td>\n",
       "    </tr>\n",
       "    <tr>\n",
       "      <th>2</th>\n",
       "      <td>E18C2DCFC5AF20C650A0FD94598E69B7</td>\n",
       "      <td>00000860E80C67D8C46CE57C64DE9444</td>\n",
       "      <td>[ 0.05624229 -0.32678255 -0.04964957 -0.003698...</td>\n",
       "    </tr>\n",
       "    <tr>\n",
       "      <th>3</th>\n",
       "      <td>26DC813FDF8546B757BB9141099F119E</td>\n",
       "      <td>00000865A1538142CDA5936B07FE4311</td>\n",
       "      <td>[ 0.05665505 -0.33640945 -0.04591884 -0.098812...</td>\n",
       "    </tr>\n",
       "    <tr>\n",
       "      <th>4</th>\n",
       "      <td>30A33055566AAC9EB18734C4EAD11FE1</td>\n",
       "      <td>00000865A1538142CDA5936B07FE4311</td>\n",
       "      <td>[ 0.17303757 -0.29860908 -0.24178134 -0.127024...</td>\n",
       "    </tr>\n",
       "    <tr>\n",
       "      <th>...</th>\n",
       "      <td>...</td>\n",
       "      <td>...</td>\n",
       "      <td>...</td>\n",
       "    </tr>\n",
       "    <tr>\n",
       "      <th>15127679</th>\n",
       "      <td>9CEF739DE1CEF3233F2C90878B082BA8</td>\n",
       "      <td>FFFFFB739796BE92A4278AF12F89A341</td>\n",
       "      <td>[-0.20728433 -0.09487068  0.19952467  0.119583...</td>\n",
       "    </tr>\n",
       "    <tr>\n",
       "      <th>15127680</th>\n",
       "      <td>0459C6E503097B6E564ED7170C3DD9C0</td>\n",
       "      <td>FFFFFE97AA06327403491D71E2ED52DA</td>\n",
       "      <td>[-0.20393233 -0.10655027  0.12799004  0.103121...</td>\n",
       "    </tr>\n",
       "    <tr>\n",
       "      <th>15127681</th>\n",
       "      <td>A9FFEC91BE8B7A10832D2E29424935AD</td>\n",
       "      <td>FFFFFE97AA06327403491D71E2ED52DA</td>\n",
       "      <td>[-0.30855218 -0.14309084  0.11370316  0.073646...</td>\n",
       "    </tr>\n",
       "    <tr>\n",
       "      <th>15127682</th>\n",
       "      <td>B1AFB06AB12B2B261C7D35F67D654742</td>\n",
       "      <td>FFFFFE97AA06327403491D71E2ED52DA</td>\n",
       "      <td>[-0.44340768 -0.19544874  0.09533497  0.023959...</td>\n",
       "    </tr>\n",
       "    <tr>\n",
       "      <th>15127683</th>\n",
       "      <td>28FCB83456B638AD97F465CFA331A59A</td>\n",
       "      <td>FFFFFEC9E895C3E139CB84D782E1F9A3</td>\n",
       "      <td>[-0.34203064 -0.16079521  0.14075664 -0.037642...</td>\n",
       "    </tr>\n",
       "  </tbody>\n",
       "</table>\n",
       "<p>15127684 rows × 3 columns</p>\n",
       "</div>"
      ],
      "text/plain": [
       "                                  tweet_id                  engaging_user_id  \\\n",
       "0         7647B4E9DAF4C1D8973397DC2A04F3E3  0000006C3074607050F1339DDCB890BB   \n",
       "1         CCBFBA5AFE7EFC03102EA8D0F86C4208  00000776B07587ECA9717BFC301F2D6E   \n",
       "2         E18C2DCFC5AF20C650A0FD94598E69B7  00000860E80C67D8C46CE57C64DE9444   \n",
       "3         26DC813FDF8546B757BB9141099F119E  00000865A1538142CDA5936B07FE4311   \n",
       "4         30A33055566AAC9EB18734C4EAD11FE1  00000865A1538142CDA5936B07FE4311   \n",
       "...                                    ...                               ...   \n",
       "15127679  9CEF739DE1CEF3233F2C90878B082BA8  FFFFFB739796BE92A4278AF12F89A341   \n",
       "15127680  0459C6E503097B6E564ED7170C3DD9C0  FFFFFE97AA06327403491D71E2ED52DA   \n",
       "15127681  A9FFEC91BE8B7A10832D2E29424935AD  FFFFFE97AA06327403491D71E2ED52DA   \n",
       "15127682  B1AFB06AB12B2B261C7D35F67D654742  FFFFFE97AA06327403491D71E2ED52DA   \n",
       "15127683  28FCB83456B638AD97F465CFA331A59A  FFFFFEC9E895C3E139CB84D782E1F9A3   \n",
       "\n",
       "                                         sentence_embedding  \n",
       "0         [-0.16600178 -0.22357826 -0.08349431 -0.150008...  \n",
       "1         [ 1.11614332e-01 -2.96647400e-01 -3.85199785e-...  \n",
       "2         [ 0.05624229 -0.32678255 -0.04964957 -0.003698...  \n",
       "3         [ 0.05665505 -0.33640945 -0.04591884 -0.098812...  \n",
       "4         [ 0.17303757 -0.29860908 -0.24178134 -0.127024...  \n",
       "...                                                     ...  \n",
       "15127679  [-0.20728433 -0.09487068  0.19952467  0.119583...  \n",
       "15127680  [-0.20393233 -0.10655027  0.12799004  0.103121...  \n",
       "15127681  [-0.30855218 -0.14309084  0.11370316  0.073646...  \n",
       "15127682  [-0.44340768 -0.19544874  0.09533497  0.023959...  \n",
       "15127683  [-0.34203064 -0.16079521  0.14075664 -0.037642...  \n",
       "\n",
       "[15127684 rows x 3 columns]"
      ]
     },
     "execution_count": 6,
     "metadata": {},
     "output_type": "execute_result"
    }
   ],
   "source": [
    "test_id_embeddings"
   ]
  },
  {
   "cell_type": "code",
   "execution_count": 7,
   "metadata": {},
   "outputs": [],
   "source": [
    "test_26_04_2020 = pd.read_csv(\"s3://recsys-challenge-2020/val_26_04_2020.tsv\", encoding=\"utf-8\",\n",
    "                    names = all_features, usecols= [2, 14], sep=\"\\x01\")"
   ]
  },
  {
   "cell_type": "code",
   "execution_count": 8,
   "metadata": {},
   "outputs": [
    {
     "data": {
      "text/html": [
       "<div>\n",
       "<style scoped>\n",
       "    .dataframe tbody tr th:only-of-type {\n",
       "        vertical-align: middle;\n",
       "    }\n",
       "\n",
       "    .dataframe tbody tr th {\n",
       "        vertical-align: top;\n",
       "    }\n",
       "\n",
       "    .dataframe thead th {\n",
       "        text-align: right;\n",
       "    }\n",
       "</style>\n",
       "<table border=\"1\" class=\"dataframe\">\n",
       "  <thead>\n",
       "    <tr style=\"text-align: right;\">\n",
       "      <th></th>\n",
       "      <th>tweet_id</th>\n",
       "      <th>engaging_user_id</th>\n",
       "    </tr>\n",
       "  </thead>\n",
       "  <tbody>\n",
       "    <tr>\n",
       "      <th>0</th>\n",
       "      <td>7647B4E9DAF4C1D8973397DC2A04F3E3</td>\n",
       "      <td>0000006C3074607050F1339DDCB890BB</td>\n",
       "    </tr>\n",
       "    <tr>\n",
       "      <th>1</th>\n",
       "      <td>408DB1803264B5FF55F73EC06BE9BD77</td>\n",
       "      <td>000013315386492275CCBF7AEF293EF0</td>\n",
       "    </tr>\n",
       "    <tr>\n",
       "      <th>2</th>\n",
       "      <td>2EE951379C47E8BF62EABB8FA027F753</td>\n",
       "      <td>00001569CB28972FC8173122D9DA162F</td>\n",
       "    </tr>\n",
       "    <tr>\n",
       "      <th>3</th>\n",
       "      <td>2135F24B05DAE3EF213F9CE80FDC6DAF</td>\n",
       "      <td>00001607209C5774DF9207A2AC0EED5F</td>\n",
       "    </tr>\n",
       "    <tr>\n",
       "      <th>4</th>\n",
       "      <td>09143FEDE9BD494A6EA9A7EE160565E3</td>\n",
       "      <td>0000177705514C315F2FC6DFA3872712</td>\n",
       "    </tr>\n",
       "    <tr>\n",
       "      <th>...</th>\n",
       "      <td>...</td>\n",
       "      <td>...</td>\n",
       "    </tr>\n",
       "    <tr>\n",
       "      <th>12984674</th>\n",
       "      <td>9ABED4B0AB2CAA18BD6248064C2502C5</td>\n",
       "      <td>FFFFF11D9F54702F82D4386907FA1EB4</td>\n",
       "    </tr>\n",
       "    <tr>\n",
       "      <th>12984675</th>\n",
       "      <td>EFCAC0A88CC0B00C382E7D0C6B524C91</td>\n",
       "      <td>FFFFF41EF74BC4EA75C33EC85FE16513</td>\n",
       "    </tr>\n",
       "    <tr>\n",
       "      <th>12984676</th>\n",
       "      <td>BE3AF4D2D7F17451A9BB6959019F4316</td>\n",
       "      <td>FFFFF785504753651FF3EF40B304840E</td>\n",
       "    </tr>\n",
       "    <tr>\n",
       "      <th>12984677</th>\n",
       "      <td>4A5F639729D6DDB69BA5DD2B334728C4</td>\n",
       "      <td>FFFFFB2D8B6FD1034804A4B740CB16BC</td>\n",
       "    </tr>\n",
       "    <tr>\n",
       "      <th>12984678</th>\n",
       "      <td>B1AFB06AB12B2B261C7D35F67D654742</td>\n",
       "      <td>FFFFFE97AA06327403491D71E2ED52DA</td>\n",
       "    </tr>\n",
       "  </tbody>\n",
       "</table>\n",
       "<p>12984679 rows × 2 columns</p>\n",
       "</div>"
      ],
      "text/plain": [
       "                                  tweet_id                  engaging_user_id\n",
       "0         7647B4E9DAF4C1D8973397DC2A04F3E3  0000006C3074607050F1339DDCB890BB\n",
       "1         408DB1803264B5FF55F73EC06BE9BD77  000013315386492275CCBF7AEF293EF0\n",
       "2         2EE951379C47E8BF62EABB8FA027F753  00001569CB28972FC8173122D9DA162F\n",
       "3         2135F24B05DAE3EF213F9CE80FDC6DAF  00001607209C5774DF9207A2AC0EED5F\n",
       "4         09143FEDE9BD494A6EA9A7EE160565E3  0000177705514C315F2FC6DFA3872712\n",
       "...                                    ...                               ...\n",
       "12984674  9ABED4B0AB2CAA18BD6248064C2502C5  FFFFF11D9F54702F82D4386907FA1EB4\n",
       "12984675  EFCAC0A88CC0B00C382E7D0C6B524C91  FFFFF41EF74BC4EA75C33EC85FE16513\n",
       "12984676  BE3AF4D2D7F17451A9BB6959019F4316  FFFFF785504753651FF3EF40B304840E\n",
       "12984677  4A5F639729D6DDB69BA5DD2B334728C4  FFFFFB2D8B6FD1034804A4B740CB16BC\n",
       "12984678  B1AFB06AB12B2B261C7D35F67D654742  FFFFFE97AA06327403491D71E2ED52DA\n",
       "\n",
       "[12984679 rows x 2 columns]"
      ]
     },
     "execution_count": 8,
     "metadata": {},
     "output_type": "execute_result"
    }
   ],
   "source": [
    "test_26_04_2020"
   ]
  },
  {
   "cell_type": "code",
   "execution_count": 9,
   "metadata": {},
   "outputs": [],
   "source": [
    "test_id_embeddings_26_04_2020 = pd.merge(test_26_04_2020, test_id_embeddings, on = ['tweet_id', 'engaging_user_id'])"
   ]
  },
  {
   "cell_type": "code",
   "execution_count": 10,
   "metadata": {},
   "outputs": [
    {
     "data": {
      "text/html": [
       "<div>\n",
       "<style scoped>\n",
       "    .dataframe tbody tr th:only-of-type {\n",
       "        vertical-align: middle;\n",
       "    }\n",
       "\n",
       "    .dataframe tbody tr th {\n",
       "        vertical-align: top;\n",
       "    }\n",
       "\n",
       "    .dataframe thead th {\n",
       "        text-align: right;\n",
       "    }\n",
       "</style>\n",
       "<table border=\"1\" class=\"dataframe\">\n",
       "  <thead>\n",
       "    <tr style=\"text-align: right;\">\n",
       "      <th></th>\n",
       "      <th>tweet_id</th>\n",
       "      <th>engaging_user_id</th>\n",
       "      <th>sentence_embedding</th>\n",
       "    </tr>\n",
       "  </thead>\n",
       "  <tbody>\n",
       "    <tr>\n",
       "      <th>0</th>\n",
       "      <td>7647B4E9DAF4C1D8973397DC2A04F3E3</td>\n",
       "      <td>0000006C3074607050F1339DDCB890BB</td>\n",
       "      <td>[-0.16600178 -0.22357826 -0.08349431 -0.150008...</td>\n",
       "    </tr>\n",
       "    <tr>\n",
       "      <th>1</th>\n",
       "      <td>408DB1803264B5FF55F73EC06BE9BD77</td>\n",
       "      <td>000013315386492275CCBF7AEF293EF0</td>\n",
       "      <td>[-0.08681167 -0.3957036   0.01935757 -0.009737...</td>\n",
       "    </tr>\n",
       "    <tr>\n",
       "      <th>2</th>\n",
       "      <td>2EE951379C47E8BF62EABB8FA027F753</td>\n",
       "      <td>00001569CB28972FC8173122D9DA162F</td>\n",
       "      <td>[ 0.05631955 -0.29206362  0.01773255 -0.056219...</td>\n",
       "    </tr>\n",
       "    <tr>\n",
       "      <th>3</th>\n",
       "      <td>2135F24B05DAE3EF213F9CE80FDC6DAF</td>\n",
       "      <td>00001607209C5774DF9207A2AC0EED5F</td>\n",
       "      <td>[ 0.04038592 -0.2721139   0.07892624  0.034378...</td>\n",
       "    </tr>\n",
       "    <tr>\n",
       "      <th>4</th>\n",
       "      <td>09143FEDE9BD494A6EA9A7EE160565E3</td>\n",
       "      <td>0000177705514C315F2FC6DFA3872712</td>\n",
       "      <td>[-0.04742883 -0.19948032 -0.04347689  0.066420...</td>\n",
       "    </tr>\n",
       "    <tr>\n",
       "      <th>...</th>\n",
       "      <td>...</td>\n",
       "      <td>...</td>\n",
       "      <td>...</td>\n",
       "    </tr>\n",
       "    <tr>\n",
       "      <th>12984674</th>\n",
       "      <td>9ABED4B0AB2CAA18BD6248064C2502C5</td>\n",
       "      <td>FFFFF11D9F54702F82D4386907FA1EB4</td>\n",
       "      <td>[ 0.49340957  0.14294729  0.20982687  0.090252...</td>\n",
       "    </tr>\n",
       "    <tr>\n",
       "      <th>12984675</th>\n",
       "      <td>EFCAC0A88CC0B00C382E7D0C6B524C91</td>\n",
       "      <td>FFFFF41EF74BC4EA75C33EC85FE16513</td>\n",
       "      <td>[ 0.28568828  0.0412934   0.2464709  -0.059447...</td>\n",
       "    </tr>\n",
       "    <tr>\n",
       "      <th>12984676</th>\n",
       "      <td>BE3AF4D2D7F17451A9BB6959019F4316</td>\n",
       "      <td>FFFFF785504753651FF3EF40B304840E</td>\n",
       "      <td>[ 0.28568828  0.0412934   0.2464709  -0.059447...</td>\n",
       "    </tr>\n",
       "    <tr>\n",
       "      <th>12984677</th>\n",
       "      <td>4A5F639729D6DDB69BA5DD2B334728C4</td>\n",
       "      <td>FFFFFB2D8B6FD1034804A4B740CB16BC</td>\n",
       "      <td>[ 3.7093687e-01  1.1482436e-02  2.1355751e-01 ...</td>\n",
       "    </tr>\n",
       "    <tr>\n",
       "      <th>12984678</th>\n",
       "      <td>B1AFB06AB12B2B261C7D35F67D654742</td>\n",
       "      <td>FFFFFE97AA06327403491D71E2ED52DA</td>\n",
       "      <td>[-0.44340768 -0.19544874  0.09533497  0.023959...</td>\n",
       "    </tr>\n",
       "  </tbody>\n",
       "</table>\n",
       "<p>12984679 rows × 3 columns</p>\n",
       "</div>"
      ],
      "text/plain": [
       "                                  tweet_id                  engaging_user_id  \\\n",
       "0         7647B4E9DAF4C1D8973397DC2A04F3E3  0000006C3074607050F1339DDCB890BB   \n",
       "1         408DB1803264B5FF55F73EC06BE9BD77  000013315386492275CCBF7AEF293EF0   \n",
       "2         2EE951379C47E8BF62EABB8FA027F753  00001569CB28972FC8173122D9DA162F   \n",
       "3         2135F24B05DAE3EF213F9CE80FDC6DAF  00001607209C5774DF9207A2AC0EED5F   \n",
       "4         09143FEDE9BD494A6EA9A7EE160565E3  0000177705514C315F2FC6DFA3872712   \n",
       "...                                    ...                               ...   \n",
       "12984674  9ABED4B0AB2CAA18BD6248064C2502C5  FFFFF11D9F54702F82D4386907FA1EB4   \n",
       "12984675  EFCAC0A88CC0B00C382E7D0C6B524C91  FFFFF41EF74BC4EA75C33EC85FE16513   \n",
       "12984676  BE3AF4D2D7F17451A9BB6959019F4316  FFFFF785504753651FF3EF40B304840E   \n",
       "12984677  4A5F639729D6DDB69BA5DD2B334728C4  FFFFFB2D8B6FD1034804A4B740CB16BC   \n",
       "12984678  B1AFB06AB12B2B261C7D35F67D654742  FFFFFE97AA06327403491D71E2ED52DA   \n",
       "\n",
       "                                         sentence_embedding  \n",
       "0         [-0.16600178 -0.22357826 -0.08349431 -0.150008...  \n",
       "1         [-0.08681167 -0.3957036   0.01935757 -0.009737...  \n",
       "2         [ 0.05631955 -0.29206362  0.01773255 -0.056219...  \n",
       "3         [ 0.04038592 -0.2721139   0.07892624  0.034378...  \n",
       "4         [-0.04742883 -0.19948032 -0.04347689  0.066420...  \n",
       "...                                                     ...  \n",
       "12984674  [ 0.49340957  0.14294729  0.20982687  0.090252...  \n",
       "12984675  [ 0.28568828  0.0412934   0.2464709  -0.059447...  \n",
       "12984676  [ 0.28568828  0.0412934   0.2464709  -0.059447...  \n",
       "12984677  [ 3.7093687e-01  1.1482436e-02  2.1355751e-01 ...  \n",
       "12984678  [-0.44340768 -0.19544874  0.09533497  0.023959...  \n",
       "\n",
       "[12984679 rows x 3 columns]"
      ]
     },
     "execution_count": 10,
     "metadata": {},
     "output_type": "execute_result"
    }
   ],
   "source": [
    "test_id_embeddings_26_04_2020"
   ]
  },
  {
   "cell_type": "code",
   "execution_count": 11,
   "metadata": {},
   "outputs": [
    {
     "data": {
      "text/plain": [
       "True"
      ]
     },
     "execution_count": 11,
     "metadata": {},
     "output_type": "execute_result"
    }
   ],
   "source": [
    "test_id_embeddings_26_04_2020[['tweet_id', 'engaging_user_id']].equals(test_26_04_2020[['tweet_id', 'engaging_user_id']])"
   ]
  },
  {
   "cell_type": "code",
   "execution_count": 12,
   "metadata": {},
   "outputs": [],
   "source": [
    "test_id_embeddings_26_04_2020[['sentence_embedding']].to_csv('s3://recsys-challenge-2020/all_lang_output_test_26_04_2020.csv')"
   ]
  }
 ],
 "metadata": {
  "kernelspec": {
   "display_name": "Python 3",
   "language": "python",
   "name": "python3"
  },
  "language_info": {
   "codemirror_mode": {
    "name": "ipython",
    "version": 3
   },
   "file_extension": ".py",
   "mimetype": "text/x-python",
   "name": "python",
   "nbconvert_exporter": "python",
   "pygments_lexer": "ipython3",
   "version": "3.7.6"
  }
 },
 "nbformat": 4,
 "nbformat_minor": 4
}
