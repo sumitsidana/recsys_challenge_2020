{
 "cells": [
  {
   "cell_type": "code",
   "execution_count": 1,
   "metadata": {},
   "outputs": [],
   "source": [
    "import pandas as pd"
   ]
  },
  {
   "cell_type": "code",
   "execution_count": null,
   "metadata": {},
   "outputs": [],
   "source": [
    "original_train_embed"
   ]
  },
  {
   "cell_type": "code",
   "execution_count": null,
   "metadata": {},
   "outputs": [],
   "source": [
    "all_features = [\"tweet_id\" , \"tweet_timestamp\"]\n",
    "train = pd.read_csv(\"s3://recsys-challenge-2020/training.tsv\", encoding=\"utf-8\",\n",
    "                    names = all_features, usecols= [2, 8], sep=\"\\x01\"\n",
    "                   )\n",
    "train_sorted = train.sort_values(by=['tweet_timestamp']).reset_index()\n",
    "n_head = 90\n",
    "n_tail = 10\n",
    "train_set = train_sorted.head(int(len(train_sorted)*(n_head/100)))\n",
    "val_set = train_sorted.tail(int(len(train_sorted)*(n_tail/100)))\n",
    "lang_embedd_train_set = pd.read_csv('s3://recsys-challenge-2020/fast_text_embeddings/lang_embedd_train_set.csv', header = None)\n",
    "lang_embed_val_set = pd.read_csv('s3://recsys-challenge-2020/fast_text_embeddings/lang_embedd_val_set.csv', header = None)\n",
    "train_embed_set = pd.concat([train_set, lang_embedd_train_set], axis = 1)\n",
    "val_embed_set = pd.concat([val_set, lang_embed_val_set], axis = 1)\n",
    "train_embed = pd.concat([train_embed_set, val_embed_set])\n",
    "original_train_embed = pd.merge(train, train_embed, how = 'left', left_on = 'tweet_id', right_on = 'tweet_id')"
   ]
  }
 ],
 "metadata": {
  "kernelspec": {
   "display_name": "Python 3",
   "language": "python",
   "name": "python3"
  },
  "language_info": {
   "codemirror_mode": {
    "name": "ipython",
    "version": 3
   },
   "file_extension": ".py",
   "mimetype": "text/x-python",
   "name": "python",
   "nbconvert_exporter": "python",
   "pygments_lexer": "ipython3",
   "version": "3.7.6"
  }
 },
 "nbformat": 4,
 "nbformat_minor": 4
}
