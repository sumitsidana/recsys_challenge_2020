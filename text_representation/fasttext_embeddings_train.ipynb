{
 "cells": [
  {
   "cell_type": "code",
   "execution_count": 1,
   "metadata": {},
   "outputs": [],
   "source": [
    "import pandas as pd"
   ]
  },
  {
   "cell_type": "code",
   "execution_count": 2,
   "metadata": {},
   "outputs": [
    {
     "name": "stdout",
     "output_type": "stream",
     "text": [
      "train loaded\n"
     ]
    }
   ],
   "source": [
    "all_features = [\"tweet_id\" , \"tweet_timestamp\"]\n",
    "train = pd.read_csv(\"s3://recsys-challenge-2020/training.tsv\", encoding=\"utf-8\",\n",
    "                    names = all_features, usecols= [2, 8], sep=\"\\x01\"\n",
    "                   )\n",
    "print('train loaded')"
   ]
  },
  {
   "cell_type": "code",
   "execution_count": 3,
   "metadata": {},
   "outputs": [
    {
     "name": "stdout",
     "output_type": "stream",
     "text": [
      "train sorted\n"
     ]
    }
   ],
   "source": [
    "train_sorted = train.sort_values(by=['tweet_timestamp']).reset_index()\n",
    "print('train sorted')\n",
    "n_head = 90\n",
    "n_tail = 10\n",
    "train_set = train_sorted.head(int(len(train_sorted)*(n_head/100)))\n",
    "val_set = train_sorted.tail(int(len(train_sorted)*(n_tail/100)))"
   ]
  },
  {
   "cell_type": "code",
   "execution_count": 4,
   "metadata": {},
   "outputs": [],
   "source": [
    "train_set_embeddings = pd.read_csv('s3://recsys-challenge-2020/all_lang_output_train.csv')"
   ]
  },
  {
   "cell_type": "code",
   "execution_count": 5,
   "metadata": {},
   "outputs": [],
   "source": [
    "val_set_embeddings = pd.read_csv('s3://recsys-challenge-2020/all_lang_output_val.csv')"
   ]
  },
  {
   "cell_type": "code",
   "execution_count": 6,
   "metadata": {},
   "outputs": [],
   "source": [
    "train_embeddings_set = pd.concat([train_set, train_set_embeddings], axis = 1)\n",
    "val_embeddings_set = pd.concat([val_set.reset_index(), val_set_embeddings], axis =1)\n",
    "train_embeddings = pd.concat([train_embeddings_set, val_embeddings_set])"
   ]
  },
  {
   "cell_type": "code",
   "execution_count": 22,
   "metadata": {},
   "outputs": [],
   "source": [
    "val_embeddings_set = pd.concat([val_set.reset_index(), val_set_embeddings], axis =1)\n",
    "train_embeddings = pd.concat([train_embeddings_set, val_embeddings_set])"
   ]
  },
  {
   "cell_type": "code",
   "execution_count": null,
   "metadata": {},
   "outputs": [],
   "source": [
    "original_train_embeddings = pd.merge(train, train_embeddings, how = 'left', left_on = 'tweet_id', right_on = 'tweet_id')"
   ]
  },
  {
   "cell_type": "code",
   "execution_count": 27,
   "metadata": {},
   "outputs": [],
   "source": [
    "train_embeddings_index_sorted = train_embeddings.sort_values(['index'])"
   ]
  },
  {
   "cell_type": "code",
   "execution_count": 31,
   "metadata": {},
   "outputs": [
    {
     "data": {
      "text/html": [
       "<div>\n",
       "<style scoped>\n",
       "    .dataframe tbody tr th:only-of-type {\n",
       "        vertical-align: middle;\n",
       "    }\n",
       "\n",
       "    .dataframe tbody tr th {\n",
       "        vertical-align: top;\n",
       "    }\n",
       "\n",
       "    .dataframe thead th {\n",
       "        text-align: right;\n",
       "    }\n",
       "</style>\n",
       "<table border=\"1\" class=\"dataframe\">\n",
       "  <thead>\n",
       "    <tr style=\"text-align: right;\">\n",
       "      <th></th>\n",
       "      <th>index</th>\n",
       "      <th>tweet_id</th>\n",
       "      <th>tweet_timestamp</th>\n",
       "      <th>Unnamed: 0</th>\n",
       "      <th>sentence_embedding</th>\n",
       "      <th>level_0</th>\n",
       "    </tr>\n",
       "  </thead>\n",
       "  <tbody>\n",
       "    <tr>\n",
       "      <th>76053656</th>\n",
       "      <td>0</td>\n",
       "      <td>D4D1EBDE74F74C5DA529959AF979625C</td>\n",
       "      <td>1581258144</td>\n",
       "      <td>76053656</td>\n",
       "      <td>[-0.02144662  0.20354895  0.00645234  0.040057...</td>\n",
       "      <td>NaN</td>\n",
       "    </tr>\n",
       "    <tr>\n",
       "      <th>17033142</th>\n",
       "      <td>1</td>\n",
       "      <td>BFB529DAB6D384EB83E899A72AB3830D</td>\n",
       "      <td>1581018910</td>\n",
       "      <td>17033142</td>\n",
       "      <td>[ 0.04176716 -0.28724265 -0.1052285  -0.072304...</td>\n",
       "      <td>NaN</td>\n",
       "    </tr>\n",
       "    <tr>\n",
       "      <th>72408289</th>\n",
       "      <td>2</td>\n",
       "      <td>519078C7834E9642508F72A6C2D0F3B7</td>\n",
       "      <td>1581244866</td>\n",
       "      <td>72408289</td>\n",
       "      <td>[-0.11801001  0.18592697 -0.13860588 -0.248360...</td>\n",
       "      <td>NaN</td>\n",
       "    </tr>\n",
       "    <tr>\n",
       "      <th>73681069</th>\n",
       "      <td>3</td>\n",
       "      <td>52AAE9E33EFAC8C478C57B31A9E31ED1</td>\n",
       "      <td>1581250124</td>\n",
       "      <td>73681069</td>\n",
       "      <td>[ 0.3813068  -0.01353616 -0.18093751 -0.339108...</td>\n",
       "      <td>NaN</td>\n",
       "    </tr>\n",
       "    <tr>\n",
       "      <th>2832897</th>\n",
       "      <td>4</td>\n",
       "      <td>89C1298C55EB3D68E2784F0BFB69E6F8</td>\n",
       "      <td>1580958805</td>\n",
       "      <td>2832897</td>\n",
       "      <td>[-0.10751743  0.1597824  -0.1880484  -0.032986...</td>\n",
       "      <td>NaN</td>\n",
       "    </tr>\n",
       "    <tr>\n",
       "      <th>...</th>\n",
       "      <td>...</td>\n",
       "      <td>...</td>\n",
       "      <td>...</td>\n",
       "      <td>...</td>\n",
       "      <td>...</td>\n",
       "      <td>...</td>\n",
       "    </tr>\n",
       "    <tr>\n",
       "      <th>28416522</th>\n",
       "      <td>148075233</td>\n",
       "      <td>21D58EF51BEA1B7F2F99FCC8100600A1</td>\n",
       "      <td>1581073345</td>\n",
       "      <td>28416522</td>\n",
       "      <td>[ 0.0050545  -0.3644939  -0.04321434 -0.012071...</td>\n",
       "      <td>NaN</td>\n",
       "    </tr>\n",
       "    <tr>\n",
       "      <th>12175351</th>\n",
       "      <td>148075234</td>\n",
       "      <td>594EB7611FF4DA83CA6DD1BBD1E37735</td>\n",
       "      <td>1581538343</td>\n",
       "      <td>12175351</td>\n",
       "      <td>[-0.39366525 -0.3945667   0.00835489 -0.139878...</td>\n",
       "      <td>145443066.0</td>\n",
       "    </tr>\n",
       "    <tr>\n",
       "      <th>9046584</th>\n",
       "      <td>148075235</td>\n",
       "      <td>93DDD9BAA2AA21BBFB487326781811F3</td>\n",
       "      <td>1581525336</td>\n",
       "      <td>9046584</td>\n",
       "      <td>[-0.05744382 -0.05043431 -0.21667148 -0.065127...</td>\n",
       "      <td>142314299.0</td>\n",
       "    </tr>\n",
       "    <tr>\n",
       "      <th>45836385</th>\n",
       "      <td>148075236</td>\n",
       "      <td>3EE9B7EFC6C792299B0DDA5B7F408860</td>\n",
       "      <td>1581133279</td>\n",
       "      <td>45836385</td>\n",
       "      <td>[ 0.06306173 -0.2593712  -0.03239084  0.054223...</td>\n",
       "      <td>NaN</td>\n",
       "    </tr>\n",
       "    <tr>\n",
       "      <th>11665221</th>\n",
       "      <td>148075237</td>\n",
       "      <td>BB8A9458AF9DB963BD3FDF65C5D3EAAF</td>\n",
       "      <td>1581535971</td>\n",
       "      <td>11665221</td>\n",
       "      <td>[-0.12940477  0.11236615 -0.03783252 -0.050657...</td>\n",
       "      <td>144932936.0</td>\n",
       "    </tr>\n",
       "  </tbody>\n",
       "</table>\n",
       "<p>148075237 rows × 6 columns</p>\n",
       "</div>"
      ],
      "text/plain": [
       "              index                          tweet_id  tweet_timestamp  \\\n",
       "76053656          0  D4D1EBDE74F74C5DA529959AF979625C       1581258144   \n",
       "17033142          1  BFB529DAB6D384EB83E899A72AB3830D       1581018910   \n",
       "72408289          2  519078C7834E9642508F72A6C2D0F3B7       1581244866   \n",
       "73681069          3  52AAE9E33EFAC8C478C57B31A9E31ED1       1581250124   \n",
       "2832897           4  89C1298C55EB3D68E2784F0BFB69E6F8       1580958805   \n",
       "...             ...                               ...              ...   \n",
       "28416522  148075233  21D58EF51BEA1B7F2F99FCC8100600A1       1581073345   \n",
       "12175351  148075234  594EB7611FF4DA83CA6DD1BBD1E37735       1581538343   \n",
       "9046584   148075235  93DDD9BAA2AA21BBFB487326781811F3       1581525336   \n",
       "45836385  148075236  3EE9B7EFC6C792299B0DDA5B7F408860       1581133279   \n",
       "11665221  148075237  BB8A9458AF9DB963BD3FDF65C5D3EAAF       1581535971   \n",
       "\n",
       "          Unnamed: 0                                 sentence_embedding  \\\n",
       "76053656    76053656  [-0.02144662  0.20354895  0.00645234  0.040057...   \n",
       "17033142    17033142  [ 0.04176716 -0.28724265 -0.1052285  -0.072304...   \n",
       "72408289    72408289  [-0.11801001  0.18592697 -0.13860588 -0.248360...   \n",
       "73681069    73681069  [ 0.3813068  -0.01353616 -0.18093751 -0.339108...   \n",
       "2832897      2832897  [-0.10751743  0.1597824  -0.1880484  -0.032986...   \n",
       "...              ...                                                ...   \n",
       "28416522    28416522  [ 0.0050545  -0.3644939  -0.04321434 -0.012071...   \n",
       "12175351    12175351  [-0.39366525 -0.3945667   0.00835489 -0.139878...   \n",
       "9046584      9046584  [-0.05744382 -0.05043431 -0.21667148 -0.065127...   \n",
       "45836385    45836385  [ 0.06306173 -0.2593712  -0.03239084  0.054223...   \n",
       "11665221    11665221  [-0.12940477  0.11236615 -0.03783252 -0.050657...   \n",
       "\n",
       "              level_0  \n",
       "76053656          NaN  \n",
       "17033142          NaN  \n",
       "72408289          NaN  \n",
       "73681069          NaN  \n",
       "2832897           NaN  \n",
       "...               ...  \n",
       "28416522          NaN  \n",
       "12175351  145443066.0  \n",
       "9046584   142314299.0  \n",
       "45836385          NaN  \n",
       "11665221  144932936.0  \n",
       "\n",
       "[148075237 rows x 6 columns]"
      ]
     },
     "execution_count": 31,
     "metadata": {},
     "output_type": "execute_result"
    }
   ],
   "source": [
    "train_embeddings_index_sorted"
   ]
  },
  {
   "cell_type": "code",
   "execution_count": 30,
   "metadata": {},
   "outputs": [
    {
     "data": {
      "text/html": [
       "<div>\n",
       "<style scoped>\n",
       "    .dataframe tbody tr th:only-of-type {\n",
       "        vertical-align: middle;\n",
       "    }\n",
       "\n",
       "    .dataframe tbody tr th {\n",
       "        vertical-align: top;\n",
       "    }\n",
       "\n",
       "    .dataframe thead th {\n",
       "        text-align: right;\n",
       "    }\n",
       "</style>\n",
       "<table border=\"1\" class=\"dataframe\">\n",
       "  <thead>\n",
       "    <tr style=\"text-align: right;\">\n",
       "      <th></th>\n",
       "      <th>tweet_id</th>\n",
       "      <th>tweet_timestamp</th>\n",
       "    </tr>\n",
       "  </thead>\n",
       "  <tbody>\n",
       "    <tr>\n",
       "      <th>0</th>\n",
       "      <td>D4D1EBDE74F74C5DA529959AF979625C</td>\n",
       "      <td>1581258144</td>\n",
       "    </tr>\n",
       "    <tr>\n",
       "      <th>1</th>\n",
       "      <td>BFB529DAB6D384EB83E899A72AB3830D</td>\n",
       "      <td>1581018910</td>\n",
       "    </tr>\n",
       "    <tr>\n",
       "      <th>2</th>\n",
       "      <td>519078C7834E9642508F72A6C2D0F3B7</td>\n",
       "      <td>1581244866</td>\n",
       "    </tr>\n",
       "    <tr>\n",
       "      <th>3</th>\n",
       "      <td>52AAE9E33EFAC8C478C57B31A9E31ED1</td>\n",
       "      <td>1581250124</td>\n",
       "    </tr>\n",
       "    <tr>\n",
       "      <th>4</th>\n",
       "      <td>89C1298C55EB3D68E2784F0BFB69E6F8</td>\n",
       "      <td>1580958805</td>\n",
       "    </tr>\n",
       "    <tr>\n",
       "      <th>...</th>\n",
       "      <td>...</td>\n",
       "      <td>...</td>\n",
       "    </tr>\n",
       "    <tr>\n",
       "      <th>148075233</th>\n",
       "      <td>21D58EF51BEA1B7F2F99FCC8100600A1</td>\n",
       "      <td>1581073345</td>\n",
       "    </tr>\n",
       "    <tr>\n",
       "      <th>148075234</th>\n",
       "      <td>594EB7611FF4DA83CA6DD1BBD1E37735</td>\n",
       "      <td>1581538343</td>\n",
       "    </tr>\n",
       "    <tr>\n",
       "      <th>148075235</th>\n",
       "      <td>93DDD9BAA2AA21BBFB487326781811F3</td>\n",
       "      <td>1581525336</td>\n",
       "    </tr>\n",
       "    <tr>\n",
       "      <th>148075236</th>\n",
       "      <td>3EE9B7EFC6C792299B0DDA5B7F408860</td>\n",
       "      <td>1581133279</td>\n",
       "    </tr>\n",
       "    <tr>\n",
       "      <th>148075237</th>\n",
       "      <td>BB8A9458AF9DB963BD3FDF65C5D3EAAF</td>\n",
       "      <td>1581535971</td>\n",
       "    </tr>\n",
       "  </tbody>\n",
       "</table>\n",
       "<p>148075238 rows × 2 columns</p>\n",
       "</div>"
      ],
      "text/plain": [
       "                                   tweet_id  tweet_timestamp\n",
       "0          D4D1EBDE74F74C5DA529959AF979625C       1581258144\n",
       "1          BFB529DAB6D384EB83E899A72AB3830D       1581018910\n",
       "2          519078C7834E9642508F72A6C2D0F3B7       1581244866\n",
       "3          52AAE9E33EFAC8C478C57B31A9E31ED1       1581250124\n",
       "4          89C1298C55EB3D68E2784F0BFB69E6F8       1580958805\n",
       "...                                     ...              ...\n",
       "148075233  21D58EF51BEA1B7F2F99FCC8100600A1       1581073345\n",
       "148075234  594EB7611FF4DA83CA6DD1BBD1E37735       1581538343\n",
       "148075235  93DDD9BAA2AA21BBFB487326781811F3       1581525336\n",
       "148075236  3EE9B7EFC6C792299B0DDA5B7F408860       1581133279\n",
       "148075237  BB8A9458AF9DB963BD3FDF65C5D3EAAF       1581535971\n",
       "\n",
       "[148075238 rows x 2 columns]"
      ]
     },
     "execution_count": 30,
     "metadata": {},
     "output_type": "execute_result"
    }
   ],
   "source": [
    "train"
   ]
  },
  {
   "cell_type": "code",
   "execution_count": 34,
   "metadata": {},
   "outputs": [
    {
     "data": {
      "text/html": [
       "<div>\n",
       "<style scoped>\n",
       "    .dataframe tbody tr th:only-of-type {\n",
       "        vertical-align: middle;\n",
       "    }\n",
       "\n",
       "    .dataframe tbody tr th {\n",
       "        vertical-align: top;\n",
       "    }\n",
       "\n",
       "    .dataframe thead th {\n",
       "        text-align: right;\n",
       "    }\n",
       "</style>\n",
       "<table border=\"1\" class=\"dataframe\">\n",
       "  <thead>\n",
       "    <tr style=\"text-align: right;\">\n",
       "      <th></th>\n",
       "      <th>index</th>\n",
       "      <th>tweet_id</th>\n",
       "      <th>tweet_timestamp</th>\n",
       "    </tr>\n",
       "  </thead>\n",
       "  <tbody>\n",
       "    <tr>\n",
       "      <th>0</th>\n",
       "      <td>19856362</td>\n",
       "      <td>66BB647424F5AD25A562F1C50D688626</td>\n",
       "      <td>1580947200</td>\n",
       "    </tr>\n",
       "    <tr>\n",
       "      <th>1</th>\n",
       "      <td>70014084</td>\n",
       "      <td>1BD6E406781F48D3FB023E1212BAD6DC</td>\n",
       "      <td>1580947200</td>\n",
       "    </tr>\n",
       "    <tr>\n",
       "      <th>2</th>\n",
       "      <td>45640141</td>\n",
       "      <td>7A6C40F8B6FE18A164C8A426E968867D</td>\n",
       "      <td>1580947200</td>\n",
       "    </tr>\n",
       "    <tr>\n",
       "      <th>3</th>\n",
       "      <td>103063682</td>\n",
       "      <td>691021EDFDBED14FDF59FACCDFC4B68B</td>\n",
       "      <td>1580947200</td>\n",
       "    </tr>\n",
       "    <tr>\n",
       "      <th>4</th>\n",
       "      <td>54351326</td>\n",
       "      <td>F17D06139541C3EDB831451219B5D69F</td>\n",
       "      <td>1580947200</td>\n",
       "    </tr>\n",
       "    <tr>\n",
       "      <th>...</th>\n",
       "      <td>...</td>\n",
       "      <td>...</td>\n",
       "      <td>...</td>\n",
       "    </tr>\n",
       "    <tr>\n",
       "      <th>133267709</th>\n",
       "      <td>6993239</td>\n",
       "      <td>F1529D503347DA75EFFD67CC1D9DA0F9</td>\n",
       "      <td>1581486678</td>\n",
       "    </tr>\n",
       "    <tr>\n",
       "      <th>133267710</th>\n",
       "      <td>12499592</td>\n",
       "      <td>F1529D503347DA75EFFD67CC1D9DA0F9</td>\n",
       "      <td>1581486678</td>\n",
       "    </tr>\n",
       "    <tr>\n",
       "      <th>133267711</th>\n",
       "      <td>100627863</td>\n",
       "      <td>A6EC935E0DD8039D6957A46634F41068</td>\n",
       "      <td>1581486678</td>\n",
       "    </tr>\n",
       "    <tr>\n",
       "      <th>133267712</th>\n",
       "      <td>56805658</td>\n",
       "      <td>F1529D503347DA75EFFD67CC1D9DA0F9</td>\n",
       "      <td>1581486678</td>\n",
       "    </tr>\n",
       "    <tr>\n",
       "      <th>133267713</th>\n",
       "      <td>56733728</td>\n",
       "      <td>F1529D503347DA75EFFD67CC1D9DA0F9</td>\n",
       "      <td>1581486678</td>\n",
       "    </tr>\n",
       "  </tbody>\n",
       "</table>\n",
       "<p>133267714 rows × 3 columns</p>\n",
       "</div>"
      ],
      "text/plain": [
       "               index                          tweet_id  tweet_timestamp\n",
       "0           19856362  66BB647424F5AD25A562F1C50D688626       1580947200\n",
       "1           70014084  1BD6E406781F48D3FB023E1212BAD6DC       1580947200\n",
       "2           45640141  7A6C40F8B6FE18A164C8A426E968867D       1580947200\n",
       "3          103063682  691021EDFDBED14FDF59FACCDFC4B68B       1580947200\n",
       "4           54351326  F17D06139541C3EDB831451219B5D69F       1580947200\n",
       "...              ...                               ...              ...\n",
       "133267709    6993239  F1529D503347DA75EFFD67CC1D9DA0F9       1581486678\n",
       "133267710   12499592  F1529D503347DA75EFFD67CC1D9DA0F9       1581486678\n",
       "133267711  100627863  A6EC935E0DD8039D6957A46634F41068       1581486678\n",
       "133267712   56805658  F1529D503347DA75EFFD67CC1D9DA0F9       1581486678\n",
       "133267713   56733728  F1529D503347DA75EFFD67CC1D9DA0F9       1581486678\n",
       "\n",
       "[133267714 rows x 3 columns]"
      ]
     },
     "execution_count": 34,
     "metadata": {},
     "output_type": "execute_result"
    }
   ],
   "source": [
    "train_set"
   ]
  },
  {
   "cell_type": "code",
   "execution_count": 32,
   "metadata": {},
   "outputs": [
    {
     "data": {
      "text/plain": [
       "148075237"
      ]
     },
     "execution_count": 32,
     "metadata": {},
     "output_type": "execute_result"
    }
   ],
   "source": [
    "len(train_embeddings_index_sorted)"
   ]
  },
  {
   "cell_type": "code",
   "execution_count": 33,
   "metadata": {},
   "outputs": [
    {
     "data": {
      "text/plain": [
       "148075238"
      ]
     },
     "execution_count": 33,
     "metadata": {},
     "output_type": "execute_result"
    }
   ],
   "source": [
    "len(train)"
   ]
  },
  {
   "cell_type": "code",
   "execution_count": 37,
   "metadata": {},
   "outputs": [
    {
     "data": {
      "text/plain": [
       "index                                      56733728\n",
       "tweet_id           F1529D503347DA75EFFD67CC1D9DA0F9\n",
       "tweet_timestamp                          1581486678\n",
       "Name: 133267713, dtype: object"
      ]
     },
     "execution_count": 37,
     "metadata": {},
     "output_type": "execute_result"
    }
   ],
   "source": [
    "train_sorted.loc[133267713]"
   ]
  },
  {
   "cell_type": "code",
   "execution_count": 38,
   "metadata": {},
   "outputs": [
    {
     "data": {
      "text/plain": [
       "index                                     123786896\n",
       "tweet_id           F1529D503347DA75EFFD67CC1D9DA0F9\n",
       "tweet_timestamp                          1581486678\n",
       "Name: 133267714, dtype: object"
      ]
     },
     "execution_count": 38,
     "metadata": {},
     "output_type": "execute_result"
    }
   ],
   "source": [
    "train_sorted.loc[133267714]"
   ]
  },
  {
   "cell_type": "code",
   "execution_count": 55,
   "metadata": {},
   "outputs": [],
   "source": [
    "desired_line = pd.read_csv('s3://recsys-challenge-2020/training.tsv', skiprows = 123786896, nrows = 1)"
   ]
  },
  {
   "cell_type": "code",
   "execution_count": 60,
   "metadata": {},
   "outputs": [
    {
     "data": {
      "text/plain": [
       "Index(['101\\t17713\\t9405\\t119152\\t119002\\t118823\\t9531\\t10530\\t13767\\t9665\\t118649\\t33323\\t23466\\t9405\\t18623\\t27023\\t58303\\t48345\\t119\\t119\\t119\\t9665\\t118649\\t33323\\t23466\\t11018\\t9405\\t119152\\t9531\\t11489\\t9580\\t118762\\t9519\\t119285\\t130\\t14040\\t17655\\t9580\\t31531\\t125\\t14040\\t18382\\t68943\\t9576\\t16605\\t58303\\t48345\\t119\\t119\\t119\\t137\\t49866\\t27572\\t10112\\t11259\\t12674\\t11403\\t108\\t80426\\t11403\\t108\\t9560\\t22333\\t14120\\t131\\t120\\t120\\t188\\t119\\t11170\\t120\\t171\\t10731\\t48205\\t11259\\t12396\\t11211\\t11281\\t10174\\t11090\\t102\u0001F2AA2F668B2C6FF79297EB03A516166A\\t2414AC78AAA91EC5CC89F15011ED1254\u0001F1529D503347DA75EFFD67CC1D9DA0F9\u0001Photo\\tPhoto\\tPhoto\\tPhoto\u0001\u0001\u0001TopLevel\u0001125C57F4FA6D4E110983FB11B52EFD4E\u00011581486678\u0001D75AAE3CCFA44BD84C35942CA4D03E56\u000112459\u00014\u0001false\u00011578050488\u0001AFEA4500BC740BFD6303642AA57DAFF2\u000155\u000176\u0001false\u00011519362341\u0001false\u0001\u0001\u0001\u0001'], dtype='object')"
      ]
     },
     "execution_count": 60,
     "metadata": {},
     "output_type": "execute_result"
    }
   ],
   "source": [
    "desired_line.columns"
   ]
  },
  {
   "cell_type": "code",
   "execution_count": 57,
   "metadata": {},
   "outputs": [],
   "source": [
    "desired_line_backup = desired_line.copy()"
   ]
  },
  {
   "cell_type": "code",
   "execution_count": 59,
   "metadata": {},
   "outputs": [
    {
     "ename": "ValueError",
     "evalue": "Length mismatch: Expected axis has 1 elements, new values have 24 elements",
     "output_type": "error",
     "traceback": [
      "\u001b[0;31m---------------------------------------------------------------------------\u001b[0m",
      "\u001b[0;31mValueError\u001b[0m                                Traceback (most recent call last)",
      "\u001b[0;32m<ipython-input-59-e07ef003ec48>\u001b[0m in \u001b[0;36m<module>\u001b[0;34m\u001b[0m\n\u001b[1;32m      4\u001b[0m                \u001b[0;34m\"enaging_user_id\"\u001b[0m\u001b[0;34m,\u001b[0m \u001b[0;34m\"enaging_user_follower_count\"\u001b[0m\u001b[0;34m,\u001b[0m \u001b[0;34m\"enaging_user_following_count\"\u001b[0m\u001b[0;34m,\u001b[0m \u001b[0;34m\"enaging_user_is_verified\"\u001b[0m\u001b[0;34m,\u001b[0m\u001b[0;31m\\\u001b[0m\u001b[0;34m\u001b[0m\u001b[0;34m\u001b[0m\u001b[0m\n\u001b[1;32m      5\u001b[0m                \u001b[0;34m\"enaging_user_account_creation\"\u001b[0m\u001b[0;34m,\u001b[0m \u001b[0;34m\"engagee_follows_engager\"\u001b[0m\u001b[0;34m,\u001b[0m \u001b[0;34m\"reply_timestamp\"\u001b[0m\u001b[0;34m,\u001b[0m \u001b[0;34m\"retweet_timestamp\"\u001b[0m\u001b[0;34m,\u001b[0m\u001b[0;31m\\\u001b[0m\u001b[0;34m\u001b[0m\u001b[0;34m\u001b[0m\u001b[0m\n\u001b[0;32m----> 6\u001b[0;31m                 \"retweet_with_comment_timestamp\", \"like_timestamp\"]\n\u001b[0m",
      "\u001b[0;32m~/anaconda3/lib/python3.7/site-packages/pandas/core/generic.py\u001b[0m in \u001b[0;36m__setattr__\u001b[0;34m(self, name, value)\u001b[0m\n\u001b[1;32m   5285\u001b[0m         \u001b[0;32mtry\u001b[0m\u001b[0;34m:\u001b[0m\u001b[0;34m\u001b[0m\u001b[0;34m\u001b[0m\u001b[0m\n\u001b[1;32m   5286\u001b[0m             \u001b[0mobject\u001b[0m\u001b[0;34m.\u001b[0m\u001b[0m__getattribute__\u001b[0m\u001b[0;34m(\u001b[0m\u001b[0mself\u001b[0m\u001b[0;34m,\u001b[0m \u001b[0mname\u001b[0m\u001b[0;34m)\u001b[0m\u001b[0;34m\u001b[0m\u001b[0;34m\u001b[0m\u001b[0m\n\u001b[0;32m-> 5287\u001b[0;31m             \u001b[0;32mreturn\u001b[0m \u001b[0mobject\u001b[0m\u001b[0;34m.\u001b[0m\u001b[0m__setattr__\u001b[0m\u001b[0;34m(\u001b[0m\u001b[0mself\u001b[0m\u001b[0;34m,\u001b[0m \u001b[0mname\u001b[0m\u001b[0;34m,\u001b[0m \u001b[0mvalue\u001b[0m\u001b[0;34m)\u001b[0m\u001b[0;34m\u001b[0m\u001b[0;34m\u001b[0m\u001b[0m\n\u001b[0m\u001b[1;32m   5288\u001b[0m         \u001b[0;32mexcept\u001b[0m \u001b[0mAttributeError\u001b[0m\u001b[0;34m:\u001b[0m\u001b[0;34m\u001b[0m\u001b[0;34m\u001b[0m\u001b[0m\n\u001b[1;32m   5289\u001b[0m             \u001b[0;32mpass\u001b[0m\u001b[0;34m\u001b[0m\u001b[0;34m\u001b[0m\u001b[0m\n",
      "\u001b[0;32mpandas/_libs/properties.pyx\u001b[0m in \u001b[0;36mpandas._libs.properties.AxisProperty.__set__\u001b[0;34m()\u001b[0m\n",
      "\u001b[0;32m~/anaconda3/lib/python3.7/site-packages/pandas/core/generic.py\u001b[0m in \u001b[0;36m_set_axis\u001b[0;34m(self, axis, labels)\u001b[0m\n\u001b[1;32m    659\u001b[0m \u001b[0;34m\u001b[0m\u001b[0m\n\u001b[1;32m    660\u001b[0m     \u001b[0;32mdef\u001b[0m \u001b[0m_set_axis\u001b[0m\u001b[0;34m(\u001b[0m\u001b[0mself\u001b[0m\u001b[0;34m,\u001b[0m \u001b[0maxis\u001b[0m\u001b[0;34m,\u001b[0m \u001b[0mlabels\u001b[0m\u001b[0;34m)\u001b[0m \u001b[0;34m->\u001b[0m \u001b[0;32mNone\u001b[0m\u001b[0;34m:\u001b[0m\u001b[0;34m\u001b[0m\u001b[0;34m\u001b[0m\u001b[0m\n\u001b[0;32m--> 661\u001b[0;31m         \u001b[0mself\u001b[0m\u001b[0;34m.\u001b[0m\u001b[0m_data\u001b[0m\u001b[0;34m.\u001b[0m\u001b[0mset_axis\u001b[0m\u001b[0;34m(\u001b[0m\u001b[0maxis\u001b[0m\u001b[0;34m,\u001b[0m \u001b[0mlabels\u001b[0m\u001b[0;34m)\u001b[0m\u001b[0;34m\u001b[0m\u001b[0;34m\u001b[0m\u001b[0m\n\u001b[0m\u001b[1;32m    662\u001b[0m         \u001b[0mself\u001b[0m\u001b[0;34m.\u001b[0m\u001b[0m_clear_item_cache\u001b[0m\u001b[0;34m(\u001b[0m\u001b[0;34m)\u001b[0m\u001b[0;34m\u001b[0m\u001b[0;34m\u001b[0m\u001b[0m\n\u001b[1;32m    663\u001b[0m \u001b[0;34m\u001b[0m\u001b[0m\n",
      "\u001b[0;32m~/anaconda3/lib/python3.7/site-packages/pandas/core/internals/managers.py\u001b[0m in \u001b[0;36mset_axis\u001b[0;34m(self, axis, new_labels)\u001b[0m\n\u001b[1;32m    176\u001b[0m         \u001b[0;32mif\u001b[0m \u001b[0mnew_len\u001b[0m \u001b[0;34m!=\u001b[0m \u001b[0mold_len\u001b[0m\u001b[0;34m:\u001b[0m\u001b[0;34m\u001b[0m\u001b[0;34m\u001b[0m\u001b[0m\n\u001b[1;32m    177\u001b[0m             raise ValueError(\n\u001b[0;32m--> 178\u001b[0;31m                 \u001b[0;34mf\"Length mismatch: Expected axis has {old_len} elements, new \"\u001b[0m\u001b[0;34m\u001b[0m\u001b[0;34m\u001b[0m\u001b[0m\n\u001b[0m\u001b[1;32m    179\u001b[0m                 \u001b[0;34mf\"values have {new_len} elements\"\u001b[0m\u001b[0;34m\u001b[0m\u001b[0;34m\u001b[0m\u001b[0m\n\u001b[1;32m    180\u001b[0m             )\n",
      "\u001b[0;31mValueError\u001b[0m: Length mismatch: Expected axis has 1 elements, new values have 24 elements"
     ]
    }
   ],
   "source": [
    "desired_line.columns = [\"text_ tokens\", \"hashtags\", \"tweet_id\", \"present_media\", \"present_links\", \"present_domains\",\\\n",
    "                \"tweet_type\",\"language\", \"tweet_timestamp\", \"enaged_with_user_id\", \"engaged_with_user_follower_count\",\\\n",
    "               \"engaged_with_user_following_count\", \"engaged_with_user_is_verified\", \"engaged_with_user_account_creation\",\\\n",
    "               \"enaging_user_id\", \"enaging_user_follower_count\", \"enaging_user_following_count\", \"enaging_user_is_verified\",\\\n",
    "               \"enaging_user_account_creation\", \"engagee_follows_engager\", \"reply_timestamp\", \"retweet_timestamp\",\\\n",
    "                \"retweet_with_comment_timestamp\", \"like_timestamp\"]"
   ]
  },
  {
   "cell_type": "code",
   "execution_count": 39,
   "metadata": {},
   "outputs": [
    {
     "data": {
      "text/plain": [
       "index                                      11908278\n",
       "tweet_id           F1529D503347DA75EFFD67CC1D9DA0F9\n",
       "tweet_timestamp                          1581486678\n",
       "Name: 133267715, dtype: object"
      ]
     },
     "execution_count": 39,
     "metadata": {},
     "output_type": "execute_result"
    }
   ],
   "source": [
    "train_sorted.loc[133267715]"
   ]
  },
  {
   "cell_type": "code",
   "execution_count": 40,
   "metadata": {},
   "outputs": [
    {
     "data": {
      "text/html": [
       "<div>\n",
       "<style scoped>\n",
       "    .dataframe tbody tr th:only-of-type {\n",
       "        vertical-align: middle;\n",
       "    }\n",
       "\n",
       "    .dataframe tbody tr th {\n",
       "        vertical-align: top;\n",
       "    }\n",
       "\n",
       "    .dataframe thead th {\n",
       "        text-align: right;\n",
       "    }\n",
       "</style>\n",
       "<table border=\"1\" class=\"dataframe\">\n",
       "  <thead>\n",
       "    <tr style=\"text-align: right;\">\n",
       "      <th></th>\n",
       "      <th>index</th>\n",
       "      <th>tweet_id</th>\n",
       "      <th>tweet_timestamp</th>\n",
       "    </tr>\n",
       "  </thead>\n",
       "  <tbody>\n",
       "    <tr>\n",
       "      <th>133267715</th>\n",
       "      <td>11908278</td>\n",
       "      <td>F1529D503347DA75EFFD67CC1D9DA0F9</td>\n",
       "      <td>1581486678</td>\n",
       "    </tr>\n",
       "    <tr>\n",
       "      <th>133267716</th>\n",
       "      <td>54640167</td>\n",
       "      <td>41D145799B12B26F5C580B46D7A0B88E</td>\n",
       "      <td>1581486678</td>\n",
       "    </tr>\n",
       "    <tr>\n",
       "      <th>133267717</th>\n",
       "      <td>102671906</td>\n",
       "      <td>94062C22EE1C754B558A39E206B116E4</td>\n",
       "      <td>1581486678</td>\n",
       "    </tr>\n",
       "    <tr>\n",
       "      <th>133267718</th>\n",
       "      <td>54937609</td>\n",
       "      <td>D434D803B122A2C7206E0495A955CDC4</td>\n",
       "      <td>1581486678</td>\n",
       "    </tr>\n",
       "    <tr>\n",
       "      <th>133267719</th>\n",
       "      <td>38246969</td>\n",
       "      <td>952589011D88FED05B4444CBBD90A172</td>\n",
       "      <td>1581486678</td>\n",
       "    </tr>\n",
       "    <tr>\n",
       "      <th>...</th>\n",
       "      <td>...</td>\n",
       "      <td>...</td>\n",
       "      <td>...</td>\n",
       "    </tr>\n",
       "    <tr>\n",
       "      <th>148075233</th>\n",
       "      <td>11678309</td>\n",
       "      <td>9A8F193BB63A9C3D3D74E0EBBCD28319</td>\n",
       "      <td>1581551999</td>\n",
       "    </tr>\n",
       "    <tr>\n",
       "      <th>148075234</th>\n",
       "      <td>38584247</td>\n",
       "      <td>B9654FC21A888D3D63E30EE2CB35E698</td>\n",
       "      <td>1581551999</td>\n",
       "    </tr>\n",
       "    <tr>\n",
       "      <th>148075235</th>\n",
       "      <td>55912866</td>\n",
       "      <td>9A8F193BB63A9C3D3D74E0EBBCD28319</td>\n",
       "      <td>1581551999</td>\n",
       "    </tr>\n",
       "    <tr>\n",
       "      <th>148075236</th>\n",
       "      <td>124669351</td>\n",
       "      <td>9A8F193BB63A9C3D3D74E0EBBCD28319</td>\n",
       "      <td>1581551999</td>\n",
       "    </tr>\n",
       "    <tr>\n",
       "      <th>148075237</th>\n",
       "      <td>97189266</td>\n",
       "      <td>B9654FC21A888D3D63E30EE2CB35E698</td>\n",
       "      <td>1581551999</td>\n",
       "    </tr>\n",
       "  </tbody>\n",
       "</table>\n",
       "<p>14807523 rows × 3 columns</p>\n",
       "</div>"
      ],
      "text/plain": [
       "               index                          tweet_id  tweet_timestamp\n",
       "133267715   11908278  F1529D503347DA75EFFD67CC1D9DA0F9       1581486678\n",
       "133267716   54640167  41D145799B12B26F5C580B46D7A0B88E       1581486678\n",
       "133267717  102671906  94062C22EE1C754B558A39E206B116E4       1581486678\n",
       "133267718   54937609  D434D803B122A2C7206E0495A955CDC4       1581486678\n",
       "133267719   38246969  952589011D88FED05B4444CBBD90A172       1581486678\n",
       "...              ...                               ...              ...\n",
       "148075233   11678309  9A8F193BB63A9C3D3D74E0EBBCD28319       1581551999\n",
       "148075234   38584247  B9654FC21A888D3D63E30EE2CB35E698       1581551999\n",
       "148075235   55912866  9A8F193BB63A9C3D3D74E0EBBCD28319       1581551999\n",
       "148075236  124669351  9A8F193BB63A9C3D3D74E0EBBCD28319       1581551999\n",
       "148075237   97189266  B9654FC21A888D3D63E30EE2CB35E698       1581551999\n",
       "\n",
       "[14807523 rows x 3 columns]"
      ]
     },
     "execution_count": 40,
     "metadata": {},
     "output_type": "execute_result"
    }
   ],
   "source": [
    "val_set"
   ]
  },
  {
   "cell_type": "code",
   "execution_count": 54,
   "metadata": {},
   "outputs": [
    {
     "data": {
      "text/html": [
       "<div>\n",
       "<style scoped>\n",
       "    .dataframe tbody tr th:only-of-type {\n",
       "        vertical-align: middle;\n",
       "    }\n",
       "\n",
       "    .dataframe tbody tr th {\n",
       "        vertical-align: top;\n",
       "    }\n",
       "\n",
       "    .dataframe thead th {\n",
       "        text-align: right;\n",
       "    }\n",
       "</style>\n",
       "<table border=\"1\" class=\"dataframe\">\n",
       "  <thead>\n",
       "    <tr style=\"text-align: right;\">\n",
       "      <th></th>\n",
       "      <th>index</th>\n",
       "      <th>tweet_id</th>\n",
       "      <th>tweet_timestamp</th>\n",
       "      <th>Unnamed: 0</th>\n",
       "      <th>sentence_embedding</th>\n",
       "      <th>level_0</th>\n",
       "    </tr>\n",
       "  </thead>\n",
       "  <tbody>\n",
       "  </tbody>\n",
       "</table>\n",
       "</div>"
      ],
      "text/plain": [
       "Empty DataFrame\n",
       "Columns: [index, tweet_id, tweet_timestamp, Unnamed: 0, sentence_embedding, level_0]\n",
       "Index: []"
      ]
     },
     "execution_count": 54,
     "metadata": {},
     "output_type": "execute_result"
    }
   ],
   "source": [
    "train_embeddings_index_sorted[train_embeddings_index_sorted['index'] == 123786896]"
   ]
  },
  {
   "cell_type": "code",
   "execution_count": 51,
   "metadata": {},
   "outputs": [
    {
     "data": {
      "text/html": [
       "<div>\n",
       "<style scoped>\n",
       "    .dataframe tbody tr th:only-of-type {\n",
       "        vertical-align: middle;\n",
       "    }\n",
       "\n",
       "    .dataframe tbody tr th {\n",
       "        vertical-align: top;\n",
       "    }\n",
       "\n",
       "    .dataframe thead th {\n",
       "        text-align: right;\n",
       "    }\n",
       "</style>\n",
       "<table border=\"1\" class=\"dataframe\">\n",
       "  <thead>\n",
       "    <tr style=\"text-align: right;\">\n",
       "      <th></th>\n",
       "      <th>index</th>\n",
       "      <th>tweet_id</th>\n",
       "      <th>tweet_timestamp</th>\n",
       "      <th>Unnamed: 0</th>\n",
       "      <th>sentence_embedding</th>\n",
       "      <th>level_0</th>\n",
       "    </tr>\n",
       "  </thead>\n",
       "  <tbody>\n",
       "    <tr>\n",
       "      <th>76053656</th>\n",
       "      <td>0</td>\n",
       "      <td>D4D1EBDE74F74C5DA529959AF979625C</td>\n",
       "      <td>1581258144</td>\n",
       "      <td>76053656</td>\n",
       "      <td>[-0.02144662  0.20354895  0.00645234  0.040057...</td>\n",
       "      <td>NaN</td>\n",
       "    </tr>\n",
       "    <tr>\n",
       "      <th>17033142</th>\n",
       "      <td>1</td>\n",
       "      <td>BFB529DAB6D384EB83E899A72AB3830D</td>\n",
       "      <td>1581018910</td>\n",
       "      <td>17033142</td>\n",
       "      <td>[ 0.04176716 -0.28724265 -0.1052285  -0.072304...</td>\n",
       "      <td>NaN</td>\n",
       "    </tr>\n",
       "    <tr>\n",
       "      <th>72408289</th>\n",
       "      <td>2</td>\n",
       "      <td>519078C7834E9642508F72A6C2D0F3B7</td>\n",
       "      <td>1581244866</td>\n",
       "      <td>72408289</td>\n",
       "      <td>[-0.11801001  0.18592697 -0.13860588 -0.248360...</td>\n",
       "      <td>NaN</td>\n",
       "    </tr>\n",
       "    <tr>\n",
       "      <th>73681069</th>\n",
       "      <td>3</td>\n",
       "      <td>52AAE9E33EFAC8C478C57B31A9E31ED1</td>\n",
       "      <td>1581250124</td>\n",
       "      <td>73681069</td>\n",
       "      <td>[ 0.3813068  -0.01353616 -0.18093751 -0.339108...</td>\n",
       "      <td>NaN</td>\n",
       "    </tr>\n",
       "    <tr>\n",
       "      <th>2832897</th>\n",
       "      <td>4</td>\n",
       "      <td>89C1298C55EB3D68E2784F0BFB69E6F8</td>\n",
       "      <td>1580958805</td>\n",
       "      <td>2832897</td>\n",
       "      <td>[-0.10751743  0.1597824  -0.1880484  -0.032986...</td>\n",
       "      <td>NaN</td>\n",
       "    </tr>\n",
       "    <tr>\n",
       "      <th>...</th>\n",
       "      <td>...</td>\n",
       "      <td>...</td>\n",
       "      <td>...</td>\n",
       "      <td>...</td>\n",
       "      <td>...</td>\n",
       "      <td>...</td>\n",
       "    </tr>\n",
       "    <tr>\n",
       "      <th>28416522</th>\n",
       "      <td>148075233</td>\n",
       "      <td>21D58EF51BEA1B7F2F99FCC8100600A1</td>\n",
       "      <td>1581073345</td>\n",
       "      <td>28416522</td>\n",
       "      <td>[ 0.0050545  -0.3644939  -0.04321434 -0.012071...</td>\n",
       "      <td>NaN</td>\n",
       "    </tr>\n",
       "    <tr>\n",
       "      <th>12175351</th>\n",
       "      <td>148075234</td>\n",
       "      <td>594EB7611FF4DA83CA6DD1BBD1E37735</td>\n",
       "      <td>1581538343</td>\n",
       "      <td>12175351</td>\n",
       "      <td>[-0.39366525 -0.3945667   0.00835489 -0.139878...</td>\n",
       "      <td>145443066.0</td>\n",
       "    </tr>\n",
       "    <tr>\n",
       "      <th>9046584</th>\n",
       "      <td>148075235</td>\n",
       "      <td>93DDD9BAA2AA21BBFB487326781811F3</td>\n",
       "      <td>1581525336</td>\n",
       "      <td>9046584</td>\n",
       "      <td>[-0.05744382 -0.05043431 -0.21667148 -0.065127...</td>\n",
       "      <td>142314299.0</td>\n",
       "    </tr>\n",
       "    <tr>\n",
       "      <th>45836385</th>\n",
       "      <td>148075236</td>\n",
       "      <td>3EE9B7EFC6C792299B0DDA5B7F408860</td>\n",
       "      <td>1581133279</td>\n",
       "      <td>45836385</td>\n",
       "      <td>[ 0.06306173 -0.2593712  -0.03239084  0.054223...</td>\n",
       "      <td>NaN</td>\n",
       "    </tr>\n",
       "    <tr>\n",
       "      <th>11665221</th>\n",
       "      <td>148075237</td>\n",
       "      <td>BB8A9458AF9DB963BD3FDF65C5D3EAAF</td>\n",
       "      <td>1581535971</td>\n",
       "      <td>11665221</td>\n",
       "      <td>[-0.12940477  0.11236615 -0.03783252 -0.050657...</td>\n",
       "      <td>144932936.0</td>\n",
       "    </tr>\n",
       "  </tbody>\n",
       "</table>\n",
       "<p>148075237 rows × 6 columns</p>\n",
       "</div>"
      ],
      "text/plain": [
       "              index                          tweet_id  tweet_timestamp  \\\n",
       "76053656          0  D4D1EBDE74F74C5DA529959AF979625C       1581258144   \n",
       "17033142          1  BFB529DAB6D384EB83E899A72AB3830D       1581018910   \n",
       "72408289          2  519078C7834E9642508F72A6C2D0F3B7       1581244866   \n",
       "73681069          3  52AAE9E33EFAC8C478C57B31A9E31ED1       1581250124   \n",
       "2832897           4  89C1298C55EB3D68E2784F0BFB69E6F8       1580958805   \n",
       "...             ...                               ...              ...   \n",
       "28416522  148075233  21D58EF51BEA1B7F2F99FCC8100600A1       1581073345   \n",
       "12175351  148075234  594EB7611FF4DA83CA6DD1BBD1E37735       1581538343   \n",
       "9046584   148075235  93DDD9BAA2AA21BBFB487326781811F3       1581525336   \n",
       "45836385  148075236  3EE9B7EFC6C792299B0DDA5B7F408860       1581133279   \n",
       "11665221  148075237  BB8A9458AF9DB963BD3FDF65C5D3EAAF       1581535971   \n",
       "\n",
       "          Unnamed: 0                                 sentence_embedding  \\\n",
       "76053656    76053656  [-0.02144662  0.20354895  0.00645234  0.040057...   \n",
       "17033142    17033142  [ 0.04176716 -0.28724265 -0.1052285  -0.072304...   \n",
       "72408289    72408289  [-0.11801001  0.18592697 -0.13860588 -0.248360...   \n",
       "73681069    73681069  [ 0.3813068  -0.01353616 -0.18093751 -0.339108...   \n",
       "2832897      2832897  [-0.10751743  0.1597824  -0.1880484  -0.032986...   \n",
       "...              ...                                                ...   \n",
       "28416522    28416522  [ 0.0050545  -0.3644939  -0.04321434 -0.012071...   \n",
       "12175351    12175351  [-0.39366525 -0.3945667   0.00835489 -0.139878...   \n",
       "9046584      9046584  [-0.05744382 -0.05043431 -0.21667148 -0.065127...   \n",
       "45836385    45836385  [ 0.06306173 -0.2593712  -0.03239084  0.054223...   \n",
       "11665221    11665221  [-0.12940477  0.11236615 -0.03783252 -0.050657...   \n",
       "\n",
       "              level_0  \n",
       "76053656          NaN  \n",
       "17033142          NaN  \n",
       "72408289          NaN  \n",
       "73681069          NaN  \n",
       "2832897           NaN  \n",
       "...               ...  \n",
       "28416522          NaN  \n",
       "12175351  145443066.0  \n",
       "9046584   142314299.0  \n",
       "45836385          NaN  \n",
       "11665221  144932936.0  \n",
       "\n",
       "[148075237 rows x 6 columns]"
      ]
     },
     "execution_count": 51,
     "metadata": {},
     "output_type": "execute_result"
    }
   ],
   "source": []
  }
 ],
 "metadata": {
  "kernelspec": {
   "display_name": "Python 3",
   "language": "python",
   "name": "python3"
  },
  "language_info": {
   "codemirror_mode": {
    "name": "ipython",
    "version": 3
   },
   "file_extension": ".py",
   "mimetype": "text/x-python",
   "name": "python",
   "nbconvert_exporter": "python",
   "pygments_lexer": "ipython3",
   "version": "3.7.6"
  }
 },
 "nbformat": 4,
 "nbformat_minor": 4
}
