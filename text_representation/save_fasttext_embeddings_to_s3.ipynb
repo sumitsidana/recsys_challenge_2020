{
 "cells": [
  {
   "cell_type": "code",
   "execution_count": 1,
   "metadata": {},
   "outputs": [
    {
     "name": "stderr",
     "output_type": "stream",
     "text": [
      "unable to import 'smart_open.gcs', disabling that module\n"
     ]
    }
   ],
   "source": [
    "import pandas as pd\n",
    "import s3fs\n",
    "import boto3\n",
    "from io import StringIO # python3; python2: BytesIO \n",
    "from boto3.s3.transfer import TransferConfig\n",
    "import numpy as np\n",
    "import re\n",
    "import nltk\n",
    "from nltk.tokenize import wordpunct_tokenize\n",
    "from nltk.tokenize import RegexpTokenizer\n",
    "from sklearn.feature_extraction.text import CountVectorizer\n",
    "from stop_words import get_stop_words\n",
    "from nltk.corpus import stopwords\n",
    "from nltk.stem.snowball import FrenchStemmer\n",
    "import gensim\n",
    "from gensim import models\n",
    "from gensim import corpora\n",
    "import lda\n",
    "import fasttext\n",
    "import fasttext.util"
   ]
  },
  {
   "cell_type": "code",
   "execution_count": 2,
   "metadata": {},
   "outputs": [],
   "source": [
    "all_lang_output_read = pd.read_csv('./all_lang_output.csv', sep = '\\t', index_col = 0)"
   ]
  },
  {
   "cell_type": "code",
   "execution_count": 3,
   "metadata": {},
   "outputs": [
    {
     "data": {
      "text/html": [
       "<div>\n",
       "<style scoped>\n",
       "    .dataframe tbody tr th:only-of-type {\n",
       "        vertical-align: middle;\n",
       "    }\n",
       "\n",
       "    .dataframe tbody tr th {\n",
       "        vertical-align: top;\n",
       "    }\n",
       "\n",
       "    .dataframe thead th {\n",
       "        text-align: right;\n",
       "    }\n",
       "</style>\n",
       "<table border=\"1\" class=\"dataframe\">\n",
       "  <thead>\n",
       "    <tr style=\"text-align: right;\">\n",
       "      <th></th>\n",
       "      <th>sentence_embedding</th>\n",
       "    </tr>\n",
       "  </thead>\n",
       "  <tbody>\n",
       "    <tr>\n",
       "      <th>127389791_train</th>\n",
       "      <td>[-0.15074797  0.06039337 -0.10508779 -0.001339...</td>\n",
       "    </tr>\n",
       "    <tr>\n",
       "      <th>127380736_train</th>\n",
       "      <td>[ 0.05090981  0.4677447  -0.21768436 -0.184192...</td>\n",
       "    </tr>\n",
       "    <tr>\n",
       "      <th>127380735_train</th>\n",
       "      <td>[ 0.05090981  0.4677447  -0.21768436 -0.184192...</td>\n",
       "    </tr>\n",
       "    <tr>\n",
       "      <th>127380734_train</th>\n",
       "      <td>[ 0.07148855  0.0754455  -0.21212135 -0.187074...</td>\n",
       "    </tr>\n",
       "    <tr>\n",
       "      <th>127380733_train</th>\n",
       "      <td>[-0.2418045  -0.02076124 -0.08739717 -0.018399...</td>\n",
       "    </tr>\n",
       "  </tbody>\n",
       "</table>\n",
       "</div>"
      ],
      "text/plain": [
       "                                                sentence_embedding\n",
       "127389791_train  [-0.15074797  0.06039337 -0.10508779 -0.001339...\n",
       "127380736_train  [ 0.05090981  0.4677447  -0.21768436 -0.184192...\n",
       "127380735_train  [ 0.05090981  0.4677447  -0.21768436 -0.184192...\n",
       "127380734_train  [ 0.07148855  0.0754455  -0.21212135 -0.187074...\n",
       "127380733_train  [-0.2418045  -0.02076124 -0.08739717 -0.018399..."
      ]
     },
     "execution_count": 3,
     "metadata": {},
     "output_type": "execute_result"
    }
   ],
   "source": [
    "all_lang_output_read.head()"
   ]
  },
  {
   "cell_type": "code",
   "execution_count": 4,
   "metadata": {},
   "outputs": [],
   "source": [
    "all_lang_output_test = all_lang_output_read[all_lang_output_read.index.str.contains('test')]"
   ]
  },
  {
   "cell_type": "code",
   "execution_count": 17,
   "metadata": {},
   "outputs": [
    {
     "name": "stderr",
     "output_type": "stream",
     "text": [
      "/home/ubuntu/anaconda3/lib/python3.7/site-packages/ipykernel_launcher.py:4: SettingWithCopyWarning: \n",
      "A value is trying to be set on a copy of a slice from a DataFrame\n",
      "\n",
      "See the caveats in the documentation: https://pandas.pydata.org/pandas-docs/stable/user_guide/indexing.html#returning-a-view-versus-a-copy\n",
      "  after removing the cwd from sys.path.\n"
     ]
    }
   ],
   "source": [
    "all_lang_output_train = all_lang_output_read[all_lang_output_read.index.str.contains('train')]\n",
    "all_lang_output_train.index = all_lang_output_train.index.str.replace('_train', '')\n",
    "all_lang_output_train.index = all_lang_output_train.index.astype(int)\n",
    "all_lang_output_train.sort_index(inplace = True)"
   ]
  },
  {
   "cell_type": "code",
   "execution_count": 8,
   "metadata": {},
   "outputs": [],
   "source": [
    "all_lang_output_val = all_lang_output_read[all_lang_output_read.index.str.contains('val')]\n",
    "all_lang_output_val.index = all_lang_output_val.index.str.replace('_val', '')\n",
    "all_lang_output_val.index = all_lang_output_val.index.astype(int)\n",
    "all_lang_output_val.sort_index(inplace = True)"
   ]
  },
  {
   "cell_type": "code",
   "execution_count": 18,
   "metadata": {},
   "outputs": [
    {
     "name": "stderr",
     "output_type": "stream",
     "text": [
      "/home/ubuntu/anaconda3/lib/python3.7/site-packages/ipykernel_launcher.py:4: SettingWithCopyWarning: \n",
      "A value is trying to be set on a copy of a slice from a DataFrame\n",
      "\n",
      "See the caveats in the documentation: https://pandas.pydata.org/pandas-docs/stable/user_guide/indexing.html#returning-a-view-versus-a-copy\n",
      "  after removing the cwd from sys.path.\n"
     ]
    }
   ],
   "source": [
    "all_lang_output_test = all_lang_output_read[all_lang_output_read.index.str.contains('test')]\n",
    "all_lang_output_test.index = all_lang_output_test.index.str.replace('_test', '')\n",
    "all_lang_output_test.index = all_lang_output_test.index.astype(int)\n",
    "all_lang_output_test.sort_index(inplace = True)"
   ]
  },
  {
   "cell_type": "code",
   "execution_count": 22,
   "metadata": {},
   "outputs": [],
   "source": [
    "all_lang_output_train.to_csv('s3://recsys-challenge-2020/all_lang_output_train.csv')"
   ]
  },
  {
   "cell_type": "code",
   "execution_count": 23,
   "metadata": {},
   "outputs": [],
   "source": [
    "all_lang_output_val.to_csv('s3://recsys-challenge-2020/all_lang_output_val.csv')"
   ]
  },
  {
   "cell_type": "code",
   "execution_count": 24,
   "metadata": {},
   "outputs": [],
   "source": [
    "all_lang_output_test.to_csv('s3://recsys-challenge-2020/all_lang_output_test.csv')"
   ]
  }
 ],
 "metadata": {
  "kernelspec": {
   "display_name": "Python 3",
   "language": "python",
   "name": "python3"
  },
  "language_info": {
   "codemirror_mode": {
    "name": "ipython",
    "version": 3
   },
   "file_extension": ".py",
   "mimetype": "text/x-python",
   "name": "python",
   "nbconvert_exporter": "python",
   "pygments_lexer": "ipython3",
   "version": "3.7.6"
  }
 },
 "nbformat": 4,
 "nbformat_minor": 4
}
