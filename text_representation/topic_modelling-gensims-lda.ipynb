{
 "cells": [
  {
   "cell_type": "code",
   "execution_count": 7,
   "metadata": {},
   "outputs": [],
   "source": [
    "import pandas as pd\n",
    "import s3fs\n",
    "import boto3\n",
    "from io import StringIO # python3; python2: BytesIO \n",
    "from boto3.s3.transfer import TransferConfig\n",
    "import numpy as np\n",
    "import re\n",
    "import nltk\n",
    "from nltk.tokenize import wordpunct_tokenize\n",
    "from nltk.tokenize import RegexpTokenizer\n",
    "from sklearn.feature_extraction.text import CountVectorizer\n",
    "from stop_words import get_stop_words\n",
    "from nltk.corpus import stopwords\n",
    "from nltk.stem.snowball import FrenchStemmer\n",
    "import gensim\n",
    "from gensim import models\n",
    "from gensim import corpora\n",
    "import lda"
   ]
  },
  {
   "cell_type": "code",
   "execution_count": 4,
   "metadata": {},
   "outputs": [
    {
     "data": {
      "text/plain": [
       "['rt', '_']"
      ]
     },
     "execution_count": 4,
     "metadata": {},
     "output_type": "execute_result"
    }
   ],
   "source": [
    "stop_words = ['rt','_']\n",
    "stop_words"
   ]
  },
  {
   "cell_type": "code",
   "execution_count": null,
   "metadata": {},
   "outputs": [],
   "source": [
    "def preprocessing(row):\n",
    "    stopword_removed_output = [w for w in row.split(' ') if not w in stop_words]\n",
    "    return stopword_removed_output"
   ]
  },
  {
   "cell_type": "code",
   "execution_count": 10,
   "metadata": {},
   "outputs": [],
   "source": [
    "train_input = pd.read_csv('s3://recsys-challenge-2020/train_input.csv')\n",
    "val_input = pd.read_csv('s3://recsys-challenge-2020/val_input.csv')\n",
    "test_input = pd.read_csv('s3://recsys-challenge-2020/test_input.csv')"
   ]
  },
  {
   "cell_type": "code",
   "execution_count": null,
   "metadata": {},
   "outputs": [],
   "source": [
    "all_data = pd.concat(train_input, val_input, test_input)"
   ]
  },
  {
   "cell_type": "code",
   "execution_count": 13,
   "metadata": {},
   "outputs": [],
   "source": [
    "full_input = all_input.sort_values(by='name')"
   ]
  },
  {
   "cell_type": "code",
   "execution_count": null,
   "metadata": {},
   "outputs": [],
   "source": [
    "languages = list(full_input.name.unique())"
   ]
  },
  {
   "cell_type": "code",
   "execution_count": null,
   "metadata": {},
   "outputs": [],
   "source": [
    "all_lang_output = []\n",
    "for language in languages:\n",
    "    lang_input = full_input.loc[full_input.name == language]\n",
    "    lang_input['tweet_tokens'] = lang_input.apply(lambda x: preprocessing(x.tweet_text), axis = 1)\n",
    "    dictionary = corpora.Dictionary(lang_input.tweet_tokens)\n",
    "    corpus = [dictionary.doc2bow(text) for text in lang_input.tweet_tokens]\n",
    "    ldamodel = gensim.models.ldamulticore.LdaMulticore(corpus, num_topics = 100, id2word=dictionary, passes=5, workers=96)\n",
    "    all_topics = ldamodel.get_document_topics(corpus, minimum_probability=0.0)\n",
    "    all_topics_csr = gensim.matutils.corpus2csc(all_topics)\n",
    "    all_topics_numpy = all_topics_csr.T.toarray()\n",
    "    all_topics_df = pd.DataFrame(all_topics_numpy)\n",
    "    all_topics_df.index = lang_input.index\n",
    "    lang_output = pd.concat([lang_input, all_topics_df], axis = 1)\n",
    "    all_lang_output = all_lang_output.append(lang_output)\n",
    "all_lang_output = pd.concat(all_lang_output)"
   ]
  }
 ],
 "metadata": {
  "kernelspec": {
   "display_name": "Python 3",
   "language": "python",
   "name": "python3"
  },
  "language_info": {
   "codemirror_mode": {
    "name": "ipython",
    "version": 3
   },
   "file_extension": ".py",
   "mimetype": "text/x-python",
   "name": "python",
   "nbconvert_exporter": "python",
   "pygments_lexer": "ipython3",
   "version": "3.7.6"
  }
 },
 "nbformat": 4,
 "nbformat_minor": 2
}
