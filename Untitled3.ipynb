{
 "cells": [
  {
   "cell_type": "code",
   "execution_count": 9,
   "metadata": {},
   "outputs": [],
   "source": [
    "import torch\n",
    "from transformers import *"
   ]
  },
  {
   "cell_type": "code",
   "execution_count": 2,
   "metadata": {},
   "outputs": [],
   "source": [
    "tokenizer = BertTokenizer.from_pretrained('bert-base-multilingual-cased', do_lower_case=False)"
   ]
  },
  {
   "cell_type": "code",
   "execution_count": 3,
   "metadata": {},
   "outputs": [
    {
     "data": {
      "text/plain": [
       "'[CLS] Malachi Wideman LOSE YOUR MIND @ mightymal13 https : / / t. co / ZX6Pq6V2w8 [SEP]'"
      ]
     },
     "execution_count": 3,
     "metadata": {},
     "output_type": "execute_result"
    }
   ],
   "source": [
    "tokenizer.decode(['101', '58335', '12806', '21660', '10589', '149', '21793', '11259', '100061', '11273', '75416', '58521', '137', '20970', '16889', '10415', '45389', '14120', '131', '120', '120', '188', '119', '11170', '120', '163', '12674', '11211', '11127', '11703', '11211', '11779', '10729', '10874', '11396', '102'])"
   ]
  },
  {
   "cell_type": "code",
   "execution_count": 4,
   "metadata": {},
   "outputs": [
    {
     "data": {
      "text/plain": [
       "['[CLS]',\n",
       " 'Mala',\n",
       " '##chi',\n",
       " 'Wide',\n",
       " '##man',\n",
       " 'L',\n",
       " '##OS',\n",
       " '##E',\n",
       " 'YOU',\n",
       " '##R',\n",
       " 'MI',\n",
       " '##ND',\n",
       " '@',\n",
       " 'might',\n",
       " '##ym',\n",
       " '##al',\n",
       " '##13',\n",
       " 'https',\n",
       " ':',\n",
       " '/',\n",
       " '/',\n",
       " 't',\n",
       " '.',\n",
       " 'co',\n",
       " '/',\n",
       " 'Z',\n",
       " '##X',\n",
       " '##6',\n",
       " '##P',\n",
       " '##q',\n",
       " '##6',\n",
       " '##V',\n",
       " '##2',\n",
       " '##w',\n",
       " '##8',\n",
       " '[SEP]']"
      ]
     },
     "execution_count": 4,
     "metadata": {},
     "output_type": "execute_result"
    }
   ],
   "source": [
    "tokenizer.convert_ids_to_tokens(['101', '58335', '12806', '21660', '10589', '149', '21793', '11259', '100061', '11273', '75416', '58521', '137', '20970', '16889', '10415', '45389', '14120', '131', '120', '120', '188', '119', '11170', '120', '163', '12674', '11211', '11127', '11703', '11211', '11779', '10729', '10874', '11396', '102'])"
   ]
  },
  {
   "cell_type": "code",
   "execution_count": null,
   "metadata": {},
   "outputs": [],
   "source": [
    "# Download to another location: https://huggingface.co/transformers/model_doc/bert.html#transformers.BertModel.get_input_embeddings"
   ]
  },
  {
   "cell_type": "code",
   "execution_count": 14,
   "metadata": {},
   "outputs": [],
   "source": [
    "model = BertModel.from_pretrained('/dev/bert/')"
   ]
  },
  {
   "cell_type": "code",
   "execution_count": null,
   "metadata": {},
   "outputs": [],
   "source": []
  }
 ],
 "metadata": {
  "kernelspec": {
   "display_name": "Python 3",
   "language": "python",
   "name": "python3"
  },
  "language_info": {
   "codemirror_mode": {
    "name": "ipython",
    "version": 3
   },
   "file_extension": ".py",
   "mimetype": "text/x-python",
   "name": "python",
   "nbconvert_exporter": "python",
   "pygments_lexer": "ipython3",
   "version": "3.7.4"
  }
 },
 "nbformat": 4,
 "nbformat_minor": 2
}
