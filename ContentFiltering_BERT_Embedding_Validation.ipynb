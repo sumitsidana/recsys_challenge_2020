{
 "cells": [
  {
   "cell_type": "code",
   "execution_count": 1,
   "metadata": {},
   "outputs": [],
   "source": [
    "import pandas as pd\n",
    "import s3fs\n",
    "from smart_open import open\n",
    "import boto3\n",
    "from io import StringIO # python3; python2: BytesIO \n",
    "from boto3.s3.transfer import TransferConfig\n",
    "import metrics\n",
    "import torch\n",
    "from transformers import *\n",
    "import numpy as np\n",
    "import ast\n",
    "import time\n",
    "import metrics"
   ]
  },
  {
   "cell_type": "code",
   "execution_count": 2,
   "metadata": {},
   "outputs": [],
   "source": [
    "pd.set_option('display.max_colwidth', -1)"
   ]
  },
  {
   "cell_type": "code",
   "execution_count": 3,
   "metadata": {},
   "outputs": [],
   "source": [
    "user_tokens = pd.read_csv('s3://recsys-challenge-2020/user_tokens_validation_reply.csv')\n",
    "tokenizer = BertTokenizer.from_pretrained('bert-base-multilingual-cased', do_lower_case=False)\n",
    "model = BertModel.from_pretrained('/dev/bert/')"
   ]
  },
  {
   "cell_type": "code",
   "execution_count": null,
   "metadata": {},
   "outputs": [],
   "source": [
    "column_of_interest = [\"engaging_user_id\", \"text_ tokens\"]\n",
    "val_set = pd.read_csv('s3://recsys-challenge-2020/val_set_reply.csv', encoding=\"utf-8\",\n",
    "                     usecols= [1, 4])"
   ]
  },
  {
   "cell_type": "code",
   "execution_count": 4,
   "metadata": {},
   "outputs": [],
   "source": [
    "column_of_interest = [\"engaging_user_id\", \"text_ tokens\"]\n",
    "val_set_subset = pd.read_csv('s3://recsys-challenge-2020/val_set_reply.csv', encoding=\"utf-8\",\n",
    "                     usecols= [1, 4], nrows = 1000)"
   ]
  },
  {
   "cell_type": "code",
   "execution_count": 5,
   "metadata": {},
   "outputs": [
    {
     "data": {
      "text/html": [
       "<div>\n",
       "<style scoped>\n",
       "    .dataframe tbody tr th:only-of-type {\n",
       "        vertical-align: middle;\n",
       "    }\n",
       "\n",
       "    .dataframe tbody tr th {\n",
       "        vertical-align: top;\n",
       "    }\n",
       "\n",
       "    .dataframe thead th {\n",
       "        text-align: right;\n",
       "    }\n",
       "</style>\n",
       "<table border=\"1\" class=\"dataframe\">\n",
       "  <thead>\n",
       "    <tr style=\"text-align: right;\">\n",
       "      <th></th>\n",
       "      <th>engaging_user_id</th>\n",
       "      <th>text_ tokens</th>\n",
       "    </tr>\n",
       "  </thead>\n",
       "  <tbody>\n",
       "    <tr>\n",
       "      <td>0</td>\n",
       "      <td>00000B85AAF7DE172876FD96718C4469</td>\n",
       "      <td>['101\\t12882\\t10105\\t24699\\t10124\\t12820\\t169\\t14624\\t10862\\t136\\t102204\\t10874\\t102']</td>\n",
       "    </tr>\n",
       "    <tr>\n",
       "      <td>1</td>\n",
       "      <td>00000E0C9B364891CDE89ECFC54771DE</td>\n",
       "      <td>['101\\t56898\\t137\\t60818\\t20712\\t10133\\t37115\\t32792\\t19235\\t15594\\t131\\t6054\\t8403\\t5115\\t25317\\t2271\\t1913\\t4348\\t100\\t119\\t1921\\t111786\\t10055\\t2072\\t4796\\t2072\\t4796\\t119\\t1970\\t111795\\t18825\\t14244\\t4796\\t23400\\t7069\\t1919\\t22526\\t1901\\t100\\t119\\t119\\t108\\t52734\\t38025\\t35976\\t56082\\t10237\\t11127\\t14703\\t10858\\t10245\\t11274\\t11733\\t11733\\t119\\t108\\t12222\\t11517\\t23178\\t14703\\t20591\\t11107\\t14120\\t131\\t120\\t120\\t188\\t119\\t11170\\t120\\t173\\t12022\\t10575\\t10477\\t12022\\t10305\\t12396\\t10112\\t83026\\t102']</td>\n",
       "    </tr>\n",
       "    <tr>\n",
       "      <td>2</td>\n",
       "      <td>0000142A2D3FCA2A1EAE0569CBEA8A11</td>\n",
       "      <td>['101\\t56898\\t137\\t44798\\t10858\\t16896\\t11083\\t131\\t94592\\t12931\\t14987\\t158\\t11273\\t12931\\t14120\\t131\\t120\\t120\\t188\\t119\\t11170\\t120\\t175\\t10929\\t11565\\t11703\\t11166\\t10240\\t10418\\t13966\\t27528\\t102']</td>\n",
       "    </tr>\n",
       "    <tr>\n",
       "      <td>3</td>\n",
       "      <td>0000170273D2530A0DF580401CC32AE0</td>\n",
       "      <td>['101\\t13999\\t12845\\t34396\\t11088\\t196\\t10838\\t43209\\t10969\\t20304\\t74974\\t118\\t14120\\t131\\t120\\t120\\t188\\t119\\t11170\\t120\\t122\\t72679\\t11369\\t37079\\t12961\\t16317\\t108\\t11566\\t10253\\t10136\\t10575\\t10350\\t102']</td>\n",
       "    </tr>\n",
       "    <tr>\n",
       "      <td>4</td>\n",
       "      <td>00003C08A3D1CEF5F68EA6F17234F972</td>\n",
       "      <td>['101\\t11589\\t131\\t146\\t11337\\t12253\\t124\\t19174\\t10189\\t50884\\t50655\\t112\\t157\\t62450\\t10345\\t96182\\t15612\\t10107\\t10531\\t10924\\t119\\t57757\\t12253\\t11152\\t18922\\t10901\\t119\\t119\\t44718\\t94722\\t23040\\t43039\\t131\\t100\\t119\\t10357\\t10686\\t37538\\t10112\\t10338\\t36121\\t131\\t100\\t119\\t11454\\t10108\\t79400\\t10107\\t18121\\t10162\\t131\\t100\\t102']</td>\n",
       "    </tr>\n",
       "  </tbody>\n",
       "</table>\n",
       "</div>"
      ],
      "text/plain": [
       "                   engaging_user_id  \\\n",
       "0  00000B85AAF7DE172876FD96718C4469   \n",
       "1  00000E0C9B364891CDE89ECFC54771DE   \n",
       "2  0000142A2D3FCA2A1EAE0569CBEA8A11   \n",
       "3  0000170273D2530A0DF580401CC32AE0   \n",
       "4  00003C08A3D1CEF5F68EA6F17234F972   \n",
       "\n",
       "                                                                                                                                                                                                                                                                                                                                                                                                                                                                                                                   text_ tokens  \n",
       "0  ['101\\t12882\\t10105\\t24699\\t10124\\t12820\\t169\\t14624\\t10862\\t136\\t102204\\t10874\\t102']                                                                                                                                                                                                                                                                                                                                                                                                                                        \n",
       "1  ['101\\t56898\\t137\\t60818\\t20712\\t10133\\t37115\\t32792\\t19235\\t15594\\t131\\t6054\\t8403\\t5115\\t25317\\t2271\\t1913\\t4348\\t100\\t119\\t1921\\t111786\\t10055\\t2072\\t4796\\t2072\\t4796\\t119\\t1970\\t111795\\t18825\\t14244\\t4796\\t23400\\t7069\\t1919\\t22526\\t1901\\t100\\t119\\t119\\t108\\t52734\\t38025\\t35976\\t56082\\t10237\\t11127\\t14703\\t10858\\t10245\\t11274\\t11733\\t11733\\t119\\t108\\t12222\\t11517\\t23178\\t14703\\t20591\\t11107\\t14120\\t131\\t120\\t120\\t188\\t119\\t11170\\t120\\t173\\t12022\\t10575\\t10477\\t12022\\t10305\\t12396\\t10112\\t83026\\t102']  \n",
       "2  ['101\\t56898\\t137\\t44798\\t10858\\t16896\\t11083\\t131\\t94592\\t12931\\t14987\\t158\\t11273\\t12931\\t14120\\t131\\t120\\t120\\t188\\t119\\t11170\\t120\\t175\\t10929\\t11565\\t11703\\t11166\\t10240\\t10418\\t13966\\t27528\\t102']                                                                                                                                                                                                                                                                                                                    \n",
       "3  ['101\\t13999\\t12845\\t34396\\t11088\\t196\\t10838\\t43209\\t10969\\t20304\\t74974\\t118\\t14120\\t131\\t120\\t120\\t188\\t119\\t11170\\t120\\t122\\t72679\\t11369\\t37079\\t12961\\t16317\\t108\\t11566\\t10253\\t10136\\t10575\\t10350\\t102']                                                                                                                                                                                                                                                                                                             \n",
       "4  ['101\\t11589\\t131\\t146\\t11337\\t12253\\t124\\t19174\\t10189\\t50884\\t50655\\t112\\t157\\t62450\\t10345\\t96182\\t15612\\t10107\\t10531\\t10924\\t119\\t57757\\t12253\\t11152\\t18922\\t10901\\t119\\t119\\t44718\\t94722\\t23040\\t43039\\t131\\t100\\t119\\t10357\\t10686\\t37538\\t10112\\t10338\\t36121\\t131\\t100\\t119\\t11454\\t10108\\t79400\\t10107\\t18121\\t10162\\t131\\t100\\t102']                                                                                                                                                                             "
      ]
     },
     "execution_count": 5,
     "metadata": {},
     "output_type": "execute_result"
    }
   ],
   "source": [
    "user_tokens.head()"
   ]
  },
  {
   "cell_type": "code",
   "execution_count": 6,
   "metadata": {},
   "outputs": [
    {
     "data": {
      "text/html": [
       "<div>\n",
       "<style scoped>\n",
       "    .dataframe tbody tr th:only-of-type {\n",
       "        vertical-align: middle;\n",
       "    }\n",
       "\n",
       "    .dataframe tbody tr th {\n",
       "        vertical-align: top;\n",
       "    }\n",
       "\n",
       "    .dataframe thead th {\n",
       "        text-align: right;\n",
       "    }\n",
       "</style>\n",
       "<table border=\"1\" class=\"dataframe\">\n",
       "  <thead>\n",
       "    <tr style=\"text-align: right;\">\n",
       "      <th></th>\n",
       "      <th>text_ tokens</th>\n",
       "      <th>engaging_user_id</th>\n",
       "    </tr>\n",
       "  </thead>\n",
       "  <tbody>\n",
       "    <tr>\n",
       "      <td>0</td>\n",
       "      <td>101\\t17713\\t9405\\t119152\\t119002\\t118823\\t9531\\t10530\\t13767\\t9665\\t118649\\t33323\\t23466\\t9405\\t18623\\t27023\\t58303\\t48345\\t119\\t119\\t119\\t9665\\t118649\\t33323\\t23466\\t11018\\t9405\\t119152\\t9531\\t11489\\t9580\\t118762\\t9519\\t119285\\t130\\t14040\\t17655\\t9580\\t31531\\t125\\t14040\\t18382\\t68943\\t9576\\t16605\\t58303\\t48345\\t119\\t119\\t119\\t137\\t49866\\t27572\\t10112\\t11259\\t12674\\t11403\\t108\\t80426\\t11403\\t108\\t9560\\t22333\\t14120\\t131\\t120\\t120\\t188\\t119\\t11170\\t120\\t171\\t10731\\t48205\\t11259\\t12396\\t11211\\t11281\\t10174\\t11090\\t102</td>\n",
       "      <td>A4B1828B571271073C68DA93D1465484</td>\n",
       "    </tr>\n",
       "    <tr>\n",
       "      <td>1</td>\n",
       "      <td>101\\t64002\\t9247\\t23665\\t9251\\t17342\\t23990\\t9764\\t36553\\t100543\\t9358\\t56789\\t9247\\t18108\\t12310\\t9485\\t38709\\t12178\\t28911\\t1729\\t1729\\t1729\\t14120\\t131\\t120\\t120\\t188\\t119\\t11170\\t120\\t191\\t19282\\t10305\\t83148\\t13966\\t10305\\t13966\\t11166\\t10161\\t102</td>\n",
       "      <td>F3A4C8EB81ADF3685E8F693037808A2C</td>\n",
       "    </tr>\n",
       "    <tr>\n",
       "      <td>2</td>\n",
       "      <td>101\\t56898\\t137\\t44592\\t11090\\t13503\\t10157\\t131\\t17144\\t112\\t187\\t12820\\t43662\\t10271\\t10950\\t119\\t119\\t119\\t14156\\t10114\\t13028\\t10479\\t10124\\t10105\\t14361\\t10139\\t10165\\t16297\\t96509\\t13328\\t11762\\t10551\\t136\\t119\\t108\\t10882\\t11759\\t11273\\t10280\\t10305\\t108\\t31091\\t34567\\t10237\\t10731\\t10237\\t100\\t102</td>\n",
       "      <td>8BD011AB59AC04491687749245009C60</td>\n",
       "    </tr>\n",
       "    <tr>\n",
       "      <td>3</td>\n",
       "      <td>101\\t137\\t15595\\t21840\\t14590\\t75268\\t57493\\t10759\\t872\\t13874\\t32629\\t28462\\t102</td>\n",
       "      <td>F7BFBA56274FCBBBB76BDD36D0D6495B</td>\n",
       "    </tr>\n",
       "    <tr>\n",
       "      <td>4</td>\n",
       "      <td>101\\t56898\\t137\\t13069\\t93870\\t10284\\t11274\\t12396\\t168\\t60801\\t11211\\t131\\t9331\\t30842\\t10739\\t9580\\t118762\\t9491\\t66540\\t17594\\t100\\t119\\t9076\\t68833\\t8843\\t19105\\t18108\\t9425\\t12424\\t9390\\t119086\\t9609\\t11018\\t8863\\t100\\t119\\t9150\\t12965\\t8996\\t26737\\t101202\\t9137\\t11018\\t9144\\t9551\\t23811\\t16439\\t100\\t14120\\t131\\t120\\t120\\t188\\t119\\t11170\\t120\\t147\\t11373\\t11259\\t10759\\t12674\\t10157\\t11733\\t10116\\t11259\\t10575\\t102</td>\n",
       "      <td>10F6E035959B9AC156CED11E0FAED566</td>\n",
       "    </tr>\n",
       "  </tbody>\n",
       "</table>\n",
       "</div>"
      ],
      "text/plain": [
       "                                                                                                                                                                                                                                                                                                                                                                                                                                                                                                                                text_ tokens  \\\n",
       "0  101\\t17713\\t9405\\t119152\\t119002\\t118823\\t9531\\t10530\\t13767\\t9665\\t118649\\t33323\\t23466\\t9405\\t18623\\t27023\\t58303\\t48345\\t119\\t119\\t119\\t9665\\t118649\\t33323\\t23466\\t11018\\t9405\\t119152\\t9531\\t11489\\t9580\\t118762\\t9519\\t119285\\t130\\t14040\\t17655\\t9580\\t31531\\t125\\t14040\\t18382\\t68943\\t9576\\t16605\\t58303\\t48345\\t119\\t119\\t119\\t137\\t49866\\t27572\\t10112\\t11259\\t12674\\t11403\\t108\\t80426\\t11403\\t108\\t9560\\t22333\\t14120\\t131\\t120\\t120\\t188\\t119\\t11170\\t120\\t171\\t10731\\t48205\\t11259\\t12396\\t11211\\t11281\\t10174\\t11090\\t102   \n",
       "1  101\\t64002\\t9247\\t23665\\t9251\\t17342\\t23990\\t9764\\t36553\\t100543\\t9358\\t56789\\t9247\\t18108\\t12310\\t9485\\t38709\\t12178\\t28911\\t1729\\t1729\\t1729\\t14120\\t131\\t120\\t120\\t188\\t119\\t11170\\t120\\t191\\t19282\\t10305\\t83148\\t13966\\t10305\\t13966\\t11166\\t10161\\t102                                                                                                                                                                                                                                                                                \n",
       "2  101\\t56898\\t137\\t44592\\t11090\\t13503\\t10157\\t131\\t17144\\t112\\t187\\t12820\\t43662\\t10271\\t10950\\t119\\t119\\t119\\t14156\\t10114\\t13028\\t10479\\t10124\\t10105\\t14361\\t10139\\t10165\\t16297\\t96509\\t13328\\t11762\\t10551\\t136\\t119\\t108\\t10882\\t11759\\t11273\\t10280\\t10305\\t108\\t31091\\t34567\\t10237\\t10731\\t10237\\t100\\t102                                                                                                                                                                                                                          \n",
       "3  101\\t137\\t15595\\t21840\\t14590\\t75268\\t57493\\t10759\\t872\\t13874\\t32629\\t28462\\t102                                                                                                                                                                                                                                                                                                                                                                                                                                                           \n",
       "4  101\\t56898\\t137\\t13069\\t93870\\t10284\\t11274\\t12396\\t168\\t60801\\t11211\\t131\\t9331\\t30842\\t10739\\t9580\\t118762\\t9491\\t66540\\t17594\\t100\\t119\\t9076\\t68833\\t8843\\t19105\\t18108\\t9425\\t12424\\t9390\\t119086\\t9609\\t11018\\t8863\\t100\\t119\\t9150\\t12965\\t8996\\t26737\\t101202\\t9137\\t11018\\t9144\\t9551\\t23811\\t16439\\t100\\t14120\\t131\\t120\\t120\\t188\\t119\\t11170\\t120\\t147\\t11373\\t11259\\t10759\\t12674\\t10157\\t11733\\t10116\\t11259\\t10575\\t102                                                                                                      \n",
       "\n",
       "                   engaging_user_id  \n",
       "0  A4B1828B571271073C68DA93D1465484  \n",
       "1  F3A4C8EB81ADF3685E8F693037808A2C  \n",
       "2  8BD011AB59AC04491687749245009C60  \n",
       "3  F7BFBA56274FCBBBB76BDD36D0D6495B  \n",
       "4  10F6E035959B9AC156CED11E0FAED566  "
      ]
     },
     "execution_count": 6,
     "metadata": {},
     "output_type": "execute_result"
    }
   ],
   "source": [
    "val_set_subset.head()"
   ]
  },
  {
   "cell_type": "code",
   "execution_count": null,
   "metadata": {},
   "outputs": [],
   "source": [
    "user_tokens_val_set = \\\n",
    "pd.merge(val_set, user_tokens, how = 'left', left_on = 'engaging_user_id', right_on = 'engaging_user_id', sort=False)"
   ]
  },
  {
   "cell_type": "code",
   "execution_count": null,
   "metadata": {},
   "outputs": [],
   "source": [
    "user_tokens_val_set.columns = [c.replace(' ', '_') for c in user_tokens_val_set.columns]"
   ]
  },
  {
   "cell_type": "code",
   "execution_count": 7,
   "metadata": {},
   "outputs": [],
   "source": [
    "user_tokens_val_set_subset = \\\n",
    "pd.merge(val_set_subset, user_tokens, how = 'left', left_on = 'engaging_user_id', right_on = 'engaging_user_id', sort=False)"
   ]
  },
  {
   "cell_type": "code",
   "execution_count": 8,
   "metadata": {},
   "outputs": [
    {
     "data": {
      "text/html": [
       "<div>\n",
       "<style scoped>\n",
       "    .dataframe tbody tr th:only-of-type {\n",
       "        vertical-align: middle;\n",
       "    }\n",
       "\n",
       "    .dataframe tbody tr th {\n",
       "        vertical-align: top;\n",
       "    }\n",
       "\n",
       "    .dataframe thead th {\n",
       "        text-align: right;\n",
       "    }\n",
       "</style>\n",
       "<table border=\"1\" class=\"dataframe\">\n",
       "  <thead>\n",
       "    <tr style=\"text-align: right;\">\n",
       "      <th></th>\n",
       "      <th>text_ tokens_x</th>\n",
       "      <th>engaging_user_id</th>\n",
       "      <th>text_ tokens_y</th>\n",
       "    </tr>\n",
       "  </thead>\n",
       "  <tbody>\n",
       "    <tr>\n",
       "      <td>0</td>\n",
       "      <td>101\\t17713\\t9405\\t119152\\t119002\\t118823\\t9531\\t10530\\t13767\\t9665\\t118649\\t33323\\t23466\\t9405\\t18623\\t27023\\t58303\\t48345\\t119\\t119\\t119\\t9665\\t118649\\t33323\\t23466\\t11018\\t9405\\t119152\\t9531\\t11489\\t9580\\t118762\\t9519\\t119285\\t130\\t14040\\t17655\\t9580\\t31531\\t125\\t14040\\t18382\\t68943\\t9576\\t16605\\t58303\\t48345\\t119\\t119\\t119\\t137\\t49866\\t27572\\t10112\\t11259\\t12674\\t11403\\t108\\t80426\\t11403\\t108\\t9560\\t22333\\t14120\\t131\\t120\\t120\\t188\\t119\\t11170\\t120\\t171\\t10731\\t48205\\t11259\\t12396\\t11211\\t11281\\t10174\\t11090\\t102</td>\n",
       "      <td>A4B1828B571271073C68DA93D1465484</td>\n",
       "      <td>NaN</td>\n",
       "    </tr>\n",
       "    <tr>\n",
       "      <td>1</td>\n",
       "      <td>101\\t64002\\t9247\\t23665\\t9251\\t17342\\t23990\\t9764\\t36553\\t100543\\t9358\\t56789\\t9247\\t18108\\t12310\\t9485\\t38709\\t12178\\t28911\\t1729\\t1729\\t1729\\t14120\\t131\\t120\\t120\\t188\\t119\\t11170\\t120\\t191\\t19282\\t10305\\t83148\\t13966\\t10305\\t13966\\t11166\\t10161\\t102</td>\n",
       "      <td>F3A4C8EB81ADF3685E8F693037808A2C</td>\n",
       "      <td>NaN</td>\n",
       "    </tr>\n",
       "    <tr>\n",
       "      <td>2</td>\n",
       "      <td>101\\t56898\\t137\\t44592\\t11090\\t13503\\t10157\\t131\\t17144\\t112\\t187\\t12820\\t43662\\t10271\\t10950\\t119\\t119\\t119\\t14156\\t10114\\t13028\\t10479\\t10124\\t10105\\t14361\\t10139\\t10165\\t16297\\t96509\\t13328\\t11762\\t10551\\t136\\t119\\t108\\t10882\\t11759\\t11273\\t10280\\t10305\\t108\\t31091\\t34567\\t10237\\t10731\\t10237\\t100\\t102</td>\n",
       "      <td>8BD011AB59AC04491687749245009C60</td>\n",
       "      <td>NaN</td>\n",
       "    </tr>\n",
       "    <tr>\n",
       "      <td>3</td>\n",
       "      <td>101\\t137\\t15595\\t21840\\t14590\\t75268\\t57493\\t10759\\t872\\t13874\\t32629\\t28462\\t102</td>\n",
       "      <td>F7BFBA56274FCBBBB76BDD36D0D6495B</td>\n",
       "      <td>['101\\t15813\\t885\\t18321\\t60270\\t14070\\t106\\t119\\t873\\t15778\\t35247\\t865\\t17110\\t15778\\t28462\\t21042\\t110334\\t22022\\t10569\\t40265\\t28546\\t52331\\t119\\t10977\\t898\\t16940\\t865\\t17110\\t15778\\t28462\\t21042\\t119\\t11186\\t24578\\t28546\\t898\\t66306\\t11208\\t22022\\t13286\\t16791\\t117\\t117\\t117\\t920\\t119\\t100\\t119\\t100\\t28757\\t100\\t119\\t100\\t102']</td>\n",
       "    </tr>\n",
       "    <tr>\n",
       "      <td>4</td>\n",
       "      <td>101\\t56898\\t137\\t13069\\t93870\\t10284\\t11274\\t12396\\t168\\t60801\\t11211\\t131\\t9331\\t30842\\t10739\\t9580\\t118762\\t9491\\t66540\\t17594\\t100\\t119\\t9076\\t68833\\t8843\\t19105\\t18108\\t9425\\t12424\\t9390\\t119086\\t9609\\t11018\\t8863\\t100\\t119\\t9150\\t12965\\t8996\\t26737\\t101202\\t9137\\t11018\\t9144\\t9551\\t23811\\t16439\\t100\\t14120\\t131\\t120\\t120\\t188\\t119\\t11170\\t120\\t147\\t11373\\t11259\\t10759\\t12674\\t10157\\t11733\\t10116\\t11259\\t10575\\t102</td>\n",
       "      <td>10F6E035959B9AC156CED11E0FAED566</td>\n",
       "      <td>NaN</td>\n",
       "    </tr>\n",
       "  </tbody>\n",
       "</table>\n",
       "</div>"
      ],
      "text/plain": [
       "                                                                                                                                                                                                                                                                                                                                                                                                                                                                                                                              text_ tokens_x  \\\n",
       "0  101\\t17713\\t9405\\t119152\\t119002\\t118823\\t9531\\t10530\\t13767\\t9665\\t118649\\t33323\\t23466\\t9405\\t18623\\t27023\\t58303\\t48345\\t119\\t119\\t119\\t9665\\t118649\\t33323\\t23466\\t11018\\t9405\\t119152\\t9531\\t11489\\t9580\\t118762\\t9519\\t119285\\t130\\t14040\\t17655\\t9580\\t31531\\t125\\t14040\\t18382\\t68943\\t9576\\t16605\\t58303\\t48345\\t119\\t119\\t119\\t137\\t49866\\t27572\\t10112\\t11259\\t12674\\t11403\\t108\\t80426\\t11403\\t108\\t9560\\t22333\\t14120\\t131\\t120\\t120\\t188\\t119\\t11170\\t120\\t171\\t10731\\t48205\\t11259\\t12396\\t11211\\t11281\\t10174\\t11090\\t102   \n",
       "1  101\\t64002\\t9247\\t23665\\t9251\\t17342\\t23990\\t9764\\t36553\\t100543\\t9358\\t56789\\t9247\\t18108\\t12310\\t9485\\t38709\\t12178\\t28911\\t1729\\t1729\\t1729\\t14120\\t131\\t120\\t120\\t188\\t119\\t11170\\t120\\t191\\t19282\\t10305\\t83148\\t13966\\t10305\\t13966\\t11166\\t10161\\t102                                                                                                                                                                                                                                                                                \n",
       "2  101\\t56898\\t137\\t44592\\t11090\\t13503\\t10157\\t131\\t17144\\t112\\t187\\t12820\\t43662\\t10271\\t10950\\t119\\t119\\t119\\t14156\\t10114\\t13028\\t10479\\t10124\\t10105\\t14361\\t10139\\t10165\\t16297\\t96509\\t13328\\t11762\\t10551\\t136\\t119\\t108\\t10882\\t11759\\t11273\\t10280\\t10305\\t108\\t31091\\t34567\\t10237\\t10731\\t10237\\t100\\t102                                                                                                                                                                                                                          \n",
       "3  101\\t137\\t15595\\t21840\\t14590\\t75268\\t57493\\t10759\\t872\\t13874\\t32629\\t28462\\t102                                                                                                                                                                                                                                                                                                                                                                                                                                                           \n",
       "4  101\\t56898\\t137\\t13069\\t93870\\t10284\\t11274\\t12396\\t168\\t60801\\t11211\\t131\\t9331\\t30842\\t10739\\t9580\\t118762\\t9491\\t66540\\t17594\\t100\\t119\\t9076\\t68833\\t8843\\t19105\\t18108\\t9425\\t12424\\t9390\\t119086\\t9609\\t11018\\t8863\\t100\\t119\\t9150\\t12965\\t8996\\t26737\\t101202\\t9137\\t11018\\t9144\\t9551\\t23811\\t16439\\t100\\t14120\\t131\\t120\\t120\\t188\\t119\\t11170\\t120\\t147\\t11373\\t11259\\t10759\\t12674\\t10157\\t11733\\t10116\\t11259\\t10575\\t102                                                                                                      \n",
       "\n",
       "                   engaging_user_id  \\\n",
       "0  A4B1828B571271073C68DA93D1465484   \n",
       "1  F3A4C8EB81ADF3685E8F693037808A2C   \n",
       "2  8BD011AB59AC04491687749245009C60   \n",
       "3  F7BFBA56274FCBBBB76BDD36D0D6495B   \n",
       "4  10F6E035959B9AC156CED11E0FAED566   \n",
       "\n",
       "                                                                                                                                                                                                                                                                                                                                    text_ tokens_y  \n",
       "0  NaN                                                                                                                                                                                                                                                                                                                                              \n",
       "1  NaN                                                                                                                                                                                                                                                                                                                                              \n",
       "2  NaN                                                                                                                                                                                                                                                                                                                                              \n",
       "3  ['101\\t15813\\t885\\t18321\\t60270\\t14070\\t106\\t119\\t873\\t15778\\t35247\\t865\\t17110\\t15778\\t28462\\t21042\\t110334\\t22022\\t10569\\t40265\\t28546\\t52331\\t119\\t10977\\t898\\t16940\\t865\\t17110\\t15778\\t28462\\t21042\\t119\\t11186\\t24578\\t28546\\t898\\t66306\\t11208\\t22022\\t13286\\t16791\\t117\\t117\\t117\\t920\\t119\\t100\\t119\\t100\\t28757\\t100\\t119\\t100\\t102']  \n",
       "4  NaN                                                                                                                                                                                                                                                                                                                                              "
      ]
     },
     "execution_count": 8,
     "metadata": {},
     "output_type": "execute_result"
    }
   ],
   "source": [
    "user_tokens_val_set_subset.head()"
   ]
  },
  {
   "cell_type": "code",
   "execution_count": 9,
   "metadata": {},
   "outputs": [
    {
     "data": {
      "text/plain": [
       "1000"
      ]
     },
     "execution_count": 9,
     "metadata": {},
     "output_type": "execute_result"
    }
   ],
   "source": [
    "len(user_tokens_val_set_subset)"
   ]
  },
  {
   "cell_type": "code",
   "execution_count": 10,
   "metadata": {},
   "outputs": [],
   "source": [
    "user_tokens_val_set_subset.columns = [c.replace(' ', '_') for c in user_tokens_val_set_subset.columns]"
   ]
  },
  {
   "cell_type": "code",
   "execution_count": 11,
   "metadata": {},
   "outputs": [
    {
     "data": {
      "text/plain": [
       "886"
      ]
     },
     "execution_count": 11,
     "metadata": {},
     "output_type": "execute_result"
    }
   ],
   "source": [
    "user_tokens_val_set_subset.text__tokens_y.isnull().sum()"
   ]
  },
  {
   "cell_type": "code",
   "execution_count": 12,
   "metadata": {},
   "outputs": [
    {
     "data": {
      "text/plain": [
       "Int64Index([  3,   6,   7,  11,  15,  27,  35,  51,  54,  60,\n",
       "            ...\n",
       "            905, 920, 922, 929, 942, 952, 970, 980, 988, 994],\n",
       "           dtype='int64', length=114)"
      ]
     },
     "execution_count": 12,
     "metadata": {},
     "output_type": "execute_result"
    }
   ],
   "source": [
    "mask = user_tokens_val_set_subset.text__tokens_y.notnull()\n",
    "warm_ones = user_tokens_val_set_subset[mask]\n",
    "warm_index = warm_ones.index\n",
    "warm_index"
   ]
  },
  {
   "cell_type": "code",
   "execution_count": 13,
   "metadata": {},
   "outputs": [
    {
     "data": {
      "text/plain": [
       "Index(['text__tokens_x', 'engaging_user_id', 'text__tokens_y'], dtype='object')"
      ]
     },
     "execution_count": 13,
     "metadata": {},
     "output_type": "execute_result"
    }
   ],
   "source": [
    "user_tokens_val_set_subset.columns"
   ]
  },
  {
   "cell_type": "code",
   "execution_count": 14,
   "metadata": {},
   "outputs": [
    {
     "data": {
      "text/plain": [
       "1000"
      ]
     },
     "execution_count": 14,
     "metadata": {},
     "output_type": "execute_result"
    }
   ],
   "source": [
    "len(user_tokens_val_set_subset)"
   ]
  },
  {
   "cell_type": "code",
   "execution_count": null,
   "metadata": {},
   "outputs": [],
   "source": [
    "def calculate_average_old(row1, row2, index):\n",
    "    if pd.isna(row1):\n",
    "        return 0.028\n",
    "    sum_tensors = torch.zeros([768], dtype=torch.float32)\n",
    "    # row1 can be nan, as, there are cold users in validation set.\n",
    "    tweet_token_list = ast.literal_eval(row1)\n",
    "    for token_list in tweet_token_list:\n",
    "        token_list_embeddings = model(torch.tensor(list(map(int, token_list.split('\\t')))).unsqueeze(0))[0][0][0]\n",
    "        print(token_list_embeddings)\n",
    "        sum_tensors = sum_tensors + token_list_embeddings\n",
    "    avg = sum_tensors/len(row1)\n",
    "    tweet_average_embedding = model(torch.tensor(list(map(int, row2.split('\\t')))).unsqueeze(0))[0][0][0]\n",
    "    score = torch.dot(avg, tweet_average_embedding)\n",
    "    print(score)\n",
    "    return score.detach().numpy().item(0)"
   ]
  },
  {
   "cell_type": "code",
   "execution_count": 15,
   "metadata": {},
   "outputs": [],
   "source": [
    "def calculate_average(row1, row2, index):\n",
    "    if index % 100 == 0:\n",
    "        print(index)\n",
    "    if pd.isna(row1):\n",
    "        return 0.028\n",
    "    sum_tensors = torch.zeros([768], dtype=torch.float32)\n",
    "    tweet_token_list = ast.literal_eval(row1)\n",
    "    for token_list in tweet_token_list:\n",
    "        list_of_tokens = list(map(int, token_list.split('\\t')))\n",
    "        if len(list_of_tokens) > 512:\n",
    "            pre_list = list_of_tokens[:511]\n",
    "            post_list = list_of_tokens[511-len(list_of_tokens):]\n",
    "            post_list.insert(0, 101)\n",
    "            pre_token_list_embeddings = model(torch.tensor(pre_list).unsqueeze(0))[0][0][0]\n",
    "            post_token_list_embeddings = model(torch.tensor(post_list).unsqueeze(0))[0][0][0]\n",
    "            token_list_embeddings = (pre_token_list_embeddings + post_token_list_embeddings)/2.0\n",
    "        else:\n",
    "            token_list_embeddings = model(torch.tensor(list_of_tokens).unsqueeze(0))[0][0][0]\n",
    "        sum_tensors = sum_tensors + token_list_embeddings\n",
    "    avg = sum_tensors/len(row1)\n",
    "    tweet_average_embedding = model(torch.tensor(list(map(int, row2.split('\\t')))).unsqueeze(0))[0][0][0]\n",
    "    score = torch.dot(avg, tweet_average_embedding)\n",
    "    score = score/torch.norm(avg)\n",
    "    likelihood = score/torch.norm(tweet_average_embedding)\n",
    "    \n",
    "#     posterior = (likelihood*prior)  /  ((likelihood*prior) + ((1-likelihood)*(1-prior)))\n",
    "    \n",
    "    num = likelihood * 0.028\n",
    "    \n",
    "    unlikelihood = 1.0 - likelihood\n",
    "    anti_score = unlikelihood * 0.972\n",
    "    \n",
    "    \n",
    "    normalizing_factor = num + anti_score\n",
    "    \n",
    "    posterior = num/normalizing_factor\n",
    "    print('likelihood' + str(likelihood))\n",
    "    print('anti_score' + str(anti_score))\n",
    "    print('normalizing factor:' + str(normalizing_factor))\n",
    "    \n",
    "    print('posterior'+str(posterior))\n",
    "    return posterior.detach().numpy().item(0)"
   ]
  },
  {
   "cell_type": "code",
   "execution_count": 43,
   "metadata": {},
   "outputs": [],
   "source": [
    "def calculate_average(row1, row2, index):\n",
    "    if index % 100 == 0:\n",
    "        print(index)\n",
    "    if pd.isna(row1):\n",
    "        return 0.028\n",
    "    sum_tensors = torch.zeros([768], dtype=torch.float32)\n",
    "    tweet_token_list = ast.literal_eval(row1)\n",
    "    for token_list in tweet_token_list:\n",
    "        list_of_tokens = list(map(int, token_list.split('\\t')))\n",
    "        if len(list_of_tokens) > 512:\n",
    "            pre_list = list_of_tokens[:511]\n",
    "            post_list = list_of_tokens[511-len(list_of_tokens):]\n",
    "            post_list.insert(0, 101)\n",
    "            pre_token_list_embeddings = model(torch.tensor(pre_list).unsqueeze(0))[0][0][0]\n",
    "            post_token_list_embeddings = model(torch.tensor(post_list).unsqueeze(0))[0][0][0]\n",
    "            token_list_embeddings = (pre_token_list_embeddings + post_token_list_embeddings)/2.0\n",
    "        else:\n",
    "            token_list_embeddings = model(torch.tensor(list_of_tokens).unsqueeze(0))[0][0][0]\n",
    "        sum_tensors = sum_tensors + token_list_embeddings\n",
    "        \n",
    "    avg = sum_tensors/len(row1)\n",
    "    p_user_avg_embedding = avg / torch.norm(avg)\n",
    "    \n",
    "    tweet_embedding = model(torch.tensor(list(map(int, row2.split('\\t')))).unsqueeze(0))[0][0][0]\n",
    "    tweet_average_embedding = tweet_embedding / torch.norm(tweet_embedding)\n",
    "    \n",
    "    P_B_given_A = torch.dot(p_user_avg_embedding, tweet_average_embedding)\n",
    "    print('likelihood: ' + str(P_B_given_A))\n",
    "    \n",
    "#     posterior = (likelihood*prior)  /  ((likelihood*prior) + ((1-likelihood)*(1-prior)))\n",
    "    \n",
    "#     P(A|B) = P(B|A) * P(A) / P(B)\n",
    "\n",
    "#     P(B) = P(B/A)*P(A) + P(B/~A)* P(~A)\n",
    "\n",
    "    num = P_B_given_A * 0.028\n",
    "    \n",
    "    print('num: '+ str(num))\n",
    "    \n",
    "    unlikelihood = 1.0 - P_B_given_A # P(B/~A)\n",
    "    anti_score = unlikelihood * 0.972\n",
    "    normalizing_factor = num + anti_score # P(B)\n",
    "    \n",
    "    print('den: ' + str(normalizing_factor))\n",
    "    \n",
    "    posterior = num / normalizing_factor\n",
    "    \n",
    "    \n",
    "    print('posterior: '+str(posterior))\n",
    "    return posterior.detach().numpy().item(0)"
   ]
  },
  {
   "cell_type": "code",
   "execution_count": 17,
   "metadata": {},
   "outputs": [],
   "source": [
    "user_val_set_reply_score = pd.DataFrame()"
   ]
  },
  {
   "cell_type": "code",
   "execution_count": null,
   "metadata": {},
   "outputs": [],
   "source": []
  },
  {
   "cell_type": "code",
   "execution_count": null,
   "metadata": {},
   "outputs": [],
   "source": [
    "time1 = time.time()\n",
    "user_val_set_reply_score['reply_score'] = user_tokens_val_set.apply \\\n",
    "(lambda z: calculate_average(z.text__tokens_y, z.text__tokens_x, z.name), axis = 1)\n",
    "time2 = time.time()\n",
    "print(time2 - time1)"
   ]
  },
  {
   "cell_type": "code",
   "execution_count": 44,
   "metadata": {},
   "outputs": [
    {
     "name": "stdout",
     "output_type": "stream",
     "text": [
      "0\n",
      "likelihood: tensor(0.7741, grad_fn=<DotBackward>)\n",
      "num: tensor(0.0217, grad_fn=<MulBackward0>)\n",
      "den: tensor(0.2412, grad_fn=<AddBackward0>)\n",
      "posterior: tensor(0.0899, grad_fn=<DivBackward0>)\n",
      "likelihood: tensor(0.9504, grad_fn=<DotBackward>)\n",
      "num: tensor(0.0266, grad_fn=<MulBackward0>)\n",
      "den: tensor(0.0748, grad_fn=<AddBackward0>)\n",
      "posterior: tensor(0.3556, grad_fn=<DivBackward0>)\n",
      "likelihood: tensor(0.8681, grad_fn=<DotBackward>)\n",
      "num: tensor(0.0243, grad_fn=<MulBackward0>)\n",
      "den: tensor(0.1525, grad_fn=<AddBackward0>)\n",
      "posterior: tensor(0.1594, grad_fn=<DivBackward0>)\n",
      "likelihood: tensor(0.9448, grad_fn=<DotBackward>)\n",
      "num: tensor(0.0265, grad_fn=<MulBackward0>)\n",
      "den: tensor(0.0801, grad_fn=<AddBackward0>)\n",
      "posterior: tensor(0.3302, grad_fn=<DivBackward0>)\n",
      "likelihood: tensor(0.9362, grad_fn=<DotBackward>)\n",
      "num: tensor(0.0262, grad_fn=<MulBackward0>)\n",
      "den: tensor(0.0882, grad_fn=<AddBackward0>)\n",
      "posterior: tensor(0.2972, grad_fn=<DivBackward0>)\n",
      "likelihood: tensor(0.8103, grad_fn=<DotBackward>)\n",
      "num: tensor(0.0227, grad_fn=<MulBackward0>)\n",
      "den: tensor(0.2071, grad_fn=<AddBackward0>)\n",
      "posterior: tensor(0.1096, grad_fn=<DivBackward0>)\n",
      "likelihood: tensor(0.6222, grad_fn=<DotBackward>)\n",
      "num: tensor(0.0174, grad_fn=<MulBackward0>)\n",
      "den: tensor(0.3847, grad_fn=<AddBackward0>)\n",
      "posterior: tensor(0.0453, grad_fn=<DivBackward0>)\n",
      "likelihood: tensor(0.8379, grad_fn=<DotBackward>)\n",
      "num: tensor(0.0235, grad_fn=<MulBackward0>)\n",
      "den: tensor(0.1811, grad_fn=<AddBackward0>)\n",
      "posterior: tensor(0.1296, grad_fn=<DivBackward0>)\n",
      "likelihood: tensor(0.8440, grad_fn=<DotBackward>)\n",
      "num: tensor(0.0236, grad_fn=<MulBackward0>)\n",
      "den: tensor(0.1753, grad_fn=<AddBackward0>)\n",
      "posterior: tensor(0.1348, grad_fn=<DivBackward0>)\n",
      "likelihood: tensor(0.9770, grad_fn=<DotBackward>)\n",
      "num: tensor(0.0274, grad_fn=<MulBackward0>)\n",
      "den: tensor(0.0497, grad_fn=<AddBackward0>)\n",
      "posterior: tensor(0.5500, grad_fn=<DivBackward0>)\n",
      "likelihood: tensor(0.8818, grad_fn=<DotBackward>)\n",
      "num: tensor(0.0247, grad_fn=<MulBackward0>)\n",
      "den: tensor(0.1396, grad_fn=<AddBackward0>)\n",
      "posterior: tensor(0.1769, grad_fn=<DivBackward0>)\n",
      "likelihood: tensor(0.9015, grad_fn=<DotBackward>)\n",
      "num: tensor(0.0252, grad_fn=<MulBackward0>)\n",
      "den: tensor(0.1210, grad_fn=<AddBackward0>)\n",
      "posterior: tensor(0.2086, grad_fn=<DivBackward0>)\n",
      "likelihood: tensor(0.8514, grad_fn=<DotBackward>)\n",
      "num: tensor(0.0238, grad_fn=<MulBackward0>)\n",
      "den: tensor(0.1683, grad_fn=<AddBackward0>)\n",
      "posterior: tensor(0.1416, grad_fn=<DivBackward0>)\n",
      "likelihood: tensor(0.9069, grad_fn=<DotBackward>)\n",
      "num: tensor(0.0254, grad_fn=<MulBackward0>)\n",
      "den: tensor(0.1159, grad_fn=<AddBackward0>)\n",
      "posterior: tensor(0.2191, grad_fn=<DivBackward0>)\n",
      "likelihood: tensor(0.8903, grad_fn=<DotBackward>)\n",
      "num: tensor(0.0249, grad_fn=<MulBackward0>)\n",
      "den: tensor(0.1316, grad_fn=<AddBackward0>)\n",
      "posterior: tensor(0.1894, grad_fn=<DivBackward0>)\n",
      "likelihood: tensor(0.9420, grad_fn=<DotBackward>)\n",
      "num: tensor(0.0264, grad_fn=<MulBackward0>)\n",
      "den: tensor(0.0827, grad_fn=<AddBackward0>)\n",
      "posterior: tensor(0.3188, grad_fn=<DivBackward0>)\n",
      "100\n",
      "likelihood: tensor(0.7796, grad_fn=<DotBackward>)\n",
      "num: tensor(0.0218, grad_fn=<MulBackward0>)\n",
      "den: tensor(0.2360, grad_fn=<AddBackward0>)\n",
      "posterior: tensor(0.0925, grad_fn=<DivBackward0>)\n",
      "likelihood: tensor(0.5711, grad_fn=<DotBackward>)\n",
      "num: tensor(0.0160, grad_fn=<MulBackward0>)\n",
      "den: tensor(0.4329, grad_fn=<AddBackward0>)\n",
      "posterior: tensor(0.0369, grad_fn=<DivBackward0>)\n",
      "likelihood: tensor(0.8138, grad_fn=<DotBackward>)\n",
      "num: tensor(0.0228, grad_fn=<MulBackward0>)\n",
      "den: tensor(0.2037, grad_fn=<AddBackward0>)\n",
      "posterior: tensor(0.1118, grad_fn=<DivBackward0>)\n",
      "likelihood: tensor(0.6480, grad_fn=<DotBackward>)\n",
      "num: tensor(0.0181, grad_fn=<MulBackward0>)\n",
      "den: tensor(0.3603, grad_fn=<AddBackward0>)\n",
      "posterior: tensor(0.0504, grad_fn=<DivBackward0>)\n",
      "likelihood: tensor(0.7557, grad_fn=<DotBackward>)\n",
      "num: tensor(0.0212, grad_fn=<MulBackward0>)\n",
      "den: tensor(0.2586, grad_fn=<AddBackward0>)\n",
      "posterior: tensor(0.0818, grad_fn=<DivBackward0>)\n",
      "likelihood: tensor(0.6950, grad_fn=<DotBackward>)\n",
      "num: tensor(0.0195, grad_fn=<MulBackward0>)\n",
      "den: tensor(0.3159, grad_fn=<AddBackward0>)\n",
      "posterior: tensor(0.0616, grad_fn=<DivBackward0>)\n",
      "likelihood: tensor(0.8673, grad_fn=<DotBackward>)\n",
      "num: tensor(0.0243, grad_fn=<MulBackward0>)\n",
      "den: tensor(0.1533, grad_fn=<AddBackward0>)\n",
      "posterior: tensor(0.1584, grad_fn=<DivBackward0>)\n",
      "likelihood: tensor(0.8064, grad_fn=<DotBackward>)\n",
      "num: tensor(0.0226, grad_fn=<MulBackward0>)\n",
      "den: tensor(0.2108, grad_fn=<AddBackward0>)\n",
      "posterior: tensor(0.1071, grad_fn=<DivBackward0>)\n",
      "likelihood: tensor(0.8160, grad_fn=<DotBackward>)\n",
      "num: tensor(0.0228, grad_fn=<MulBackward0>)\n",
      "den: tensor(0.2017, grad_fn=<AddBackward0>)\n",
      "posterior: tensor(0.1133, grad_fn=<DivBackward0>)\n",
      "likelihood: tensor(0.7896, grad_fn=<DotBackward>)\n",
      "num: tensor(0.0221, grad_fn=<MulBackward0>)\n",
      "den: tensor(0.2266, grad_fn=<AddBackward0>)\n",
      "posterior: tensor(0.0976, grad_fn=<DivBackward0>)\n",
      "likelihood: tensor(0.9284, grad_fn=<DotBackward>)\n",
      "num: tensor(0.0260, grad_fn=<MulBackward0>)\n",
      "den: tensor(0.0956, grad_fn=<AddBackward0>)\n",
      "posterior: tensor(0.2720, grad_fn=<DivBackward0>)\n",
      "likelihood: tensor(0.9425, grad_fn=<DotBackward>)\n",
      "num: tensor(0.0264, grad_fn=<MulBackward0>)\n",
      "den: tensor(0.0822, grad_fn=<AddBackward0>)\n",
      "posterior: tensor(0.3209, grad_fn=<DivBackward0>)\n",
      "likelihood: tensor(0.9330, grad_fn=<DotBackward>)\n",
      "num: tensor(0.0261, grad_fn=<MulBackward0>)\n",
      "den: tensor(0.0913, grad_fn=<AddBackward0>)\n",
      "posterior: tensor(0.2862, grad_fn=<DivBackward0>)\n",
      "200\n",
      "likelihood: tensor(0.7317, grad_fn=<DotBackward>)\n",
      "num: tensor(0.0205, grad_fn=<MulBackward0>)\n",
      "den: tensor(0.2812, grad_fn=<AddBackward0>)\n",
      "posterior: tensor(0.0729, grad_fn=<DivBackward0>)\n",
      "likelihood: tensor(0.8337, grad_fn=<DotBackward>)\n",
      "num: tensor(0.0233, grad_fn=<MulBackward0>)\n",
      "den: tensor(0.1850, grad_fn=<AddBackward0>)\n",
      "posterior: tensor(0.1262, grad_fn=<DivBackward0>)\n",
      "likelihood: tensor(0.8240, grad_fn=<DotBackward>)\n",
      "num: tensor(0.0231, grad_fn=<MulBackward0>)\n",
      "den: tensor(0.1942, grad_fn=<AddBackward0>)\n",
      "posterior: tensor(0.1188, grad_fn=<DivBackward0>)\n",
      "likelihood: tensor(0.8643, grad_fn=<DotBackward>)\n",
      "num: tensor(0.0242, grad_fn=<MulBackward0>)\n",
      "den: tensor(0.1561, grad_fn=<AddBackward0>)\n",
      "posterior: tensor(0.1550, grad_fn=<DivBackward0>)\n",
      "likelihood: tensor(0.9414, grad_fn=<DotBackward>)\n",
      "num: tensor(0.0264, grad_fn=<MulBackward0>)\n",
      "den: tensor(0.0833, grad_fn=<AddBackward0>)\n",
      "posterior: tensor(0.3164, grad_fn=<DivBackward0>)\n",
      "likelihood: tensor(0.0099, grad_fn=<DotBackward>)\n",
      "num: tensor(0.0003, grad_fn=<MulBackward0>)\n",
      "den: tensor(0.9627, grad_fn=<AddBackward0>)\n",
      "posterior: tensor(0.0003, grad_fn=<DivBackward0>)\n",
      "likelihood: tensor(0.8158, grad_fn=<DotBackward>)\n",
      "num: tensor(0.0228, grad_fn=<MulBackward0>)\n",
      "den: tensor(0.2019, grad_fn=<AddBackward0>)\n",
      "posterior: tensor(0.1132, grad_fn=<DivBackward0>)\n",
      "likelihood: tensor(0.9582, grad_fn=<DotBackward>)\n",
      "num: tensor(0.0268, grad_fn=<MulBackward0>)\n",
      "den: tensor(0.0675, grad_fn=<AddBackward0>)\n",
      "posterior: tensor(0.3976, grad_fn=<DivBackward0>)\n",
      "likelihood: tensor(0.8361, grad_fn=<DotBackward>)\n",
      "num: tensor(0.0234, grad_fn=<MulBackward0>)\n",
      "den: tensor(0.1827, grad_fn=<AddBackward0>)\n",
      "posterior: tensor(0.1281, grad_fn=<DivBackward0>)\n",
      "likelihood: tensor(0.7871, grad_fn=<DotBackward>)\n",
      "num: tensor(0.0220, grad_fn=<MulBackward0>)\n",
      "den: tensor(0.2289, grad_fn=<AddBackward0>)\n",
      "posterior: tensor(0.0963, grad_fn=<DivBackward0>)\n",
      "likelihood: tensor(0.9232, grad_fn=<DotBackward>)\n",
      "num: tensor(0.0258, grad_fn=<MulBackward0>)\n",
      "den: tensor(0.1005, grad_fn=<AddBackward0>)\n",
      "posterior: tensor(0.2572, grad_fn=<DivBackward0>)\n",
      "likelihood: tensor(0.8875, grad_fn=<DotBackward>)\n",
      "num: tensor(0.0248, grad_fn=<MulBackward0>)\n",
      "den: tensor(0.1342, grad_fn=<AddBackward0>)\n",
      "posterior: tensor(0.1851, grad_fn=<DivBackward0>)\n",
      "likelihood: tensor(0.9119, grad_fn=<DotBackward>)\n",
      "num: tensor(0.0255, grad_fn=<MulBackward0>)\n",
      "den: tensor(0.1112, grad_fn=<AddBackward0>)\n",
      "posterior: tensor(0.2296, grad_fn=<DivBackward0>)\n",
      "likelihood: tensor(0.8741, grad_fn=<DotBackward>)\n",
      "num: tensor(0.0245, grad_fn=<MulBackward0>)\n",
      "den: tensor(0.1469, grad_fn=<AddBackward0>)\n",
      "posterior: tensor(0.1666, grad_fn=<DivBackward0>)\n",
      "likelihood: tensor(0.7600, grad_fn=<DotBackward>)\n",
      "num: tensor(0.0213, grad_fn=<MulBackward0>)\n",
      "den: tensor(0.2546, grad_fn=<AddBackward0>)\n",
      "posterior: tensor(0.0836, grad_fn=<DivBackward0>)\n",
      "likelihood: tensor(0.8698, grad_fn=<DotBackward>)\n",
      "num: tensor(0.0244, grad_fn=<MulBackward0>)\n",
      "den: tensor(0.1509, grad_fn=<AddBackward0>)\n",
      "posterior: tensor(0.1613, grad_fn=<DivBackward0>)\n"
     ]
    },
    {
     "name": "stdout",
     "output_type": "stream",
     "text": [
      "likelihood: tensor(0.6847, grad_fn=<DotBackward>)\n",
      "num: tensor(0.0192, grad_fn=<MulBackward0>)\n",
      "den: tensor(0.3256, grad_fn=<AddBackward0>)\n",
      "posterior: tensor(0.0589, grad_fn=<DivBackward0>)\n",
      "300\n",
      "likelihood: tensor(0.9063, grad_fn=<DotBackward>)\n",
      "num: tensor(0.0254, grad_fn=<MulBackward0>)\n",
      "den: tensor(0.1165, grad_fn=<AddBackward0>)\n",
      "posterior: tensor(0.2179, grad_fn=<DivBackward0>)\n",
      "likelihood: tensor(0.8215, grad_fn=<DotBackward>)\n",
      "num: tensor(0.0230, grad_fn=<MulBackward0>)\n",
      "den: tensor(0.1965, grad_fn=<AddBackward0>)\n",
      "posterior: tensor(0.1171, grad_fn=<DivBackward0>)\n",
      "likelihood: tensor(0.9204, grad_fn=<DotBackward>)\n",
      "num: tensor(0.0258, grad_fn=<MulBackward0>)\n",
      "den: tensor(0.1032, grad_fn=<AddBackward0>)\n",
      "posterior: tensor(0.2498, grad_fn=<DivBackward0>)\n",
      "likelihood: tensor(0.8856, grad_fn=<DotBackward>)\n",
      "num: tensor(0.0248, grad_fn=<MulBackward0>)\n",
      "den: tensor(0.1360, grad_fn=<AddBackward0>)\n",
      "posterior: tensor(0.1823, grad_fn=<DivBackward0>)\n",
      "likelihood: tensor(0.7843, grad_fn=<DotBackward>)\n",
      "num: tensor(0.0220, grad_fn=<MulBackward0>)\n",
      "den: tensor(0.2316, grad_fn=<AddBackward0>)\n",
      "posterior: tensor(0.0948, grad_fn=<DivBackward0>)\n",
      "likelihood: tensor(0.8773, grad_fn=<DotBackward>)\n",
      "num: tensor(0.0246, grad_fn=<MulBackward0>)\n",
      "den: tensor(0.1438, grad_fn=<AddBackward0>)\n",
      "posterior: tensor(0.1708, grad_fn=<DivBackward0>)\n",
      "likelihood: tensor(0.8239, grad_fn=<DotBackward>)\n",
      "num: tensor(0.0231, grad_fn=<MulBackward0>)\n",
      "den: tensor(0.1943, grad_fn=<AddBackward0>)\n",
      "posterior: tensor(0.1187, grad_fn=<DivBackward0>)\n",
      "likelihood: tensor(0.8932, grad_fn=<DotBackward>)\n",
      "num: tensor(0.0250, grad_fn=<MulBackward0>)\n",
      "den: tensor(0.1288, grad_fn=<AddBackward0>)\n",
      "posterior: tensor(0.1942, grad_fn=<DivBackward0>)\n",
      "likelihood: tensor(-0.0426, grad_fn=<DotBackward>)\n",
      "num: tensor(-0.0012, grad_fn=<MulBackward0>)\n",
      "den: tensor(1.0122, grad_fn=<AddBackward0>)\n",
      "posterior: tensor(-0.0012, grad_fn=<DivBackward0>)\n",
      "400\n",
      "likelihood: tensor(0.6960, grad_fn=<DotBackward>)\n",
      "num: tensor(0.0195, grad_fn=<MulBackward0>)\n",
      "den: tensor(0.3150, grad_fn=<AddBackward0>)\n",
      "posterior: tensor(0.0619, grad_fn=<DivBackward0>)\n",
      "likelihood: tensor(0.9103, grad_fn=<DotBackward>)\n",
      "num: tensor(0.0255, grad_fn=<MulBackward0>)\n",
      "den: tensor(0.1127, grad_fn=<AddBackward0>)\n",
      "posterior: tensor(0.2262, grad_fn=<DivBackward0>)\n",
      "likelihood: tensor(0.9812, grad_fn=<DotBackward>)\n",
      "num: tensor(0.0275, grad_fn=<MulBackward0>)\n",
      "den: tensor(0.0458, grad_fn=<AddBackward0>)\n",
      "posterior: tensor(0.6000, grad_fn=<DivBackward0>)\n",
      "likelihood: tensor(0.8318, grad_fn=<DotBackward>)\n",
      "num: tensor(0.0233, grad_fn=<MulBackward0>)\n",
      "den: tensor(0.1868, grad_fn=<AddBackward0>)\n",
      "posterior: tensor(0.1247, grad_fn=<DivBackward0>)\n",
      "likelihood: tensor(0.9240, grad_fn=<DotBackward>)\n",
      "num: tensor(0.0259, grad_fn=<MulBackward0>)\n",
      "den: tensor(0.0997, grad_fn=<AddBackward0>)\n",
      "posterior: tensor(0.2594, grad_fn=<DivBackward0>)\n",
      "likelihood: tensor(0.8712, grad_fn=<DotBackward>)\n",
      "num: tensor(0.0244, grad_fn=<MulBackward0>)\n",
      "den: tensor(0.1496, grad_fn=<AddBackward0>)\n",
      "posterior: tensor(0.1631, grad_fn=<DivBackward0>)\n",
      "likelihood: tensor(0.8673, grad_fn=<DotBackward>)\n",
      "num: tensor(0.0243, grad_fn=<MulBackward0>)\n",
      "den: tensor(0.1533, grad_fn=<AddBackward0>)\n",
      "posterior: tensor(0.1585, grad_fn=<DivBackward0>)\n",
      "500\n",
      "likelihood: tensor(0.0111, grad_fn=<DotBackward>)\n",
      "num: tensor(0.0003, grad_fn=<MulBackward0>)\n",
      "den: tensor(0.9615, grad_fn=<AddBackward0>)\n",
      "posterior: tensor(0.0003, grad_fn=<DivBackward0>)\n",
      "likelihood: tensor(0.7945, grad_fn=<DotBackward>)\n",
      "num: tensor(0.0222, grad_fn=<MulBackward0>)\n",
      "den: tensor(0.2220, grad_fn=<AddBackward0>)\n",
      "posterior: tensor(0.1002, grad_fn=<DivBackward0>)\n",
      "likelihood: tensor(0.8651, grad_fn=<DotBackward>)\n",
      "num: tensor(0.0242, grad_fn=<MulBackward0>)\n",
      "den: tensor(0.1554, grad_fn=<AddBackward0>)\n",
      "posterior: tensor(0.1559, grad_fn=<DivBackward0>)\n",
      "likelihood: tensor(0.9649, grad_fn=<DotBackward>)\n",
      "num: tensor(0.0270, grad_fn=<MulBackward0>)\n",
      "den: tensor(0.0611, grad_fn=<AddBackward0>)\n",
      "posterior: tensor(0.4420, grad_fn=<DivBackward0>)\n",
      "likelihood: tensor(0.8498, grad_fn=<DotBackward>)\n",
      "num: tensor(0.0238, grad_fn=<MulBackward0>)\n",
      "den: tensor(0.1698, grad_fn=<AddBackward0>)\n",
      "posterior: tensor(0.1401, grad_fn=<DivBackward0>)\n",
      "likelihood: tensor(0.7350, grad_fn=<DotBackward>)\n",
      "num: tensor(0.0206, grad_fn=<MulBackward0>)\n",
      "den: tensor(0.2782, grad_fn=<AddBackward0>)\n",
      "posterior: tensor(0.0740, grad_fn=<DivBackward0>)\n",
      "likelihood: tensor(0.7963, grad_fn=<DotBackward>)\n",
      "num: tensor(0.0223, grad_fn=<MulBackward0>)\n",
      "den: tensor(0.2203, grad_fn=<AddBackward0>)\n",
      "posterior: tensor(0.1012, grad_fn=<DivBackward0>)\n",
      "600\n",
      "likelihood: tensor(0.7958, grad_fn=<DotBackward>)\n",
      "num: tensor(0.0223, grad_fn=<MulBackward0>)\n",
      "den: tensor(0.2207, grad_fn=<AddBackward0>)\n",
      "posterior: tensor(0.1009, grad_fn=<DivBackward0>)\n",
      "likelihood: tensor(0.9601, grad_fn=<DotBackward>)\n",
      "num: tensor(0.0269, grad_fn=<MulBackward0>)\n",
      "den: tensor(0.0657, grad_fn=<AddBackward0>)\n",
      "posterior: tensor(0.4092, grad_fn=<DivBackward0>)\n",
      "likelihood: tensor(0.9066, grad_fn=<DotBackward>)\n",
      "num: tensor(0.0254, grad_fn=<MulBackward0>)\n",
      "den: tensor(0.1162, grad_fn=<AddBackward0>)\n",
      "posterior: tensor(0.2184, grad_fn=<DivBackward0>)\n",
      "likelihood: tensor(0.9105, grad_fn=<DotBackward>)\n",
      "num: tensor(0.0255, grad_fn=<MulBackward0>)\n",
      "den: tensor(0.1124, grad_fn=<AddBackward0>)\n",
      "posterior: tensor(0.2267, grad_fn=<DivBackward0>)\n",
      "likelihood: tensor(0.8506, grad_fn=<DotBackward>)\n",
      "num: tensor(0.0238, grad_fn=<MulBackward0>)\n",
      "den: tensor(0.1690, grad_fn=<AddBackward0>)\n",
      "posterior: tensor(0.1409, grad_fn=<DivBackward0>)\n",
      "likelihood: tensor(0.9211, grad_fn=<DotBackward>)\n",
      "num: tensor(0.0258, grad_fn=<MulBackward0>)\n",
      "den: tensor(0.1025, grad_fn=<AddBackward0>)\n",
      "posterior: tensor(0.2517, grad_fn=<DivBackward0>)\n",
      "likelihood: tensor(0.9057, grad_fn=<DotBackward>)\n",
      "num: tensor(0.0254, grad_fn=<MulBackward0>)\n",
      "den: tensor(0.1170, grad_fn=<AddBackward0>)\n",
      "posterior: tensor(0.2168, grad_fn=<DivBackward0>)\n",
      "likelihood: tensor(0.8884, grad_fn=<DotBackward>)\n",
      "num: tensor(0.0249, grad_fn=<MulBackward0>)\n",
      "den: tensor(0.1334, grad_fn=<AddBackward0>)\n",
      "posterior: tensor(0.1865, grad_fn=<DivBackward0>)\n",
      "likelihood: tensor(0.8388, grad_fn=<DotBackward>)\n",
      "num: tensor(0.0235, grad_fn=<MulBackward0>)\n",
      "den: tensor(0.1801, grad_fn=<AddBackward0>)\n",
      "posterior: tensor(0.1304, grad_fn=<DivBackward0>)\n",
      "likelihood: tensor(0.5429, grad_fn=<DotBackward>)\n",
      "num: tensor(0.0152, grad_fn=<MulBackward0>)\n",
      "den: tensor(0.4595, grad_fn=<AddBackward0>)\n",
      "posterior: tensor(0.0331, grad_fn=<DivBackward0>)\n",
      "likelihood: tensor(0.7790, grad_fn=<DotBackward>)\n",
      "num: tensor(0.0218, grad_fn=<MulBackward0>)\n",
      "den: tensor(0.2366, grad_fn=<AddBackward0>)\n",
      "posterior: tensor(0.0922, grad_fn=<DivBackward0>)\n",
      "likelihood: tensor(0.8499, grad_fn=<DotBackward>)\n",
      "num: tensor(0.0238, grad_fn=<MulBackward0>)\n",
      "den: tensor(0.1697, grad_fn=<AddBackward0>)\n",
      "posterior: tensor(0.1403, grad_fn=<DivBackward0>)\n",
      "700\n",
      "likelihood: tensor(0.9038, grad_fn=<DotBackward>)\n",
      "num: tensor(0.0253, grad_fn=<MulBackward0>)\n",
      "den: tensor(0.1188, grad_fn=<AddBackward0>)\n",
      "posterior: tensor(0.2129, grad_fn=<DivBackward0>)\n",
      "likelihood: tensor(0.7236, grad_fn=<DotBackward>)\n",
      "num: tensor(0.0203, grad_fn=<MulBackward0>)\n",
      "den: tensor(0.2889, grad_fn=<AddBackward0>)\n",
      "posterior: tensor(0.0701, grad_fn=<DivBackward0>)\n",
      "likelihood: tensor(0.8584, grad_fn=<DotBackward>)\n",
      "num: tensor(0.0240, grad_fn=<MulBackward0>)\n",
      "den: tensor(0.1616, grad_fn=<AddBackward0>)\n",
      "posterior: tensor(0.1487, grad_fn=<DivBackward0>)\n",
      "likelihood: tensor(0.7436, grad_fn=<DotBackward>)\n",
      "num: tensor(0.0208, grad_fn=<MulBackward0>)\n",
      "den: tensor(0.2700, grad_fn=<AddBackward0>)\n",
      "posterior: tensor(0.0771, grad_fn=<DivBackward0>)\n",
      "likelihood: tensor(0.9395, grad_fn=<DotBackward>)\n",
      "num: tensor(0.0263, grad_fn=<MulBackward0>)\n",
      "den: tensor(0.0851, grad_fn=<AddBackward0>)\n",
      "posterior: tensor(0.3092, grad_fn=<DivBackward0>)\n",
      "likelihood: tensor(0.7216, grad_fn=<DotBackward>)\n",
      "num: tensor(0.0202, grad_fn=<MulBackward0>)\n",
      "den: tensor(0.2908, grad_fn=<AddBackward0>)\n",
      "posterior: tensor(0.0695, grad_fn=<DivBackward0>)\n",
      "likelihood: tensor(0.8365, grad_fn=<DotBackward>)\n",
      "num: tensor(0.0234, grad_fn=<MulBackward0>)\n",
      "den: tensor(0.1823, grad_fn=<AddBackward0>)\n",
      "posterior: tensor(0.1285, grad_fn=<DivBackward0>)\n",
      "likelihood: tensor(0.4580, grad_fn=<DotBackward>)\n",
      "num: tensor(0.0128, grad_fn=<MulBackward0>)\n",
      "den: tensor(0.5396, grad_fn=<AddBackward0>)\n",
      "posterior: tensor(0.0238, grad_fn=<DivBackward0>)\n",
      "likelihood: tensor(0.5801, grad_fn=<DotBackward>)\n",
      "num: tensor(0.0162, grad_fn=<MulBackward0>)\n",
      "den: tensor(0.4244, grad_fn=<AddBackward0>)\n",
      "posterior: tensor(0.0383, grad_fn=<DivBackward0>)\n"
     ]
    },
    {
     "name": "stdout",
     "output_type": "stream",
     "text": [
      "likelihood: tensor(0.7586, grad_fn=<DotBackward>)\n",
      "num: tensor(0.0212, grad_fn=<MulBackward0>)\n",
      "den: tensor(0.2559, grad_fn=<AddBackward0>)\n",
      "posterior: tensor(0.0830, grad_fn=<DivBackward0>)\n",
      "likelihood: tensor(0.8531, grad_fn=<DotBackward>)\n",
      "num: tensor(0.0239, grad_fn=<MulBackward0>)\n",
      "den: tensor(0.1667, grad_fn=<AddBackward0>)\n",
      "posterior: tensor(0.1433, grad_fn=<DivBackward0>)\n",
      "likelihood: tensor(0.9580, grad_fn=<DotBackward>)\n",
      "num: tensor(0.0268, grad_fn=<MulBackward0>)\n",
      "den: tensor(0.0676, grad_fn=<AddBackward0>)\n",
      "posterior: tensor(0.3966, grad_fn=<DivBackward0>)\n",
      "likelihood: tensor(0.7937, grad_fn=<DotBackward>)\n",
      "num: tensor(0.0222, grad_fn=<MulBackward0>)\n",
      "den: tensor(0.2228, grad_fn=<AddBackward0>)\n",
      "posterior: tensor(0.0998, grad_fn=<DivBackward0>)\n",
      "800\n",
      "likelihood: tensor(0.6288, grad_fn=<DotBackward>)\n",
      "num: tensor(0.0176, grad_fn=<MulBackward0>)\n",
      "den: tensor(0.3784, grad_fn=<AddBackward0>)\n",
      "posterior: tensor(0.0465, grad_fn=<DivBackward0>)\n",
      "likelihood: tensor(0.5889, grad_fn=<DotBackward>)\n",
      "num: tensor(0.0165, grad_fn=<MulBackward0>)\n",
      "den: tensor(0.4161, grad_fn=<AddBackward0>)\n",
      "posterior: tensor(0.0396, grad_fn=<DivBackward0>)\n",
      "likelihood: tensor(0.9067, grad_fn=<DotBackward>)\n",
      "num: tensor(0.0254, grad_fn=<MulBackward0>)\n",
      "den: tensor(0.1161, grad_fn=<AddBackward0>)\n",
      "posterior: tensor(0.2188, grad_fn=<DivBackward0>)\n",
      "likelihood: tensor(0.7966, grad_fn=<DotBackward>)\n",
      "num: tensor(0.0223, grad_fn=<MulBackward0>)\n",
      "den: tensor(0.2200, grad_fn=<AddBackward0>)\n",
      "posterior: tensor(0.1014, grad_fn=<DivBackward0>)\n",
      "likelihood: tensor(0.8920, grad_fn=<DotBackward>)\n",
      "num: tensor(0.0250, grad_fn=<MulBackward0>)\n",
      "den: tensor(0.1300, grad_fn=<AddBackward0>)\n",
      "posterior: tensor(0.1921, grad_fn=<DivBackward0>)\n",
      "likelihood: tensor(-0.1157, grad_fn=<DotBackward>)\n",
      "num: tensor(-0.0032, grad_fn=<MulBackward0>)\n",
      "den: tensor(1.0813, grad_fn=<AddBackward0>)\n",
      "posterior: tensor(-0.0030, grad_fn=<DivBackward0>)\n",
      "likelihood: tensor(0.6798, grad_fn=<DotBackward>)\n",
      "num: tensor(0.0190, grad_fn=<MulBackward0>)\n",
      "den: tensor(0.3302, grad_fn=<AddBackward0>)\n",
      "posterior: tensor(0.0576, grad_fn=<DivBackward0>)\n",
      "likelihood: tensor(0.7367, grad_fn=<DotBackward>)\n",
      "num: tensor(0.0206, grad_fn=<MulBackward0>)\n",
      "den: tensor(0.2765, grad_fn=<AddBackward0>)\n",
      "posterior: tensor(0.0746, grad_fn=<DivBackward0>)\n",
      "likelihood: tensor(0.8307, grad_fn=<DotBackward>)\n",
      "num: tensor(0.0233, grad_fn=<MulBackward0>)\n",
      "den: tensor(0.1878, grad_fn=<AddBackward0>)\n",
      "posterior: tensor(0.1239, grad_fn=<DivBackward0>)\n",
      "900\n",
      "likelihood: tensor(0.6927, grad_fn=<DotBackward>)\n",
      "num: tensor(0.0194, grad_fn=<MulBackward0>)\n",
      "den: tensor(0.3181, grad_fn=<AddBackward0>)\n",
      "posterior: tensor(0.0610, grad_fn=<DivBackward0>)\n",
      "likelihood: tensor(0.8375, grad_fn=<DotBackward>)\n",
      "num: tensor(0.0234, grad_fn=<MulBackward0>)\n",
      "den: tensor(0.1814, grad_fn=<AddBackward0>)\n",
      "posterior: tensor(0.1292, grad_fn=<DivBackward0>)\n",
      "likelihood: tensor(0.7121, grad_fn=<DotBackward>)\n",
      "num: tensor(0.0199, grad_fn=<MulBackward0>)\n",
      "den: tensor(0.2998, grad_fn=<AddBackward0>)\n",
      "posterior: tensor(0.0665, grad_fn=<DivBackward0>)\n",
      "likelihood: tensor(0.6881, grad_fn=<DotBackward>)\n",
      "num: tensor(0.0193, grad_fn=<MulBackward0>)\n",
      "den: tensor(0.3224, grad_fn=<AddBackward0>)\n",
      "posterior: tensor(0.0598, grad_fn=<DivBackward0>)\n",
      "likelihood: tensor(0.8225, grad_fn=<DotBackward>)\n",
      "num: tensor(0.0230, grad_fn=<MulBackward0>)\n",
      "den: tensor(0.1956, grad_fn=<AddBackward0>)\n",
      "posterior: tensor(0.1177, grad_fn=<DivBackward0>)\n",
      "likelihood: tensor(0.7319, grad_fn=<DotBackward>)\n",
      "num: tensor(0.0205, grad_fn=<MulBackward0>)\n",
      "den: tensor(0.2811, grad_fn=<AddBackward0>)\n",
      "posterior: tensor(0.0729, grad_fn=<DivBackward0>)\n",
      "likelihood: tensor(0.1677, grad_fn=<DotBackward>)\n",
      "num: tensor(0.0047, grad_fn=<MulBackward0>)\n",
      "den: tensor(0.8136, grad_fn=<AddBackward0>)\n",
      "posterior: tensor(0.0058, grad_fn=<DivBackward0>)\n",
      "likelihood: tensor(0.8277, grad_fn=<DotBackward>)\n",
      "num: tensor(0.0232, grad_fn=<MulBackward0>)\n",
      "den: tensor(0.1906, grad_fn=<AddBackward0>)\n",
      "posterior: tensor(0.1216, grad_fn=<DivBackward0>)\n",
      "likelihood: tensor(0.8531, grad_fn=<DotBackward>)\n",
      "num: tensor(0.0239, grad_fn=<MulBackward0>)\n",
      "den: tensor(0.1667, grad_fn=<AddBackward0>)\n",
      "posterior: tensor(0.1433, grad_fn=<DivBackward0>)\n",
      "likelihood: tensor(0.9190, grad_fn=<DotBackward>)\n",
      "num: tensor(0.0257, grad_fn=<MulBackward0>)\n",
      "den: tensor(0.1044, grad_fn=<AddBackward0>)\n",
      "posterior: tensor(0.2464, grad_fn=<DivBackward0>)\n",
      "likelihood: tensor(0.8893, grad_fn=<DotBackward>)\n",
      "num: tensor(0.0249, grad_fn=<MulBackward0>)\n",
      "den: tensor(0.1325, grad_fn=<AddBackward0>)\n",
      "posterior: tensor(0.1880, grad_fn=<DivBackward0>)\n",
      "14.080105543136597\n"
     ]
    }
   ],
   "source": [
    "time1 = time.time()\n",
    "user_val_set_reply_score['reply_score'] = user_tokens_val_set_subset.apply \\\n",
    "(lambda z: calculate_average(z.text__tokens_y, z.text__tokens_x, z.name), axis = 1)\n",
    "time2 = time.time()\n",
    "print(time2 - time1)"
   ]
  },
  {
   "cell_type": "code",
   "execution_count": null,
   "metadata": {},
   "outputs": [],
   "source": [
    "user_val_set_reply_score['reply_score'] = user_tokens_val_set.apply \\\n",
    "(lambda z: calculate_average_old(z.text__tokens_y, z.text__tokens_x), axis = 1)"
   ]
  },
  {
   "cell_type": "code",
   "execution_count": null,
   "metadata": {},
   "outputs": [],
   "source": [
    "user_val_set_reply_score.to_csv('s3://recsyschallenge2020/user_val_set_reply_score', index = False)"
   ]
  },
  {
   "cell_type": "code",
   "execution_count": null,
   "metadata": {},
   "outputs": [],
   "source": [
    "user_val_set_reply_score[user_val_set_reply_score.reply_score == 0.028]"
   ]
  },
  {
   "cell_type": "markdown",
   "metadata": {},
   "source": [
    "### Compute Metrics"
   ]
  },
  {
   "cell_type": "code",
   "execution_count": 45,
   "metadata": {},
   "outputs": [],
   "source": [
    "column_of_interest = [\"reply_bool\"]\n",
    "val_set_subset = pd.read_csv('s3://recsys-challenge-2020/val_set_reply.csv', encoding=\"utf-8\",\n",
    "                     usecols= [6], nrows = 1000)"
   ]
  },
  {
   "cell_type": "code",
   "execution_count": null,
   "metadata": {},
   "outputs": [],
   "source": [
    "val_set_subset.loc[warm_index]"
   ]
  },
  {
   "cell_type": "code",
   "execution_count": null,
   "metadata": {},
   "outputs": [],
   "source": [
    "mask = user_val_set_reply_score.loc[val_set_subset[val_set_subset['reply_bool'] == 1.0].index].reply_score == 0.028\n",
    "mask.value_counts()"
   ]
  },
  {
   "cell_type": "code",
   "execution_count": null,
   "metadata": {},
   "outputs": [],
   "source": [
    "warm_scores = user_val_set_reply_score[user_val_set_reply_score['reply_score'] != 0.028]"
   ]
  },
  {
   "cell_type": "code",
   "execution_count": null,
   "metadata": {},
   "outputs": [],
   "source": [
    "mask = user_val_set_reply_score.loc[val_set_subset.loc[warm_index][val_set_subset['reply_bool'] == 0.0].index].reply_score >= 0.028"
   ]
  },
  {
   "cell_type": "code",
   "execution_count": null,
   "metadata": {},
   "outputs": [],
   "source": [
    "mask = user_val_set_reply_score.loc[val_set_subset.loc[warm_index][val_set_subset['reply_bool'] == 0.0].index].reply_score"
   ]
  },
  {
   "cell_type": "code",
   "execution_count": null,
   "metadata": {},
   "outputs": [],
   "source": [
    "mask.mean()"
   ]
  },
  {
   "cell_type": "code",
   "execution_count": null,
   "metadata": {},
   "outputs": [],
   "source": [
    "mask.value_counts()"
   ]
  },
  {
   "cell_type": "code",
   "execution_count": null,
   "metadata": {},
   "outputs": [],
   "source": [
    "mask = user_val_set_reply_score.loc[val_set_subset.loc[warm_index][val_set_subset['reply_bool'] == 1.0].index].reply_score >= 0.028"
   ]
  },
  {
   "cell_type": "code",
   "execution_count": null,
   "metadata": {},
   "outputs": [],
   "source": [
    "mask = user_val_set_reply_score.loc[val_set_subset.loc[warm_index][val_set_subset['reply_bool'] == 1.0].index].reply_score"
   ]
  },
  {
   "cell_type": "code",
   "execution_count": null,
   "metadata": {},
   "outputs": [],
   "source": [
    "mask.value_counts()"
   ]
  },
  {
   "cell_type": "code",
   "execution_count": null,
   "metadata": {},
   "outputs": [],
   "source": [
    "mask.mean()"
   ]
  },
  {
   "cell_type": "code",
   "execution_count": 46,
   "metadata": {},
   "outputs": [],
   "source": [
    "pr = list(user_val_set_reply_score['reply_score'])"
   ]
  },
  {
   "cell_type": "code",
   "execution_count": 47,
   "metadata": {},
   "outputs": [],
   "source": [
    "gt = list(val_set_subset['reply_bool'])"
   ]
  },
  {
   "cell_type": "code",
   "execution_count": 48,
   "metadata": {},
   "outputs": [
    {
     "data": {
      "text/plain": [
       "1000"
      ]
     },
     "execution_count": 48,
     "metadata": {},
     "output_type": "execute_result"
    }
   ],
   "source": [
    "len(gt)"
   ]
  },
  {
   "cell_type": "code",
   "execution_count": 49,
   "metadata": {},
   "outputs": [
    {
     "data": {
      "text/plain": [
       "1000"
      ]
     },
     "execution_count": 49,
     "metadata": {},
     "output_type": "execute_result"
    }
   ],
   "source": [
    "len(pr)"
   ]
  },
  {
   "cell_type": "code",
   "execution_count": 54,
   "metadata": {},
   "outputs": [],
   "source": [
    "pr = [0.028]*1000"
   ]
  },
  {
   "cell_type": "code",
   "execution_count": 50,
   "metadata": {},
   "outputs": [
    {
     "data": {
      "text/plain": [
       "0.10066636518081096"
      ]
     },
     "execution_count": 50,
     "metadata": {},
     "output_type": "execute_result"
    }
   ],
   "source": [
    "metrics.compute_prauc(pr,gt)"
   ]
  },
  {
   "cell_type": "code",
   "execution_count": 55,
   "metadata": {},
   "outputs": [
    {
     "data": {
      "text/plain": [
       "0.5115"
      ]
     },
     "execution_count": 55,
     "metadata": {},
     "output_type": "execute_result"
    }
   ],
   "source": [
    "metrics.compute_prauc(pr,gt)"
   ]
  },
  {
   "cell_type": "code",
   "execution_count": 51,
   "metadata": {},
   "outputs": [
    {
     "data": {
      "text/plain": [
       "4.09965892518983"
      ]
     },
     "execution_count": 51,
     "metadata": {},
     "output_type": "execute_result"
    }
   ],
   "source": [
    "metrics.compute_rce(pr,gt)"
   ]
  },
  {
   "cell_type": "code",
   "execution_count": 56,
   "metadata": {},
   "outputs": [
    {
     "data": {
      "text/plain": [
       "-0.44613845327849955"
      ]
     },
     "execution_count": 56,
     "metadata": {},
     "output_type": "execute_result"
    }
   ],
   "source": [
    "metrics.compute_rce(pr,gt)"
   ]
  },
  {
   "cell_type": "markdown",
   "metadata": {},
   "source": [
    "### Rough Testing Below"
   ]
  },
  {
   "cell_type": "code",
   "execution_count": null,
   "metadata": {},
   "outputs": [],
   "source": [
    "for lst in ast.literal_eval(user_tokens_val_set.loc[46166]['text_ tokens_y']):\n",
    "    list_of_tokens = list(map(int, lst.split('\\t')))\n",
    "    if len(list_of_tokens) > 512:\n",
    "        pre_list = list_of_tokens[:511]\n",
    "        post_list = list_of_tokens[511-len(list_of_tokens):]\n",
    "        post_list.insert(0, 101)\n",
    "        pre_token_list_embeddings = model(torch.tensor(pre_list).unsqueeze(0))[0][0][0]\n",
    "        post_token_list_embeddings = model(torch.tensor(post_list).unsqueeze(0))[0][0][0]\n",
    "        token_list_embeddings = pre_token_list_embeddings + post_token_list_embeddings)/2.0\n",
    "    #token_list_embeddings = model(torch.tensor(list_of_tokens).unsqueeze(0))[0][0][0]"
   ]
  },
  {
   "cell_type": "code",
   "execution_count": null,
   "metadata": {},
   "outputs": [],
   "source": [
    "df['col_3'] = df.apply(lambda x: f(x.col_1, x.col_2), axis=1)"
   ]
  },
  {
   "cell_type": "code",
   "execution_count": null,
   "metadata": {},
   "outputs": [],
   "source": [
    "user_tokens.to_csv('s3://recsyschallenge2020/user_tokens_embeddins.csv', index = False)"
   ]
  },
  {
   "cell_type": "code",
   "execution_count": null,
   "metadata": {},
   "outputs": [],
   "source": [
    "user_tokens.head()"
   ]
  },
  {
   "cell_type": "code",
   "execution_count": null,
   "metadata": {},
   "outputs": [],
   "source": [
    "len(user_tokens)"
   ]
  },
  {
   "cell_type": "code",
   "execution_count": null,
   "metadata": {},
   "outputs": [],
   "source": [
    "input_ids = torch.tensor([101, 108, 31278, 90939, 70325, 196, 199, 71436, 10107, 29190, 10107, 106, 16680, 68314, 10153, 17015, 15934, 10104, 108, 10233, 12396, 14945, 10107, 10858, 11405, 13600, 13597, 169, 57343, 64482, 119, 119, 119, 100, 11741, 16381, 10109, 68830, 10110, 20886, 108, 10233, 11127, 21768, 100, 14120, 131, 120, 120, 188, 119, 11170, 120, 12132, 10884, 10157, 11490, 12022, 10113, 10731, 10729, 11565, 14120, 131, 120, 120, 188, 119, 11170, 120, 162, 11211, 11703, 12022, 11211, 10240, 44466, 100886, 102]).unsqueeze(0)  # Batch size 1\n",
    "outputs = model(input_ids)\n",
    "last_hidden_states = outputs[0][0][0]  # The last hidden-state is the first element of the output tuple"
   ]
  },
  {
   "cell_type": "code",
   "execution_count": null,
   "metadata": {},
   "outputs": [],
   "source": [
    "model(torch.tensor(list(map(int, ast.literal_eval(user_tokens.loc[0]['text_ tokens']).split('\\t')))).unsqueeze(0))[0][0][0]"
   ]
  },
  {
   "cell_type": "code",
   "execution_count": null,
   "metadata": {},
   "outputs": [],
   "source": [
    "it = 0\n",
    "\n",
    "start = time.time()\n",
    "\n",
    "# your code\n",
    "\n",
    "# end\n",
    "sum_tensors = torch.zeros([768], dtype=torch.float32)\n",
    "for index, row in user_tokens.iterrows():\n",
    "    #print(len(row))\n",
    "    tweet_token_list = ast.literal_eval(row['text_ tokens'])\n",
    "    for token_list in tweet_token_list:\n",
    "        token_list_embeddings = model(torch.tensor(list(map(int, token_list.split('\\t')))).unsqueeze(0))[0][0][0]\n",
    "        sum_tensors = sum_tensors + token_list_embeddings\n",
    "    if it %100 == 0:\n",
    "        print(f'Time: {time.time() - start}')\n",
    "        print(it)\n",
    "    it = it + 1\n",
    "    print(it)\n",
    "    avg = sum_tensors/len(row)"
   ]
  },
  {
   "cell_type": "code",
   "execution_count": null,
   "metadata": {},
   "outputs": [],
   "source": [
    "sum_tensors = torch.zeros([768], dtype=torch.float32)"
   ]
  },
  {
   "cell_type": "code",
   "execution_count": null,
   "metadata": {},
   "outputs": [],
   "source": [
    "sum_tensors"
   ]
  },
  {
   "cell_type": "code",
   "execution_count": null,
   "metadata": {},
   "outputs": [],
   "source": [
    "import dask.dataframe as ddf"
   ]
  },
  {
   "cell_type": "code",
   "execution_count": null,
   "metadata": {},
   "outputs": [],
   "source": [
    "df_dask = ddf.from_pandas(user_tokens, npartitions=32)   # where the number of partitions is the number of cores you want to use"
   ]
  },
  {
   "cell_type": "code",
   "execution_count": null,
   "metadata": {},
   "outputs": [],
   "source": [
    "df_dask.apply(lambda x: calculate_average(x), axis  = 1).compute(scheduler='multiprocessing')"
   ]
  }
 ],
 "metadata": {
  "kernelspec": {
   "display_name": "Python 3",
   "language": "python",
   "name": "python3"
  },
  "language_info": {
   "codemirror_mode": {
    "name": "ipython",
    "version": 3
   },
   "file_extension": ".py",
   "mimetype": "text/x-python",
   "name": "python",
   "nbconvert_exporter": "python",
   "pygments_lexer": "ipython3",
   "version": "3.7.4"
  }
 },
 "nbformat": 4,
 "nbformat_minor": 2
}
