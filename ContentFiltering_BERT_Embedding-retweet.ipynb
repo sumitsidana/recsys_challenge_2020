{
 "cells": [
  {
   "cell_type": "code",
   "execution_count": null,
   "metadata": {},
   "outputs": [],
   "source": [
    "import pandas as pd\n",
    "import s3fs\n",
    "from smart_open import open\n",
    "import boto3\n",
    "from io import StringIO # python3; python2: BytesIO \n",
    "from boto3.s3.transfer import TransferConfig\n",
    "import metrics\n",
    "import torch\n",
    "from transformers import *\n",
    "import numpy as np\n",
    "import ast\n",
    "import time\n",
    "import metrics"
   ]
  },
  {
   "cell_type": "code",
   "execution_count": null,
   "metadata": {},
   "outputs": [],
   "source": [
    "pd.set_option('display.max_colwidth', -1)\n",
    "model = BertModel.from_pretrained('/dev/bert/')\n",
    "tokenizer = BertTokenizer.from_pretrained('bert-base-multilingual-cased', do_lower_case=False)"
   ]
  },
  {
   "cell_type": "code",
   "execution_count": null,
   "metadata": {},
   "outputs": [],
   "source": [
    "user_tokens = pd.read_csv('s3://recsys-challenge-2020/user_tokens_retweet.csv')\n",
    "column_of_interest = [\"text_ tokens\", \"engaging_user_id\"]\n",
    "val_set = pd.read_csv('s3://recsys-challenge-2020/val.tsv', encoding=\"utf-8\",\n",
    "                     usecols= [0, 14], names=column_of_interest, sep=\"\\x01\")\n",
    "print('loaded datasets')"
   ]
  },
  {
   "cell_type": "code",
   "execution_count": null,
   "metadata": {},
   "outputs": [],
   "source": [
    "user_tokens_val_set = \\\n",
    "pd.merge(val_set, user_tokens, how = 'left', left_on = 'engaging_user_id', right_on = 'engaging_user_id', sort=False)\n",
    "user_tokens_val_set.columns = [c.replace(' ', '_') for c in user_tokens_val_set.columns]\n",
    "print('join completed')\n",
    "print('number of rows for which score needs to be computed: ' + str(len(user_tokens_val_set)))"
   ]
  },
  {
   "cell_type": "code",
   "execution_count": null,
   "metadata": {},
   "outputs": [],
   "source": [
    "def calculate_average(row1, row2, index, time1):\n",
    "    prior = 0.113\n",
    "    if index % 1000 == 0:\n",
    "        print(index)\n",
    "        print(time.time() - time1)\n",
    "    if pd.isna(row1):\n",
    "        return prior\n",
    "    sum_tensors = torch.zeros([768], dtype=torch.float32)\n",
    "    tweet_token_list = ast.literal_eval(row1)\n",
    "    for token_list in tweet_token_list:\n",
    "        list_of_tokens = list(map(int, token_list.split('\\t')))\n",
    "        if len(list_of_tokens) > 512:\n",
    "            pre_list = list_of_tokens[:511]\n",
    "            post_list = list_of_tokens[511-len(list_of_tokens):]\n",
    "            post_list.insert(0, 101)\n",
    "            pre_token_list_embeddings = model(torch.tensor(pre_list).unsqueeze(0))[0][0][0]\n",
    "            post_token_list_embeddings = model(torch.tensor(post_list).unsqueeze(0))[0][0][0]\n",
    "            token_list_embeddings = (pre_token_list_embeddings + post_token_list_embeddings)/2.0\n",
    "        else:\n",
    "            token_list_embeddings = model(torch.tensor(list_of_tokens).unsqueeze(0))[0][0][0]\n",
    "        sum_tensors = sum_tensors + token_list_embeddings\n",
    "        \n",
    "    avg = sum_tensors/len(row1)\n",
    "    p_user_avg_embedding = avg / torch.norm(avg)\n",
    "    \n",
    "    tweet_embedding = model(torch.tensor(list(map(int, row2.split('\\t')))).unsqueeze(0))[0][0][0]\n",
    "    tweet_average_embedding = tweet_embedding / torch.norm(tweet_embedding)\n",
    "    \n",
    "    P_B_given_A = torch.dot(p_user_avg_embedding, tweet_average_embedding)\n",
    "    \n",
    "#     posterior = (likelihood*prior)  /  ((likelihood*prior) + ((1-likelihood)*(1-prior)))\n",
    "    \n",
    "#     P(A|B) = P(B|A) * P(A) / P(B)\n",
    "\n",
    "#     P(B) = P(B/A)*P(A) + P(B/~A)* P(~A)\n",
    "\n",
    "    num = P_B_given_A * prior\n",
    "    \n",
    "    \n",
    "    unlikelihood = 1.0 - P_B_given_A # P(B/~A)\n",
    "    anti_score = unlikelihood * 0.887\n",
    "    normalizing_factor = num + anti_score # P(B)\n",
    "\n",
    "    \n",
    "    posterior = num / normalizing_factor\n",
    "    \n",
    "    return posterior.detach().numpy().item(0)"
   ]
  },
  {
   "cell_type": "code",
   "execution_count": null,
   "metadata": {},
   "outputs": [],
   "source": [
    "user_val_set_retweet_score = pd.DataFrame()"
   ]
  },
  {
   "cell_type": "code",
   "execution_count": null,
   "metadata": {},
   "outputs": [],
   "source": [
    "time1 = time.time()\n",
    "user_val_set_retweet_score['retweet_score'] = user_tokens_val_set.apply \\\n",
    "(lambda z: calculate_average(z.text__tokens_y, z.text__tokens_x, z.name, time1), axis = 1)\n",
    "time2 = time.time()\n",
    "print(time2 - time1)"
   ]
  },
  {
   "cell_type": "code",
   "execution_count": null,
   "metadata": {},
   "outputs": [],
   "source": [
    "user_val_set_retweet_score.to_csv('s3://recsys-challenge-2020/user_retweet_score.csv', index = False)"
   ]
  }
 ],
 "metadata": {
  "kernelspec": {
   "display_name": "Python 3",
   "language": "python",
   "name": "python3"
  },
  "language_info": {
   "codemirror_mode": {
    "name": "ipython",
    "version": 3
   },
   "file_extension": ".py",
   "mimetype": "text/x-python",
   "name": "python",
   "nbconvert_exporter": "python",
   "pygments_lexer": "ipython3",
   "version": "3.7.4"
  }
 },
 "nbformat": 4,
 "nbformat_minor": 2
}
