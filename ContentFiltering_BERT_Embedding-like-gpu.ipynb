{
 "cells": [
  {
   "cell_type": "code",
   "execution_count": 1,
   "metadata": {},
   "outputs": [],
   "source": [
    "import pandas as pd\n",
    "import s3fs\n",
    "import boto3\n",
    "from io import StringIO # python3; python2: BytesIO \n",
    "from boto3.s3.transfer import TransferConfig\n",
    "import torch\n",
    "from transformers import *\n",
    "import numpy as np\n",
    "import ast\n",
    "import time"
   ]
  },
  {
   "cell_type": "code",
   "execution_count": null,
   "metadata": {},
   "outputs": [],
   "source": [
    "model = BertModel.from_pretrained('bert-base-multilingual-cased').cuda(1)\n",
    "tokenizer = BertTokenizer.from_pretrained('bert-base-multilingual-cased', do_lower_case=False)"
   ]
  },
  {
   "cell_type": "code",
   "execution_count": null,
   "metadata": {},
   "outputs": [],
   "source": [
    "user_tokens = pd.read_csv('s3://recsys-challenge-2020/user_tokens_like.csv')\n",
    "column_of_interest = [\"text_ tokens\", \"engaging_user_id\"]\n",
    "val_set = pd.read_csv('s3://recsys-challenge-2020/val.tsv', encoding=\"utf-8\",\n",
    "                     usecols= [0, 14], names=column_of_interest, sep=\"\\x01\")\n",
    "print('loaded datasets')"
   ]
  },
  {
   "cell_type": "code",
   "execution_count": null,
   "metadata": {},
   "outputs": [],
   "source": [
    "user_tokens_val_set = \\\n",
    "pd.merge(val_set, user_tokens, how = 'left', left_on = 'engaging_user_id', right_on = 'engaging_user_id', sort=False)\n",
    "user_tokens_val_set.columns = [c.replace(' ', '_') for c in user_tokens_val_set.columns]\n",
    "print('join completed')\n",
    "print('number of rows for which score needs to be computed: ' + str(len(user_tokens_val_set)))"
   ]
  },
  {
   "cell_type": "code",
   "execution_count": null,
   "metadata": {},
   "outputs": [],
   "source": [
    "def calculate_average(row1, row2, index, time1):\n",
    "    with torch.cuda.device(1):\n",
    "        torch.cuda.empty_cache()\n",
    "        prior = 0.439\n",
    "        if index % 1000 == 0:\n",
    "            print(index)\n",
    "            print(time.time() - time1)\n",
    "        if pd.isna(row1):\n",
    "            return prior\n",
    "\n",
    "        sum_tensors = torch.zeros([768], dtype=torch.float32).cuda()\n",
    "        tweet_token_list = ast.literal_eval(row1)\n",
    "        len_row1 = len(row1)\n",
    "\n",
    "        for token_list in tweet_token_list:\n",
    "            list_of_tokens = list(map(int, token_list.split('\\t')))\n",
    "            if len(list_of_tokens) > 512:\n",
    "                list_of_tokens = list_of_tokens[:511]\n",
    "            tensor_tokens = torch.tensor(list_of_tokens).cuda()\n",
    "            tensor_tokens_unsqueeze = tensor_tokens.unsqueeze(0).cuda()\n",
    "            model_tokens  = model(tensor_tokens_unsqueeze)\n",
    "\n",
    "            model_tokens_1d = model_tokens[0].cuda()\n",
    "            model_tokens_2d = model_tokens_1d[0].cuda()\n",
    "            token_list_embeddings =  model_tokens_2d[0].cuda()\n",
    "            sum_tensors = (sum_tensors + token_list_embeddings).cuda()\n",
    "\n",
    "        avg = (sum_tensors/len_row1).cuda()\n",
    "        p_user_avg_embedding = (avg / torch.norm(avg).cuda()).cuda()\n",
    "\n",
    "        list_of_tokens_val = list(map(int, row2.split('\\t')))\n",
    "        if len(list_of_tokens_val) > 512:\n",
    "            list_of_tokens_val = list_of_tokens_val[:511]\n",
    "\n",
    "        tensor_tokens_val = torch.tensor(list_of_tokens_val).cuda()\n",
    "        tensor_tokens_unsqueeze_val = tensor_tokens_val.unsqueeze(0).cuda()\n",
    "        model_tokens_val = model(tensor_tokens_unsqueeze_val)\n",
    "        model_tokens_1d_val = model_tokens_val[0].cuda()\n",
    "        model_tokens_2d_val = model_tokens_1d_val[0].cuda()\n",
    "        tweet_embedding = model_tokens_2d_val[0].cuda()\n",
    "\n",
    "        tweet_average_embedding = (tweet_embedding / torch.norm(tweet_embedding).cuda()).cuda()\n",
    "\n",
    "        P_B_given_A = torch.dot(p_user_avg_embedding, tweet_average_embedding).cuda()\n",
    "\n",
    "    #     posterior = (likelihood*prior)  /  ((likelihood*prior) + ((1-likelihood)*(1-prior)))\n",
    "\n",
    "    #     P(A|B) = P(B|A) * P(A) / P(B)\n",
    "\n",
    "    #     P(B) = P(B/A)*P(A) + P(B/~A)* P(~A)\n",
    "\n",
    "        num = (P_B_given_A * prior).cuda()\n",
    "\n",
    "\n",
    "        unlikelihood = (1.0 - P_B_given_A).cuda() # P(B/~A)\n",
    "        anti_score = (unlikelihood * 0.561).cuda()\n",
    "        normalizing_factor = (num + anti_score).cuda() # P(B)\n",
    "\n",
    "\n",
    "        posterior = (num / normalizing_factor).cuda()\n",
    "\n",
    "        return posterior.cpu().detach().numpy().item(0)"
   ]
  },
  {
   "cell_type": "code",
   "execution_count": null,
   "metadata": {},
   "outputs": [],
   "source": [
    "user_val_set_like_score = pd.DataFrame()"
   ]
  },
  {
   "cell_type": "code",
   "execution_count": null,
   "metadata": {},
   "outputs": [],
   "source": [
    "time1 = time.time()\n",
    "user_val_set_like_score['like_score'] = user_tokens_val_set.apply \\\n",
    "(lambda z: calculate_average(z.text__tokens_y, z.text__tokens_x, z.name, time1), axis = 1)\n",
    "time2 = time.time()\n",
    "print(time2 - time1)"
   ]
  },
  {
   "cell_type": "code",
   "execution_count": null,
   "metadata": {},
   "outputs": [],
   "source": [
    "user_val_set_like_score.to_csv('s3://recsys-challenge-2020/user_like_score.csv', index = False)"
   ]
  }
 ],
 "metadata": {
  "kernelspec": {
   "display_name": "Python 3",
   "language": "python",
   "name": "python3"
  },
  "language_info": {
   "codemirror_mode": {
    "name": "ipython",
    "version": 3
   },
   "file_extension": ".py",
   "mimetype": "text/x-python",
   "name": "python",
   "nbconvert_exporter": "python",
   "pygments_lexer": "ipython3",
   "version": "3.7.4"
  }
 },
 "nbformat": 4,
 "nbformat_minor": 2
}
