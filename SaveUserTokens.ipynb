{
 "cells": [
  {
   "cell_type": "code",
   "execution_count": 2,
   "metadata": {},
   "outputs": [],
   "source": [
    "import pandas as pd\n",
    "import s3fs\n",
    "from smart_open import open\n",
    "import boto3\n",
    "from io import StringIO # python3; python2: BytesIO \n",
    "from boto3.s3.transfer import TransferConfig\n",
    "import metrics\n",
    "import torch\n",
    "from transformers import *\n",
    "import numpy as np"
   ]
  },
  {
   "cell_type": "markdown",
   "metadata": {},
   "source": [
    "### Reply"
   ]
  },
  {
   "cell_type": "code",
   "execution_count": null,
   "metadata": {},
   "outputs": [],
   "source": [
    "column_of_interest = [\"text_ tokens\", \"engaging_user_id\", \"reply_timestamp\"]\n",
    "train_set = pd.read_csv('s3://recsys-challenge-2020/training.tsv', encoding=\"utf-8\",  sep=\"\\x01\",\n",
    "                     usecols= [0, 14, 20], names = column_of_interest)\n",
    "column_of_interest = [\"engaging_user_id\"]\n",
    "val_set = pd.read_csv('s3://recsys-challenge-2020/val.tsv', encoding=\"utf-8\", sep=\"\\x01\",\n",
    "                     usecols= [14], names=column_of_interest)\n",
    "unique_val_set_users = val_set[['engaging_user_id']].drop_duplicates()\n",
    "train_set_positive = train_set[train_set.reply_timestamp.notnull()]\n",
    "warm_train_set_positive = pd.merge(train_set_positive, unique_val_set_users, how = 'inner', on = 'engaging_user_id')\n",
    "user_tokens = warm_train_set_positive.groupby(['engaging_user_id'])['text_ tokens'].agg(list).reset_index()\n",
    "user_tokens.to_csv('s3://recsys-challenge-2020/user_tokens_reply.csv', index = False)"
   ]
  },
  {
   "cell_type": "markdown",
   "metadata": {},
   "source": [
    "### Retweet"
   ]
  },
  {
   "cell_type": "code",
   "execution_count": null,
   "metadata": {},
   "outputs": [],
   "source": [
    "column_of_interest = [\"text_ tokens\", \"engaging_user_id\", \"retweet_timestamp\"]\n",
    "train_set = pd.read_csv('s3://recsys-challenge-2020/training.tsv', encoding=\"utf-8\",  sep=\"\\x01\",\n",
    "                     usecols= [0, 14, 21], names = column_of_interest)\n",
    "column_of_interest = [\"engaging_user_id\"]\n",
    "val_set = pd.read_csv('s3://recsys-challenge-2020/val.tsv', encoding=\"utf-8\", sep=\"\\x01\",\n",
    "                     usecols= [14], names=column_of_interest)\n",
    "unique_val_set_users = val_set[['engaging_user_id']].drop_duplicates()\n",
    "train_set_positive = train_set[train_set.retweet_timestamp.notnull()]\n",
    "warm_train_set_positive = pd.merge(train_set_positive, unique_val_set_users, how = 'inner', on = 'engaging_user_id')\n",
    "user_tokens = warm_train_set_positive.groupby(['engaging_user_id'])['text_ tokens'].agg(list).reset_index()\n",
    "user_tokens.to_csv('s3://recsys-challenge-2020/user_tokens_retweet.csv', index = False)"
   ]
  },
  {
   "cell_type": "code",
   "execution_count": 2,
   "metadata": {},
   "outputs": [],
   "source": [
    "column_of_interest = [\"text_ tokens\", \"engaging_user_id\", \"reply_timestamp\"]\n",
    "train_set = pd.read_csv('s3://recsys-challenge-2020/training.tsv', encoding=\"utf-8\",  sep=\"\\x01\",\n",
    "                     usecols= [0, 14, 20], names = column_of_interest)"
   ]
  },
  {
   "cell_type": "code",
   "execution_count": 3,
   "metadata": {},
   "outputs": [],
   "source": [
    "column_of_interest = [\"engaging_user_id\"]\n",
    "val_set = pd.read_csv('s3://recsys-challenge-2020/val.tsv', encoding=\"utf-8\", sep=\"\\x01\",\n",
    "                     usecols= [14], names=column_of_interest)"
   ]
  },
  {
   "cell_type": "code",
   "execution_count": 11,
   "metadata": {},
   "outputs": [
    {
     "data": {
      "text/html": [
       "<div>\n",
       "<style scoped>\n",
       "    .dataframe tbody tr th:only-of-type {\n",
       "        vertical-align: middle;\n",
       "    }\n",
       "\n",
       "    .dataframe tbody tr th {\n",
       "        vertical-align: top;\n",
       "    }\n",
       "\n",
       "    .dataframe thead th {\n",
       "        text-align: right;\n",
       "    }\n",
       "</style>\n",
       "<table border=\"1\" class=\"dataframe\">\n",
       "  <thead>\n",
       "    <tr style=\"text-align: right;\">\n",
       "      <th></th>\n",
       "      <th>engaging_user_id</th>\n",
       "    </tr>\n",
       "  </thead>\n",
       "  <tbody>\n",
       "    <tr>\n",
       "      <td>0</td>\n",
       "      <td>0000006C3074607050F1339DDCB890BB</td>\n",
       "    </tr>\n",
       "    <tr>\n",
       "      <td>1</td>\n",
       "      <td>00000776B07587ECA9717BFC301F2D6E</td>\n",
       "    </tr>\n",
       "    <tr>\n",
       "      <td>2</td>\n",
       "      <td>00000860E80C67D8C46CE57C64DE9444</td>\n",
       "    </tr>\n",
       "    <tr>\n",
       "      <td>3</td>\n",
       "      <td>00000865A1538142CDA5936B07FE4311</td>\n",
       "    </tr>\n",
       "    <tr>\n",
       "      <td>4</td>\n",
       "      <td>00000865A1538142CDA5936B07FE4311</td>\n",
       "    </tr>\n",
       "    <tr>\n",
       "      <td>...</td>\n",
       "      <td>...</td>\n",
       "    </tr>\n",
       "    <tr>\n",
       "      <td>15127679</td>\n",
       "      <td>FFFFFB739796BE92A4278AF12F89A341</td>\n",
       "    </tr>\n",
       "    <tr>\n",
       "      <td>15127680</td>\n",
       "      <td>FFFFFE97AA06327403491D71E2ED52DA</td>\n",
       "    </tr>\n",
       "    <tr>\n",
       "      <td>15127681</td>\n",
       "      <td>FFFFFE97AA06327403491D71E2ED52DA</td>\n",
       "    </tr>\n",
       "    <tr>\n",
       "      <td>15127682</td>\n",
       "      <td>FFFFFE97AA06327403491D71E2ED52DA</td>\n",
       "    </tr>\n",
       "    <tr>\n",
       "      <td>15127683</td>\n",
       "      <td>FFFFFEC9E895C3E139CB84D782E1F9A3</td>\n",
       "    </tr>\n",
       "  </tbody>\n",
       "</table>\n",
       "<p>15127684 rows × 1 columns</p>\n",
       "</div>"
      ],
      "text/plain": [
       "                          engaging_user_id\n",
       "0         0000006C3074607050F1339DDCB890BB\n",
       "1         00000776B07587ECA9717BFC301F2D6E\n",
       "2         00000860E80C67D8C46CE57C64DE9444\n",
       "3         00000865A1538142CDA5936B07FE4311\n",
       "4         00000865A1538142CDA5936B07FE4311\n",
       "...                                    ...\n",
       "15127679  FFFFFB739796BE92A4278AF12F89A341\n",
       "15127680  FFFFFE97AA06327403491D71E2ED52DA\n",
       "15127681  FFFFFE97AA06327403491D71E2ED52DA\n",
       "15127682  FFFFFE97AA06327403491D71E2ED52DA\n",
       "15127683  FFFFFEC9E895C3E139CB84D782E1F9A3\n",
       "\n",
       "[15127684 rows x 1 columns]"
      ]
     },
     "execution_count": 11,
     "metadata": {},
     "output_type": "execute_result"
    }
   ],
   "source": [
    "val_set"
   ]
  },
  {
   "cell_type": "code",
   "execution_count": 5,
   "metadata": {},
   "outputs": [],
   "source": [
    "unique_val_set_users = val_set[['engaging_user_id']].drop_duplicates()"
   ]
  },
  {
   "cell_type": "code",
   "execution_count": 6,
   "metadata": {},
   "outputs": [],
   "source": [
    "train_set_positive = train_set[train_set.reply_timestamp.notnull()]"
   ]
  },
  {
   "cell_type": "code",
   "execution_count": 7,
   "metadata": {},
   "outputs": [],
   "source": [
    "warm_train_set_positive = pd.merge(train_set_positive, unique_val_set_users, how = 'inner', on = 'engaging_user_id')"
   ]
  },
  {
   "cell_type": "code",
   "execution_count": 8,
   "metadata": {},
   "outputs": [
    {
     "data": {
      "text/plain": [
       "1408991"
      ]
     },
     "execution_count": 8,
     "metadata": {},
     "output_type": "execute_result"
    }
   ],
   "source": [
    "len(warm_train_set_positive)"
   ]
  },
  {
   "cell_type": "code",
   "execution_count": 9,
   "metadata": {},
   "outputs": [],
   "source": [
    "user_tokens = warm_train_set_positive.groupby(['engaging_user_id'])['text_ tokens'].agg(list).reset_index()"
   ]
  },
  {
   "cell_type": "code",
   "execution_count": 10,
   "metadata": {},
   "outputs": [],
   "source": [
    "user_tokens.to_csv('s3://recsys-challenge-2020/user_tokens_reply.csv', index = False)"
   ]
  },
  {
   "cell_type": "code",
   "execution_count": 12,
   "metadata": {},
   "outputs": [
    {
     "data": {
      "text/plain": [
       "865528"
      ]
     },
     "execution_count": 12,
     "metadata": {},
     "output_type": "execute_result"
    }
   ],
   "source": [
    "len(user_tokens)"
   ]
  }
 ],
 "metadata": {
  "kernelspec": {
   "display_name": "Python 3",
   "language": "python",
   "name": "python3"
  },
  "language_info": {
   "codemirror_mode": {
    "name": "ipython",
    "version": 3
   },
   "file_extension": ".py",
   "mimetype": "text/x-python",
   "name": "python",
   "nbconvert_exporter": "python",
   "pygments_lexer": "ipython3",
   "version": "3.7.4"
  }
 },
 "nbformat": 4,
 "nbformat_minor": 2
}
