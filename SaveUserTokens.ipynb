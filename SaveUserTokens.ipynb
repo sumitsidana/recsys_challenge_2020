{
 "cells": [
  {
   "cell_type": "code",
   "execution_count": 1,
   "metadata": {},
   "outputs": [],
   "source": [
    "import pandas as pd\n",
    "import s3fs\n",
    "from smart_open import open\n",
    "import boto3\n",
    "from io import StringIO # python3; python2: BytesIO \n",
    "from boto3.s3.transfer import TransferConfig\n",
    "import metrics\n",
    "import torch\n",
    "from transformers import *\n",
    "import numpy as np"
   ]
  },
  {
   "cell_type": "code",
   "execution_count": 3,
   "metadata": {},
   "outputs": [],
   "source": [
    "column_of_interest = [\"text_ tokens\", \"engaging_user_id\", \"reply_timestamp\"]\n",
    "train_set = pd.read_csv('s3://recsys-challenge-2020/train_set_reply.csv', encoding=\"utf-8\",\n",
    "                     usecols= [1, 4, 5])"
   ]
  },
  {
   "cell_type": "code",
   "execution_count": 26,
   "metadata": {},
   "outputs": [
    {
     "data": {
      "text/plain": [
       "133267714"
      ]
     },
     "execution_count": 26,
     "metadata": {},
     "output_type": "execute_result"
    }
   ],
   "source": [
    "len(train_set)"
   ]
  },
  {
   "cell_type": "code",
   "execution_count": 24,
   "metadata": {},
   "outputs": [
    {
     "data": {
      "text/html": [
       "<div>\n",
       "<style scoped>\n",
       "    .dataframe tbody tr th:only-of-type {\n",
       "        vertical-align: middle;\n",
       "    }\n",
       "\n",
       "    .dataframe tbody tr th {\n",
       "        vertical-align: top;\n",
       "    }\n",
       "\n",
       "    .dataframe thead th {\n",
       "        text-align: right;\n",
       "    }\n",
       "</style>\n",
       "<table border=\"1\" class=\"dataframe\">\n",
       "  <thead>\n",
       "    <tr style=\"text-align: right;\">\n",
       "      <th></th>\n",
       "      <th>text_ tokens</th>\n",
       "      <th>engaging_user_id</th>\n",
       "      <th>reply_timestamp</th>\n",
       "    </tr>\n",
       "  </thead>\n",
       "  <tbody>\n",
       "    <tr>\n",
       "      <td>0</td>\n",
       "      <td>101\\t108\\t31278\\t90939\\t70325\\t196\\t199\\t71436...</td>\n",
       "      <td>12A1AF0088C5B4FCBFA024D4A1971323</td>\n",
       "      <td>NaN</td>\n",
       "    </tr>\n",
       "    <tr>\n",
       "      <td>1</td>\n",
       "      <td>101\\t95026\\t90141\\t54922\\t10287\\t13567\\t10169\\...</td>\n",
       "      <td>C836F432B0FC7847C2C753949C51B961</td>\n",
       "      <td>NaN</td>\n",
       "    </tr>\n",
       "    <tr>\n",
       "      <td>2</td>\n",
       "      <td>101\\t10117\\t12518\\t45415\\t10472\\t10114\\t19072\\...</td>\n",
       "      <td>77309DE08AB631D8224254D33648F287</td>\n",
       "      <td>NaN</td>\n",
       "    </tr>\n",
       "    <tr>\n",
       "      <td>3</td>\n",
       "      <td>101\\t36084\\t11372\\t26095\\t117\\t12900\\t39122\\t1...</td>\n",
       "      <td>91363F238C79DAEE42E2A2C97A5F8E7C</td>\n",
       "      <td>NaN</td>\n",
       "    </tr>\n",
       "    <tr>\n",
       "      <td>4</td>\n",
       "      <td>101\\t34764\\t26905\\t117\\t10479\\t92486\\t10559\\t9...</td>\n",
       "      <td>EFA4C5B62E097EB203F8AFDC470AEB27</td>\n",
       "      <td>NaN</td>\n",
       "    </tr>\n",
       "  </tbody>\n",
       "</table>\n",
       "</div>"
      ],
      "text/plain": [
       "                                        text_ tokens  \\\n",
       "0  101\\t108\\t31278\\t90939\\t70325\\t196\\t199\\t71436...   \n",
       "1  101\\t95026\\t90141\\t54922\\t10287\\t13567\\t10169\\...   \n",
       "2  101\\t10117\\t12518\\t45415\\t10472\\t10114\\t19072\\...   \n",
       "3  101\\t36084\\t11372\\t26095\\t117\\t12900\\t39122\\t1...   \n",
       "4  101\\t34764\\t26905\\t117\\t10479\\t92486\\t10559\\t9...   \n",
       "\n",
       "                   engaging_user_id  reply_timestamp  \n",
       "0  12A1AF0088C5B4FCBFA024D4A1971323              NaN  \n",
       "1  C836F432B0FC7847C2C753949C51B961              NaN  \n",
       "2  77309DE08AB631D8224254D33648F287              NaN  \n",
       "3  91363F238C79DAEE42E2A2C97A5F8E7C              NaN  \n",
       "4  EFA4C5B62E097EB203F8AFDC470AEB27              NaN  "
      ]
     },
     "execution_count": 24,
     "metadata": {},
     "output_type": "execute_result"
    }
   ],
   "source": [
    "train_set.head()"
   ]
  },
  {
   "cell_type": "code",
   "execution_count": 5,
   "metadata": {},
   "outputs": [],
   "source": [
    "column_of_interest = [\"text_ tokens\", \"engaging_user_id\"]\n",
    "val_set = pd.read_csv('s3://recsys-challenge-2020/val_set_reply.csv', encoding=\"utf-8\",\n",
    "                     usecols= [1, 4])"
   ]
  },
  {
   "cell_type": "code",
   "execution_count": 6,
   "metadata": {},
   "outputs": [],
   "source": [
    "unique_val_set_users = val_set[['engaging_user_id']].drop_duplicates()"
   ]
  },
  {
   "cell_type": "code",
   "execution_count": 25,
   "metadata": {},
   "outputs": [],
   "source": [
    "train_set_positive = train_set[train_set.reply_timestamp.notnull()]"
   ]
  },
  {
   "cell_type": "code",
   "execution_count": 27,
   "metadata": {},
   "outputs": [
    {
     "data": {
      "text/html": [
       "<div>\n",
       "<style scoped>\n",
       "    .dataframe tbody tr th:only-of-type {\n",
       "        vertical-align: middle;\n",
       "    }\n",
       "\n",
       "    .dataframe tbody tr th {\n",
       "        vertical-align: top;\n",
       "    }\n",
       "\n",
       "    .dataframe thead th {\n",
       "        text-align: right;\n",
       "    }\n",
       "</style>\n",
       "<table border=\"1\" class=\"dataframe\">\n",
       "  <thead>\n",
       "    <tr style=\"text-align: right;\">\n",
       "      <th></th>\n",
       "      <th>text_ tokens</th>\n",
       "      <th>engaging_user_id</th>\n",
       "      <th>reply_timestamp</th>\n",
       "    </tr>\n",
       "  </thead>\n",
       "  <tbody>\n",
       "    <tr>\n",
       "      <td>39</td>\n",
       "      <td>101\\t32310\\t10269\\t10271\\t26506\\t10112\\t106\\t1...</td>\n",
       "      <td>E0F901FA8F5D1A7B777FD1871A913910</td>\n",
       "      <td>1.580948e+09</td>\n",
       "    </tr>\n",
       "    <tr>\n",
       "      <td>42</td>\n",
       "      <td>101\\t100\\t9665\\t12178\\t9415\\t14523\\t9357\\t1073...</td>\n",
       "      <td>CE5D706649EEA7D04F2D9BFFACEBF02E</td>\n",
       "      <td>1.580970e+09</td>\n",
       "    </tr>\n",
       "    <tr>\n",
       "      <td>161</td>\n",
       "      <td>101\\t35936\\t48628\\t117\\t146\\t100\\t181\\t10978\\t...</td>\n",
       "      <td>95EADB3CF75EAB9ECF99DE96328B91C8</td>\n",
       "      <td>1.580947e+09</td>\n",
       "    </tr>\n",
       "    <tr>\n",
       "      <td>311</td>\n",
       "      <td>101\\t10377\\t10124\\t30767\\t144\\t53668\\t12360\\t1...</td>\n",
       "      <td>D3AB4517B014973FA8224E3440C68771</td>\n",
       "      <td>1.581046e+09</td>\n",
       "    </tr>\n",
       "    <tr>\n",
       "      <td>525</td>\n",
       "      <td>101\\t20520\\t484\\t28280\\t469\\t12526\\t46351\\t466...</td>\n",
       "      <td>66CCBBE5099558476C0EEB226BBA4474</td>\n",
       "      <td>1.580947e+09</td>\n",
       "    </tr>\n",
       "  </tbody>\n",
       "</table>\n",
       "</div>"
      ],
      "text/plain": [
       "                                          text_ tokens  \\\n",
       "39   101\\t32310\\t10269\\t10271\\t26506\\t10112\\t106\\t1...   \n",
       "42   101\\t100\\t9665\\t12178\\t9415\\t14523\\t9357\\t1073...   \n",
       "161  101\\t35936\\t48628\\t117\\t146\\t100\\t181\\t10978\\t...   \n",
       "311  101\\t10377\\t10124\\t30767\\t144\\t53668\\t12360\\t1...   \n",
       "525  101\\t20520\\t484\\t28280\\t469\\t12526\\t46351\\t466...   \n",
       "\n",
       "                     engaging_user_id  reply_timestamp  \n",
       "39   E0F901FA8F5D1A7B777FD1871A913910     1.580948e+09  \n",
       "42   CE5D706649EEA7D04F2D9BFFACEBF02E     1.580970e+09  \n",
       "161  95EADB3CF75EAB9ECF99DE96328B91C8     1.580947e+09  \n",
       "311  D3AB4517B014973FA8224E3440C68771     1.581046e+09  \n",
       "525  66CCBBE5099558476C0EEB226BBA4474     1.580947e+09  "
      ]
     },
     "execution_count": 27,
     "metadata": {},
     "output_type": "execute_result"
    }
   ],
   "source": [
    "train_set_positive.head()"
   ]
  },
  {
   "cell_type": "code",
   "execution_count": 28,
   "metadata": {},
   "outputs": [],
   "source": [
    "warm_train_set_positive = pd.merge(train_set_positive, unique_val_set_users, how = 'inner', on = 'engaging_user_id')"
   ]
  },
  {
   "cell_type": "code",
   "execution_count": 29,
   "metadata": {},
   "outputs": [],
   "source": [
    "warm_train_set_positive.to_csv('s3://recsys-challenge-2020/warm_train_set_positive.csv', index = False)"
   ]
  },
  {
   "cell_type": "code",
   "execution_count": null,
   "metadata": {},
   "outputs": [],
   "source": [
    "warm_train_set = pd.read_csv('s3://recsys-challenge-2020/warm_train_set.csv', encoding=\"utf-8\")"
   ]
  },
  {
   "cell_type": "code",
   "execution_count": 30,
   "metadata": {},
   "outputs": [
    {
     "data": {
      "text/html": [
       "<div>\n",
       "<style scoped>\n",
       "    .dataframe tbody tr th:only-of-type {\n",
       "        vertical-align: middle;\n",
       "    }\n",
       "\n",
       "    .dataframe tbody tr th {\n",
       "        vertical-align: top;\n",
       "    }\n",
       "\n",
       "    .dataframe thead th {\n",
       "        text-align: right;\n",
       "    }\n",
       "</style>\n",
       "<table border=\"1\" class=\"dataframe\">\n",
       "  <thead>\n",
       "    <tr style=\"text-align: right;\">\n",
       "      <th></th>\n",
       "      <th>text_ tokens</th>\n",
       "      <th>engaging_user_id</th>\n",
       "      <th>reply_timestamp</th>\n",
       "    </tr>\n",
       "  </thead>\n",
       "  <tbody>\n",
       "    <tr>\n",
       "      <td>0</td>\n",
       "      <td>101\\t35936\\t48628\\t117\\t146\\t100\\t181\\t10978\\t...</td>\n",
       "      <td>95EADB3CF75EAB9ECF99DE96328B91C8</td>\n",
       "      <td>1.580947e+09</td>\n",
       "    </tr>\n",
       "    <tr>\n",
       "      <td>1</td>\n",
       "      <td>101\\t14516\\t56920\\t11593\\t10124\\t61758\\t10105\\...</td>\n",
       "      <td>95EADB3CF75EAB9ECF99DE96328B91C8</td>\n",
       "      <td>1.580991e+09</td>\n",
       "    </tr>\n",
       "    <tr>\n",
       "      <td>2</td>\n",
       "      <td>101\\t84199\\t10142\\t11426\\t98507\\t10165\\t11084\\...</td>\n",
       "      <td>95EADB3CF75EAB9ECF99DE96328B91C8</td>\n",
       "      <td>1.581006e+09</td>\n",
       "    </tr>\n",
       "    <tr>\n",
       "      <td>3</td>\n",
       "      <td>101\\t69841\\t10271\\t27904\\t12277\\t13028\\t21964\\...</td>\n",
       "      <td>95EADB3CF75EAB9ECF99DE96328B91C8</td>\n",
       "      <td>1.581044e+09</td>\n",
       "    </tr>\n",
       "    <tr>\n",
       "      <td>4</td>\n",
       "      <td>101\\t107990\\t96666\\t10376\\t34462\\t131\\t119\\t12...</td>\n",
       "      <td>95EADB3CF75EAB9ECF99DE96328B91C8</td>\n",
       "      <td>1.581138e+09</td>\n",
       "    </tr>\n",
       "  </tbody>\n",
       "</table>\n",
       "</div>"
      ],
      "text/plain": [
       "                                        text_ tokens  \\\n",
       "0  101\\t35936\\t48628\\t117\\t146\\t100\\t181\\t10978\\t...   \n",
       "1  101\\t14516\\t56920\\t11593\\t10124\\t61758\\t10105\\...   \n",
       "2  101\\t84199\\t10142\\t11426\\t98507\\t10165\\t11084\\...   \n",
       "3  101\\t69841\\t10271\\t27904\\t12277\\t13028\\t21964\\...   \n",
       "4  101\\t107990\\t96666\\t10376\\t34462\\t131\\t119\\t12...   \n",
       "\n",
       "                   engaging_user_id  reply_timestamp  \n",
       "0  95EADB3CF75EAB9ECF99DE96328B91C8     1.580947e+09  \n",
       "1  95EADB3CF75EAB9ECF99DE96328B91C8     1.580991e+09  \n",
       "2  95EADB3CF75EAB9ECF99DE96328B91C8     1.581006e+09  \n",
       "3  95EADB3CF75EAB9ECF99DE96328B91C8     1.581044e+09  \n",
       "4  95EADB3CF75EAB9ECF99DE96328B91C8     1.581138e+09  "
      ]
     },
     "execution_count": 30,
     "metadata": {},
     "output_type": "execute_result"
    }
   ],
   "source": [
    "warm_train_set_positive.head()"
   ]
  },
  {
   "cell_type": "code",
   "execution_count": 10,
   "metadata": {},
   "outputs": [
    {
     "data": {
      "text/plain": [
       "63067118"
      ]
     },
     "execution_count": 10,
     "metadata": {},
     "output_type": "execute_result"
    }
   ],
   "source": [
    "len(warm_train_set)"
   ]
  },
  {
   "cell_type": "code",
   "execution_count": 31,
   "metadata": {},
   "outputs": [
    {
     "data": {
      "text/plain": [
       "1680295"
      ]
     },
     "execution_count": 31,
     "metadata": {},
     "output_type": "execute_result"
    }
   ],
   "source": [
    "len(warm_train_set_positive)"
   ]
  },
  {
   "cell_type": "code",
   "execution_count": 11,
   "metadata": {},
   "outputs": [],
   "source": [
    "warm_train_set_positive = warm_train_set[warm_train_set.reply_timestampstamp.notnull()]"
   ]
  },
  {
   "cell_type": "code",
   "execution_count": 12,
   "metadata": {},
   "outputs": [
    {
     "data": {
      "text/plain": [
       "1680295"
      ]
     },
     "execution_count": 12,
     "metadata": {},
     "output_type": "execute_result"
    }
   ],
   "source": [
    "len(warm_train_set_positive)"
   ]
  },
  {
   "cell_type": "code",
   "execution_count": 14,
   "metadata": {},
   "outputs": [
    {
     "data": {
      "text/html": [
       "<div>\n",
       "<style scoped>\n",
       "    .dataframe tbody tr th:only-of-type {\n",
       "        vertical-align: middle;\n",
       "    }\n",
       "\n",
       "    .dataframe tbody tr th {\n",
       "        vertical-align: top;\n",
       "    }\n",
       "\n",
       "    .dataframe thead th {\n",
       "        text-align: right;\n",
       "    }\n",
       "</style>\n",
       "<table border=\"1\" class=\"dataframe\">\n",
       "  <thead>\n",
       "    <tr style=\"text-align: right;\">\n",
       "      <th></th>\n",
       "      <th>text_ tokens</th>\n",
       "      <th>engaging_user_id</th>\n",
       "      <th>reply_timestamp</th>\n",
       "    </tr>\n",
       "  </thead>\n",
       "  <tbody>\n",
       "    <tr>\n",
       "      <td>31</td>\n",
       "      <td>101\\t10224\\t11617\\t101480\\t10133\\t18958\\t10133...</td>\n",
       "      <td>DEFC3A3F681051E5B56AB7F1AEF273E1</td>\n",
       "      <td>1.581267e+09</td>\n",
       "    </tr>\n",
       "    <tr>\n",
       "      <td>55</td>\n",
       "      <td>101\\t137\\t25923\\t15478\\t168\\t34218\\t10160\\t162...</td>\n",
       "      <td>A6ECB6ABA45EB75E7F8D5C65C5F151A7</td>\n",
       "      <td>1.581020e+09</td>\n",
       "    </tr>\n",
       "    <tr>\n",
       "      <td>66</td>\n",
       "      <td>101\\t30929\\t24558\\t146\\t41549\\t15127\\t43310\\t1...</td>\n",
       "      <td>0A8073DE7855DC2154FF2DFBA793FC4C</td>\n",
       "      <td>1.581491e+09</td>\n",
       "    </tr>\n",
       "    <tr>\n",
       "      <td>139</td>\n",
       "      <td>101\\t12034\\t10189\\t15263\\t15688\\t11044\\t56157\\...</td>\n",
       "      <td>850E3EE1A01FE2D52B064B05A30805B1</td>\n",
       "      <td>1.581455e+09</td>\n",
       "    </tr>\n",
       "    <tr>\n",
       "      <td>256</td>\n",
       "      <td>101\\t32849\\t19847\\t24283\\t10129\\t10212\\t12282\\...</td>\n",
       "      <td>EEACFA2E013FFC312D5980CD8A9397BB</td>\n",
       "      <td>1.581362e+09</td>\n",
       "    </tr>\n",
       "  </tbody>\n",
       "</table>\n",
       "</div>"
      ],
      "text/plain": [
       "                                          text_ tokens  \\\n",
       "31   101\\t10224\\t11617\\t101480\\t10133\\t18958\\t10133...   \n",
       "55   101\\t137\\t25923\\t15478\\t168\\t34218\\t10160\\t162...   \n",
       "66   101\\t30929\\t24558\\t146\\t41549\\t15127\\t43310\\t1...   \n",
       "139  101\\t12034\\t10189\\t15263\\t15688\\t11044\\t56157\\...   \n",
       "256  101\\t32849\\t19847\\t24283\\t10129\\t10212\\t12282\\...   \n",
       "\n",
       "                     engaging_user_id  reply_timestamp  \n",
       "31   DEFC3A3F681051E5B56AB7F1AEF273E1     1.581267e+09  \n",
       "55   A6ECB6ABA45EB75E7F8D5C65C5F151A7     1.581020e+09  \n",
       "66   0A8073DE7855DC2154FF2DFBA793FC4C     1.581491e+09  \n",
       "139  850E3EE1A01FE2D52B064B05A30805B1     1.581455e+09  \n",
       "256  EEACFA2E013FFC312D5980CD8A9397BB     1.581362e+09  "
      ]
     },
     "execution_count": 14,
     "metadata": {},
     "output_type": "execute_result"
    }
   ],
   "source": [
    "warm_train_set_positive.head()"
   ]
  },
  {
   "cell_type": "code",
   "execution_count": 32,
   "metadata": {},
   "outputs": [],
   "source": [
    "user_tokens = warm_train_set_positive.groupby(['engaging_user_id'])['text_ tokens'].agg(list).reset_index()"
   ]
  },
  {
   "cell_type": "code",
   "execution_count": 33,
   "metadata": {},
   "outputs": [
    {
     "data": {
      "text/html": [
       "<div>\n",
       "<style scoped>\n",
       "    .dataframe tbody tr th:only-of-type {\n",
       "        vertical-align: middle;\n",
       "    }\n",
       "\n",
       "    .dataframe tbody tr th {\n",
       "        vertical-align: top;\n",
       "    }\n",
       "\n",
       "    .dataframe thead th {\n",
       "        text-align: right;\n",
       "    }\n",
       "</style>\n",
       "<table border=\"1\" class=\"dataframe\">\n",
       "  <thead>\n",
       "    <tr style=\"text-align: right;\">\n",
       "      <th></th>\n",
       "      <th>engaging_user_id</th>\n",
       "      <th>text_ tokens</th>\n",
       "    </tr>\n",
       "  </thead>\n",
       "  <tbody>\n",
       "    <tr>\n",
       "      <td>0</td>\n",
       "      <td>00000B85AAF7DE172876FD96718C4469</td>\n",
       "      <td>[101\\t12882\\t10105\\t24699\\t10124\\t12820\\t169\\t...</td>\n",
       "    </tr>\n",
       "    <tr>\n",
       "      <td>1</td>\n",
       "      <td>00000E0C9B364891CDE89ECFC54771DE</td>\n",
       "      <td>[101\\t56898\\t137\\t60818\\t20712\\t10133\\t37115\\t...</td>\n",
       "    </tr>\n",
       "    <tr>\n",
       "      <td>2</td>\n",
       "      <td>0000142A2D3FCA2A1EAE0569CBEA8A11</td>\n",
       "      <td>[101\\t56898\\t137\\t44798\\t10858\\t16896\\t11083\\t...</td>\n",
       "    </tr>\n",
       "    <tr>\n",
       "      <td>3</td>\n",
       "      <td>0000170273D2530A0DF580401CC32AE0</td>\n",
       "      <td>[101\\t13999\\t12845\\t34396\\t11088\\t196\\t10838\\t...</td>\n",
       "    </tr>\n",
       "    <tr>\n",
       "      <td>4</td>\n",
       "      <td>00003C08A3D1CEF5F68EA6F17234F972</td>\n",
       "      <td>[101\\t11589\\t131\\t146\\t11337\\t12253\\t124\\t1917...</td>\n",
       "    </tr>\n",
       "  </tbody>\n",
       "</table>\n",
       "</div>"
      ],
      "text/plain": [
       "                   engaging_user_id  \\\n",
       "0  00000B85AAF7DE172876FD96718C4469   \n",
       "1  00000E0C9B364891CDE89ECFC54771DE   \n",
       "2  0000142A2D3FCA2A1EAE0569CBEA8A11   \n",
       "3  0000170273D2530A0DF580401CC32AE0   \n",
       "4  00003C08A3D1CEF5F68EA6F17234F972   \n",
       "\n",
       "                                        text_ tokens  \n",
       "0  [101\\t12882\\t10105\\t24699\\t10124\\t12820\\t169\\t...  \n",
       "1  [101\\t56898\\t137\\t60818\\t20712\\t10133\\t37115\\t...  \n",
       "2  [101\\t56898\\t137\\t44798\\t10858\\t16896\\t11083\\t...  \n",
       "3  [101\\t13999\\t12845\\t34396\\t11088\\t196\\t10838\\t...  \n",
       "4  [101\\t11589\\t131\\t146\\t11337\\t12253\\t124\\t1917...  "
      ]
     },
     "execution_count": 33,
     "metadata": {},
     "output_type": "execute_result"
    }
   ],
   "source": [
    "user_tokens.head()"
   ]
  },
  {
   "cell_type": "code",
   "execution_count": 22,
   "metadata": {},
   "outputs": [
    {
     "data": {
      "text/plain": [
       "1182489"
      ]
     },
     "execution_count": 22,
     "metadata": {},
     "output_type": "execute_result"
    }
   ],
   "source": [
    "len(user_tokens)"
   ]
  },
  {
   "cell_type": "code",
   "execution_count": 34,
   "metadata": {},
   "outputs": [
    {
     "data": {
      "text/plain": [
       "1182489"
      ]
     },
     "execution_count": 34,
     "metadata": {},
     "output_type": "execute_result"
    }
   ],
   "source": [
    "len(user_tokens)"
   ]
  },
  {
   "cell_type": "code",
   "execution_count": 36,
   "metadata": {},
   "outputs": [
    {
     "data": {
      "text/plain": [
       "10173370"
      ]
     },
     "execution_count": 36,
     "metadata": {},
     "output_type": "execute_result"
    }
   ],
   "source": [
    "len(unique_val_set_users)"
   ]
  },
  {
   "cell_type": "code",
   "execution_count": 35,
   "metadata": {},
   "outputs": [],
   "source": [
    "user_tokens.to_csv('s3://recsys-challenge-2020/user_tokens.csv', index = False)"
   ]
  },
  {
   "cell_type": "code",
   "execution_count": null,
   "metadata": {},
   "outputs": [],
   "source": [
    "len(train_set)"
   ]
  },
  {
   "cell_type": "code",
   "execution_count": null,
   "metadata": {},
   "outputs": [],
   "source": [
    "tokenizer = BertTokenizer.from_pretrained('bert-base-multilingual-cased', do_lower_case=False)\n",
    "model = BertModel.from_pretrained('/dev/bert/')"
   ]
  },
  {
   "cell_type": "code",
   "execution_count": null,
   "metadata": {},
   "outputs": [],
   "source": [
    "iterator = 0\n",
    "for chunk in np.array_split(warm_train_set, 10000):\n",
    "    print(iterator)\n",
    "    iterator = iterator + 1\n",
    "    df_embeddings = pd.DataFrame()\n",
    "    df_embeddings = chunk[[\"engaging_user_id\"]]\n",
    "    df_embeddings['text_embeddings'] = chunk['text_ tokens'].\\\n",
    "apply(lambda x : model(torch.tensor(list(map(int, x.split('\\t')))).unsqueeze(0))[0][0][0])\n",
    "    df_embeddings.to_csv('s3://recsys-challenge-2020/embeddings_user.csv', mode='a', header=False)"
   ]
  },
  {
   "cell_type": "code",
   "execution_count": null,
   "metadata": {},
   "outputs": [],
   "source": [
    "iterator = 0\n",
    "for chunk in np.array_split(train_set, 10000):\n",
    "    print(iterator)\n",
    "    iterator = iterator + 1\n",
    "    df_embeddings = pd.DataFrame()\n",
    "    df_embeddings['text_embeddings'] = chunk['text_ tokens'].\\\n",
    "apply(lambda x : model(torch.tensor(list(map(int, x.split('\\t')))).unsqueeze(0))[0][0][0])\n",
    "    df_embeddings.to_csv('s3://recsys-challenge-2020/embeddings.csv', mode='a', header=False)"
   ]
  },
  {
   "cell_type": "code",
   "execution_count": null,
   "metadata": {},
   "outputs": [],
   "source": [
    "column_of_interest = [\"text_ tokens\"]\n",
    "train_set = pd.read_csv('s3://recsys-challenge-2020/train_set.csv', encoding=\"utf-8\",\n",
    "                     usecols= [1])"
   ]
  }
 ],
 "metadata": {
  "kernelspec": {
   "display_name": "Python 3",
   "language": "python",
   "name": "python3"
  },
  "language_info": {
   "codemirror_mode": {
    "name": "ipython",
    "version": 3
   },
   "file_extension": ".py",
   "mimetype": "text/x-python",
   "name": "python",
   "nbconvert_exporter": "python",
   "pygments_lexer": "ipython3",
   "version": "3.7.4"
  }
 },
 "nbformat": 4,
 "nbformat_minor": 2
}
