{
 "cells": [
  {
   "cell_type": "code",
   "execution_count": 1,
   "metadata": {},
   "outputs": [],
   "source": [
    "import pandas as pd\n",
    "import numpy as np\n",
    "import scipy.sparse\n",
    "import dask.dataframe as dd\n",
    "import multiprocessing"
   ]
  },
  {
   "cell_type": "code",
   "execution_count": 2,
   "metadata": {},
   "outputs": [],
   "source": [
    "train_set = pd.read_csv('/home/ubuntu/recsys_challenge_2020/classification_type_models/f2/train_set.csv', delimiter = '\\t')"
   ]
  },
  {
   "cell_type": "code",
   "execution_count": 3,
   "metadata": {},
   "outputs": [],
   "source": [
    "train_set = train_set[['engaged_user_id', 'engaging_user_id']]"
   ]
  },
  {
   "cell_type": "code",
   "execution_count": 4,
   "metadata": {},
   "outputs": [
    {
     "data": {
      "text/html": [
       "<div>\n",
       "<style scoped>\n",
       "    .dataframe tbody tr th:only-of-type {\n",
       "        vertical-align: middle;\n",
       "    }\n",
       "\n",
       "    .dataframe tbody tr th {\n",
       "        vertical-align: top;\n",
       "    }\n",
       "\n",
       "    .dataframe thead th {\n",
       "        text-align: right;\n",
       "    }\n",
       "</style>\n",
       "<table border=\"1\" class=\"dataframe\">\n",
       "  <thead>\n",
       "    <tr style=\"text-align: right;\">\n",
       "      <th></th>\n",
       "      <th>engaged_user_id</th>\n",
       "      <th>engaging_user_id</th>\n",
       "    </tr>\n",
       "  </thead>\n",
       "  <tbody>\n",
       "    <tr>\n",
       "      <th>0</th>\n",
       "      <td>B2263AF9B63CBC88D666E34277F567A3</td>\n",
       "      <td>12A1AF0088C5B4FCBFA024D4A1971323</td>\n",
       "    </tr>\n",
       "    <tr>\n",
       "      <th>1</th>\n",
       "      <td>E714521889A38AF35386AA7F7BFC01EF</td>\n",
       "      <td>C836F432B0FC7847C2C753949C51B961</td>\n",
       "    </tr>\n",
       "    <tr>\n",
       "      <th>2</th>\n",
       "      <td>A28FC60D0555E0BBDF7A5717BAE41DBD</td>\n",
       "      <td>77309DE08AB631D8224254D33648F287</td>\n",
       "    </tr>\n",
       "    <tr>\n",
       "      <th>3</th>\n",
       "      <td>72CB45172B3B726002426A9FE18D2061</td>\n",
       "      <td>91363F238C79DAEE42E2A2C97A5F8E7C</td>\n",
       "    </tr>\n",
       "    <tr>\n",
       "      <th>4</th>\n",
       "      <td>443703CB3D0505C9CAFC97D27B8FB2E7</td>\n",
       "      <td>EFA4C5B62E097EB203F8AFDC470AEB27</td>\n",
       "    </tr>\n",
       "  </tbody>\n",
       "</table>\n",
       "</div>"
      ],
      "text/plain": [
       "                    engaged_user_id                  engaging_user_id\n",
       "0  B2263AF9B63CBC88D666E34277F567A3  12A1AF0088C5B4FCBFA024D4A1971323\n",
       "1  E714521889A38AF35386AA7F7BFC01EF  C836F432B0FC7847C2C753949C51B961\n",
       "2  A28FC60D0555E0BBDF7A5717BAE41DBD  77309DE08AB631D8224254D33648F287\n",
       "3  72CB45172B3B726002426A9FE18D2061  91363F238C79DAEE42E2A2C97A5F8E7C\n",
       "4  443703CB3D0505C9CAFC97D27B8FB2E7  EFA4C5B62E097EB203F8AFDC470AEB27"
      ]
     },
     "execution_count": 4,
     "metadata": {},
     "output_type": "execute_result"
    }
   ],
   "source": [
    "train_set.head()"
   ]
  },
  {
   "cell_type": "code",
   "execution_count": 7,
   "metadata": {},
   "outputs": [],
   "source": [
    "ddf = dd.from_pandas(train_set, npartitions=2 * multiprocessing.cpu_count())"
   ]
  },
  {
   "cell_type": "code",
   "execution_count": 8,
   "metadata": {},
   "outputs": [],
   "source": [
    "dummies_cols = ['engaged_user_id', 'engaging_user_id']\n",
    "ddf[dummies_cols] = ddf[dummies_cols].categorize()"
   ]
  },
  {
   "cell_type": "code",
   "execution_count": null,
   "metadata": {},
   "outputs": [],
   "source": [
    "ddata = dd.get_dummies(ddf, columns=['engaged_user_id', 'engaging_user_id'], sparse=True)"
   ]
  }
 ],
 "metadata": {
  "kernelspec": {
   "display_name": "Python 3",
   "language": "python",
   "name": "python3"
  },
  "language_info": {
   "codemirror_mode": {
    "name": "ipython",
    "version": 3
   },
   "file_extension": ".py",
   "mimetype": "text/x-python",
   "name": "python",
   "nbconvert_exporter": "python",
   "pygments_lexer": "ipython3",
   "version": "3.7.6"
  }
 },
 "nbformat": 4,
 "nbformat_minor": 4
}
