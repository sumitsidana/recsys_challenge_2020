{
 "cells": [
  {
   "cell_type": "code",
   "execution_count": 1,
   "metadata": {},
   "outputs": [
    {
     "name": "stdout",
     "output_type": "stream",
     "text": [
      "Base data\n",
      "   int1  int2  int3    s1    s2  clicked\n",
      "0     0     0     0  -1.0  -1.0        0\n",
      "1     0     0     0   1.0   1.0        1\n",
      "2     1     0     1  -3.0  -4.0        0\n",
      "3     1     0     1   0.0  -0.0        0\n",
      "4     0    -2     0   1.0  -1.0        1\n",
      "5    -1     0    -1   0.0  -1.0        1\n",
      "6     0     0     0  -1.0   0.0        0\n",
      "7    -1     1    -1  -1.0   0.0        0\n",
      "8     0     0     1   1.0   0.0        1\n",
      "9     0     0     0   1.0   0.0        1\n",
      "FFM data\n",
      "0      0 0:3:0 1:9:0 2:15:0 3:16:1 4:24:1\n",
      "1      1 0:3:0 1:9:0 2:15:0 3:17:1 4:25:1\n",
      "2      0 0:3:1 1:9:0 2:15:1 3:18:1 4:26:1\n",
      "3      0 0:3:1 1:9:0 2:15:1 3:19:1 4:27:1\n",
      "4     1 0:3:0 1:9:-2 2:15:0 3:17:1 4:24:1\n",
      "5    1 0:3:-1 1:9:0 2:15:-1 3:19:1 4:24:1\n",
      "6      0 0:3:0 1:9:0 2:15:0 3:16:1 4:28:1\n",
      "7    0 0:3:-1 1:9:1 2:15:-1 3:16:1 4:28:1\n",
      "8      1 0:3:0 1:9:0 2:15:1 3:17:1 4:28:1\n",
      "9      1 0:3:0 1:9:0 2:15:0 3:17:1 4:28:1\n",
      "dtype: object\n"
     ]
    }
   ],
   "source": [
    "import numpy as np # linear algebra\n",
    "import pandas as pd # data processing, CSV file I/O (e.g. pd.read_csv)\n",
    "from sklearn.datasets import make_classification\n",
    "\n",
    "'''\n",
    "A sci-kit learn inspired script to convert pandas dataframes into libFFM style data.\n",
    "\n",
    "The script is fairly hacky (hey thats Kaggle) and takes a little while to run a huge dataset.\n",
    "The key to using this class is setting up the features dtypes correctly for output (ammend transform to suit your needs)\n",
    "\n",
    "Example below\n",
    "\n",
    "'''\n",
    "\n",
    "\n",
    "class FFMFormatPandas:\n",
    "    def __init__(self):\n",
    "        self.field_index_ = None\n",
    "        self.feature_index_ = None\n",
    "        self.y = None\n",
    "\n",
    "    def fit(self, df, y=None):\n",
    "        self.y = y\n",
    "        df_ffm = df[df.columns.difference([self.y])]\n",
    "        if self.field_index_ is None:\n",
    "            self.field_index_ = {col: i for i, col in enumerate(df_ffm)}\n",
    "\n",
    "        if self.feature_index_ is not None:\n",
    "            last_idx = max(list(self.feature_index_.values()))\n",
    "\n",
    "        if self.feature_index_ is None:\n",
    "            self.feature_index_ = dict()\n",
    "            last_idx = 0\n",
    "\n",
    "        for col in df.columns:\n",
    "            vals = df[col].unique()\n",
    "            for val in vals:\n",
    "                if pd.isnull(val):\n",
    "                    continue\n",
    "                name = '{}_{}'.format(col, val)\n",
    "                if name not in self.feature_index_:\n",
    "                    self.feature_index_[name] = last_idx\n",
    "                    last_idx += 1\n",
    "            self.feature_index_[col] = last_idx\n",
    "            last_idx += 1\n",
    "        return self\n",
    "\n",
    "    def fit_transform(self, df, y=None):\n",
    "        self.fit(df, y)\n",
    "        return self.transform(df)\n",
    "\n",
    "    def transform_row_(self, row, t):\n",
    "        ffm = []\n",
    "        if self.y != None:\n",
    "            ffm.append(str(row.loc[row.index == self.y][0]))\n",
    "        if self.y is None:\n",
    "            ffm.append(str(0))\n",
    "\n",
    "        for col, val in row.loc[row.index != self.y].to_dict().items():\n",
    "            col_type = t[col]\n",
    "            name = '{}_{}'.format(col, val)\n",
    "            if col_type.kind ==  'O':\n",
    "                ffm.append('{}:{}:1'.format(self.field_index_[col], self.feature_index_[name]))\n",
    "            elif col_type.kind == 'i':\n",
    "                ffm.append('{}:{}:{}'.format(self.field_index_[col], self.feature_index_[col], val))\n",
    "        return ' '.join(ffm)\n",
    "\n",
    "    def transform(self, df):\n",
    "        t = df.dtypes.to_dict()\n",
    "        return pd.Series({idx: self.transform_row_(row, t) for idx, row in df.iterrows()})\n",
    "\n",
    "########################### Lets build some data and test ############################\n",
    "### \n",
    "\n",
    "\n",
    "train, y = make_classification(n_samples=100, n_features=5, n_informative=2, n_redundant=2, n_classes=2, random_state=42)\n",
    "\n",
    "train=pd.DataFrame(train, columns=['int1','int2','int3','s1','s2'])\n",
    "train['int1'] = train['int1'].map(int)\n",
    "train['int2'] = train['int2'].map(int)\n",
    "train['int3'] = train['int3'].map(int)\n",
    "train['s1'] = round(np.log(abs(train['s1'] +1 ))).map(str)\n",
    "train['s2'] = round(np.log(abs(train['s2'] +1 ))).map(str)\n",
    "train['clicked'] = y\n",
    "\n",
    "\n",
    "ffm_train = FFMFormatPandas()\n",
    "ffm_train_data = ffm_train.fit_transform(train, y='clicked')\n",
    "print('Base data')\n",
    "print(train[0:10])\n",
    "print('FFM data')\n",
    "print(ffm_train_data[0:10])"
   ]
  },
  {
   "cell_type": "code",
   "execution_count": 2,
   "metadata": {},
   "outputs": [],
   "source": [
    "d = {'col1': ['a', 'b', 'f'], 'col2': [1, 2, 100], 'col3': [0.5, 0.3, 0.19], 'col4' : [0, 1, 1]}\n",
    "df = pd.DataFrame(data=d)"
   ]
  },
  {
   "cell_type": "code",
   "execution_count": 3,
   "metadata": {},
   "outputs": [
    {
     "data": {
      "text/plain": [
       "col1     object\n",
       "col2      int64\n",
       "col3    float64\n",
       "col4      int64\n",
       "dtype: object"
      ]
     },
     "execution_count": 3,
     "metadata": {},
     "output_type": "execute_result"
    }
   ],
   "source": [
    "df.dtypes"
   ]
  },
  {
   "cell_type": "code",
   "execution_count": 4,
   "metadata": {},
   "outputs": [
    {
     "data": {
      "text/html": [
       "<div>\n",
       "<style scoped>\n",
       "    .dataframe tbody tr th:only-of-type {\n",
       "        vertical-align: middle;\n",
       "    }\n",
       "\n",
       "    .dataframe tbody tr th {\n",
       "        vertical-align: top;\n",
       "    }\n",
       "\n",
       "    .dataframe thead th {\n",
       "        text-align: right;\n",
       "    }\n",
       "</style>\n",
       "<table border=\"1\" class=\"dataframe\">\n",
       "  <thead>\n",
       "    <tr style=\"text-align: right;\">\n",
       "      <th></th>\n",
       "      <th>col1</th>\n",
       "      <th>col2</th>\n",
       "      <th>col3</th>\n",
       "      <th>col4</th>\n",
       "    </tr>\n",
       "  </thead>\n",
       "  <tbody>\n",
       "    <tr>\n",
       "      <th>0</th>\n",
       "      <td>a</td>\n",
       "      <td>1</td>\n",
       "      <td>0.50</td>\n",
       "      <td>0</td>\n",
       "    </tr>\n",
       "    <tr>\n",
       "      <th>1</th>\n",
       "      <td>b</td>\n",
       "      <td>2</td>\n",
       "      <td>0.30</td>\n",
       "      <td>1</td>\n",
       "    </tr>\n",
       "    <tr>\n",
       "      <th>2</th>\n",
       "      <td>f</td>\n",
       "      <td>100</td>\n",
       "      <td>0.19</td>\n",
       "      <td>1</td>\n",
       "    </tr>\n",
       "  </tbody>\n",
       "</table>\n",
       "</div>"
      ],
      "text/plain": [
       "  col1  col2  col3  col4\n",
       "0    a     1  0.50     0\n",
       "1    b     2  0.30     1\n",
       "2    f   100  0.19     1"
      ]
     },
     "execution_count": 4,
     "metadata": {},
     "output_type": "execute_result"
    }
   ],
   "source": [
    "df"
   ]
  },
  {
   "cell_type": "code",
   "execution_count": 6,
   "metadata": {},
   "outputs": [],
   "source": [
    "ffm_train = FFMFormatPandas()\n",
    "ffm_train_data = ffm_train.fit_transform(df, y='col4')"
   ]
  },
  {
   "cell_type": "code",
   "execution_count": 7,
   "metadata": {},
   "outputs": [
    {
     "data": {
      "text/plain": [
       "0      0 0:0:1 1:7:1\n",
       "1      1 0:1:1 1:7:2\n",
       "2    1 0:2:1 1:7:100\n",
       "dtype: object"
      ]
     },
     "execution_count": 7,
     "metadata": {},
     "output_type": "execute_result"
    }
   ],
   "source": [
    "ffm_train_data"
   ]
  },
  {
   "cell_type": "code",
   "execution_count": null,
   "metadata": {},
   "outputs": [],
   "source": []
  }
 ],
 "metadata": {
  "kernelspec": {
   "display_name": "Python 3",
   "language": "python",
   "name": "python3"
  },
  "language_info": {
   "codemirror_mode": {
    "name": "ipython",
    "version": 3
   },
   "file_extension": ".py",
   "mimetype": "text/x-python",
   "name": "python",
   "nbconvert_exporter": "python",
   "pygments_lexer": "ipython3",
   "version": "3.7.6"
  }
 },
 "nbformat": 4,
 "nbformat_minor": 4
}
