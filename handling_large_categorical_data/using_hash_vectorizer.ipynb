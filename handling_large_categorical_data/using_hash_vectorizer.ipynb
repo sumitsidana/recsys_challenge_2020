{
 "cells": [
  {
   "cell_type": "code",
   "execution_count": 1,
   "metadata": {},
   "outputs": [],
   "source": [
    "import pandas as pd\n",
    "from sklearn.feature_extraction import FeatureHasher\n",
    "import matplotlib.pyplot as plt\n",
    "import seaborn as sns\n",
    "from sklearn.feature_selection import SelectKBest\n",
    "from sklearn.feature_selection import chi2\n",
    "from sklearn.feature_selection import mutual_info_classif\n",
    "from sklearn import preprocessing\n",
    "from sklearn.preprocessing import LabelEncoder\n",
    "from datetime import datetime\n",
    "import swifter\n",
    "import random\n",
    "from datetime import datetime\n",
    "import datetime"
   ]
  },
  {
   "cell_type": "code",
   "execution_count": 2,
   "metadata": {},
   "outputs": [],
   "source": [
    "import scipy"
   ]
  },
  {
   "cell_type": "code",
   "execution_count": 3,
   "metadata": {},
   "outputs": [],
   "source": [
    "from scipy.sparse import hstack"
   ]
  },
  {
   "cell_type": "code",
   "execution_count": 4,
   "metadata": {},
   "outputs": [],
   "source": [
    "from fastFM import sgd"
   ]
  },
  {
   "cell_type": "code",
   "execution_count": 5,
   "metadata": {},
   "outputs": [],
   "source": [
    "def ep_to_day(ep):\n",
    "    return datetime.datetime.fromtimestamp(ep).weekday()"
   ]
  },
  {
   "cell_type": "code",
   "execution_count": 6,
   "metadata": {},
   "outputs": [],
   "source": [
    "all_features  = ['tweet_type', 'language', 'tweet_timestamp', 'enaged_with_user_id',\n",
    "       'engaged_with_user_follower_count', 'engaged_with_user_following_count',\n",
    "       'enaging_user_id', 'enaging_user_follower_count',\n",
    "       'enaging_user_following_count', 'engagee_follows_engager', 'reply_timestamp']\n",
    "\n",
    "training = pd.read_csv('s3://recsys-challenge-2020/training.tsv', encoding=\"utf-8\",\\\n",
    "                       names = all_features, sep=\"\\x01\", usecols = [6,7,8,9,10,11,14,15,16,19,20])"
   ]
  },
  {
   "cell_type": "code",
   "execution_count": 7,
   "metadata": {},
   "outputs": [
    {
     "data": {
      "text/html": [
       "<div>\n",
       "<style scoped>\n",
       "    .dataframe tbody tr th:only-of-type {\n",
       "        vertical-align: middle;\n",
       "    }\n",
       "\n",
       "    .dataframe tbody tr th {\n",
       "        vertical-align: top;\n",
       "    }\n",
       "\n",
       "    .dataframe thead th {\n",
       "        text-align: right;\n",
       "    }\n",
       "</style>\n",
       "<table border=\"1\" class=\"dataframe\">\n",
       "  <thead>\n",
       "    <tr style=\"text-align: right;\">\n",
       "      <th></th>\n",
       "      <th>tweet_type</th>\n",
       "      <th>language</th>\n",
       "      <th>tweet_timestamp</th>\n",
       "      <th>enaged_with_user_id</th>\n",
       "      <th>engaged_with_user_follower_count</th>\n",
       "      <th>engaged_with_user_following_count</th>\n",
       "      <th>enaging_user_id</th>\n",
       "      <th>enaging_user_follower_count</th>\n",
       "      <th>enaging_user_following_count</th>\n",
       "      <th>engagee_follows_engager</th>\n",
       "      <th>reply_timestamp</th>\n",
       "    </tr>\n",
       "  </thead>\n",
       "  <tbody>\n",
       "    <tr>\n",
       "      <th>0</th>\n",
       "      <td>TopLevel</td>\n",
       "      <td>22C448FF81263D4BAF2A176145EE9EAD</td>\n",
       "      <td>1581258144</td>\n",
       "      <td>D7EFC6D19CFB09B9A1CE4C4B0E0091F6</td>\n",
       "      <td>3517</td>\n",
       "      <td>590</td>\n",
       "      <td>0000006C3074607050F1339DDCB890BB</td>\n",
       "      <td>27428</td>\n",
       "      <td>600</td>\n",
       "      <td>False</td>\n",
       "      <td>NaN</td>\n",
       "    </tr>\n",
       "    <tr>\n",
       "      <th>1</th>\n",
       "      <td>TopLevel</td>\n",
       "      <td>B9175601E87101A984A50F8A62A1C374</td>\n",
       "      <td>1581018910</td>\n",
       "      <td>1F30A85E612A24B426013978ADB7AE46</td>\n",
       "      <td>39786</td>\n",
       "      <td>32978</td>\n",
       "      <td>000005C520010F8917EEAB6F5B6EC1C4</td>\n",
       "      <td>17</td>\n",
       "      <td>77</td>\n",
       "      <td>True</td>\n",
       "      <td>NaN</td>\n",
       "    </tr>\n",
       "    <tr>\n",
       "      <th>2</th>\n",
       "      <td>TopLevel</td>\n",
       "      <td>22C448FF81263D4BAF2A176145EE9EAD</td>\n",
       "      <td>1581244866</td>\n",
       "      <td>9E1FD934C376903895DEEBCC0F6AB920</td>\n",
       "      <td>141726</td>\n",
       "      <td>3232</td>\n",
       "      <td>000006829BEADA9EEA695CF0C334B426</td>\n",
       "      <td>2</td>\n",
       "      <td>29</td>\n",
       "      <td>False</td>\n",
       "      <td>NaN</td>\n",
       "    </tr>\n",
       "    <tr>\n",
       "      <th>3</th>\n",
       "      <td>TopLevel</td>\n",
       "      <td>22C448FF81263D4BAF2A176145EE9EAD</td>\n",
       "      <td>1581250124</td>\n",
       "      <td>BEB3C337B266E2C4769065AD64724329</td>\n",
       "      <td>3044</td>\n",
       "      <td>99</td>\n",
       "      <td>000006829BEADA9EEA695CF0C334B426</td>\n",
       "      <td>3</td>\n",
       "      <td>30</td>\n",
       "      <td>False</td>\n",
       "      <td>NaN</td>\n",
       "    </tr>\n",
       "    <tr>\n",
       "      <th>4</th>\n",
       "      <td>TopLevel</td>\n",
       "      <td>22C448FF81263D4BAF2A176145EE9EAD</td>\n",
       "      <td>1580958805</td>\n",
       "      <td>9E1FD934C376903895DEEBCC0F6AB920</td>\n",
       "      <td>141370</td>\n",
       "      <td>3235</td>\n",
       "      <td>000006829BEADA9EEA695CF0C334B426</td>\n",
       "      <td>3</td>\n",
       "      <td>30</td>\n",
       "      <td>False</td>\n",
       "      <td>NaN</td>\n",
       "    </tr>\n",
       "  </tbody>\n",
       "</table>\n",
       "</div>"
      ],
      "text/plain": [
       "  tweet_type                          language  tweet_timestamp  \\\n",
       "0   TopLevel  22C448FF81263D4BAF2A176145EE9EAD       1581258144   \n",
       "1   TopLevel  B9175601E87101A984A50F8A62A1C374       1581018910   \n",
       "2   TopLevel  22C448FF81263D4BAF2A176145EE9EAD       1581244866   \n",
       "3   TopLevel  22C448FF81263D4BAF2A176145EE9EAD       1581250124   \n",
       "4   TopLevel  22C448FF81263D4BAF2A176145EE9EAD       1580958805   \n",
       "\n",
       "                enaged_with_user_id  engaged_with_user_follower_count  \\\n",
       "0  D7EFC6D19CFB09B9A1CE4C4B0E0091F6                              3517   \n",
       "1  1F30A85E612A24B426013978ADB7AE46                             39786   \n",
       "2  9E1FD934C376903895DEEBCC0F6AB920                            141726   \n",
       "3  BEB3C337B266E2C4769065AD64724329                              3044   \n",
       "4  9E1FD934C376903895DEEBCC0F6AB920                            141370   \n",
       "\n",
       "   engaged_with_user_following_count                   enaging_user_id  \\\n",
       "0                                590  0000006C3074607050F1339DDCB890BB   \n",
       "1                              32978  000005C520010F8917EEAB6F5B6EC1C4   \n",
       "2                               3232  000006829BEADA9EEA695CF0C334B426   \n",
       "3                                 99  000006829BEADA9EEA695CF0C334B426   \n",
       "4                               3235  000006829BEADA9EEA695CF0C334B426   \n",
       "\n",
       "   enaging_user_follower_count  enaging_user_following_count  \\\n",
       "0                        27428                           600   \n",
       "1                           17                            77   \n",
       "2                            2                            29   \n",
       "3                            3                            30   \n",
       "4                            3                            30   \n",
       "\n",
       "   engagee_follows_engager  reply_timestamp  \n",
       "0                    False              NaN  \n",
       "1                     True              NaN  \n",
       "2                    False              NaN  \n",
       "3                    False              NaN  \n",
       "4                    False              NaN  "
      ]
     },
     "execution_count": 7,
     "metadata": {},
     "output_type": "execute_result"
    }
   ],
   "source": [
    "training.head()"
   ]
  },
  {
   "cell_type": "code",
   "execution_count": null,
   "metadata": {},
   "outputs": [
    {
     "data": {
      "application/vnd.jupyter.widget-view+json": {
       "model_id": "eb0f1e8c0a9c4e99b474130c236ac4ec",
       "version_major": 2,
       "version_minor": 0
      },
      "text/plain": [
       "HBox(children=(FloatProgress(value=0.0, description='Pandas Apply', max=148075238.0, style=ProgressStyle(descr…"
      ]
     },
     "metadata": {},
     "output_type": "display_data"
    }
   ],
   "source": [
    "training['day'] = training.swifter.apply(lambda x: ep_to_day(x['tweet_timestamp']), axis = 1)"
   ]
  },
  {
   "cell_type": "code",
   "execution_count": null,
   "metadata": {},
   "outputs": [],
   "source": [
    "training['reply_bool'] = training.reply_timestamp.fillna(0)\n",
    "training.loc[training.reply_bool != 0.0, 'reply_bool'] = 1.0"
   ]
  },
  {
   "cell_type": "code",
   "execution_count": null,
   "metadata": {},
   "outputs": [],
   "source": [
    "training_subset = training.iloc[:, [0,1,3,4,5,6,7,8,9,11,12]]"
   ]
  },
  {
   "cell_type": "code",
   "execution_count": null,
   "metadata": {},
   "outputs": [],
   "source": [
    "training_subset.columns"
   ]
  },
  {
   "cell_type": "code",
   "execution_count": null,
   "metadata": {},
   "outputs": [],
   "source": [
    "training_subset['engagee_follows_engager'] = training_subset['engagee_follows_engager'].apply(str)\n",
    "training_subset['day'] = training_subset['day'].apply(str)"
   ]
  },
  {
   "cell_type": "code",
   "execution_count": null,
   "metadata": {},
   "outputs": [],
   "source": [
    "training_subset_numerical = training_subset.iloc[:, [3,4,6,7]]"
   ]
  },
  {
   "cell_type": "code",
   "execution_count": null,
   "metadata": {},
   "outputs": [],
   "source": [
    "x = training_subset_numerical.values\n",
    "min_max_scaler = preprocessing.MinMaxScaler()\n",
    "x_scaled = min_max_scaler.fit_transform(x)\n",
    "df = pd.DataFrame(x_scaled)"
   ]
  },
  {
   "cell_type": "code",
   "execution_count": null,
   "metadata": {},
   "outputs": [],
   "source": [
    "training_data_all = pd.concat([training_subset, df], axis = 1)"
   ]
  },
  {
   "cell_type": "code",
   "execution_count": null,
   "metadata": {},
   "outputs": [],
   "source": [
    "[(c, training_data_all.columns.get_loc(c)) for c in training_data_all.columns]"
   ]
  },
  {
   "cell_type": "code",
   "execution_count": null,
   "metadata": {},
   "outputs": [],
   "source": [
    "training_data = training_data_all.iloc[:, [0,1,2,5,8,9,10,11,12,13,14]]"
   ]
  },
  {
   "cell_type": "code",
   "execution_count": null,
   "metadata": {},
   "outputs": [],
   "source": [
    "training_data.rename(columns = {0:'engaged_with_user_follower_count',1:'engaged_with_user_following_count',2:'enaging_user_follower_count', 3:'enaging_user_following_count'},inplace = True)"
   ]
  },
  {
   "cell_type": "code",
   "execution_count": null,
   "metadata": {},
   "outputs": [],
   "source": [
    "training_data.head()"
   ]
  },
  {
   "cell_type": "code",
   "execution_count": null,
   "metadata": {},
   "outputs": [],
   "source": [
    "training_data.set_index(keys=['day'], drop=False,inplace=True)"
   ]
  },
  {
   "cell_type": "code",
   "execution_count": null,
   "metadata": {},
   "outputs": [],
   "source": [
    "names = training_data['day'].unique().tolist()"
   ]
  },
  {
   "cell_type": "code",
   "execution_count": null,
   "metadata": {},
   "outputs": [],
   "source": [
    "names"
   ]
  },
  {
   "cell_type": "code",
   "execution_count": null,
   "metadata": {},
   "outputs": [],
   "source": [
    "train_scratch = pd.DataFrame()\n",
    "val_scratch = pd.DataFrame()\n",
    "for day in names:\n",
    "    print(day)\n",
    "    train_day = training_data.loc[training_data.day==day]\n",
    "    n_head = 90\n",
    "    n_tail = 10\n",
    "    train_set_scratch = train_day.head(int(len(train_day)*(n_head/100)))\n",
    "    val_set_scratch = train_day.tail(int(len(train_day)*(n_tail/100)))\n",
    "    train_scratch = pd.concat([train_scratch, train_set_scratch])\n",
    "    val_scratch = pd.concat([val_scratch, val_set_scratch])"
   ]
  },
  {
   "cell_type": "code",
   "execution_count": null,
   "metadata": {},
   "outputs": [],
   "source": [
    "train_scratch.reset_index(inplace = True, drop = True)"
   ]
  },
  {
   "cell_type": "code",
   "execution_count": null,
   "metadata": {},
   "outputs": [],
   "source": [
    "val_scratch.reset_index(inplace = True, drop = True)"
   ]
  },
  {
   "cell_type": "code",
   "execution_count": null,
   "metadata": {},
   "outputs": [],
   "source": [
    "train_scratch.head()"
   ]
  },
  {
   "cell_type": "code",
   "execution_count": null,
   "metadata": {},
   "outputs": [],
   "source": [
    "val_scratch.head()"
   ]
  },
  {
   "cell_type": "code",
   "execution_count": null,
   "metadata": {},
   "outputs": [],
   "source": [
    "X_train_df = train_scratch.drop(['reply_bool'], axis = 1)\n",
    "y_train_df = train_scratch[['reply_bool']]"
   ]
  },
  {
   "cell_type": "code",
   "execution_count": null,
   "metadata": {},
   "outputs": [],
   "source": [
    "X_val_df = val_scratch.drop(['reply_bool'], axis = 1)\n",
    "y_val_df = val_scratch[['reply_bool']]"
   ]
  },
  {
   "cell_type": "code",
   "execution_count": null,
   "metadata": {},
   "outputs": [],
   "source": [
    "h = FeatureHasher(n_features=1000)"
   ]
  },
  {
   "cell_type": "code",
   "execution_count": null,
   "metadata": {},
   "outputs": [],
   "source": [
    "X_train_df.head()"
   ]
  },
  {
   "cell_type": "code",
   "execution_count": null,
   "metadata": {},
   "outputs": [],
   "source": [
    "X_train_df.iloc[:, [0,1,2,3,4,5]].head()"
   ]
  },
  {
   "cell_type": "code",
   "execution_count": null,
   "metadata": {},
   "outputs": [],
   "source": [
    "X_train_hasher = h.fit_transform(X_train_df.iloc[:, [0,1,2,3,4,5]].to_dict(orient='records'))"
   ]
  },
  {
   "cell_type": "code",
   "execution_count": null,
   "metadata": {},
   "outputs": [],
   "source": [
    "X_val_hasher = h.transform(X_val_df.iloc[:, [0,1,2,3,4,5]].to_dict(orient='records'))"
   ]
  },
  {
   "cell_type": "code",
   "execution_count": null,
   "metadata": {},
   "outputs": [],
   "source": [
    "X_train_numerical = scipy.sparse.csr_matrix(X_train_df.iloc[:, [6,7,8,9]].values)"
   ]
  },
  {
   "cell_type": "code",
   "execution_count": null,
   "metadata": {},
   "outputs": [],
   "source": [
    "X_val_numerical = scipy.sparse.csr_matrix(X_val_df.iloc[:, [6,7,8,9]].values)"
   ]
  },
  {
   "cell_type": "code",
   "execution_count": null,
   "metadata": {},
   "outputs": [],
   "source": [
    "X_train_hasher"
   ]
  },
  {
   "cell_type": "code",
   "execution_count": null,
   "metadata": {},
   "outputs": [],
   "source": [
    "X_train_numerical"
   ]
  },
  {
   "cell_type": "code",
   "execution_count": null,
   "metadata": {},
   "outputs": [],
   "source": [
    "X_train = hstack([X_train_hasher, X_train_numerical])"
   ]
  },
  {
   "cell_type": "code",
   "execution_count": null,
   "metadata": {},
   "outputs": [],
   "source": [
    "X_val = hstack([X_val_hasher, X_val_numerical])"
   ]
  },
  {
   "cell_type": "code",
   "execution_count": null,
   "metadata": {},
   "outputs": [],
   "source": [
    "X_train"
   ]
  },
  {
   "cell_type": "code",
   "execution_count": null,
   "metadata": {},
   "outputs": [],
   "source": [
    "X_val"
   ]
  },
  {
   "cell_type": "code",
   "execution_count": null,
   "metadata": {},
   "outputs": [],
   "source": [
    "y_train_values = y_train_df['reply_bool'].values.squeeze()"
   ]
  },
  {
   "cell_type": "code",
   "execution_count": null,
   "metadata": {},
   "outputs": [],
   "source": [
    "y_val_values = y_val_df['reply_bool'].values.squeeze()"
   ]
  },
  {
   "cell_type": "code",
   "execution_count": null,
   "metadata": {},
   "outputs": [],
   "source": [
    "from sklearn.linear_model import LogisticRegression"
   ]
  },
  {
   "cell_type": "code",
   "execution_count": null,
   "metadata": {},
   "outputs": [],
   "source": [
    "y_train_values"
   ]
  },
  {
   "cell_type": "code",
   "execution_count": null,
   "metadata": {},
   "outputs": [],
   "source": [
    "clf = LogisticRegression(random_state=0).fit(X_train, y_train_values)"
   ]
  },
  {
   "cell_type": "code",
   "execution_count": null,
   "metadata": {},
   "outputs": [],
   "source": [
    "y_predicted = clf.predict_proba(X_val)"
   ]
  },
  {
   "cell_type": "code",
   "execution_count": null,
   "metadata": {},
   "outputs": [],
   "source": [
    "y_predicted[:,1]"
   ]
  },
  {
   "cell_type": "code",
   "execution_count": null,
   "metadata": {},
   "outputs": [],
   "source": [
    "from sklearn.metrics import precision_recall_curve, auc, log_loss\n",
    "\n",
    "def compute_prauc(pred, gt):\n",
    "    prec, recall, thresh = precision_recall_curve(gt, pred)\n",
    "    prauc = auc(recall, prec)\n",
    "    return prauc\n",
    "\n",
    "def calculate_ctr(gt):\n",
    "    positive = len([x for x in gt if x == 1])\n",
    "    ctr = positive/float(len(gt))\n",
    "    return ctr\n",
    "\n",
    "def compute_rce(pred, gt):\n",
    "    cross_entropy = log_loss(gt, pred)\n",
    "    data_ctr = calculate_ctr(gt)\n",
    "    strawman_cross_entropy = log_loss(gt, [data_ctr for _ in range(len(gt))])\n",
    "    return (1.0 - cross_entropy/strawman_cross_entropy)*100.0"
   ]
  },
  {
   "cell_type": "code",
   "execution_count": null,
   "metadata": {},
   "outputs": [],
   "source": [
    "compute_rce(y_predicted[:,1], y_val_values)"
   ]
  },
  {
   "cell_type": "code",
   "execution_count": null,
   "metadata": {},
   "outputs": [],
   "source": [
    "y_predicted"
   ]
  },
  {
   "cell_type": "code",
   "execution_count": null,
   "metadata": {},
   "outputs": [],
   "source": [
    "compute_prauc(y_predicted[:,1], y_val_values)"
   ]
  },
  {
   "cell_type": "code",
   "execution_count": null,
   "metadata": {},
   "outputs": [],
   "source": [
    "fm = sgd.FMClassification(n_iter=1000, init_stdev=0.1, rank=8, l2_reg_w=0.03, l2_reg_V=0.05, step_size = 0.01)"
   ]
  },
  {
   "cell_type": "code",
   "execution_count": null,
   "metadata": {},
   "outputs": [],
   "source": [
    "y_train_values[y_train_values == 0] = -1"
   ]
  },
  {
   "cell_type": "code",
   "execution_count": null,
   "metadata": {},
   "outputs": [],
   "source": [
    "fm.fit(X_train, y_train_values)"
   ]
  },
  {
   "cell_type": "code",
   "execution_count": null,
   "metadata": {},
   "outputs": [],
   "source": [
    "y_predicted = fm.predict_proba(X_val)"
   ]
  },
  {
   "cell_type": "code",
   "execution_count": null,
   "metadata": {},
   "outputs": [],
   "source": [
    "compute_prauc(y_predicted, y_val_values)"
   ]
  },
  {
   "cell_type": "code",
   "execution_count": null,
   "metadata": {},
   "outputs": [],
   "source": [
    "compute_rce(y_predicted, y_val_values)"
   ]
  }
 ],
 "metadata": {
  "kernelspec": {
   "display_name": "Python 3",
   "language": "python",
   "name": "python3"
  },
  "language_info": {
   "codemirror_mode": {
    "name": "ipython",
    "version": 3
   },
   "file_extension": ".py",
   "mimetype": "text/x-python",
   "name": "python",
   "nbconvert_exporter": "python",
   "pygments_lexer": "ipython3",
   "version": "3.7.6"
  }
 },
 "nbformat": 4,
 "nbformat_minor": 4
}
