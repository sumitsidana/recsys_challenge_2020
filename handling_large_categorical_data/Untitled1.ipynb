{
 "cells": [
  {
   "cell_type": "code",
   "execution_count": 1,
   "metadata": {},
   "outputs": [],
   "source": [
    "import pandas as pd\n",
    "import swifter\n",
    "from datetime import datetime\n",
    "import datetime"
   ]
  },
  {
   "cell_type": "code",
   "execution_count": 2,
   "metadata": {},
   "outputs": [],
   "source": [
    "train_set = pd.read_csv('/home/ubuntu/recsys_challenge_2020/classification_type_models/f3/train_data.csv', usecols = [1, 2])\n",
    "val_set = pd.read_csv('/home/ubuntu/recsys_challenge_2020/classification_type_models/f3/val_data.csv', usecols = [1, 2])"
   ]
  },
  {
   "cell_type": "code",
   "execution_count": null,
   "metadata": {},
   "outputs": [],
   "source": [
    "train_set_engaged_user_id = train_set[['engaged_user_id']]"
   ]
  },
  {
   "cell_type": "code",
   "execution_count": null,
   "metadata": {},
   "outputs": [],
   "source": [
    "val_set = pd.read_csv('/home/ubuntu/recsys_challenge_2020/classification_type_models/f2/val_set.csv', delimiter = '\\t')"
   ]
  },
  {
   "cell_type": "code",
   "execution_count": null,
   "metadata": {},
   "outputs": [],
   "source": [
    "val_set_engaged_user_id = val_set[['engaged_user_id']]"
   ]
  },
  {
   "cell_type": "code",
   "execution_count": null,
   "metadata": {},
   "outputs": [],
   "source": [
    "def ep_to_day(ep):\n",
    "    return datetime.datetime.fromtimestamp(ep).weekday()\n",
    "train_set_timestamp = pd.read_csv('/home/ubuntu/recsys_challenge_2020/classification_type_models/f2/ft/train_set_reply.csv'\\\n",
    "                                  , usecols = [3])\n",
    "val_set_timestamp = pd.read_csv('/home/ubuntu/recsys_challenge_2020/classification_type_models/f2/ft/val_set_reply.csv'\\\n",
    "                                , usecols =[3])\n",
    "train_set_timestamp['day_of_tweet'] = train_set_timestamp.swifter.apply(lambda x: ep_to_day(x['tweet_timestamp'])\\\n",
    "                                        , axis  = 1)\n",
    "val_set_timestamp['day_of_tweet'] = val_set_timestamp.swifter.apply(lambda x: ep_to_day(x['tweet_timestamp'])\\\n",
    "                                      , axis  = 1)"
   ]
  },
  {
   "cell_type": "code",
   "execution_count": null,
   "metadata": {},
   "outputs": [],
   "source": [
    "train_set_timestamp['day_of_tweet'] = train_set_timestamp.swifter.apply(lambda x: ep_to_day(x['tweet_timestamp'])\\\n",
    "                                        , axis  = 1)\n",
    "val_set_timestamp['day_of_tweet'] = val_set_timestamp.swifter.apply(lambda x: ep_to_day(x['tweet_timestamp'])\\\n",
    "                                      , axis  = 1)"
   ]
  },
  {
   "cell_type": "code",
   "execution_count": null,
   "metadata": {},
   "outputs": [],
   "source": [
    "train_data = pd.concat([train_set_engaged_user_id, train_set_timestamp[['day_of_tweet']]], axis = 1)\n",
    "val_data = pd.concat([val_set_engaged_user_id, val_set_timestamp[['day_of_tweet']]], axis = 1)"
   ]
  },
  {
   "cell_type": "code",
   "execution_count": 3,
   "metadata": {},
   "outputs": [],
   "source": [
    "train_set_fm = pd.read_csv('/home/ubuntu/recsys_challenge_2020/classification_type_models/f3/base_train_set.csv', header = None, names = ['features'])"
   ]
  },
  {
   "cell_type": "code",
   "execution_count": 4,
   "metadata": {},
   "outputs": [],
   "source": [
    "val_set_fm = pd.read_csv('/home/ubuntu/recsys_challenge_2020/classification_type_models/f3/base_val_set.csv', header = None, names = ['features'])"
   ]
  },
  {
   "cell_type": "code",
   "execution_count": 9,
   "metadata": {},
   "outputs": [
    {
     "data": {
      "text/html": [
       "<div>\n",
       "<style scoped>\n",
       "    .dataframe tbody tr th:only-of-type {\n",
       "        vertical-align: middle;\n",
       "    }\n",
       "\n",
       "    .dataframe tbody tr th {\n",
       "        vertical-align: top;\n",
       "    }\n",
       "\n",
       "    .dataframe thead th {\n",
       "        text-align: right;\n",
       "    }\n",
       "</style>\n",
       "<table border=\"1\" class=\"dataframe\">\n",
       "  <thead>\n",
       "    <tr style=\"text-align: right;\">\n",
       "      <th></th>\n",
       "      <th>features</th>\n",
       "    </tr>\n",
       "  </thead>\n",
       "  <tbody>\n",
       "    <tr>\n",
       "      <th>0</th>\n",
       "      <td>4:1 5:1 6:1 7:1 8:1 9:1 10:1 0:0.0317102542509...</td>\n",
       "    </tr>\n",
       "    <tr>\n",
       "      <th>1</th>\n",
       "      <td>4:1 11:1 12:1 7:1 13:1 9:1 10:1 0:0.0868375233...</td>\n",
       "    </tr>\n",
       "    <tr>\n",
       "      <th>2</th>\n",
       "      <td>4:1 11:1 14:1 15:1 16:1 9:1 10:1 0:0.000183061...</td>\n",
       "    </tr>\n",
       "    <tr>\n",
       "      <th>3</th>\n",
       "      <td>4:1 17:1 18:1 7:1 19:1 9:1 20:1 0:0.0017023763...</td>\n",
       "    </tr>\n",
       "    <tr>\n",
       "      <th>4</th>\n",
       "      <td>4:1 11:1 21:1 7:1 22:1 9:1 10:1 0:0.1068444746...</td>\n",
       "    </tr>\n",
       "    <tr>\n",
       "      <th>...</th>\n",
       "      <td>...</td>\n",
       "    </tr>\n",
       "    <tr>\n",
       "      <th>133267709</th>\n",
       "      <td>4:1 98:1 32654830:1 15:1 16975432:1 9:1 10:1 0...</td>\n",
       "    </tr>\n",
       "    <tr>\n",
       "      <th>133267710</th>\n",
       "      <td>4:1 98:1 32654830:1 15:1 8970759:1 9:1 10:1 0:...</td>\n",
       "    </tr>\n",
       "    <tr>\n",
       "      <th>133267711</th>\n",
       "      <td>200:1 11:1 2122366:1 15:1 24530590:1 9:1 20:1 ...</td>\n",
       "    </tr>\n",
       "    <tr>\n",
       "      <th>133267712</th>\n",
       "      <td>4:1 98:1 32654830:1 15:1 12724668:1 9:1 10:1 0...</td>\n",
       "    </tr>\n",
       "    <tr>\n",
       "      <th>133267713</th>\n",
       "      <td>4:1 98:1 32654830:1 15:1 790335:1 9:1 10:1 0:0...</td>\n",
       "    </tr>\n",
       "  </tbody>\n",
       "</table>\n",
       "<p>133267714 rows × 1 columns</p>\n",
       "</div>"
      ],
      "text/plain": [
       "                                                    features\n",
       "0          4:1 5:1 6:1 7:1 8:1 9:1 10:1 0:0.0317102542509...\n",
       "1          4:1 11:1 12:1 7:1 13:1 9:1 10:1 0:0.0868375233...\n",
       "2          4:1 11:1 14:1 15:1 16:1 9:1 10:1 0:0.000183061...\n",
       "3          4:1 17:1 18:1 7:1 19:1 9:1 20:1 0:0.0017023763...\n",
       "4          4:1 11:1 21:1 7:1 22:1 9:1 10:1 0:0.1068444746...\n",
       "...                                                      ...\n",
       "133267709  4:1 98:1 32654830:1 15:1 16975432:1 9:1 10:1 0...\n",
       "133267710  4:1 98:1 32654830:1 15:1 8970759:1 9:1 10:1 0:...\n",
       "133267711  200:1 11:1 2122366:1 15:1 24530590:1 9:1 20:1 ...\n",
       "133267712  4:1 98:1 32654830:1 15:1 12724668:1 9:1 10:1 0...\n",
       "133267713  4:1 98:1 32654830:1 15:1 790335:1 9:1 10:1 0:0...\n",
       "\n",
       "[133267714 rows x 1 columns]"
      ]
     },
     "execution_count": 9,
     "metadata": {},
     "output_type": "execute_result"
    }
   ],
   "source": [
    "train_set_fm"
   ]
  },
  {
   "cell_type": "code",
   "execution_count": 7,
   "metadata": {},
   "outputs": [
    {
     "data": {
      "text/plain": [
       "133267714"
      ]
     },
     "execution_count": 7,
     "metadata": {},
     "output_type": "execute_result"
    }
   ],
   "source": [
    "len(train_set)"
   ]
  },
  {
   "cell_type": "code",
   "execution_count": 8,
   "metadata": {},
   "outputs": [
    {
     "data": {
      "text/html": [
       "<div>\n",
       "<style scoped>\n",
       "    .dataframe tbody tr th:only-of-type {\n",
       "        vertical-align: middle;\n",
       "    }\n",
       "\n",
       "    .dataframe tbody tr th {\n",
       "        vertical-align: top;\n",
       "    }\n",
       "\n",
       "    .dataframe thead th {\n",
       "        text-align: right;\n",
       "    }\n",
       "</style>\n",
       "<table border=\"1\" class=\"dataframe\">\n",
       "  <thead>\n",
       "    <tr style=\"text-align: right;\">\n",
       "      <th></th>\n",
       "      <th>engaged_user_id</th>\n",
       "      <th>day_of_tweet</th>\n",
       "    </tr>\n",
       "  </thead>\n",
       "  <tbody>\n",
       "    <tr>\n",
       "      <th>0</th>\n",
       "      <td>B2263AF9B63CBC88D666E34277F567A3</td>\n",
       "      <td>3</td>\n",
       "    </tr>\n",
       "    <tr>\n",
       "      <th>1</th>\n",
       "      <td>E714521889A38AF35386AA7F7BFC01EF</td>\n",
       "      <td>3</td>\n",
       "    </tr>\n",
       "    <tr>\n",
       "      <th>2</th>\n",
       "      <td>A28FC60D0555E0BBDF7A5717BAE41DBD</td>\n",
       "      <td>3</td>\n",
       "    </tr>\n",
       "    <tr>\n",
       "      <th>3</th>\n",
       "      <td>72CB45172B3B726002426A9FE18D2061</td>\n",
       "      <td>3</td>\n",
       "    </tr>\n",
       "    <tr>\n",
       "      <th>4</th>\n",
       "      <td>443703CB3D0505C9CAFC97D27B8FB2E7</td>\n",
       "      <td>3</td>\n",
       "    </tr>\n",
       "    <tr>\n",
       "      <th>...</th>\n",
       "      <td>...</td>\n",
       "      <td>...</td>\n",
       "    </tr>\n",
       "    <tr>\n",
       "      <th>133267709</th>\n",
       "      <td>D75AAE3CCFA44BD84C35942CA4D03E56</td>\n",
       "      <td>2</td>\n",
       "    </tr>\n",
       "    <tr>\n",
       "      <th>133267710</th>\n",
       "      <td>D75AAE3CCFA44BD84C35942CA4D03E56</td>\n",
       "      <td>2</td>\n",
       "    </tr>\n",
       "    <tr>\n",
       "      <th>133267711</th>\n",
       "      <td>D856EFF41651280507E4167650C679C5</td>\n",
       "      <td>2</td>\n",
       "    </tr>\n",
       "    <tr>\n",
       "      <th>133267712</th>\n",
       "      <td>D75AAE3CCFA44BD84C35942CA4D03E56</td>\n",
       "      <td>2</td>\n",
       "    </tr>\n",
       "    <tr>\n",
       "      <th>133267713</th>\n",
       "      <td>D75AAE3CCFA44BD84C35942CA4D03E56</td>\n",
       "      <td>2</td>\n",
       "    </tr>\n",
       "  </tbody>\n",
       "</table>\n",
       "<p>133267714 rows × 2 columns</p>\n",
       "</div>"
      ],
      "text/plain": [
       "                            engaged_user_id  day_of_tweet\n",
       "0          B2263AF9B63CBC88D666E34277F567A3             3\n",
       "1          E714521889A38AF35386AA7F7BFC01EF             3\n",
       "2          A28FC60D0555E0BBDF7A5717BAE41DBD             3\n",
       "3          72CB45172B3B726002426A9FE18D2061             3\n",
       "4          443703CB3D0505C9CAFC97D27B8FB2E7             3\n",
       "...                                     ...           ...\n",
       "133267709  D75AAE3CCFA44BD84C35942CA4D03E56             2\n",
       "133267710  D75AAE3CCFA44BD84C35942CA4D03E56             2\n",
       "133267711  D856EFF41651280507E4167650C679C5             2\n",
       "133267712  D75AAE3CCFA44BD84C35942CA4D03E56             2\n",
       "133267713  D75AAE3CCFA44BD84C35942CA4D03E56             2\n",
       "\n",
       "[133267714 rows x 2 columns]"
      ]
     },
     "execution_count": 8,
     "metadata": {},
     "output_type": "execute_result"
    }
   ],
   "source": [
    "train_set"
   ]
  },
  {
   "cell_type": "code",
   "execution_count": 11,
   "metadata": {},
   "outputs": [],
   "source": [
    "train_data = pd.concat([train_set, train_set_fm], axis = 1)\n",
    "val_data = pd.concat([val_set, val_set_fm], axis = 1)"
   ]
  },
  {
   "cell_type": "code",
   "execution_count": 12,
   "metadata": {},
   "outputs": [],
   "source": [
    "train_features = pd.concat([train_data, val_data])"
   ]
  },
  {
   "cell_type": "code",
   "execution_count": 14,
   "metadata": {},
   "outputs": [
    {
     "name": "stdout",
     "output_type": "stream",
     "text": [
      "3\n",
      "4\n",
      "5\n",
      "6\n",
      "0\n",
      "1\n",
      "2\n"
     ]
    }
   ],
   "source": [
    "train_features.set_index(keys=['day_of_tweet'], drop=False,inplace=True)\n",
    "names = train_features['day_of_tweet'].unique().tolist()\n",
    "train_scratch = pd.DataFrame()\n",
    "val_scratch = pd.DataFrame()\n",
    "for day in names:\n",
    "    print(day)\n",
    "    train_day = train_features.loc[train_features.day_of_tweet==day]\n",
    "    n_head = 90\n",
    "    n_tail = 10\n",
    "    train_set_scratch = train_day.head(int(len(train_day)*(n_head/100)))\n",
    "    val_set_scratch = train_day.tail(int(len(train_day)*(n_tail/100)))\n",
    "    train_scratch = pd.concat([train_scratch, train_set_scratch])\n",
    "    val_scratch = pd.concat([val_scratch, val_set_scratch])"
   ]
  },
  {
   "cell_type": "code",
   "execution_count": 17,
   "metadata": {},
   "outputs": [],
   "source": [
    "train_scratch.to_csv('/home/ubuntu/recsys_challenge_2020/classification_type_models/f3/train_scratch.csv', sep = '\\t', index = False)\n",
    "val_scratch.to_csv('/home/ubuntu/recsys_challenge_2020/classification_type_models/f3/val_scratch.csv', sep = '\\t', index = False)"
   ]
  },
  {
   "cell_type": "code",
   "execution_count": null,
   "metadata": {},
   "outputs": [],
   "source": [
    "train_data.to_csv('/home/ubuntu/recsys_challenge_2020/classification_type_models/f3/train_data.csv')"
   ]
  },
  {
   "cell_type": "code",
   "execution_count": null,
   "metadata": {},
   "outputs": [],
   "source": [
    "val_data.to_csv('/home/ubuntu/recsys_challenge_2020/classification_type_models/f3/val_data.csv')"
   ]
  },
  {
   "cell_type": "code",
   "execution_count": null,
   "metadata": {},
   "outputs": [],
   "source": []
  }
 ],
 "metadata": {
  "kernelspec": {
   "display_name": "Python 3",
   "language": "python",
   "name": "python3"
  },
  "language_info": {
   "codemirror_mode": {
    "name": "ipython",
    "version": 3
   },
   "file_extension": ".py",
   "mimetype": "text/x-python",
   "name": "python",
   "nbconvert_exporter": "python",
   "pygments_lexer": "ipython3",
   "version": "3.7.6"
  }
 },
 "nbformat": 4,
 "nbformat_minor": 4
}
