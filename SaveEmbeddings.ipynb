{
 "cells": [
  {
   "cell_type": "code",
   "execution_count": 2,
   "metadata": {},
   "outputs": [],
   "source": [
    "import pandas as pd\n",
    "import s3fs\n",
    "from smart_open import open\n",
    "import boto3\n",
    "from io import StringIO # python3; python2: BytesIO \n",
    "from boto3.s3.transfer import TransferConfig\n",
    "import metrics\n",
    "import torch\n",
    "from transformers import *\n",
    "import numpy as np"
   ]
  },
  {
   "cell_type": "code",
   "execution_count": null,
   "metadata": {},
   "outputs": [],
   "source": [
    "column_of_interest = [\"text_ tokens\"]\n",
    "train_set = pd.read_csv('s3://recsys-challenge-2020/train_set.csv', encoding=\"utf-8\",\n",
    "                     usecols= [1])"
   ]
  },
  {
   "cell_type": "code",
   "execution_count": null,
   "metadata": {},
   "outputs": [],
   "source": [
    "column_of_interest = [\"text_ tokens\", \"engaging_user_id\"]\n",
    "train_set = pd.read_csv('s3://recsys-challenge-2020/train_set.csv', encoding=\"utf-8\",\n",
    "                     usecols= [1, 4])"
   ]
  },
  {
   "cell_type": "code",
   "execution_count": null,
   "metadata": {},
   "outputs": [],
   "source": [
    "train_set.head()"
   ]
  },
  {
   "cell_type": "code",
   "execution_count": null,
   "metadata": {},
   "outputs": [],
   "source": [
    "column_of_interest = [\"text_ tokens\", \"engaging_user_id\"]\n",
    "val_set = pd.read_csv('s3://recsys-challenge-2020/val_set.csv', encoding=\"utf-8\",\n",
    "                     usecols= [1, 4])"
   ]
  },
  {
   "cell_type": "code",
   "execution_count": null,
   "metadata": {},
   "outputs": [],
   "source": [
    "unique_val_set_users = val_set[['engaging_user_id']].drop_duplicates()"
   ]
  },
  {
   "cell_type": "code",
   "execution_count": null,
   "metadata": {},
   "outputs": [],
   "source": [
    "warm_train_set = pd.merge(train_set, unique_val_set_users, how = 'inner', on = 'engaging_user_id')"
   ]
  },
  {
   "cell_type": "code",
   "execution_count": null,
   "metadata": {},
   "outputs": [],
   "source": [
    "warm_train_set.head()"
   ]
  },
  {
   "cell_type": "code",
   "execution_count": null,
   "metadata": {},
   "outputs": [],
   "source": [
    "warm_train_set.to_csv('s3://recsys-challenge-2020/warm_train_set.csv', index = False)"
   ]
  },
  {
   "cell_type": "code",
   "execution_count": 3,
   "metadata": {},
   "outputs": [],
   "source": [
    "warm_train_set = pd.read_csv('s3://recsys-challenge-2020/warm_train_set.csv', encoding=\"utf-8\")"
   ]
  },
  {
   "cell_type": "code",
   "execution_count": 4,
   "metadata": {},
   "outputs": [
    {
     "data": {
      "text/plain": [
       "62130438"
      ]
     },
     "execution_count": 4,
     "metadata": {},
     "output_type": "execute_result"
    }
   ],
   "source": [
    "len(warm_train_set)"
   ]
  },
  {
   "cell_type": "code",
   "execution_count": 5,
   "metadata": {},
   "outputs": [
    {
     "data": {
      "text/html": [
       "<div>\n",
       "<style scoped>\n",
       "    .dataframe tbody tr th:only-of-type {\n",
       "        vertical-align: middle;\n",
       "    }\n",
       "\n",
       "    .dataframe tbody tr th {\n",
       "        vertical-align: top;\n",
       "    }\n",
       "\n",
       "    .dataframe thead th {\n",
       "        text-align: right;\n",
       "    }\n",
       "</style>\n",
       "<table border=\"1\" class=\"dataframe\">\n",
       "  <thead>\n",
       "    <tr style=\"text-align: right;\">\n",
       "      <th></th>\n",
       "      <th>text_ tokens</th>\n",
       "      <th>engaging_user_id</th>\n",
       "    </tr>\n",
       "  </thead>\n",
       "  <tbody>\n",
       "    <tr>\n",
       "      <td>0</td>\n",
       "      <td>101\\t108\\t31278\\t90939\\t70325\\t196\\t199\\t71436...</td>\n",
       "      <td>12A1AF0088C5B4FCBFA024D4A1971323</td>\n",
       "    </tr>\n",
       "    <tr>\n",
       "      <td>1</td>\n",
       "      <td>101\\t56898\\t137\\t10173\\t19402\\t168\\t57923\\t594...</td>\n",
       "      <td>12A1AF0088C5B4FCBFA024D4A1971323</td>\n",
       "    </tr>\n",
       "    <tr>\n",
       "      <td>2</td>\n",
       "      <td>101\\t10657\\t10196\\t100\\t20020\\t49533\\t10127\\t3...</td>\n",
       "      <td>12A1AF0088C5B4FCBFA024D4A1971323</td>\n",
       "    </tr>\n",
       "    <tr>\n",
       "      <td>3</td>\n",
       "      <td>101\\t56898\\t137\\t12042\\t12419\\t10457\\t131\\t100...</td>\n",
       "      <td>12A1AF0088C5B4FCBFA024D4A1971323</td>\n",
       "    </tr>\n",
       "    <tr>\n",
       "      <td>4</td>\n",
       "      <td>101\\t10117\\t12518\\t45415\\t10472\\t10114\\t19072\\...</td>\n",
       "      <td>77309DE08AB631D8224254D33648F287</td>\n",
       "    </tr>\n",
       "    <tr>\n",
       "      <td>...</td>\n",
       "      <td>...</td>\n",
       "      <td>...</td>\n",
       "    </tr>\n",
       "    <tr>\n",
       "      <td>62130433</td>\n",
       "      <td>101\\t144\\t18913\\t13998\\t17532\\t10115\\t12862\\t1...</td>\n",
       "      <td>BC88789FD751A1929D1CB7786E7C1619</td>\n",
       "    </tr>\n",
       "    <tr>\n",
       "      <td>62130434</td>\n",
       "      <td>101\\t1894\\t4423\\t2490\\t5610\\t1981\\t104928\\t326...</td>\n",
       "      <td>F2758BCA710E4F1A0AFB9976D31B4599</td>\n",
       "    </tr>\n",
       "    <tr>\n",
       "      <td>62130435</td>\n",
       "      <td>101\\t2179\\t1980\\t35412\\t74381\\t11312\\t29442\\t1...</td>\n",
       "      <td>27DE351CB0C5EC4649D28539A48166D9</td>\n",
       "    </tr>\n",
       "    <tr>\n",
       "      <td>62130436</td>\n",
       "      <td>101\\t14265\\t50101\\t49362\\t895\\t13718\\t896\\t174...</td>\n",
       "      <td>76C665A821863701543C0346E1DBBB24</td>\n",
       "    </tr>\n",
       "    <tr>\n",
       "      <td>62130437</td>\n",
       "      <td>101\\t27158\\t104735\\t69359\\t18278\\t10157\\t73738...</td>\n",
       "      <td>B466B5C3AB22510271B4A789F2080198</td>\n",
       "    </tr>\n",
       "  </tbody>\n",
       "</table>\n",
       "<p>62130438 rows × 2 columns</p>\n",
       "</div>"
      ],
      "text/plain": [
       "                                               text_ tokens  \\\n",
       "0         101\\t108\\t31278\\t90939\\t70325\\t196\\t199\\t71436...   \n",
       "1         101\\t56898\\t137\\t10173\\t19402\\t168\\t57923\\t594...   \n",
       "2         101\\t10657\\t10196\\t100\\t20020\\t49533\\t10127\\t3...   \n",
       "3         101\\t56898\\t137\\t12042\\t12419\\t10457\\t131\\t100...   \n",
       "4         101\\t10117\\t12518\\t45415\\t10472\\t10114\\t19072\\...   \n",
       "...                                                     ...   \n",
       "62130433  101\\t144\\t18913\\t13998\\t17532\\t10115\\t12862\\t1...   \n",
       "62130434  101\\t1894\\t4423\\t2490\\t5610\\t1981\\t104928\\t326...   \n",
       "62130435  101\\t2179\\t1980\\t35412\\t74381\\t11312\\t29442\\t1...   \n",
       "62130436  101\\t14265\\t50101\\t49362\\t895\\t13718\\t896\\t174...   \n",
       "62130437  101\\t27158\\t104735\\t69359\\t18278\\t10157\\t73738...   \n",
       "\n",
       "                          engaging_user_id  \n",
       "0         12A1AF0088C5B4FCBFA024D4A1971323  \n",
       "1         12A1AF0088C5B4FCBFA024D4A1971323  \n",
       "2         12A1AF0088C5B4FCBFA024D4A1971323  \n",
       "3         12A1AF0088C5B4FCBFA024D4A1971323  \n",
       "4         77309DE08AB631D8224254D33648F287  \n",
       "...                                    ...  \n",
       "62130433  BC88789FD751A1929D1CB7786E7C1619  \n",
       "62130434  F2758BCA710E4F1A0AFB9976D31B4599  \n",
       "62130435  27DE351CB0C5EC4649D28539A48166D9  \n",
       "62130436  76C665A821863701543C0346E1DBBB24  \n",
       "62130437  B466B5C3AB22510271B4A789F2080198  \n",
       "\n",
       "[62130438 rows x 2 columns]"
      ]
     },
     "execution_count": 5,
     "metadata": {},
     "output_type": "execute_result"
    }
   ],
   "source": [
    "warm_train_set"
   ]
  },
  {
   "cell_type": "code",
   "execution_count": 6,
   "metadata": {},
   "outputs": [],
   "source": [
    "user_tokens = warm_train_set.groupby(['engaging_user_id']).agg(list)"
   ]
  },
  {
   "cell_type": "code",
   "execution_count": 7,
   "metadata": {},
   "outputs": [
    {
     "data": {
      "text/html": [
       "<div>\n",
       "<style scoped>\n",
       "    .dataframe tbody tr th:only-of-type {\n",
       "        vertical-align: middle;\n",
       "    }\n",
       "\n",
       "    .dataframe tbody tr th {\n",
       "        vertical-align: top;\n",
       "    }\n",
       "\n",
       "    .dataframe thead th {\n",
       "        text-align: right;\n",
       "    }\n",
       "</style>\n",
       "<table border=\"1\" class=\"dataframe\">\n",
       "  <thead>\n",
       "    <tr style=\"text-align: right;\">\n",
       "      <th></th>\n",
       "      <th>text_ tokens</th>\n",
       "    </tr>\n",
       "    <tr>\n",
       "      <th>engaging_user_id</th>\n",
       "      <th></th>\n",
       "    </tr>\n",
       "  </thead>\n",
       "  <tbody>\n",
       "    <tr>\n",
       "      <td>000000E4C259FAD27812910B1DF398D7</td>\n",
       "      <td>[101\\t56898\\t137\\t38516\\t14013\\t73477\\t16105\\t...</td>\n",
       "    </tr>\n",
       "    <tr>\n",
       "      <td>000006829BEADA9EEA695CF0C334B426</td>\n",
       "      <td>[101\\t2435\\t5656\\t2594\\t8279\\t8623\\t1925\\t6412...</td>\n",
       "    </tr>\n",
       "    <tr>\n",
       "      <td>00000B85AAF7DE172876FD96718C4469</td>\n",
       "      <td>[101\\t56898\\t137\\t34372\\t11043\\t168\\t188\\t1514...</td>\n",
       "    </tr>\n",
       "    <tr>\n",
       "      <td>00000D0F0E3839F5D001C77689B36182</td>\n",
       "      <td>[101\\t28248\\t20706\\t117\\t10163\\t93568\\t29956\\t...</td>\n",
       "    </tr>\n",
       "    <tr>\n",
       "      <td>00000DEF82BE9EB5CFD07FB7DB94317B</td>\n",
       "      <td>[101\\t108\\t50884\\t71655\\t10731\\t119\\t119\\t8308...</td>\n",
       "    </tr>\n",
       "  </tbody>\n",
       "</table>\n",
       "</div>"
      ],
      "text/plain": [
       "                                                                       text_ tokens\n",
       "engaging_user_id                                                                   \n",
       "000000E4C259FAD27812910B1DF398D7  [101\\t56898\\t137\\t38516\\t14013\\t73477\\t16105\\t...\n",
       "000006829BEADA9EEA695CF0C334B426  [101\\t2435\\t5656\\t2594\\t8279\\t8623\\t1925\\t6412...\n",
       "00000B85AAF7DE172876FD96718C4469  [101\\t56898\\t137\\t34372\\t11043\\t168\\t188\\t1514...\n",
       "00000D0F0E3839F5D001C77689B36182  [101\\t28248\\t20706\\t117\\t10163\\t93568\\t29956\\t...\n",
       "00000DEF82BE9EB5CFD07FB7DB94317B  [101\\t108\\t50884\\t71655\\t10731\\t119\\t119\\t8308..."
      ]
     },
     "execution_count": 7,
     "metadata": {},
     "output_type": "execute_result"
    }
   ],
   "source": [
    "user_tokens.head()"
   ]
  },
  {
   "cell_type": "code",
   "execution_count": 8,
   "metadata": {},
   "outputs": [
    {
     "data": {
      "text/plain": [
       "9830047"
      ]
     },
     "execution_count": 8,
     "metadata": {},
     "output_type": "execute_result"
    }
   ],
   "source": [
    "len(user_tokens)"
   ]
  },
  {
   "cell_type": "code",
   "execution_count": null,
   "metadata": {},
   "outputs": [],
   "source": [
    "len(train_set)"
   ]
  },
  {
   "cell_type": "code",
   "execution_count": null,
   "metadata": {},
   "outputs": [],
   "source": [
    "tokenizer = BertTokenizer.from_pretrained('bert-base-multilingual-cased', do_lower_case=False)\n",
    "model = BertModel.from_pretrained('/dev/bert/')"
   ]
  },
  {
   "cell_type": "code",
   "execution_count": null,
   "metadata": {},
   "outputs": [],
   "source": [
    "iterator = 0\n",
    "for chunk in np.array_split(warm_train_set, 10000):\n",
    "    print(iterator)\n",
    "    iterator = iterator + 1\n",
    "    df_embeddings = pd.DataFrame()\n",
    "    df_embeddings = chunk[[\"engaging_user_id\"]]\n",
    "    df_embeddings['text_embeddings'] = chunk['text_ tokens'].\\\n",
    "apply(lambda x : model(torch.tensor(list(map(int, x.split('\\t')))).unsqueeze(0))[0][0][0])\n",
    "    df_embeddings.to_csv('s3://recsys-challenge-2020/embeddings_user.csv', mode='a', header=False)"
   ]
  },
  {
   "cell_type": "code",
   "execution_count": null,
   "metadata": {},
   "outputs": [],
   "source": [
    "iterator = 0\n",
    "for chunk in np.array_split(train_set, 10000):\n",
    "    print(iterator)\n",
    "    iterator = iterator + 1\n",
    "    df_embeddings = pd.DataFrame()\n",
    "    df_embeddings['text_embeddings'] = chunk['text_ tokens'].\\\n",
    "apply(lambda x : model(torch.tensor(list(map(int, x.split('\\t')))).unsqueeze(0))[0][0][0])\n",
    "    df_embeddings.to_csv('s3://recsys-challenge-2020/embeddings.csv', mode='a', header=False)"
   ]
  }
 ],
 "metadata": {
  "kernelspec": {
   "display_name": "Python 3",
   "language": "python",
   "name": "python3"
  },
  "language_info": {
   "codemirror_mode": {
    "name": "ipython",
    "version": 3
   },
   "file_extension": ".py",
   "mimetype": "text/x-python",
   "name": "python",
   "nbconvert_exporter": "python",
   "pygments_lexer": "ipython3",
   "version": "3.7.4"
  }
 },
 "nbformat": 4,
 "nbformat_minor": 2
}
