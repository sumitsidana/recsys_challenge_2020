{
 "cells": [
  {
   "cell_type": "code",
   "execution_count": null,
   "metadata": {},
   "outputs": [],
   "source": [
    "import pandas as pd\n",
    "import s3fs\n",
    "from smart_open import open\n",
    "import boto3\n",
    "from io import StringIO # python3; python2: BytesIO \n",
    "from boto3.s3.transfer import TransferConfig\n",
    "import metrics\n",
    "import torch\n",
    "from transformers import *\n",
    "import numpy as np"
   ]
  },
  {
   "cell_type": "code",
   "execution_count": null,
   "metadata": {},
   "outputs": [],
   "source": [
    "column_of_interest = [\"text_ tokens\"]\n",
    "train_set = pd.read_csv('s3://recsys-challenge-2020/train_set.csv', encoding=\"utf-8\",\n",
    "                     usecols= [1])"
   ]
  },
  {
   "cell_type": "code",
   "execution_count": null,
   "metadata": {},
   "outputs": [],
   "source": [
    "column_of_interest = [\"text_ tokens\", \"engaging_user_id\"]\n",
    "train_set = pd.read_csv('s3://recsys-challenge-2020/train_set.csv', encoding=\"utf-8\",\n",
    "                     usecols= [1, 4])"
   ]
  },
  {
   "cell_type": "code",
   "execution_count": null,
   "metadata": {},
   "outputs": [],
   "source": [
    "train_set.head()"
   ]
  },
  {
   "cell_type": "code",
   "execution_count": null,
   "metadata": {},
   "outputs": [],
   "source": [
    "len(train_set)"
   ]
  },
  {
   "cell_type": "code",
   "execution_count": null,
   "metadata": {},
   "outputs": [],
   "source": [
    "tokenizer = BertTokenizer.from_pretrained('bert-base-multilingual-cased', do_lower_case=False)\n",
    "model = BertModel.from_pretrained('/dev/bert/')"
   ]
  },
  {
   "cell_type": "code",
   "execution_count": null,
   "metadata": {},
   "outputs": [],
   "source": [
    "iterator = 0\n",
    "for chunk in np.array_split(train_set, 1000000):\n",
    "    print(iterator)\n",
    "    iterator = iterator + 1\n",
    "    df_embeddings = pd.DataFrame()\n",
    "    df_embeddings = chunk[[\"engaging_user_id\"]]\n",
    "    df_embeddings['text_embeddings'] = chunk['text_ tokens'].\\\n",
    "apply(lambda x : model(torch.tensor(list(map(int, x.split('\\t')))).unsqueeze(0))[0][0][0])\n",
    "    df_embeddings.to_csv('s3://recsys-challenge-2020/embeddings_user.csv', mode='a', header=False)"
   ]
  },
  {
   "cell_type": "code",
   "execution_count": null,
   "metadata": {},
   "outputs": [],
   "source": [
    "iterator = 0\n",
    "for chunk in np.array_split(train_set, 10000):\n",
    "    print(iterator)\n",
    "    iterator = iterator + 1\n",
    "    df_embeddings = pd.DataFrame()\n",
    "    df_embeddings['text_embeddings'] = chunk['text_ tokens'].\\\n",
    "apply(lambda x : model(torch.tensor(list(map(int, x.split('\\t')))).unsqueeze(0))[0][0][0])\n",
    "    df_embeddings.to_csv('s3://recsys-challenge-2020/embeddings.csv', mode='a', header=False)"
   ]
  }
 ],
 "metadata": {
  "kernelspec": {
   "display_name": "Python 3",
   "language": "python",
   "name": "python3"
  },
  "language_info": {
   "codemirror_mode": {
    "name": "ipython",
    "version": 3
   },
   "file_extension": ".py",
   "mimetype": "text/x-python",
   "name": "python",
   "nbconvert_exporter": "python",
   "pygments_lexer": "ipython3",
   "version": "3.7.4"
  }
 },
 "nbformat": 4,
 "nbformat_minor": 2
}
