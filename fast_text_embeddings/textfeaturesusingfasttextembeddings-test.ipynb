{
 "cells": [
  {
   "cell_type": "code",
   "execution_count": 1,
   "metadata": {},
   "outputs": [],
   "source": [
    "import pandas as pd\n",
    "import s3fs\n",
    "import numpy as np\n",
    "import swifter"
   ]
  },
  {
   "cell_type": "code",
   "execution_count": 2,
   "metadata": {},
   "outputs": [],
   "source": [
    "def f(lang, embeddings, index):\n",
    "    if index % 1000000  == 0:\n",
    "        print(index)\n",
    "    return [f'{lookup[lang]+i}:{e}' for i, e in enumerate(embeddings)]"
   ]
  },
  {
   "cell_type": "code",
   "execution_count": 3,
   "metadata": {},
   "outputs": [],
   "source": [
    "new_names = list(range(1,21))\n",
    "new_names = list(map(str, new_names))"
   ]
  },
  {
   "cell_type": "code",
   "execution_count": 4,
   "metadata": {},
   "outputs": [
    {
     "name": "stdout",
     "output_type": "stream",
     "text": [
      "test language loaded\n"
     ]
    }
   ],
   "source": [
    "all_features = [\"language\"]\n",
    "test = pd.read_csv(\"s3://recsys-challenge-2020/val_26_04_2020.tsv\", encoding=\"utf-8\",\n",
    "                    names = all_features, usecols= [7], sep=\"\\x01\"\n",
    "                   )\n",
    "print('test language loaded')"
   ]
  },
  {
   "cell_type": "code",
   "execution_count": 5,
   "metadata": {},
   "outputs": [],
   "source": [
    "language_code_name_pairs = pd.read_csv('s3://recsys-challenge-2020/language_code_name_pairs.csv')"
   ]
  },
  {
   "cell_type": "code",
   "execution_count": 6,
   "metadata": {},
   "outputs": [],
   "source": [
    "test_input = pd.merge(test, language_code_name_pairs, how = 'inner',\\\n",
    "left_on = 'language', right_on = 'code')[['name']]"
   ]
  },
  {
   "cell_type": "code",
   "execution_count": 7,
   "metadata": {},
   "outputs": [],
   "source": [
    "all_lang_output_test = pd.read_csv('s3://recsys-challenge-2020/all_lang_output_test_26_04_2020.csv')\n",
    "lang_embedding_test = pd.concat([all_lang_output_test[['sentence_embedding']], test_input[['name']]], axis = 1)\n",
    "lang_embedding_test.sentence_embedding = lang_embedding_test.sentence_embedding.apply(lambda x: np.fromstring(x[1:-1], sep=' '))\n",
    "lang_embedding_test = lang_embedding_test.rename(columns={\"name\": \"language\"})"
   ]
  },
  {
   "cell_type": "code",
   "execution_count": 8,
   "metadata": {},
   "outputs": [],
   "source": [
    "lookup = {'ja': 43051816,\n",
    " 'en': 43051836,\n",
    " 'pt': 43051856,\n",
    " 'ko': 43051876,\n",
    " 'id': 43051896,\n",
    " 'ar': 43051916,\n",
    " 'tr': 43051936,\n",
    " 'it': 43051956,\n",
    " 'fr': 43051976,\n",
    " 'ru': 43051996,\n",
    " 'af': 43052016,\n",
    " 'hr': 43052036,\n",
    " 'de': 43052056,\n",
    " 'et': 43052076,\n",
    " 'vi': 43052096,\n",
    " 'tl': 43052116,\n",
    " 'he': 43052136,\n",
    " 'fa': 43052156,\n",
    " 'el': 43052176,\n",
    " 'ur': 43052196,\n",
    " 'ta': 43052216,\n",
    " 'lv': 43052236,\n",
    " 'fi': 43052256,\n",
    " 'mk': 43052276,\n",
    " 'hu': 43052296,\n",
    " 'ca': 43052316,\n",
    " 'kn': 43052336,\n",
    " 'ml': 43052356,\n",
    " 'pa': 43052376,\n",
    " 'bn': 43052396,\n",
    " 'mr': 43052416,\n",
    " 'te': 43052436,\n",
    " 'gu': 43052456,\n",
    " 'bg': 43052476,\n",
    " 'sw': 43052496}"
   ]
  },
  {
   "cell_type": "code",
   "execution_count": 9,
   "metadata": {},
   "outputs": [
    {
     "data": {
      "application/vnd.jupyter.widget-view+json": {
       "model_id": "0250ee13d78a4ff3a089f2a890f5249d",
       "version_major": 2,
       "version_minor": 0
      },
      "text/plain": [
       "HBox(children=(FloatProgress(value=0.0, description='Pandas Apply', max=12984679.0, style=ProgressStyle(descri…"
      ]
     },
     "metadata": {},
     "output_type": "display_data"
    },
    {
     "name": "stdout",
     "output_type": "stream",
     "text": [
      "0\n",
      "1000000\n",
      "2000000\n",
      "3000000\n",
      "4000000\n",
      "5000000\n",
      "6000000\n",
      "7000000\n",
      "8000000\n",
      "9000000\n",
      "10000000\n",
      "11000000\n",
      "12000000\n",
      "\n"
     ]
    }
   ],
   "source": [
    "lang_embedding_test[new_names] = lang_embedding_test.swifter.apply(lambda x: f(x.language, x.sentence_embedding, x.name), axis=1, result_type='expand')"
   ]
  },
  {
   "cell_type": "code",
   "execution_count": 10,
   "metadata": {},
   "outputs": [],
   "source": [
    "lang_embedding_test.drop(['sentence_embedding', 'language'], axis=1).to_csv('lang_embedd_test.csv',\\\n",
    "                                                                           header = False, index = False, sep = ' ')"
   ]
  }
 ],
 "metadata": {
  "kernelspec": {
   "display_name": "Python 3",
   "language": "python",
   "name": "python3"
  },
  "language_info": {
   "codemirror_mode": {
    "name": "ipython",
    "version": 3
   },
   "file_extension": ".py",
   "mimetype": "text/x-python",
   "name": "python",
   "nbconvert_exporter": "python",
   "pygments_lexer": "ipython3",
   "version": "3.7.6"
  }
 },
 "nbformat": 4,
 "nbformat_minor": 4
}
