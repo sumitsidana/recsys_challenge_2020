{
 "cells": [
  {
   "cell_type": "code",
   "execution_count": 1,
   "metadata": {},
   "outputs": [],
   "source": [
    "import pandas as pd\n",
    "import s3fs\n",
    "import numpy as np\n",
    "import swifter"
   ]
  },
  {
   "cell_type": "code",
   "execution_count": 2,
   "metadata": {},
   "outputs": [],
   "source": [
    "def f(lang, embeddings, index):\n",
    "    if index % 1000000  == 0:\n",
    "        print(index)\n",
    "    return [f'{lookup[lang]+i}:{e}' for i, e in enumerate(embeddings)]"
   ]
  },
  {
   "cell_type": "code",
   "execution_count": 3,
   "metadata": {},
   "outputs": [],
   "source": [
    "lookup = {'ko': 40578728,\n",
    " 'en': 40578748,\n",
    " 'id': 40578768,\n",
    " 'pt': 40578788,\n",
    " 'de': 40578808,\n",
    " 'ja': 40578828,\n",
    " 'fr': 40578848,\n",
    " 'ru': 40578868,\n",
    " 'fa': 40578888,\n",
    " 'ar': 40578908,\n",
    " 'tr': 40578928,\n",
    " 'te': 40578948,\n",
    " 'vi': 40578968,\n",
    " 'tl': 40578988,\n",
    " 'el': 40579008,\n",
    " 'ur': 40579028,\n",
    " 'it': 40579048,\n",
    " 'et': 40579068,\n",
    " 'ta': 40579088,\n",
    " 'mr': 40579108,\n",
    " 'ca': 40579128,\n",
    " 'af': 40579148,\n",
    " 'fi': 40579168,\n",
    " 'gu': 40579188,\n",
    " 'he': 40579208,\n",
    " 'hr': 40579228,\n",
    " 'mk': 40579248,\n",
    " 'hu': 40579268,\n",
    " 'ml': 40579288,\n",
    " 'kn': 40579308,\n",
    " 'bn': 40579328,\n",
    " 'lv': 40579348,\n",
    " 'pa': 40579368,\n",
    " 'sw': 40579388,\n",
    " 'bg': 40579408}"
   ]
  },
  {
   "cell_type": "code",
   "execution_count": 4,
   "metadata": {},
   "outputs": [],
   "source": [
    "new_names = list(range(1,21))\n",
    "new_names = list(map(str, new_names))"
   ]
  },
  {
   "cell_type": "code",
   "execution_count": 5,
   "metadata": {},
   "outputs": [],
   "source": [
    "all_lang_output_train = pd.read_csv('s3://recsys-challenge-2020/all_lang_output_train.csv')\n",
    "train_input = pd.read_csv('s3://recsys-challenge-2020/train_input.csv')\n",
    "lang_embedding_train = pd.concat([all_lang_output_train[['sentence_embedding']], train_input[['name']]], axis = 1)\n",
    "lang_embedding_train.sentence_embedding = lang_embedding_train.sentence_embedding.apply(lambda x: np.fromstring(x[1:-1], sep=' '))\n",
    "lang_embedding_train = lang_embedding_train.rename(columns={\"name\": \"language\"})"
   ]
  },
  {
   "cell_type": "code",
   "execution_count": null,
   "metadata": {},
   "outputs": [
    {
     "data": {
      "application/vnd.jupyter.widget-view+json": {
       "model_id": "76421c61ec784141bd015123875f17a8",
       "version_major": 2,
       "version_minor": 0
      },
      "text/plain": [
       "HBox(children=(FloatProgress(value=0.0, description='Pandas Apply', max=6663386.0, style=ProgressStyle(descrip…"
      ]
     },
     "metadata": {},
     "output_type": "display_data"
    },
    {
     "name": "stdout",
     "output_type": "stream",
     "text": [
      "0\n",
      "1000000\n",
      "2000000\n",
      "3000000\n",
      "4000000\n",
      "5000000\n",
      "6000000\n",
      "\n"
     ]
    },
    {
     "data": {
      "application/vnd.jupyter.widget-view+json": {
       "model_id": "9da9079cbb8045c0affebb5d04881adf",
       "version_major": 2,
       "version_minor": 0
      },
      "text/plain": [
       "HBox(children=(FloatProgress(value=0.0, description='Pandas Apply', max=6663386.0, style=ProgressStyle(descrip…"
      ]
     },
     "metadata": {},
     "output_type": "display_data"
    },
    {
     "name": "stdout",
     "output_type": "stream",
     "text": [
      "7000000\n",
      "8000000\n",
      "9000000\n",
      "10000000\n",
      "11000000\n",
      "12000000\n",
      "13000000\n",
      "\n"
     ]
    },
    {
     "data": {
      "application/vnd.jupyter.widget-view+json": {
       "model_id": "688181021d224e95a837168d6b0d44d3",
       "version_major": 2,
       "version_minor": 0
      },
      "text/plain": [
       "HBox(children=(FloatProgress(value=0.0, description='Pandas Apply', max=6663386.0, style=ProgressStyle(descrip…"
      ]
     },
     "metadata": {},
     "output_type": "display_data"
    },
    {
     "name": "stdout",
     "output_type": "stream",
     "text": [
      "14000000\n",
      "15000000\n"
     ]
    }
   ],
   "source": [
    "for chunk in np.array_split(lang_embedding_train,20):\n",
    "    chunk_embeddings_list = pd.DataFrame()\n",
    "    chunk_embeddings_list = chunk.swifter.apply(lambda x: f(x.language, x.sentence_embedding, x.name), axis=1, result_type='expand')\n",
    "    chunk_embeddings_list.to_csv('lang_embedd_train_set.csv', header = False, index = False, mode = 'a', sep = ' ')"
   ]
  },
  {
   "cell_type": "code",
   "execution_count": 7,
   "metadata": {},
   "outputs": [
    {
     "data": {
      "text/plain": [
       "133267714"
      ]
     },
     "execution_count": 7,
     "metadata": {},
     "output_type": "execute_result"
    }
   ],
   "source": [
    "len(lang_embedding_train)"
   ]
  }
 ],
 "metadata": {
  "kernelspec": {
   "display_name": "Python 3",
   "language": "python",
   "name": "python3"
  },
  "language_info": {
   "codemirror_mode": {
    "name": "ipython",
    "version": 3
   },
   "file_extension": ".py",
   "mimetype": "text/x-python",
   "name": "python",
   "nbconvert_exporter": "python",
   "pygments_lexer": "ipython3",
   "version": "3.7.6"
  }
 },
 "nbformat": 4,
 "nbformat_minor": 4
}
