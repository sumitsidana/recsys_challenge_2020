{
 "cells": [
  {
   "cell_type": "code",
   "execution_count": 2,
   "metadata": {},
   "outputs": [],
   "source": [
    "import pandas as pd\n",
    "import s3fs\n",
    "import numpy as np\n",
    "import swifter"
   ]
  },
  {
   "cell_type": "code",
   "execution_count": null,
   "metadata": {},
   "outputs": [],
   "source": [
    "def f(lang, embeddings, index):\n",
    "    if index % 1000000  == 0:\n",
    "        print(index)\n",
    "    return [f'{lookup[lang]+i}:{e}' for i, e in enumerate(embeddings)]"
   ]
  },
  {
   "cell_type": "code",
   "execution_count": null,
   "metadata": {},
   "outputs": [],
   "source": [
    "lookup = {'ko': 40578728,\n",
    " 'en': 40578748,\n",
    " 'id': 40578768,\n",
    " 'pt': 40578788,\n",
    " 'de': 40578808,\n",
    " 'ja': 40578828,\n",
    " 'fr': 40578848,\n",
    " 'ru': 40578868,\n",
    " 'fa': 40578888,\n",
    " 'ar': 40578908,\n",
    " 'tr': 40578928,\n",
    " 'te': 40578948,\n",
    " 'vi': 40578968,\n",
    " 'tl': 40578988,\n",
    " 'el': 40579008,\n",
    " 'ur': 40579028,\n",
    " 'it': 40579048,\n",
    " 'et': 40579068,\n",
    " 'ta': 40579088,\n",
    " 'mr': 40579108,\n",
    " 'ca': 40579128,\n",
    " 'af': 40579148,\n",
    " 'fi': 40579168,\n",
    " 'gu': 40579188,\n",
    " 'he': 40579208,\n",
    " 'hr': 40579228,\n",
    " 'mk': 40579248,\n",
    " 'hu': 40579268,\n",
    " 'ml': 40579288,\n",
    " 'kn': 40579308,\n",
    " 'bn': 40579328,\n",
    " 'lv': 40579348,\n",
    " 'pa': 40579368,\n",
    " 'sw': 40579388,\n",
    " 'bg': 40579408}"
   ]
  },
  {
   "cell_type": "code",
   "execution_count": null,
   "metadata": {},
   "outputs": [],
   "source": [
    "new_names = list(range(1,21))\n",
    "new_names = list(map(str, new_names))"
   ]
  },
  {
   "cell_type": "code",
   "execution_count": null,
   "metadata": {},
   "outputs": [],
   "source": [
    "all_features = [\"language\"]\n",
    "train = pd.read_csv(\"s3://recsys-challenge-2020/training.tsv\", encoding=\"utf-8\",\n",
    "                    names = all_features, usecols= [7], sep=\"\\x01\"\n",
    "                   )\n",
    "print('train language loaded')"
   ]
  },
  {
   "cell_type": "code",
   "execution_count": null,
   "metadata": {},
   "outputs": [],
   "source": [
    "all_lang_output_train = pd.read_csv('s3://recsys-challenge-2020/all_lang_output_train.csv')\n",
    "lang_embedding_train = pd.concat([all_lang_output_train[['sentence_embedding']], train[['language']]], axis = 1)\n",
    "lang_embedding_train.sentence_embedding = lang_embedding_train.sentence_embedding.apply(lambda x: np.fromstring(x[1:-1], sep=' '))"
   ]
  },
  {
   "cell_type": "code",
   "execution_count": null,
   "metadata": {},
   "outputs": [],
   "source": [
    "for chunk in np.array_split(lang_embedding_train,20):\n",
    "    chunk_embeddings_list = pd.DataFrame()\n",
    "    chunk_embeddings_list = chunk.swifter.apply(lambda x: f(x.language, x.sentence_embedding, x.name), axis=1, result_type='expand')\n",
    "    chunk_embeddings_list.to_csv('lang_embedd_train.csv', header = False, index = False, mode = 'a', sep = ' ')"
   ]
  }
 ],
 "metadata": {
  "kernelspec": {
   "display_name": "Python 3",
   "language": "python",
   "name": "python3"
  },
  "language_info": {
   "codemirror_mode": {
    "name": "ipython",
    "version": 3
   },
   "file_extension": ".py",
   "mimetype": "text/x-python",
   "name": "python",
   "nbconvert_exporter": "python",
   "pygments_lexer": "ipython3",
   "version": "3.7.6"
  }
 },
 "nbformat": 4,
 "nbformat_minor": 4
}
