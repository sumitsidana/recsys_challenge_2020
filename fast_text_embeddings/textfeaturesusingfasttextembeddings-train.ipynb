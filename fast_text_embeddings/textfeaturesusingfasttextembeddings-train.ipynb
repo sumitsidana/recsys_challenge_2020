{
 "cells": [
  {
   "cell_type": "code",
   "execution_count": 1,
   "metadata": {},
   "outputs": [],
   "source": [
    "import pandas as pd\n",
    "import s3fs\n",
    "import numpy as np\n",
    "import swifter"
   ]
  },
  {
   "cell_type": "code",
   "execution_count": 2,
   "metadata": {},
   "outputs": [],
   "source": [
    "def f(lang, embeddings, index):\n",
    "    if index % 1000000  == 0:\n",
    "        print(index)\n",
    "    return [f'{lookup[lang]+i}:{e}' for i, e in enumerate(embeddings)]"
   ]
  },
  {
   "cell_type": "code",
   "execution_count": 3,
   "metadata": {},
   "outputs": [],
   "source": [
    "new_names = list(range(1,21))\n",
    "new_names = list(map(str, new_names))"
   ]
  },
  {
   "cell_type": "code",
   "execution_count": 4,
   "metadata": {},
   "outputs": [
    {
     "name": "stdout",
     "output_type": "stream",
     "text": [
      "train language loaded\n"
     ]
    }
   ],
   "source": [
    "all_features = [\"language\"]\n",
    "train = pd.read_csv(\"s3://recsys-challenge-2020/training.tsv\", encoding=\"utf-8\",\n",
    "                    names = all_features, usecols= [7], sep=\"\\x01\"\n",
    "                   )\n",
    "print('train language loaded')"
   ]
  },
  {
   "cell_type": "code",
   "execution_count": 5,
   "metadata": {},
   "outputs": [],
   "source": [
    "language_code_name_pairs = pd.read_csv('s3://recsys-challenge-2020/language_code_name_pairs.csv')"
   ]
  },
  {
   "cell_type": "code",
   "execution_count": 6,
   "metadata": {},
   "outputs": [],
   "source": [
    "train_input = pd.merge(train, language_code_name_pairs, how = 'inner',\\\n",
    "left_on = 'language', right_on = 'code')[['name']]"
   ]
  },
  {
   "cell_type": "code",
   "execution_count": 7,
   "metadata": {},
   "outputs": [],
   "source": [
    "all_lang_output_train = pd.read_csv('s3://recsys-challenge-2020/all_lang_output_train.csv')\n",
    "lang_embedding_train = pd.concat([all_lang_output_train[['sentence_embedding']], train_input[['name']]], axis = 1)\n",
    "lang_embedding_train.sentence_embedding = lang_embedding_train.sentence_embedding.apply(lambda x: np.fromstring(x[1:-1], sep=' '))\n",
    "lang_embedding_train = lang_embedding_train.rename(columns={\"name\": \"language\"})"
   ]
  },
  {
   "cell_type": "code",
   "execution_count": 8,
   "metadata": {},
   "outputs": [],
   "source": [
    "start_feature_number = 43051816"
   ]
  },
  {
   "cell_type": "code",
   "execution_count": 10,
   "metadata": {},
   "outputs": [],
   "source": [
    "lookup = {l:start_feature_number+i*20 for i, l in enumerate(lang_embedding_train.language.drop_duplicates().to_list())}"
   ]
  },
  {
   "cell_type": "code",
   "execution_count": 11,
   "metadata": {},
   "outputs": [
    {
     "data": {
      "text/plain": [
       "{'ja': 43051816,\n",
       " 'en': 43051836,\n",
       " 'pt': 43051856,\n",
       " 'ko': 43051876,\n",
       " 'id': 43051896,\n",
       " 'ar': 43051916,\n",
       " 'tr': 43051936,\n",
       " 'it': 43051956,\n",
       " 'fr': 43051976,\n",
       " 'ru': 43051996,\n",
       " 'af': 43052016,\n",
       " 'hr': 43052036,\n",
       " 'de': 43052056,\n",
       " 'et': 43052076,\n",
       " 'vi': 43052096,\n",
       " 'tl': 43052116,\n",
       " 'he': 43052136,\n",
       " 'fa': 43052156,\n",
       " 'el': 43052176,\n",
       " 'ur': 43052196,\n",
       " 'ta': 43052216,\n",
       " 'lv': 43052236,\n",
       " 'fi': 43052256,\n",
       " 'mk': 43052276,\n",
       " 'hu': 43052296,\n",
       " 'ca': 43052316,\n",
       " 'kn': 43052336,\n",
       " 'ml': 43052356,\n",
       " 'pa': 43052376,\n",
       " 'bn': 43052396,\n",
       " 'mr': 43052416,\n",
       " 'te': 43052436,\n",
       " 'gu': 43052456,\n",
       " 'bg': 43052476,\n",
       " 'sw': 43052496}"
      ]
     },
     "execution_count": 11,
     "metadata": {},
     "output_type": "execute_result"
    }
   ],
   "source": [
    "lookup"
   ]
  },
  {
   "cell_type": "code",
   "execution_count": 13,
   "metadata": {},
   "outputs": [
    {
     "data": {
      "application/vnd.jupyter.widget-view+json": {
       "model_id": "a50b6a79e0914d0396c51cdbd20fbc00",
       "version_major": 2,
       "version_minor": 0
      },
      "text/plain": [
       "HBox(children=(FloatProgress(value=0.0, description='Pandas Apply', max=7403762.0, style=ProgressStyle(descrip…"
      ]
     },
     "metadata": {},
     "output_type": "display_data"
    },
    {
     "name": "stdout",
     "output_type": "stream",
     "text": [
      "0\n",
      "1000000\n",
      "2000000\n",
      "3000000\n",
      "4000000\n",
      "5000000\n",
      "6000000\n",
      "7000000\n",
      "\n"
     ]
    },
    {
     "data": {
      "application/vnd.jupyter.widget-view+json": {
       "model_id": "54d0ccfd45a54e678abbb410e66c31fb",
       "version_major": 2,
       "version_minor": 0
      },
      "text/plain": [
       "HBox(children=(FloatProgress(value=0.0, description='Pandas Apply', max=7403762.0, style=ProgressStyle(descrip…"
      ]
     },
     "metadata": {},
     "output_type": "display_data"
    },
    {
     "name": "stdout",
     "output_type": "stream",
     "text": [
      "8000000\n",
      "9000000\n",
      "10000000\n",
      "11000000\n",
      "12000000\n",
      "13000000\n",
      "14000000\n",
      "\n"
     ]
    },
    {
     "data": {
      "application/vnd.jupyter.widget-view+json": {
       "model_id": "6769b0fdc4114d8f9f0605a7348460d9",
       "version_major": 2,
       "version_minor": 0
      },
      "text/plain": [
       "HBox(children=(FloatProgress(value=0.0, description='Pandas Apply', max=7403762.0, style=ProgressStyle(descrip…"
      ]
     },
     "metadata": {},
     "output_type": "display_data"
    },
    {
     "name": "stdout",
     "output_type": "stream",
     "text": [
      "15000000\n",
      "16000000\n",
      "17000000\n",
      "18000000\n",
      "144000000\n",
      "145000000\n",
      "146000000\n",
      "147000000\n",
      "148000000\n",
      "\n"
     ]
    }
   ],
   "source": [
    "for chunk in np.array_split(lang_embedding_train,20):\n",
    "    chunk_embeddings_list = pd.DataFrame()\n",
    "    chunk_embeddings_list = chunk.swifter.apply(lambda x: f(x.language, x.sentence_embedding, x.name), axis=1, result_type='expand')\n",
    "    chunk_embeddings_list.to_csv('lang_embedd_train.csv', header = False, index = False, mode = 'a', sep = ' ')"
   ]
  },
  {
   "cell_type": "code",
   "execution_count": null,
   "metadata": {},
   "outputs": [],
   "source": [
    "lookup = {'ko': 40578728,\n",
    " 'en': 40578748,\n",
    " 'id': 40578768,\n",
    " 'pt': 40578788,\n",
    " 'de': 40578808,\n",
    " 'ja': 40578828,\n",
    " 'fr': 40578848,\n",
    " 'ru': 40578868,\n",
    " 'fa': 40578888,\n",
    " 'ar': 40578908,\n",
    " 'tr': 40578928,\n",
    " 'te': 40578948,\n",
    " 'vi': 40578968,\n",
    " 'tl': 40578988,\n",
    " 'el': 40579008,\n",
    " 'ur': 40579028,\n",
    " 'it': 40579048,\n",
    " 'et': 40579068,\n",
    " 'ta': 40579088,\n",
    " 'mr': 40579108,\n",
    " 'ca': 40579128,\n",
    " 'af': 40579148,\n",
    " 'fi': 40579168,\n",
    " 'gu': 40579188,\n",
    " 'he': 40579208,\n",
    " 'hr': 40579228,\n",
    " 'mk': 40579248,\n",
    " 'hu': 40579268,\n",
    " 'ml': 40579288,\n",
    " 'kn': 40579308,\n",
    " 'bn': 40579328,\n",
    " 'lv': 40579348,\n",
    " 'pa': 40579368,\n",
    " 'sw': 40579388,\n",
    " 'bg': 40579408}"
   ]
  }
 ],
 "metadata": {
  "kernelspec": {
   "display_name": "Python 3",
   "language": "python",
   "name": "python3"
  },
  "language_info": {
   "codemirror_mode": {
    "name": "ipython",
    "version": 3
   },
   "file_extension": ".py",
   "mimetype": "text/x-python",
   "name": "python",
   "nbconvert_exporter": "python",
   "pygments_lexer": "ipython3",
   "version": "3.7.6"
  }
 },
 "nbformat": 4,
 "nbformat_minor": 4
}
