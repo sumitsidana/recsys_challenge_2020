{
 "cells": [
  {
   "cell_type": "code",
   "execution_count": null,
   "metadata": {},
   "outputs": [],
   "source": [
    "import pandas as pd\n",
    "import s3fs\n",
    "import boto3\n",
    "from io import StringIO # python3; python2: BytesIO \n",
    "from boto3.s3.transfer import TransferConfig\n",
    "import torch\n",
    "from transformers import *\n",
    "import numpy as np\n",
    "import ast\n",
    "import time\n",
    "import timeit"
   ]
  },
  {
   "cell_type": "code",
   "execution_count": null,
   "metadata": {},
   "outputs": [],
   "source": [
    "tokenizer = BertTokenizer.from_pretrained('bert-base-multilingual-cased', do_lower_case=False)\n",
    "model = BertModel.from_pretrained('bert-base-multilingual-cased').cuda()"
   ]
  },
  {
   "cell_type": "code",
   "execution_count": null,
   "metadata": {},
   "outputs": [],
   "source": [
    "user_tokens = pd.read_csv('s3://recsys-challenge-2020/user_tokens.csv')\n",
    "column_of_interest = [\"engaging_user_id\", \"text_ tokens\"]\n",
    "val_set = pd.read_csv('s3://recsys-challenge-2020/val_set_reply.csv', encoding=\"utf-8\",\n",
    "                     usecols= [1, 4])\n",
    "user_tokens_val_set = \\\n",
    "pd.merge(val_set, user_tokens, how = 'left', left_on = 'engaging_user_id', right_on = 'engaging_user_id', sort=False)\n",
    "user_tokens_val_set.columns = [c.replace(' ', '_') for c in user_tokens_val_set.columns]"
   ]
  },
  {
   "cell_type": "code",
   "execution_count": null,
   "metadata": {},
   "outputs": [],
   "source": [
    "def calculate_average_gpu(row1, row2):\n",
    "    if pd.isna(row1):\n",
    "        return 0.5\n",
    "    sum_tensors = torch.zeros([768], dtype=torch.float32).cuda()\n",
    "    tweet_token_list = ast.literal_eval(row1)\n",
    "    len_row1 = len(row1)\n",
    "    for token_list in tweet_token_list:\n",
    "        list_of_tokens = list(map(int, token_list.split('\\t')))\n",
    "        \n",
    "        tensor_tokens = torch.tensor(list_of_tokens).cuda()\n",
    "        tensor_tokens_unsqueeze = tensor_tokens.unsqueeze(0).cuda()\n",
    "        model_tokens  = model(tensor_tokens_unsqueeze)\n",
    "        \n",
    "        model_tokens_1d = model_tokens[0].cuda()\n",
    "        model_tokens_2d = model_tokens_1d[0].cuda()\n",
    "        token_list_embeddings =  model_tokens_2d[0].cuda()\n",
    "        sum_tensors = (sum_tensors + token_list_embeddings).cuda()\n",
    "    avg = (sum_tensors/len_row1).cuda()\n",
    "    \n",
    "    \n",
    "    list_of_tokens_val = list(map(int, row2.split('\\t')))\n",
    "    tensor_tokens_val = torch.tensor(list_of_tokens_val).cuda()\n",
    "    tensor_tokens_unsqueeze_val = tensor_tokens_val.unsqueeze(0).cuda()\n",
    "    model_tokens_val = model(tensor_tokens_unsqueeze_val)\n",
    "    model_tokens_1d_val = model_tokens_val[0].cuda()\n",
    "    model_tokens_2d_val = model_tokens_1d_val[0].cuda()\n",
    "    tweet_average_embedding = model_tokens_2d_val[0].cuda()\n",
    "    \n",
    "    score = torch.dot(avg, tweet_average_embedding).cuda()\n",
    "    return score.cpu().detach().numpy().item(0)"
   ]
  },
  {
   "cell_type": "code",
   "execution_count": null,
   "metadata": {},
   "outputs": [],
   "source": [
    "user_val_set_reply_score = pd.DataFrame()\n",
    "user_val_set_reply_score['reply_score'] = user_tokens_val_set.apply \\\n",
    "(lambda z: calculate_average_gpu(z.text__tokens_y, z.text__tokens_x), axis = 1)"
   ]
  },
  {
   "cell_type": "code",
   "execution_count": null,
   "metadata": {},
   "outputs": [],
   "source": [
    "user_val_set_reply_score.to_csv('s3://recsyschallenge2020/user_val_set_reply_score', index = False)"
   ]
  }
 ],
 "metadata": {
  "kernelspec": {
   "display_name": "Python 3",
   "language": "python",
   "name": "python3"
  },
  "language_info": {
   "codemirror_mode": {
    "name": "ipython",
    "version": 3
   },
   "file_extension": ".py",
   "mimetype": "text/x-python",
   "name": "python",
   "nbconvert_exporter": "python",
   "pygments_lexer": "ipython3",
   "version": "3.7.4"
  }
 },
 "nbformat": 4,
 "nbformat_minor": 2
}
